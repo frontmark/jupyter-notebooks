{
 "cells": [
  {
   "cell_type": "markdown",
   "metadata": {},
   "source": [
    "# Credit Default Swap"
   ]
  },
  {
   "cell_type": "markdown",
   "metadata": {},
   "source": [
    "## Import Libraries"
   ]
  },
  {
   "cell_type": "code",
   "execution_count": 1,
   "metadata": {
    "code_folding": []
   },
   "outputs": [],
   "source": [
    "#Libraries\n",
    "import math\n",
    "import datetime as dt\n",
    "import pandas as pd\n",
    "from datetime import timedelta\n",
    "import pyvacon.analytics as analytics\n",
    "import matplotlib.pyplot as plt\n",
    "import pyvacon.tools.converter as converter\n",
    "import pyvacon.tools.enums as enums\n",
    "import pyvacon.marketdata.plot as mkt_plot\n",
    "import numpy as np\n",
    "import dateutil.relativedelta as relativedelta"
   ]
  },
  {
   "cell_type": "markdown",
   "metadata": {},
   "source": [
    "## Introduction to Credit Defult Swap (CDS)"
   ]
  },
  {
   "cell_type": "markdown",
   "metadata": {},
   "source": [
    "A Credit default Swap can be designed as a Single-Name CDS or a Multi-Name CDS. The differences and further details on the functions of these special products will be described in the following subsections."
   ]
  },
  {
   "cell_type": "markdown",
   "metadata": {},
   "source": [
    "### Single-Name CDS"
   ]
  },
  {
   "cell_type": "markdown",
   "metadata": {},
   "source": [
    "A Single-Name Credit Default Swap (CDS) can be described as an insurance against the occurring credit event of a debt issuing entity (or the reference instrument). The reference instrument can be a referenced to a corporation or a sovereign state. The protection buyer makes regular payments (premium) for a specified period to the protection seller. In return the protection seller will send a payment to the protection buyer, if the credit event occurs. The premium payments end with the credit event and the contract cannot be cancelled before maturity but can be sold to a third party. "
   ]
  },
  {
   "cell_type": "markdown",
   "metadata": {},
   "source": [
    "![](CDS_function.png)"
   ]
  },
  {
   "cell_type": "markdown",
   "metadata": {},
   "source": [
    "**Settlement:**\n",
    "\n",
    "If the credit event occurs the settlement of the protection seller can be either physical or cash:\n",
    "\n",
    "*Physical settlement:* In a physical settlement the protection buyer delivers after the credit event the reference instrument or an asset of a basket. The protection buyer receives from the protection seller in return the notional. \n",
    "\n",
    "*Cash settlement:* If an cash settlement is contracted, the notional less current value of the reference instrument will be delivered."
   ]
  },
  {
   "cell_type": "markdown",
   "metadata": {},
   "source": [
    "**Credit Events:**\n",
    "\n",
    "The three most common credit events defined by the International Swaps and Derivatives Association (ISDA) are filing for bankruptcy, defaulting on payment, and restructuring debt (Source Investopedia):\n",
    "\n",
    "*Bankruptcy:*\n",
    "- Legal process and refers to the inability of an individual or organization to repay their outstanding debts. Generally, the debtor (or, less commonly, the creditor) files for bankruptcy. A bankrupt companys is also insolvent. \n",
    "\n",
    "*Payment default:*\n",
    "- This event refers to the inability of an individual or organization to pay their debts in a timely manner. Continual payment defaults could be a precursor to bankruptcy. Payment default and bankruptcy are often confused with one another: A bankruptcy tells your creditors that you will not be able to pay them in full; a payment default tells your creditors that you will not be able to pay when it is due.\n",
    "\n",
    "*Debt restructering:*\n",
    "- This event refers to a change in the terms of the debt, which causes the debt to be less favorable to debtholders. Common examples of debt restructuring include a decrease in the principal amount to be paid, a decline in the coupon rate, a postponement of payment obligations, a longer maturity time, or a change in the priority ranking of payment. "
   ]
  },
  {
   "cell_type": "markdown",
   "metadata": {},
   "source": [
    "### Index-CDS"
   ]
  },
  {
   "cell_type": "markdown",
   "metadata": {},
   "source": [
    "In a CDS-Index (e.g. iTRAXX) or Multi-Name CDS multiple single-name CDS are gathered together and bundled in a basket. These single-name CDS are commonly equally weighted in the Index. In a Pro-Rata-CDS on this basket a proportional risk assumption of the protection seller follows. If a reference asset in the portfolio defaults, the protection seller incurrs the loss in the amount of the corresponding portfolio share. \n",
    "\n",
    "**Example:**\n",
    "\n",
    "A portfolio consists of a basket of 100 equally weighted credit default swaps (weighting 1% each). An investor buys protection on this index with a nominal amount of €10 million at 50 basis points p.a. If a reference asset fails, €100,000 is settled (e.g. physical delivery). Accordingly, a pro-rata CDS for the 100 reference debtors offers protection in the amount of €100,000 each. After settlement, the contract continues to exist with a nominal value of €9,900,000. Further defaults will be settled according to the same scheme. The nominal value will be reduced accordingly."
   ]
  },
  {
   "cell_type": "markdown",
   "metadata": {},
   "source": [
    "## Trading of Credit Default Swaps and CDS markets"
   ]
  },
  {
   "cell_type": "markdown",
   "metadata": {},
   "source": [
    "**Single Name CDS:**\n",
    "\n",
    "Single-Name CDS do not require to be traded through a central counterparty. Nevertheless as measured by the notional amounts about 44% (in the end of 2017) of the single-name contracts are settled by a central counterparty. The uncleared contracts are still bilateral contracts between trader and customer. Therefore the full standardization is not yet completed. In comparison to 2008 the traded transaction volume has declined noteworthy.\n",
    "\n"
   ]
  },
  {
   "cell_type": "markdown",
   "metadata": {},
   "source": [
    "**Credit Default Swap Index :**\n",
    "\n",
    "The Credit Defaul Swap Index is also a tradable security and therefore a credit market derivative. A Index CDS  consists of a collection of single-name CDS. As measured by the notional amounts (in the end of 2017) 65% of the contracts are settled by a central counterparty. Furthermore in the european market as well as the american-market, Index CDS requiring clearing through a central counterparty, which means that the fraction should incline in the following years.  \n"
   ]
  },
  {
   "cell_type": "markdown",
   "metadata": {},
   "source": [
    "## Market Conventions"
   ]
  },
  {
   "cell_type": "markdown",
   "metadata": {},
   "source": [
    "The standardisation of credit derivatives has been led by the International Swaps and Derivatives Association, Inc. (ISDA) in order to gain market efficiency and reduce the potential for legal uncertainty. Over the past several years, driven by global contract changes and local convention changes, credit derivative contracts have become more standardised. These conventions can be subdivided in general conventions, contract specifications and further assumptions (Iwashita Yukinori, Conventions for Single-Name Credit Default Swaps, OpenGamma Quantitative Research): "
   ]
  },
  {
   "cell_type": "markdown",
   "metadata": {},
   "source": [
    "**General Conventions:**\n",
    "\n",
    "In this subsection general conventions that specify relevant dates and days for a single-name CDS contract are presented :\n",
    "\n",
    "*Business days*: \n",
    "- All computations are based on a business day calendar of weekdays only, i.e., weekends (Saturday and Sunday) are the only non-business days.\n",
    "\n",
    "*Business day conventions*: \n",
    "- When a specified date is not a business day. For single-name CDS the business day convention is following, i.e., the adjusted date is the first following day that is a business day\n",
    "\n",
    "*Daycount*: \n",
    "- Day count convention to define an accrual factor between two dates is ACT/360: \n",
    "$$accrual Factor = \\frac{Days(d_1,d_2)}{360}$$\n",
    "\n",
    "*IMM Dates*: \n",
    "- The maturity dates of CDS contacts are standardized to the IMM dates: March $20^{th}$, June $20^{th}$, September $20^{th}$ and December $20^{th}$"
   ]
  },
  {
   "cell_type": "markdown",
   "metadata": {},
   "source": [
    "**Contract Specifications:**\n",
    "\n",
    "A single-name CDS contract is specified by trade date, maturity date and coupon. Relevant Market conventions for these are presented in this subsection:\n",
    "\n",
    "*Trade Date:*\n",
    "- The Trade date is the current business day. The trade date ist denoted as T. Thus T + n represents n days after the trade date.\n",
    "\n",
    "*Maturity Date:*\n",
    "- Maturity Date is also called end date or protection end date. Scheduled maturities are rolled to the next IMM date and unadjusted by the business day convention. For example, a 5-year trade dealt on June $13^{th}$ 2013 will terminate on June $20^{th}$ 2018, whereas a 5-year trade after June $20^{th}$ 2013 will terminate September $20^{th}$ 2018.\n",
    "\n",
    "\n",
    "*Coupon:*\n",
    "- *North America:* Predominant conventions 100/500 basis points. Investment grade reference entities trade at 100 basis points quoted in a conventional spread (quoted spread) whereas high-yield reference entities trade at 500 basis points quoted in a point upfront.\n",
    "- *Europe:* Standard fixed coupons are 25/100/500/1000 basis points. Investment grade names are quoted at 100 basis points and high-yield names are quoted at 500 basis points. 25/1000 basis points are used for tight or wide credits, respectively. Two additional coupons, 300/750 basis points, are also implemented.\n",
    "- *Australia, New Zealand and Emerging Markets:* CFixed coupons of 100/500 basis points. \n",
    "- *Japan:* Coupon of 25 basis points\n",
    "- Regardless of when the CDS trade is executed, a coupon is paid by the protection buyer on the first coupon date after the trade date, which is usually an adjusted IMM date. Previously the timing of the first coupon payment depends on when the trade occurs. If the trade date is before 30 days prior to the first IMM date, the premium is paid on the first accrual date for the number of days of effective protection during that period (“short stub” period). If the trade date is within 30 days before the first coupon date, no premium payment is made on the first accrual date (“long stub period\")."
   ]
  },
  {
   "cell_type": "markdown",
   "metadata": {},
   "source": [
    "**Assumptions:**\n",
    "\n",
    "*Cash Settlement (klären):*\n",
    "- Cash settlement amount is the upfront payment which the protection buyer makes to the protection seller when entering into the swap. The cash settlement date is set to be three business days after the trade date for a standard contract.\n",
    "\n",
    "*Protection Leg (klären):*\n",
    "- Protection leg is the contingent payment made by the protection seller to the protection buyer if a credit event occurs.\n",
    "- Protection effective date or step-in date is when protection starts and set to be T + 1.\n",
    "- Protection maturity date is the same as maturity date. Thus the number of days of protection is $(Protection_ {maturity date}) -  (Protection_ {effective date}) + 1$\n",
    "- Protection payoff can be expressed as $(Notional) * ( 100\\%-(Recovery rate))$\n",
    "\n",
    "*Premium Leg (klären):*\n",
    "- Premium leg is a series of payments made by the protection buyer to the protection seller - payments terminate at the maturity of contract or following a credit event\n",
    "- Payment frequency: most commonly, coupon is paid on a quarterly basis\n",
    "- Regardless of when the CDS trade is executed the first coupon payment date is earliest IMM date after T + 1 adjusted by the business day convention\n",
    "- Accrued payment is made in the event of a default\n",
    "- Accrual begin date, also called start date, is the latest adjusted (by the business day convention) IMM date prior to T+1, orif T+1 itself is an adjusted IMM date then it is T+1 - the last accrual date (maturity date) remains unadjusted.\n",
    "- Accrual periods or payment intervals are the interval between the previous accrual date inclusive to the next accrual date exclusive. For the last accrual period the accrual end date (maturity date) is included.\n",
    "- Payment amount at each accrual date is $(Notional) * (Year fraction of accrual period) * (Coupon)$\n",
    "\n",
    "*Recovery Rate:*\n",
    "- When a CDS contract is priced, the standard recovery rate is assumed to be 40% for senior and 20% for subordinated, whereas 25% is used in for both the cases in Emerging Markets. For an actual default a defaulted instrument is delivered to the protection seller in order to receive the face value of the defaulted debt, or an auction is conducted to establish a market price of the defaulted instrument.\n"
   ]
  },
  {
   "cell_type": "markdown",
   "metadata": {},
   "source": [
    "**Dates:**\n",
    "- Trade Date: Date when the trade is executed\n",
    "- Step-in or Protection Effective Date: Usually T+1. This is the date from which the issuer is deemed to be risky.\n",
    "- Valuation Date: Date that future expected cash flows are discounted to - If this is the trade date, then we will report the market value, if it is the Cash-settle Date then we will report the cash settlement)\n",
    "- Cash-settle Date: Date that any upfront fees are paid\n",
    "- Start or Accrual Begin Date: This is when the CDS nominally starts in terms of premium payments, i.e. the number of days in the first period (and thus the amount of the first premium payment) is counted from this date. It is also known as the prior coupon date and is the previous IMM date before the trade date.\n",
    "- End or Maturity Date: This is when the contract expires and protection ends - any default after this date does not trigger a payment. This is an (unadjusted) IMM date.\n",
    "- The Payment Dates. These are the dates when premium payments are made. They are IMM dates adjusted to the next good business day.\n",
    "- The Accrual Start and End Dates: These are dates used to calculate the exact value of each premium payment. Apart from the final accrual end date, these are adjusted IMM dates."
   ]
  },
  {
   "cell_type": "markdown",
   "metadata": {},
   "source": [
    "## Pricing of Credit Default Swaps"
   ]
  },
  {
   "cell_type": "markdown",
   "metadata": {},
   "source": [
    "### ISDA Model"
   ]
  },
  {
   "cell_type": "markdown",
   "metadata": {},
   "source": [
    "#### Definition of Model\n",
    "\n",
    "The ISDA CDS Standard Model is the evolution of the JP Morgan CDS pricing routines. As well as the CDS date logic the\n",
    "model makes the assumption that both the yield curve and credit curve are piecewise constant in their respective forward rates. This reduces the normally needed integrals and hence eliminates the need for numerical integration in the pricing. \n",
    "The ISDA model is quite general about the contact specification. It can be used to price CDSs with any maturity date (it knows nothing about IMM dates), start date and payment interval. So the contract specifics are inputs to the model - for\n",
    "standard contracts, this would be a maturity date on the relevant IMM date, a start date of the IMM date immediately before the trade date, and quarterly premium payments.\n",
    "\n",
    "\n"
   ]
  },
  {
   "cell_type": "markdown",
   "metadata": {},
   "source": [
    "**Notation:**\n",
    "\n",
    "$N=$ Notional amount of the reference instrument\n",
    "\n",
    "$RR=$ Recovery rate of the reference instrument\n",
    "\n",
    "$P(t)=$ Price of a zero-coupon bond (Risk-free curve)\n",
    "\n",
    "$t_v=$ valuation date (Date that future expected cash flows are discounted to - If this is the trade date, then we will report the market value, if it is the Cash-settle Date (date that any upfront fees are paid) then we will report the cash settlement)\n",
    "\n",
    "$t_i=$ specific payment times \n",
    "\n",
    "$Q(t)=$ Probabilty of surviving derived by the hazard rates, which can be bootstrapped from the traded credit spreads\n",
    "\n",
    "$M=$ remaining payments \n",
    "\n",
    "$\\Delta_i=$ year fractions \n",
    "\n",
    "$C=$ fixed coupon payed by the protection buyer \n"
   ]
  },
  {
   "cell_type": "markdown",
   "metadata": {},
   "source": [
    "#### Model (Approximation of ISDA Model)\n",
    "\n",
    "**Protection Leg:**\n",
    "\n",
    "The protection leg in the ISDA-Model describes the present value of the payable amount, if a default occurs before maturity. Therefore this leg consists of a random payment of $N*(1-RR(\\tau)$ at the default time $\\tau$ if this is before the expiry and nothing otherwise (OpenGamma, ...)\n",
    "\n",
    "The present value of the protection leg can be approximated by the following formula:\n",
    "\n",
    "$$PV_{Protection Leg}= \\frac{N(1-RR)}{P(t_v)}\\sum_{i=1}^MP(t_i)[Q(t_{i-1})-Q(t_i)]$$"
   ]
  },
  {
   "cell_type": "markdown",
   "metadata": {},
   "source": [
    "**Premium Leg:**\n",
    "\n",
    "The premium leg consists of a regular payment (e.g. quarterly) up to expiry of the CDS and therefore the protection. It also depends on the underlying survival curve of the reference instrument and the risk-free interest rate.\n",
    "\n",
    "The present value of the premium leg can be approximated by the following formula:\n",
    "\n",
    "$$PV_{Premium Leg}=\\frac{NC}{P(t_v)}\\sum_{i=1}^M\\Delta_iP(t_i)[\\frac{Q(t_{i-1})+Q(t_i)}{2}]$$"
   ]
  },
  {
   "cell_type": "markdown",
   "metadata": {},
   "source": [
    "**Accrued Interest:**\n",
    "\n",
    "The second part of the premium leg consists of a single payment of accrued payment if the credit event occurs.\n",
    "\n",
    "The present value of the acrrued interest can be approximated by the following formula:\n",
    "\n",
    "$$PV_{accrued interes}=\\frac{NC}{2P(t_v)}\\sum_{i=1}^M\\Delta_iP(t_i)[Q(t_{i-1})-Q(t_i)]$$"
   ]
  },
  {
   "cell_type": "markdown",
   "metadata": {},
   "source": [
    "**Par Spread:**\n",
    "\n",
    "The par spread is the spread that makes the value of a credit default swap with same maturity (and of course with all other details except the coupon identical) zero at present. Therefore the par spread discribes the coupon which would make the two legs of the CDS (protection und premium leg) equal.\n",
    "\n",
    "The par spread can be approximated by the following formula:\n",
    "\n",
    "$$S_p(T)=\\frac{(1-RR)*\\sum_{i=1}^TP(t_i)(Q(t_{i-1})-Q(t_i))}{\\sum_{i=1}^T\\Delta_iP(t_i)\\frac{Q(t_{i-1}+Q(t_i)}{2}}$$"
   ]
  },
  {
   "cell_type": "markdown",
   "metadata": {},
   "source": [
    "#### Create necessary market data\n",
    "\n",
    "In order to price a CDS some market data is used an has to be constructed. Firstly, the yield curve and the following discount curve, and secondly, the hazard rate curve and the following survival rates. "
   ]
  },
  {
   "cell_type": "markdown",
   "metadata": {},
   "source": [
    "**Discount Curve:**\n",
    "\n",
    "The yield curve is constructed from money market rates (spot (L)ibor rates) with maturities out to 1Y (typically these are 1M, 2M, 3M, 6M, 9M and 12M), and swap rates with maturities out to 30Y (typically the swap rates are 2Y-10Y, 15Y, 20Y, 25Y and 30Y). The combined maturities (chronologically ordered) form the nodes of the yield curve.\n",
    "\n",
    "1. The yield curve has the following nodes:\n",
    "\n",
    "$$T^y=[t_1^y,t_2^y,...,t_i^y,...,t_{ny}^y]$$\n",
    "\n",
    "2. at the $i^th$ node the discount factor is given by:\n",
    "\n",
    "$$P_i=exp(-t_i^yR_i)$$\n",
    "\n",
    "$R_i=$ risk-free rate at point i\n",
    "\n",
    "3. The Interpolation for non-node times is built by:\n",
    "\n",
    "$$P(t)=exp(-[\\frac{t_i^yR_i(t_{i+1}^y-t)+t_{i+1}^yR_{i+1}(t-t_i^y)}{t_{i+1}^y-t_i}])$$\n",
    "\n"
   ]
  },
  {
   "cell_type": "code",
   "execution_count": 2,
   "metadata": {
    "code_folding": []
   },
   "outputs": [],
   "source": [
    "#yield curve\n",
    "object_id = \"CDS_interest_rate\"\n",
    "refdate = dt.datetime(2020,1,1)\n",
    "days_to_maturity = [1, 180, 360, 720, 3*360, 4*360, 5*360, 10*360]\n",
    "dates = converter.createPTimeList(refdate, days_to_maturity)\n",
    "dates = converter.create_datetime_list(dates)\n",
    "rates = [-0.0065, 0.0003, 0.0059, 0.0086, 0.0101, 0.012, 0.016, 0.02]\n",
    "dsc_fac = analytics.vectorDouble()\n",
    "for d in range(len(days_to_maturity)):\n",
    "        dsc_fac.append(math.exp(-rates[d]*days_to_maturity[d]/360))\n",
    "        \n",
    "dc = analytics.DiscountCurve(object_id, refdate, dates, dsc_fac, enums.DayCounter.ACT360, enums.InterpolationType.LINEAR, enums.ExtrapolationType.LINEAR)\n"
   ]
  },
  {
   "cell_type": "markdown",
   "metadata": {},
   "source": [
    "**Credit curve (spread/hazard rate):**\n",
    "\n",
    "Beschreibung wo die Credit curve herkommt!\n",
    "\n",
    "1. The credit curve has the following nodes:\n",
    "\n",
    "$$T^c=[t_1^c,t_2^c,...,t_i^c,...,t_{nc}^c]$$\n",
    "\n",
    "2. at the $i^th$ node the survival probality is given by:\n",
    "\n",
    "$$Q_i=exp(-t_i^c\\Lambda_i)$$\n",
    "\n",
    "with $\\Lambda_i=$ hazard rate at point i\n",
    "\n",
    "3. The Interpolation for non-node times is built by:\n",
    "\n",
    "$$Q(t)=exp(-[\\frac{t_i^c\\Lambda_i(t_{i+1}^c-t)+t_{i+1}^c\\Lambda_{i+1}(t-t_i^c)}{t_{i+1}^c-t_i}])$$"
   ]
  },
  {
   "cell_type": "code",
   "execution_count": 3,
   "metadata": {
    "code_folding": []
   },
   "outputs": [],
   "source": [
    "#survival curve\n",
    "object_id_survival =\"CDS_survival_rate\"\n",
    "refdate = dt.datetime(2020,1,1)\n",
    "days_to_maturity = [1, 180, 360, 720, 3*360, 4*360, 5*360, 10*360]\n",
    "dates = converter.createPTimeList(refdate, days_to_maturity)\n",
    "dates = converter.create_datetime_list(dates)\n",
    "hazard_rates = [0, 0.01, 0.015, 0.02, 0.025, 0.03, 0.035, 0.05]\n",
    "        \n",
    "dc_survival = analytics.SurvivalCurve(object_id_survival,refdate,dates,hazard_rates)"
   ]
  },
  {
   "cell_type": "markdown",
   "metadata": {},
   "source": [
    "#### Setup the specification"
   ]
  },
  {
   "cell_type": "markdown",
   "metadata": {},
   "source": [
    "**Instrument specifactions:**"
   ]
  },
  {
   "cell_type": "code",
   "execution_count": 4,
   "metadata": {
    "code_folding": []
   },
   "outputs": [],
   "source": [
    "#Instrument Dates (Instrument Class Specification)\n",
    "trade_date= dt.datetime(2020,1,1)\n",
    "maturity_date= dt.datetime(2024,6,1)\n",
    "payment_cycle=6\n",
    "N=1000000\n",
    "RR=0.4\n",
    "coupon = 0.014\n",
    "\n",
    "ref_date = refdate"
   ]
  },
  {
   "cell_type": "markdown",
   "metadata": {},
   "source": [
    "**Relevant time dates:**"
   ]
  },
  {
   "cell_type": "code",
   "execution_count": 5,
   "metadata": {},
   "outputs": [],
   "source": [
    "def payment_dates(trade_date,maturity_date,payment_cycle):\n",
    "    date=trade_date+relativedelta.relativedelta(months=+payment_cycle)\n",
    "    payment_dates=[]\n",
    "    while date<=maturity_date:\n",
    "        payment_dates.append(date)\n",
    "        date=date+relativedelta.relativedelta(months=+payment_cycle)\n",
    "    return payment_dates\n",
    "\n",
    "def payment_left(valuation_date,payment_dates):\n",
    "    payment_dates_left=[x for x in payment_dates if x>valuation_date]\n",
    "    return len(payment_dates_left)\n",
    "\n",
    "Delta_i=payment_cycle/12\n"
   ]
  },
  {
   "cell_type": "code",
   "execution_count": 6,
   "metadata": {},
   "outputs": [],
   "source": [
    "payment_dates_ins=payment_dates(ref_date,maturity_date,payment_cycle)\n"
   ]
  },
  {
   "cell_type": "markdown",
   "metadata": {},
   "source": [
    "#### Setup the pricing data"
   ]
  },
  {
   "cell_type": "markdown",
   "metadata": {},
   "source": [
    "**Protection Leg:**\n"
   ]
  },
  {
   "cell_type": "code",
   "execution_count": 14,
   "metadata": {
    "code_folding": []
   },
   "outputs": [],
   "source": [
    "def pv_protection_leg(ref_date, trade_date, dc, payment_dates, dc_survival, maturity_date, RR):\n",
    "    M=len([x for x in payment_dates if x>ref_date])\n",
    "    k=len(payment_dates)-M\n",
    "    dc_valuation_date=dc.value(ref_date, maturity_date)\n",
    "    risk_adj_factor_protection=0\n",
    "    while k<len(payment_dates)-1:\n",
    "        k=k+1\n",
    "        risk_adj_factor_protection=(risk_adj_factor_protection\n",
    "                                    +dc.value(trade_date,payment_dates[k-1])\n",
    "                                    *(dc_survival.value(trade_date,payment_dates[k-1])\n",
    "                                    -dc_survival.value(trade_date,payment_dates[k])))\n",
    "    PV_protection=((N*(1-RR)/dc_valuation_date)*risk_adj_factor_protection)\n",
    "    return PV_protection"
   ]
  },
  {
   "cell_type": "markdown",
   "metadata": {},
   "source": [
    "**Premium Leg:**"
   ]
  },
  {
   "cell_type": "code",
   "execution_count": 43,
   "metadata": {},
   "outputs": [
    {
     "name": "stdout",
     "output_type": "stream",
     "text": [
      "0.5111111111111111\n"
     ]
    }
   ],
   "source": [
    "delta=((payment_dates_ins[1] - payment_dates_ins[0]).days)/360\n",
    "#delta=delta.days/360\n",
    "print(delta)"
   ]
  },
  {
   "cell_type": "code",
   "execution_count": 40,
   "metadata": {},
   "outputs": [],
   "source": [
    "?relativedelta.relativedelta"
   ]
  },
  {
   "cell_type": "code",
   "execution_count": 54,
   "metadata": {
    "code_folding": []
   },
   "outputs": [],
   "source": [
    "def pv_premium_leg(ref_date, trade_date, dc, dc_survival, payment_dates, N,coupon ):\n",
    "    M=len([x for x in payment_dates if x>ref_date])  \n",
    "    k=len(payment_dates)-M\n",
    "    dc_valuation_date=dc.value(ref_date, maturity_date)\n",
    "    risk_adj_factor_premium=0\n",
    "    while k<len(payment_dates)-1:\n",
    "        k=k+1\n",
    "        risk_adj_factor_premium=(risk_adj_factor_premium+((payment_dates_ins[k] - payment_dates_ins[k-1]).days)/360\n",
    "                                 *(dc.value(trade_date,payment_dates[k-1])\n",
    "                                *((dc_survival.value(trade_date,payment_dates[k-1])\n",
    "                                +dc_survival.value(trade_date,payment_dates[k]))/2)))\n",
    "    PV_premium=((N*coupon/dc_valuation_date)*risk_adj_factor_premium)\n",
    "    return PV_premium "
   ]
  },
  {
   "cell_type": "markdown",
   "metadata": {},
   "source": [
    "**Accrued Interest:**"
   ]
  },
  {
   "cell_type": "code",
   "execution_count": 55,
   "metadata": {
    "code_folding": []
   },
   "outputs": [],
   "source": [
    "def pv_accrued_interest (ref_date, trade_date, dc_survival, payment_dates, dc, N, coupon):\n",
    "    M=len([x for x in payment_dates if x>ref_date])        \n",
    "    k=len(payment_dates)-M\n",
    "    dc_valuation_date=dc.value(ref_date, maturity_date)\n",
    "    risk_adj_factor_accrued=0\n",
    "    while k<len(payment_dates)-1:\n",
    "        k=k+1\n",
    "        risk_adj_factor_accrued=(risk_adj_factor_accrued+((payment_dates_ins[k] - payment_dates_ins[k-1]).days)/360\n",
    "                                *(dc.value(trade_date,payment_dates[k-1])\n",
    "                                *(dc_survival.value(trade_date,payment_dates[k-1])\n",
    "                                -dc_survival.value(trade_date,payment_dates[k]))))\n",
    "    PV_accrued=((N*coupon/dc_valuation_date*2)*risk_adj_factor_accrued)\n",
    "    return PV_accrued "
   ]
  },
  {
   "cell_type": "markdown",
   "metadata": {},
   "source": [
    "**Value of CDS:**"
   ]
  },
  {
   "cell_type": "code",
   "execution_count": 56,
   "metadata": {
    "code_folding": []
   },
   "outputs": [],
   "source": [
    "def Value_CDS(protection, accrued_interest, premium):\n",
    "    PV_CDS=protection-accrued_interest-premium\n",
    "    return PV_CDS"
   ]
  },
  {
   "cell_type": "markdown",
   "metadata": {},
   "source": [
    "**Par-Spread:**"
   ]
  },
  {
   "cell_type": "code",
   "execution_count": 81,
   "metadata": {},
   "outputs": [],
   "source": [
    "def par_spread(ref_date, trade_date, dc_survival, payment_dates_ins, dc):\n",
    "    M=len([x for x in payment_dates_ins if x>ref_date])\n",
    "    k=len(payment_dates_ins)-M\n",
    "    dc_valuation_date=dc.value(ref_date, maturity_date)\n",
    "    risk_adj_factor_accrued=0\n",
    "    risk_adj_factor_premium=0\n",
    "    risk_adj_factor_protection=0\n",
    "    if len(payment_dates_ins)==1:\n",
    "        risk_adj_factor_accrued=(risk_adj_factor_accrued+((payment_dates_ins[k] - trade_date).days)/360\n",
    "                                    *(dc.value(trade_date,payment_dates_ins[k])\n",
    "                                    *(1)\n",
    "                                    -dc_survival.value(trade_date,payment_dates_ins[k])))\n",
    "        risk_adj_factor_premium=(risk_adj_factor_premium+((payment_dates_ins[k] - trade_date).days)/360\n",
    "                                     *(dc.value(trade_date,payment_dates_ins[k])\n",
    "                                    *(1)\n",
    "                                    +dc_survival.value(trade_date,payment_dates_ins[k]))/2)\n",
    "        risk_adj_factor_protection=(risk_adj_factor_protection\n",
    "                                        +dc.value(trade_date,payment_dates_ins[k])\n",
    "                                        *(1)\n",
    "                                        -dc_survival.value(trade_date,payment_dates_ins[k]))\n",
    "    else:\n",
    "        while k<len(payment_dates_ins)-1:\n",
    "            k=k+1\n",
    "            risk_adj_factor_accrued=(risk_adj_factor_accrued+((payment_dates_ins[k] - payment_dates_ins[k-1]).days)/360\n",
    "                                        *(dc.value(trade_date,payment_dates_ins[k-1])\n",
    "                                        *(dc_survival.value(trade_date,payment_dates_ins[k-1])\n",
    "                                        -dc_survival.value(trade_date,payment_dates_ins[k]))))\n",
    "            risk_adj_factor_premium=(risk_adj_factor_premium+((payment_dates_ins[k] - payment_dates_ins[k-1]).days)/360\n",
    "                                         *(dc.value(trade_date,payment_dates_ins[k-1])\n",
    "                                        *((dc_survival.value(trade_date,payment_dates_ins[k-1])\n",
    "                                        +dc_survival.value(trade_date,payment_dates_ins[k]))/2)))\n",
    "            risk_adj_factor_protection=(risk_adj_factor_protection\n",
    "                                            +dc.value(trade_date,payment_dates_ins[k-1])\n",
    "                                            *(dc_survival.value(trade_date,payment_dates_ins[k-1])\n",
    "                                            -dc_survival.value(trade_date,payment_dates_ins[k])))\n",
    "    PV_accrued=((1/dc_valuation_date*2)*risk_adj_factor_accrued)\n",
    "    PV_premium=(1/dc_valuation_date)*risk_adj_factor_premium\n",
    "    PV_protection=(((1-RR)/dc_valuation_date)*risk_adj_factor_protection)\n",
    "    \n",
    "    par_spread_i=(PV_protection)/((PV_premium+PV_accrued))\n",
    "    return par_spread_i"
   ]
  },
  {
   "cell_type": "markdown",
   "metadata": {},
   "source": [
    "#### Pricing"
   ]
  },
  {
   "cell_type": "markdown",
   "metadata": {},
   "source": [
    "**Present Value Protection Leg**"
   ]
  },
  {
   "cell_type": "code",
   "execution_count": 82,
   "metadata": {
    "code_folding": []
   },
   "outputs": [
    {
     "name": "stdout",
     "output_type": "stream",
     "text": [
      "49772.39687555407\n"
     ]
    }
   ],
   "source": [
    "#Calculate present value protection leg\n",
    "PV_protection=pv_protection_leg(ref_date, trade_date, dc, payment_dates_ins, dc_survival, maturity_date,RR)\n",
    "print(PV_protection)"
   ]
  },
  {
   "cell_type": "markdown",
   "metadata": {},
   "source": [
    "**Present Value Premium Leg and Accrued Interest**"
   ]
  },
  {
   "cell_type": "code",
   "execution_count": 83,
   "metadata": {
    "code_folding": [],
    "scrolled": false
   },
   "outputs": [
    {
     "name": "stdout",
     "output_type": "stream",
     "text": [
      "1178.486494470282\n",
      "49924.80628329464\n"
     ]
    }
   ],
   "source": [
    "#Calculate present value premium leg and accrued interest\n",
    "print(pv_accrued_interest (ref_date, trade_date, dc_survival, payment_dates_ins, dc, N, coupon))\n",
    "print(pv_premium_leg(ref_date, trade_date, dc, dc_survival, payment_dates_ins, N,coupon ))\n"
   ]
  },
  {
   "cell_type": "markdown",
   "metadata": {},
   "source": [
    "**Present Value of CDS**"
   ]
  },
  {
   "cell_type": "code",
   "execution_count": 84,
   "metadata": {
    "code_folding": []
   },
   "outputs": [
    {
     "data": {
      "text/plain": [
       "-1330.8959022108465"
      ]
     },
     "execution_count": 84,
     "metadata": {},
     "output_type": "execute_result"
    }
   ],
   "source": [
    "#Calculate present value CDS\n",
    "Value_CDS(pv_protection_leg(ref_date, trade_date, dc, payment_dates_ins, dc_survival, maturity_date,RR),\n",
    "          pv_accrued_interest (ref_date, trade_date, dc_survival, payment_dates_ins, dc, N, coupon), \n",
    "          pv_premium_leg(ref_date, trade_date, dc, dc_survival, payment_dates_ins, N,coupon ))"
   ]
  },
  {
   "cell_type": "markdown",
   "metadata": {},
   "source": [
    "**Par-Spread**"
   ]
  },
  {
   "cell_type": "code",
   "execution_count": 85,
   "metadata": {
    "code_folding": [],
    "scrolled": true
   },
   "outputs": [
    {
     "data": {
      "text/plain": [
       "0.013635394480117358"
      ]
     },
     "execution_count": 85,
     "metadata": {},
     "output_type": "execute_result"
    }
   ],
   "source": [
    "#calculate par_spread\n",
    "par_spread(ref_date, trade_date, dc_survival, payment_dates_ins, dc)"
   ]
  },
  {
   "cell_type": "markdown",
   "metadata": {},
   "source": [
    "#### Plots"
   ]
  },
  {
   "cell_type": "code",
   "execution_count": null,
   "metadata": {},
   "outputs": [],
   "source": []
  },
  {
   "cell_type": "code",
   "execution_count": null,
   "metadata": {},
   "outputs": [],
   "source": [
    "#wie wirken sich verschiedene Coupons auf den Wert des CDS aus --> Verbindung zwischen Hazard Rate und Spread grafisch darstellen\n",
    "#Auswirkungen von verschiedenen Recovery Rates?"
   ]
  },
  {
   "cell_type": "markdown",
   "metadata": {},
   "source": [
    "# Bootstrapping Hazard Rates"
   ]
  },
  {
   "cell_type": "code",
   "execution_count": 89,
   "metadata": {},
   "outputs": [
    {
     "name": "stdout",
     "output_type": "stream",
     "text": [
      "[[datetime.datetime(2020, 4, 1, 0, 0)], [datetime.datetime(2020, 4, 1, 0, 0), datetime.datetime(2020, 7, 1, 0, 0)], [datetime.datetime(2020, 4, 1, 0, 0), datetime.datetime(2020, 7, 1, 0, 0), datetime.datetime(2020, 10, 1, 0, 0)], [datetime.datetime(2020, 4, 1, 0, 0), datetime.datetime(2020, 7, 1, 0, 0), datetime.datetime(2020, 10, 1, 0, 0), datetime.datetime(2021, 1, 1, 0, 0)], [datetime.datetime(2020, 4, 1, 0, 0), datetime.datetime(2020, 7, 1, 0, 0), datetime.datetime(2020, 10, 1, 0, 0), datetime.datetime(2021, 1, 1, 0, 0), datetime.datetime(2021, 4, 1, 0, 0)], [datetime.datetime(2020, 4, 1, 0, 0), datetime.datetime(2020, 7, 1, 0, 0), datetime.datetime(2020, 10, 1, 0, 0), datetime.datetime(2021, 1, 1, 0, 0), datetime.datetime(2021, 4, 1, 0, 0), datetime.datetime(2021, 7, 1, 0, 0)], [datetime.datetime(2020, 4, 1, 0, 0), datetime.datetime(2020, 7, 1, 0, 0), datetime.datetime(2020, 10, 1, 0, 0), datetime.datetime(2021, 1, 1, 0, 0), datetime.datetime(2021, 4, 1, 0, 0), datetime.datetime(2021, 7, 1, 0, 0), datetime.datetime(2021, 10, 1, 0, 0)], [datetime.datetime(2020, 4, 1, 0, 0), datetime.datetime(2020, 7, 1, 0, 0), datetime.datetime(2020, 10, 1, 0, 0), datetime.datetime(2021, 1, 1, 0, 0), datetime.datetime(2021, 4, 1, 0, 0), datetime.datetime(2021, 7, 1, 0, 0), datetime.datetime(2021, 10, 1, 0, 0), datetime.datetime(2022, 1, 1, 0, 0)], [datetime.datetime(2020, 4, 1, 0, 0), datetime.datetime(2020, 7, 1, 0, 0), datetime.datetime(2020, 10, 1, 0, 0), datetime.datetime(2021, 1, 1, 0, 0), datetime.datetime(2021, 4, 1, 0, 0), datetime.datetime(2021, 7, 1, 0, 0), datetime.datetime(2021, 10, 1, 0, 0), datetime.datetime(2022, 1, 1, 0, 0), datetime.datetime(2022, 4, 1, 0, 0)], [datetime.datetime(2020, 4, 1, 0, 0), datetime.datetime(2020, 7, 1, 0, 0), datetime.datetime(2020, 10, 1, 0, 0), datetime.datetime(2021, 1, 1, 0, 0), datetime.datetime(2021, 4, 1, 0, 0), datetime.datetime(2021, 7, 1, 0, 0), datetime.datetime(2021, 10, 1, 0, 0), datetime.datetime(2022, 1, 1, 0, 0), datetime.datetime(2022, 4, 1, 0, 0), datetime.datetime(2022, 7, 1, 0, 0)], [datetime.datetime(2020, 4, 1, 0, 0), datetime.datetime(2020, 7, 1, 0, 0), datetime.datetime(2020, 10, 1, 0, 0), datetime.datetime(2021, 1, 1, 0, 0), datetime.datetime(2021, 4, 1, 0, 0), datetime.datetime(2021, 7, 1, 0, 0), datetime.datetime(2021, 10, 1, 0, 0), datetime.datetime(2022, 1, 1, 0, 0), datetime.datetime(2022, 4, 1, 0, 0), datetime.datetime(2022, 7, 1, 0, 0), datetime.datetime(2022, 10, 1, 0, 0)], [datetime.datetime(2020, 4, 1, 0, 0), datetime.datetime(2020, 7, 1, 0, 0), datetime.datetime(2020, 10, 1, 0, 0), datetime.datetime(2021, 1, 1, 0, 0), datetime.datetime(2021, 4, 1, 0, 0), datetime.datetime(2021, 7, 1, 0, 0), datetime.datetime(2021, 10, 1, 0, 0), datetime.datetime(2022, 1, 1, 0, 0), datetime.datetime(2022, 4, 1, 0, 0), datetime.datetime(2022, 7, 1, 0, 0), datetime.datetime(2022, 10, 1, 0, 0), datetime.datetime(2023, 1, 1, 0, 0)], [datetime.datetime(2020, 4, 1, 0, 0), datetime.datetime(2020, 7, 1, 0, 0), datetime.datetime(2020, 10, 1, 0, 0), datetime.datetime(2021, 1, 1, 0, 0), datetime.datetime(2021, 4, 1, 0, 0), datetime.datetime(2021, 7, 1, 0, 0), datetime.datetime(2021, 10, 1, 0, 0), datetime.datetime(2022, 1, 1, 0, 0), datetime.datetime(2022, 4, 1, 0, 0), datetime.datetime(2022, 7, 1, 0, 0), datetime.datetime(2022, 10, 1, 0, 0), datetime.datetime(2023, 1, 1, 0, 0), datetime.datetime(2023, 4, 1, 0, 0)], [datetime.datetime(2020, 4, 1, 0, 0), datetime.datetime(2020, 7, 1, 0, 0), datetime.datetime(2020, 10, 1, 0, 0), datetime.datetime(2021, 1, 1, 0, 0), datetime.datetime(2021, 4, 1, 0, 0), datetime.datetime(2021, 7, 1, 0, 0), datetime.datetime(2021, 10, 1, 0, 0), datetime.datetime(2022, 1, 1, 0, 0), datetime.datetime(2022, 4, 1, 0, 0), datetime.datetime(2022, 7, 1, 0, 0), datetime.datetime(2022, 10, 1, 0, 0), datetime.datetime(2023, 1, 1, 0, 0), datetime.datetime(2023, 4, 1, 0, 0), datetime.datetime(2023, 7, 1, 0, 0)], [datetime.datetime(2020, 4, 1, 0, 0), datetime.datetime(2020, 7, 1, 0, 0), datetime.datetime(2020, 10, 1, 0, 0), datetime.datetime(2021, 1, 1, 0, 0), datetime.datetime(2021, 4, 1, 0, 0), datetime.datetime(2021, 7, 1, 0, 0), datetime.datetime(2021, 10, 1, 0, 0), datetime.datetime(2022, 1, 1, 0, 0), datetime.datetime(2022, 4, 1, 0, 0), datetime.datetime(2022, 7, 1, 0, 0), datetime.datetime(2022, 10, 1, 0, 0), datetime.datetime(2023, 1, 1, 0, 0), datetime.datetime(2023, 4, 1, 0, 0), datetime.datetime(2023, 7, 1, 0, 0), datetime.datetime(2023, 10, 1, 0, 0)], [datetime.datetime(2020, 4, 1, 0, 0), datetime.datetime(2020, 7, 1, 0, 0), datetime.datetime(2020, 10, 1, 0, 0), datetime.datetime(2021, 1, 1, 0, 0), datetime.datetime(2021, 4, 1, 0, 0), datetime.datetime(2021, 7, 1, 0, 0), datetime.datetime(2021, 10, 1, 0, 0), datetime.datetime(2022, 1, 1, 0, 0), datetime.datetime(2022, 4, 1, 0, 0), datetime.datetime(2022, 7, 1, 0, 0), datetime.datetime(2022, 10, 1, 0, 0), datetime.datetime(2023, 1, 1, 0, 0), datetime.datetime(2023, 4, 1, 0, 0), datetime.datetime(2023, 7, 1, 0, 0), datetime.datetime(2023, 10, 1, 0, 0), datetime.datetime(2024, 1, 1, 0, 0)], [datetime.datetime(2020, 4, 1, 0, 0), datetime.datetime(2020, 7, 1, 0, 0), datetime.datetime(2020, 10, 1, 0, 0), datetime.datetime(2021, 1, 1, 0, 0), datetime.datetime(2021, 4, 1, 0, 0), datetime.datetime(2021, 7, 1, 0, 0), datetime.datetime(2021, 10, 1, 0, 0), datetime.datetime(2022, 1, 1, 0, 0), datetime.datetime(2022, 4, 1, 0, 0), datetime.datetime(2022, 7, 1, 0, 0), datetime.datetime(2022, 10, 1, 0, 0), datetime.datetime(2023, 1, 1, 0, 0), datetime.datetime(2023, 4, 1, 0, 0), datetime.datetime(2023, 7, 1, 0, 0), datetime.datetime(2023, 10, 1, 0, 0), datetime.datetime(2024, 1, 1, 0, 0), datetime.datetime(2024, 4, 1, 0, 0)], [datetime.datetime(2020, 4, 1, 0, 0), datetime.datetime(2020, 7, 1, 0, 0), datetime.datetime(2020, 10, 1, 0, 0), datetime.datetime(2021, 1, 1, 0, 0), datetime.datetime(2021, 4, 1, 0, 0), datetime.datetime(2021, 7, 1, 0, 0), datetime.datetime(2021, 10, 1, 0, 0), datetime.datetime(2022, 1, 1, 0, 0), datetime.datetime(2022, 4, 1, 0, 0), datetime.datetime(2022, 7, 1, 0, 0), datetime.datetime(2022, 10, 1, 0, 0), datetime.datetime(2023, 1, 1, 0, 0), datetime.datetime(2023, 4, 1, 0, 0), datetime.datetime(2023, 7, 1, 0, 0), datetime.datetime(2023, 10, 1, 0, 0), datetime.datetime(2024, 1, 1, 0, 0), datetime.datetime(2024, 4, 1, 0, 0), datetime.datetime(2024, 7, 1, 0, 0)], [datetime.datetime(2020, 4, 1, 0, 0), datetime.datetime(2020, 7, 1, 0, 0), datetime.datetime(2020, 10, 1, 0, 0), datetime.datetime(2021, 1, 1, 0, 0), datetime.datetime(2021, 4, 1, 0, 0), datetime.datetime(2021, 7, 1, 0, 0), datetime.datetime(2021, 10, 1, 0, 0), datetime.datetime(2022, 1, 1, 0, 0), datetime.datetime(2022, 4, 1, 0, 0), datetime.datetime(2022, 7, 1, 0, 0), datetime.datetime(2022, 10, 1, 0, 0), datetime.datetime(2023, 1, 1, 0, 0), datetime.datetime(2023, 4, 1, 0, 0), datetime.datetime(2023, 7, 1, 0, 0), datetime.datetime(2023, 10, 1, 0, 0), datetime.datetime(2024, 1, 1, 0, 0), datetime.datetime(2024, 4, 1, 0, 0), datetime.datetime(2024, 7, 1, 0, 0), datetime.datetime(2024, 10, 1, 0, 0)], [datetime.datetime(2020, 4, 1, 0, 0), datetime.datetime(2020, 7, 1, 0, 0), datetime.datetime(2020, 10, 1, 0, 0), datetime.datetime(2021, 1, 1, 0, 0), datetime.datetime(2021, 4, 1, 0, 0), datetime.datetime(2021, 7, 1, 0, 0), datetime.datetime(2021, 10, 1, 0, 0), datetime.datetime(2022, 1, 1, 0, 0), datetime.datetime(2022, 4, 1, 0, 0), datetime.datetime(2022, 7, 1, 0, 0), datetime.datetime(2022, 10, 1, 0, 0), datetime.datetime(2023, 1, 1, 0, 0), datetime.datetime(2023, 4, 1, 0, 0), datetime.datetime(2023, 7, 1, 0, 0), datetime.datetime(2023, 10, 1, 0, 0), datetime.datetime(2024, 1, 1, 0, 0), datetime.datetime(2024, 4, 1, 0, 0), datetime.datetime(2024, 7, 1, 0, 0), datetime.datetime(2024, 10, 1, 0, 0), datetime.datetime(2025, 1, 1, 0, 0)]]\n"
     ]
    }
   ],
   "source": [
    "#Erstellen der payment-dates für CDS mit Laufzeiten von 1 Monat bis 5 Jahre\n",
    "ref_date=dt.datetime(2020,1,1)\n",
    "end_date=dt.datetime(2025,1,1)\n",
    "valuation_date=dt.datetime(2020,1,1)\n",
    "payment_cycle_1=3\n",
    "Delta_i=payment_cycle_1/12\n",
    "maturity_dates=[]\n",
    "date=ref_date+relativedelta.relativedelta(months=+3)\n",
    "while date<=end_date:\n",
    "    maturity_dates.append(date)\n",
    "    date=date+relativedelta.relativedelta(months=+3)\n",
    "\n",
    "#print(maturity_dates)\n",
    "payment_dates_bootstrapp=[]\n",
    "for i  in range(len(maturity_dates)):\n",
    "    payment_dates_bootstrapp.append(payment_dates(ref_date,maturity_dates[i],payment_cycle_1))\n",
    "print(payment_dates_bootstrapp)\n",
    "M_bootstrapp=[]\n",
    "#print(payment_left(valuation_date,payment_dates_bootstrapp[1]))\n",
    "\n",
    "#for i in range (len(payment_dates_bootstrapp)):\n",
    "#    M_bootstrapp.append(payment_left(ref_date,payment_dates_bootstrapp[i]))\n",
    "#print(M_bootstrapp)\n",
    "#payment_dates(trade_date,maturity_date,payment_cycle)\n",
    "#M(valuation_date,payment_dates)"
   ]
  },
  {
   "cell_type": "code",
   "execution_count": null,
   "metadata": {},
   "outputs": [],
   "source": [
    "par_spread_bootstrapp=[]\n",
    "for i in range (len(payment_dates_bootstrapp)):\n",
    "    for j in range(len(payment_dates_bootstrapp[i])):\n",
    "        par_spread_bootstrapp.append(par_spread(valuation_date, ref_date, dc_survival, M_bootstrapp[i], payment_dates_bootstrapp[i], dc, Delta_i))\n",
    "\n",
    "output = []\n",
    "for x in par_spread_bootstrapp:\n",
    "    if x not in output:\n",
    "        output.append(x)\n",
    "print(output)"
   ]
  },
  {
   "cell_type": "code",
   "execution_count": 86,
   "metadata": {},
   "outputs": [],
   "source": [
    "#ref_date=dt.datetime(2020,1,1)\n",
    "payment_cycle_1=3\n",
    "#Delta_i=payment_cycle_1/12\n",
    "\n",
    "payment_dates_1=[dt.datetime(2020,4,1)]\n",
    "maturity_date_1=dt.datetime(2020,4,1)\n",
    "payment_dates_2=[dt.datetime(2020,4,1),dt.datetime(2020,7,1)]\n",
    "maturity_date_2=dt.datetime(2020,7,1)\n",
    "payment_dates_3=[dt.datetime(2020,4,1),dt.datetime(2020,7,1),dt.datetime(2020,10,1)]\n",
    "maturity_date_3=dt.datetime(2020,10,1)\n",
    "payment_dates_4=[dt.datetime(2020,4,1),dt.datetime(2020,7,1),dt.datetime(2020,10,1),dt.datetime(2021,1,1)]\n",
    "maturity_date_4=dt.datetime(2021,1,1)\n",
    "\n",
    "#M_1=payment_left(ref_date,payment_dates_1)\n",
    "#M_2=payment_left(ref_date,payment_dates_2)\n",
    "#M_3=payment_left(ref_date,payment_dates_3)\n",
    "#M_4=payment_left(ref_date,payment_dates_4)\n",
    "\n",
    "#par_spread_1=par_spread(ref_date, ref_date, dc_survival, payment_dates_1, dc)\n",
    "#par_spread_2=par_spread(ref_date, ref_date, dc_survival, payment_dates_2, dc)\n",
    "#par_spread_3=par_spread(ref_date, ref_date, dc_survival, payment_dates_3, dc)\n",
    "#par_spread_4=par_spread(ref_date, ref_date, dc_survival, payment_dates_4, dc)\n",
    "#par_spread_market_1=0.006\n",
    "\n",
    "#print(par_spread_1)\n",
    "#print(par_spread_2)\n",
    "#print(par_spread_3)\n",
    "#print(par_spread_4)"
   ]
  },
  {
   "cell_type": "code",
   "execution_count": null,
   "metadata": {},
   "outputs": [],
   "source": [
    "import scipy.optimize"
   ]
  },
  {
   "cell_type": "code",
   "execution_count": null,
   "metadata": {
    "scrolled": true
   },
   "outputs": [],
   "source": [
    "def hazard_rate(Delta_i,dc,ref_date,Payment_Dates,RR,par_spread_market,maturity_date):\n",
    "    \n",
    "    def f_spread(x,Delta_i,dc,ref_date,Payment_Dates,RR,par_spread_market,maturity_date):\n",
    "        if len(Payment_Dates)==1:\n",
    "            dc_valuation_date=dc.value(valuation_date, maturity_date)\n",
    "            risk_adj_factor_accrued=(Delta_i*(dc.value(ref_date,Payment_Dates[0])*(1)-x))\n",
    "            risk_adj_factor_premium=(Delta_i*(dc.value(ref_date,Payment_Dates[0])*((1)+x)/2))\n",
    "            risk_adj_factor_protection=(dc.value(ref_date,Payment_Dates[0])*(1)-x)\n",
    "            PV_accrued=((1/dc_valuation_date*2)*risk_adj_factor_accrued)\n",
    "            PV_premium=(1/dc_valuation_date)*risk_adj_factor_premium\n",
    "            PV_protection=(((1-RR)/dc_valuation_date)*risk_adj_factor_protection)\n",
    "            par_spread=PV_protection/(PV_premium+PV_accrued)\n",
    "        return par_spread-par_spread_market\n",
    "    sol=scipy.optimize.root_scalar(f_spread,args=(Delta_i,dc,ref_date,payment_dates_1,RR,par_spread_1,maturity_date_1),method='brentq',bracket=[0,1])\n",
    "    q_0=sol.root\n",
    "    #print(q_0)\n",
    "    hazard_0=math.log(q_0)/(-3/12)\n",
    "    return hazard_0"
   ]
  },
  {
   "cell_type": "code",
   "execution_count": null,
   "metadata": {},
   "outputs": [],
   "source": [
    "dc_survival.getDayCounterType()"
   ]
  },
  {
   "cell_type": "code",
   "execution_count": 101,
   "metadata": {},
   "outputs": [
    {
     "name": "stdout",
     "output_type": "stream",
     "text": [
      "[0, 0]\n",
      "[datetime.datetime(2020, 1, 1, 0, 0), datetime.datetime(2020, 4, 1, 0, 0)]\n"
     ]
    }
   ],
   "source": [
    "hazard_rates_model = [0]\n",
    "hazard_rates_model.append(hazard_rates_model[-1])\n",
    "print(hazard_rates_model)\n",
    "sc_dates=[ref_date]\n",
    "sc_dates.append(payment_dates_1[-1])\n",
    "print(sc_dates)"
   ]
  },
  {
   "cell_type": "code",
   "execution_count": 109,
   "metadata": {},
   "outputs": [
    {
     "ename": "RuntimeError",
     "evalue": "Exception Number of dates and hazard rates must be the same: C:\\Users\\Anwender\\Documents\\dev\\fAV\\analytics_tools_master\\analytics\\Finance\\MarketData\\SurvivalCurve.cpp, (20)",
     "output_type": "error",
     "traceback": [
      "\u001b[1;31m---------------------------------------------------------------------------\u001b[0m",
      "\u001b[1;31mRuntimeError\u001b[0m                              Traceback (most recent call last)",
      "\u001b[1;32m<ipython-input-109-c1649de946fe>\u001b[0m in \u001b[0;36m<module>\u001b[1;34m\u001b[0m\n\u001b[0;32m     36\u001b[0m     \u001b[1;32mreturn\u001b[0m \u001b[0mcreate_survival\u001b[0m\u001b[1;33m(\u001b[0m\u001b[0mref_date\u001b[0m\u001b[1;33m,\u001b[0m \u001b[0msc_dates\u001b[0m\u001b[1;33m,\u001b[0m \u001b[0mhazard_rates\u001b[0m\u001b[1;33m)\u001b[0m\u001b[1;33m\u001b[0m\u001b[1;33m\u001b[0m\u001b[0m\n\u001b[0;32m     37\u001b[0m \u001b[1;33m\u001b[0m\u001b[0m\n\u001b[1;32m---> 38\u001b[1;33m \u001b[0mhazard_rate\u001b[0m\u001b[1;33m=\u001b[0m\u001b[0mcalibrate_hazard_rate\u001b[0m\u001b[1;33m(\u001b[0m\u001b[0mpayment_dates_1\u001b[0m\u001b[1;33m,\u001b[0m \u001b[0mref_date\u001b[0m\u001b[1;33m)\u001b[0m\u001b[1;33m\u001b[0m\u001b[1;33m\u001b[0m\u001b[0m\n\u001b[0m\u001b[0;32m     39\u001b[0m \u001b[0mprint\u001b[0m\u001b[1;33m(\u001b[0m\u001b[0mhazard_rate\u001b[0m\u001b[1;33m)\u001b[0m\u001b[1;33m\u001b[0m\u001b[1;33m\u001b[0m\u001b[0m\n",
      "\u001b[1;32m<ipython-input-109-c1649de946fe>\u001b[0m in \u001b[0;36mcalibrate_hazard_rate\u001b[1;34m(payment_dates, ref_date)\u001b[0m\n\u001b[0;32m     31\u001b[0m         \u001b[0msc_dates\u001b[0m\u001b[1;33m.\u001b[0m\u001b[0mappend\u001b[0m\u001b[1;33m(\u001b[0m\u001b[0mpayment_dates\u001b[0m\u001b[1;33m[\u001b[0m\u001b[1;33m-\u001b[0m\u001b[1;36m1\u001b[0m\u001b[1;33m]\u001b[0m\u001b[1;33m)\u001b[0m\u001b[1;33m\u001b[0m\u001b[1;33m\u001b[0m\u001b[0m\n\u001b[0;32m     32\u001b[0m         \u001b[0mhazard_rates\u001b[0m\u001b[1;33m.\u001b[0m\u001b[0mappend\u001b[0m\u001b[1;33m(\u001b[0m\u001b[0mhazard_rates\u001b[0m\u001b[1;33m[\u001b[0m\u001b[1;33m-\u001b[0m\u001b[1;36m1\u001b[0m\u001b[1;33m]\u001b[0m\u001b[1;33m)\u001b[0m\u001b[1;33m\u001b[0m\u001b[1;33m\u001b[0m\u001b[0m\n\u001b[1;32m---> 33\u001b[1;33m         \u001b[0msol\u001b[0m\u001b[1;33m=\u001b[0m\u001b[0mscipy\u001b[0m\u001b[1;33m.\u001b[0m\u001b[0moptimize\u001b[0m\u001b[1;33m.\u001b[0m\u001b[0mroot_scalar\u001b[0m\u001b[1;33m(\u001b[0m\u001b[0mcalibration_error\u001b[0m\u001b[1;33m,\u001b[0m\u001b[0margs\u001b[0m\u001b[1;33m=\u001b[0m\u001b[1;33m(\u001b[0m\u001b[0mmkt_par_spread\u001b[0m\u001b[1;33m,\u001b[0m \u001b[0mref_date\u001b[0m\u001b[1;33m,\u001b[0m \u001b[0mtrade_date\u001b[0m\u001b[1;33m,\u001b[0m \u001b[0mdc_survival\u001b[0m\u001b[1;33m,\u001b[0m \u001b[0mpayment_dates\u001b[0m\u001b[1;33m,\u001b[0m \u001b[0mdc\u001b[0m\u001b[1;33m,\u001b[0m \u001b[0mdates\u001b[0m\u001b[1;33m,\u001b[0m \u001b[0mhazard_rates\u001b[0m\u001b[1;33m)\u001b[0m\u001b[1;33m,\u001b[0m\u001b[0mmethod\u001b[0m\u001b[1;33m=\u001b[0m\u001b[1;34m'brentq'\u001b[0m\u001b[1;33m,\u001b[0m\u001b[0mbracket\u001b[0m\u001b[1;33m=\u001b[0m\u001b[1;33m[\u001b[0m\u001b[1;36m0.0\u001b[0m\u001b[1;33m,\u001b[0m\u001b[1;36m1.0\u001b[0m\u001b[1;33m]\u001b[0m\u001b[1;33m)\u001b[0m\u001b[1;33m\u001b[0m\u001b[1;33m\u001b[0m\u001b[0m\n\u001b[0m\u001b[0;32m     34\u001b[0m         \u001b[0mhazard_rates\u001b[0m\u001b[1;33m[\u001b[0m\u001b[1;33m-\u001b[0m\u001b[1;36m1\u001b[0m\u001b[1;33m]\u001b[0m \u001b[1;33m=\u001b[0m \u001b[0msol\u001b[0m\u001b[1;33m.\u001b[0m\u001b[0mroot\u001b[0m\u001b[1;33m\u001b[0m\u001b[1;33m\u001b[0m\u001b[0m\n\u001b[0;32m     35\u001b[0m \u001b[1;33m\u001b[0m\u001b[0m\n",
      "\u001b[1;32m~\\Anaconda3\\lib\\site-packages\\scipy\\optimize\\_root_scalar.py\u001b[0m in \u001b[0;36mroot_scalar\u001b[1;34m(f, args, method, bracket, fprime, fprime2, x0, x1, xtol, rtol, maxiter, options)\u001b[0m\n\u001b[0;32m    247\u001b[0m \u001b[1;33m\u001b[0m\u001b[0m\n\u001b[0;32m    248\u001b[0m         \u001b[0ma\u001b[0m\u001b[1;33m,\u001b[0m \u001b[0mb\u001b[0m \u001b[1;33m=\u001b[0m \u001b[0mbracket\u001b[0m\u001b[1;33m[\u001b[0m\u001b[1;33m:\u001b[0m\u001b[1;36m2\u001b[0m\u001b[1;33m]\u001b[0m\u001b[1;33m\u001b[0m\u001b[1;33m\u001b[0m\u001b[0m\n\u001b[1;32m--> 249\u001b[1;33m         \u001b[0mr\u001b[0m\u001b[1;33m,\u001b[0m \u001b[0msol\u001b[0m \u001b[1;33m=\u001b[0m \u001b[0mmethodc\u001b[0m\u001b[1;33m(\u001b[0m\u001b[0mf\u001b[0m\u001b[1;33m,\u001b[0m \u001b[0ma\u001b[0m\u001b[1;33m,\u001b[0m \u001b[0mb\u001b[0m\u001b[1;33m,\u001b[0m \u001b[0margs\u001b[0m\u001b[1;33m=\u001b[0m\u001b[0margs\u001b[0m\u001b[1;33m,\u001b[0m \u001b[1;33m**\u001b[0m\u001b[0mkwargs\u001b[0m\u001b[1;33m)\u001b[0m\u001b[1;33m\u001b[0m\u001b[1;33m\u001b[0m\u001b[0m\n\u001b[0m\u001b[0;32m    250\u001b[0m     \u001b[1;32melif\u001b[0m \u001b[0mmeth\u001b[0m \u001b[1;32min\u001b[0m \u001b[1;33m[\u001b[0m\u001b[1;34m'secant'\u001b[0m\u001b[1;33m]\u001b[0m\u001b[1;33m:\u001b[0m\u001b[1;33m\u001b[0m\u001b[1;33m\u001b[0m\u001b[0m\n\u001b[0;32m    251\u001b[0m         \u001b[1;32mif\u001b[0m \u001b[0mx0\u001b[0m \u001b[1;32mis\u001b[0m \u001b[1;32mNone\u001b[0m\u001b[1;33m:\u001b[0m\u001b[1;33m\u001b[0m\u001b[1;33m\u001b[0m\u001b[0m\n",
      "\u001b[1;32m~\\Anaconda3\\lib\\site-packages\\scipy\\optimize\\zeros.py\u001b[0m in \u001b[0;36mbrentq\u001b[1;34m(f, a, b, args, xtol, rtol, maxiter, full_output, disp)\u001b[0m\n\u001b[0;32m    773\u001b[0m     \u001b[1;32mif\u001b[0m \u001b[0mrtol\u001b[0m \u001b[1;33m<\u001b[0m \u001b[0m_rtol\u001b[0m\u001b[1;33m:\u001b[0m\u001b[1;33m\u001b[0m\u001b[1;33m\u001b[0m\u001b[0m\n\u001b[0;32m    774\u001b[0m         \u001b[1;32mraise\u001b[0m \u001b[0mValueError\u001b[0m\u001b[1;33m(\u001b[0m\u001b[1;34m\"rtol too small (%g < %g)\"\u001b[0m \u001b[1;33m%\u001b[0m \u001b[1;33m(\u001b[0m\u001b[0mrtol\u001b[0m\u001b[1;33m,\u001b[0m \u001b[0m_rtol\u001b[0m\u001b[1;33m)\u001b[0m\u001b[1;33m)\u001b[0m\u001b[1;33m\u001b[0m\u001b[1;33m\u001b[0m\u001b[0m\n\u001b[1;32m--> 775\u001b[1;33m     \u001b[0mr\u001b[0m \u001b[1;33m=\u001b[0m \u001b[0m_zeros\u001b[0m\u001b[1;33m.\u001b[0m\u001b[0m_brentq\u001b[0m\u001b[1;33m(\u001b[0m\u001b[0mf\u001b[0m\u001b[1;33m,\u001b[0m \u001b[0ma\u001b[0m\u001b[1;33m,\u001b[0m \u001b[0mb\u001b[0m\u001b[1;33m,\u001b[0m \u001b[0mxtol\u001b[0m\u001b[1;33m,\u001b[0m \u001b[0mrtol\u001b[0m\u001b[1;33m,\u001b[0m \u001b[0mmaxiter\u001b[0m\u001b[1;33m,\u001b[0m \u001b[0margs\u001b[0m\u001b[1;33m,\u001b[0m \u001b[0mfull_output\u001b[0m\u001b[1;33m,\u001b[0m \u001b[0mdisp\u001b[0m\u001b[1;33m)\u001b[0m\u001b[1;33m\u001b[0m\u001b[1;33m\u001b[0m\u001b[0m\n\u001b[0m\u001b[0;32m    776\u001b[0m     \u001b[1;32mreturn\u001b[0m \u001b[0mresults_c\u001b[0m\u001b[1;33m(\u001b[0m\u001b[0mfull_output\u001b[0m\u001b[1;33m,\u001b[0m \u001b[0mr\u001b[0m\u001b[1;33m)\u001b[0m\u001b[1;33m\u001b[0m\u001b[1;33m\u001b[0m\u001b[0m\n\u001b[0;32m    777\u001b[0m \u001b[1;33m\u001b[0m\u001b[0m\n",
      "\u001b[1;32m<ipython-input-109-c1649de946fe>\u001b[0m in \u001b[0;36mcalibration_error\u001b[1;34m(x, mkt_par_spread, ref_date, trade_date, dc_survival, payment_dates, dc, dates, hazard_rates)\u001b[0m\n\u001b[0;32m     16\u001b[0m \u001b[1;32mdef\u001b[0m \u001b[0mcalibration_error\u001b[0m\u001b[1;33m(\u001b[0m\u001b[0mx\u001b[0m\u001b[1;33m,\u001b[0m \u001b[0mmkt_par_spread\u001b[0m\u001b[1;33m,\u001b[0m \u001b[0mref_date\u001b[0m\u001b[1;33m,\u001b[0m \u001b[0mtrade_date\u001b[0m\u001b[1;33m,\u001b[0m \u001b[0mdc_survival\u001b[0m\u001b[1;33m,\u001b[0m \u001b[0mpayment_dates\u001b[0m\u001b[1;33m,\u001b[0m \u001b[0mdc\u001b[0m\u001b[1;33m,\u001b[0m \u001b[0mdates\u001b[0m\u001b[1;33m,\u001b[0m \u001b[0mhazard_rates\u001b[0m\u001b[1;33m)\u001b[0m\u001b[1;33m:\u001b[0m\u001b[1;33m\u001b[0m\u001b[1;33m\u001b[0m\u001b[0m\n\u001b[0;32m     17\u001b[0m     \u001b[0mhazard_rates\u001b[0m\u001b[1;33m[\u001b[0m\u001b[1;33m-\u001b[0m\u001b[1;36m1\u001b[0m\u001b[1;33m]\u001b[0m \u001b[1;33m=\u001b[0m \u001b[0mx\u001b[0m\u001b[1;33m\u001b[0m\u001b[1;33m\u001b[0m\u001b[0m\n\u001b[1;32m---> 18\u001b[1;33m     \u001b[0mdc_surv\u001b[0m \u001b[1;33m=\u001b[0m \u001b[0mcreate_survival\u001b[0m\u001b[1;33m(\u001b[0m\u001b[0mref_date\u001b[0m\u001b[1;33m,\u001b[0m \u001b[0mdates\u001b[0m\u001b[1;33m,\u001b[0m \u001b[0mhazard_rates\u001b[0m\u001b[1;33m)\u001b[0m\u001b[1;33m\u001b[0m\u001b[1;33m\u001b[0m\u001b[0m\n\u001b[0m\u001b[0;32m     19\u001b[0m     \u001b[1;32mreturn\u001b[0m  \u001b[0mmkt_par_spread\u001b[0m \u001b[1;33m-\u001b[0m \u001b[0mpar_spread\u001b[0m\u001b[1;33m(\u001b[0m\u001b[0mref_date\u001b[0m\u001b[1;33m,\u001b[0m \u001b[0mtrade_date\u001b[0m\u001b[1;33m,\u001b[0m \u001b[0mdc_survival\u001b[0m\u001b[1;33m,\u001b[0m \u001b[0mpayment_dates\u001b[0m\u001b[1;33m,\u001b[0m \u001b[0mdc\u001b[0m\u001b[1;33m)\u001b[0m\u001b[1;33m\u001b[0m\u001b[1;33m\u001b[0m\u001b[0m\n\u001b[0;32m     20\u001b[0m \u001b[1;33m\u001b[0m\u001b[0m\n",
      "\u001b[1;32m<ipython-input-109-c1649de946fe>\u001b[0m in \u001b[0;36mcreate_survival\u001b[1;34m(refdate, dates, hazard_rates)\u001b[0m\n\u001b[0;32m     12\u001b[0m \u001b[1;33m\u001b[0m\u001b[0m\n\u001b[0;32m     13\u001b[0m \u001b[1;32mdef\u001b[0m \u001b[0mcreate_survival\u001b[0m\u001b[1;33m(\u001b[0m\u001b[0mrefdate\u001b[0m\u001b[1;33m,\u001b[0m \u001b[0mdates\u001b[0m\u001b[1;33m:\u001b[0m \u001b[0mList\u001b[0m\u001b[1;33m[\u001b[0m\u001b[0mdt\u001b[0m\u001b[1;33m.\u001b[0m\u001b[0mdatetime\u001b[0m\u001b[1;33m]\u001b[0m\u001b[1;33m,\u001b[0m \u001b[0mhazard_rates\u001b[0m\u001b[1;33m:\u001b[0m \u001b[0mList\u001b[0m\u001b[1;33m[\u001b[0m\u001b[0mfloat\u001b[0m\u001b[1;33m]\u001b[0m\u001b[1;33m)\u001b[0m\u001b[1;33m:\u001b[0m\u001b[1;33m\u001b[0m\u001b[1;33m\u001b[0m\u001b[0m\n\u001b[1;32m---> 14\u001b[1;33m     \u001b[1;32mreturn\u001b[0m \u001b[0manalytics\u001b[0m\u001b[1;33m.\u001b[0m\u001b[0mSurvivalCurve\u001b[0m\u001b[1;33m(\u001b[0m\u001b[1;34m'survival_curve'\u001b[0m\u001b[1;33m,\u001b[0m \u001b[0mrefdate\u001b[0m\u001b[1;33m,\u001b[0m \u001b[0mdates\u001b[0m\u001b[1;33m,\u001b[0m \u001b[0mhazard_rates\u001b[0m\u001b[1;33m)\u001b[0m\u001b[1;33m\u001b[0m\u001b[1;33m\u001b[0m\u001b[0m\n\u001b[0m\u001b[0;32m     15\u001b[0m \u001b[1;33m\u001b[0m\u001b[0m\n\u001b[0;32m     16\u001b[0m \u001b[1;32mdef\u001b[0m \u001b[0mcalibration_error\u001b[0m\u001b[1;33m(\u001b[0m\u001b[0mx\u001b[0m\u001b[1;33m,\u001b[0m \u001b[0mmkt_par_spread\u001b[0m\u001b[1;33m,\u001b[0m \u001b[0mref_date\u001b[0m\u001b[1;33m,\u001b[0m \u001b[0mtrade_date\u001b[0m\u001b[1;33m,\u001b[0m \u001b[0mdc_survival\u001b[0m\u001b[1;33m,\u001b[0m \u001b[0mpayment_dates\u001b[0m\u001b[1;33m,\u001b[0m \u001b[0mdc\u001b[0m\u001b[1;33m,\u001b[0m \u001b[0mdates\u001b[0m\u001b[1;33m,\u001b[0m \u001b[0mhazard_rates\u001b[0m\u001b[1;33m)\u001b[0m\u001b[1;33m:\u001b[0m\u001b[1;33m\u001b[0m\u001b[1;33m\u001b[0m\u001b[0m\n",
      "\u001b[1;32m~\\Anaconda3\\lib\\site-packages\\pyvacon\\_converter.py\u001b[0m in \u001b[0;36mwrapper\u001b[1;34m(*args, **kwargs)\u001b[0m\n\u001b[0;32m     64\u001b[0m     \u001b[1;32mdef\u001b[0m \u001b[0mwrapper\u001b[0m\u001b[1;33m(\u001b[0m\u001b[1;33m*\u001b[0m\u001b[0margs\u001b[0m\u001b[1;33m,\u001b[0m \u001b[1;33m**\u001b[0m\u001b[0mkwargs\u001b[0m\u001b[1;33m)\u001b[0m\u001b[1;33m:\u001b[0m\u001b[1;33m\u001b[0m\u001b[1;33m\u001b[0m\u001b[0m\n\u001b[0;32m     65\u001b[0m         \u001b[0mnew_args\u001b[0m \u001b[1;33m=\u001b[0m \u001b[1;33m[\u001b[0m\u001b[0m_convert\u001b[0m\u001b[1;33m(\u001b[0m\u001b[0mx\u001b[0m\u001b[1;33m)\u001b[0m \u001b[1;32mfor\u001b[0m \u001b[0mx\u001b[0m \u001b[1;32min\u001b[0m \u001b[0margs\u001b[0m\u001b[1;33m]\u001b[0m\u001b[1;33m\u001b[0m\u001b[1;33m\u001b[0m\u001b[0m\n\u001b[1;32m---> 66\u001b[1;33m         \u001b[0mresult\u001b[0m \u001b[1;33m=\u001b[0m \u001b[0mf\u001b[0m\u001b[1;33m(\u001b[0m\u001b[1;33m*\u001b[0m\u001b[0mnew_args\u001b[0m\u001b[1;33m,\u001b[0m \u001b[1;33m**\u001b[0m\u001b[0mkwargs\u001b[0m\u001b[1;33m)\u001b[0m\u001b[1;33m\u001b[0m\u001b[1;33m\u001b[0m\u001b[0m\n\u001b[0m\u001b[0;32m     67\u001b[0m         \u001b[1;32mreturn\u001b[0m \u001b[0mresult\u001b[0m\u001b[1;33m\u001b[0m\u001b[1;33m\u001b[0m\u001b[0m\n\u001b[0;32m     68\u001b[0m     \u001b[1;32mreturn\u001b[0m \u001b[0mwrapper\u001b[0m\u001b[1;33m\u001b[0m\u001b[1;33m\u001b[0m\u001b[0m\n",
      "\u001b[1;32m~\\Anaconda3\\lib\\site-packages\\pyvacon\\analytics.py\u001b[0m in \u001b[0;36m__init__\u001b[1;34m(self, objId, refDate, dates, values, isHazard)\u001b[0m\n\u001b[0;32m   1841\u001b[0m \u001b[1;33m\u001b[0m\u001b[0m\n\u001b[0;32m   1842\u001b[0m     \u001b[1;32mdef\u001b[0m \u001b[0m__init__\u001b[0m\u001b[1;33m(\u001b[0m\u001b[0mself\u001b[0m\u001b[1;33m,\u001b[0m \u001b[0mobjId\u001b[0m\u001b[1;33m,\u001b[0m \u001b[0mrefDate\u001b[0m\u001b[1;33m,\u001b[0m \u001b[0mdates\u001b[0m\u001b[1;33m,\u001b[0m \u001b[0mvalues\u001b[0m\u001b[1;33m,\u001b[0m \u001b[0misHazard\u001b[0m\u001b[1;33m=\u001b[0m\u001b[1;32mTrue\u001b[0m\u001b[1;33m)\u001b[0m\u001b[1;33m:\u001b[0m\u001b[1;33m\u001b[0m\u001b[1;33m\u001b[0m\u001b[0m\n\u001b[1;32m-> 1843\u001b[1;33m         \u001b[0m_analytics\u001b[0m\u001b[1;33m.\u001b[0m\u001b[0mSurvivalCurve_swiginit\u001b[0m\u001b[1;33m(\u001b[0m\u001b[0mself\u001b[0m\u001b[1;33m,\u001b[0m \u001b[0m_analytics\u001b[0m\u001b[1;33m.\u001b[0m\u001b[0mnew_SurvivalCurve\u001b[0m\u001b[1;33m(\u001b[0m\u001b[0mobjId\u001b[0m\u001b[1;33m,\u001b[0m \u001b[0mrefDate\u001b[0m\u001b[1;33m,\u001b[0m \u001b[0mdates\u001b[0m\u001b[1;33m,\u001b[0m \u001b[0mvalues\u001b[0m\u001b[1;33m,\u001b[0m \u001b[0misHazard\u001b[0m\u001b[1;33m)\u001b[0m\u001b[1;33m)\u001b[0m\u001b[1;33m\u001b[0m\u001b[1;33m\u001b[0m\u001b[0m\n\u001b[0m\u001b[0;32m   1844\u001b[0m \u001b[1;33m\u001b[0m\u001b[0m\n\u001b[0;32m   1845\u001b[0m     \u001b[1;32mdef\u001b[0m \u001b[0mvalue\u001b[0m\u001b[1;33m(\u001b[0m\u001b[0mself\u001b[0m\u001b[1;33m,\u001b[0m \u001b[1;33m*\u001b[0m\u001b[0margs\u001b[0m\u001b[1;33m)\u001b[0m\u001b[1;33m:\u001b[0m\u001b[1;33m\u001b[0m\u001b[1;33m\u001b[0m\u001b[0m\n",
      "\u001b[1;31mRuntimeError\u001b[0m: Exception Number of dates and hazard rates must be the same: C:\\Users\\Anwender\\Documents\\dev\\fAV\\analytics_tools_master\\analytics\\Finance\\MarketData\\SurvivalCurve.cpp, (20)"
     ]
    }
   ],
   "source": [
    "from typing import List\n",
    "import scipy.optimize\n",
    "\n",
    "#days_to_maturity = [1, 180, 360, 720, 3*360, 4*360, 5*360, 10*360]\n",
    "#dates = converter.createPTimeList(refdate, days_to_maturity)\n",
    "#dates = converter.create_datetime_list(dates)\n",
    "hazard_rates_model = [0, 0.01, 0.015, 0.02, 0.025, 0.03, 0.035, 0.05]\n",
    "refdate = dt.datetime(2020,1,1)\n",
    "trade_date = refdate \n",
    "mkt_par_spread=0.015\n",
    "payment_dates_1=[dt.datetime(2020,4,1)]\n",
    "\n",
    "def create_survival(refdate, dates: List[dt.datetime], hazard_rates: List[float]):\n",
    "    return analytics.SurvivalCurve('survival_curve', refdate, dates, hazard_rates)\n",
    "    \n",
    "def calibration_error(x, mkt_par_spread, ref_date, trade_date, dc_survival, payment_dates, dc, dates, hazard_rates):\n",
    "    hazard_rates[-1] = x\n",
    "    dc_surv = create_survival(ref_date, dates, hazard_rates)\n",
    "    return  mkt_par_spread - par_spread(ref_date, trade_date, dc_survival, payment_dates, dc)\n",
    "    \n",
    "    \n",
    "#sol=scipy.optimize.root_scalar(calibration_error,args=(mkt_par_spread, ref_date, trade_date, dc_survival, payment_dates_1, dc, dates, hazard_rates),\n",
    "#                           method='brentq',bracket=[0,1])\n",
    "\n",
    "\n",
    "def calibrate_hazard_rate(payment_dates, ref_date):\n",
    "    #sort payment_dates by [-1]\n",
    "    sc_dates=[ref_date]\n",
    "    hazard_rates=[0.0]\n",
    "    for i in payment_dates:\n",
    "        sc_dates.append(payment_dates[-1])\n",
    "        hazard_rates.append(hazard_rates[-1])\n",
    "        sol=scipy.optimize.root_scalar(calibration_error,args=(mkt_par_spread, ref_date, trade_date, dc_survival, payment_dates, dc, dates, hazard_rates),method='brentq',bracket=[0.0,1.0])\n",
    "        hazard_rates[-1] = sol.root\n",
    "        \n",
    "    return create_survival(ref_date, sc_dates, hazard_rates)\n",
    "\n",
    "hazard_rate=calibrate_hazard_rate(payment_dates_1, ref_date)\n",
    "print(hazard_rate)"
   ]
  },
  {
   "cell_type": "code",
   "execution_count": null,
   "metadata": {},
   "outputs": [],
   "source": [
    "sol=scipy.optimize.root_scalar(f_spread,args=(Delta_i,dc,ref_date,payment_dates_1,RR,par_spread_1,maturity_date_1),method='brentq',bracket=[0,1])\n",
    "q_0=sol.root\n",
    "print(q_0)\n",
    "hazard_0=math.log(q_0)/(-3/12)\n",
    "print(hazard_0)"
   ]
  },
  {
   "cell_type": "code",
   "execution_count": null,
   "metadata": {},
   "outputs": [],
   "source": [
    "hazard_rate(Delta_i,dc,ref_date,payment_dates_1,RR,par_spread_1,maturity_date_1)"
   ]
  },
  {
   "cell_type": "code",
   "execution_count": null,
   "metadata": {},
   "outputs": [],
   "source": [
    "def f_spread_1(x,Delta_i,dc,ref_date,Payment_Dates,q_0,RR,par_spread_market,maturity_date):\n",
    "    dc_valuation_date=dc.value(valuation_date, maturity_date)\n",
    "    risk_adj_factor_accrued=(Delta_i*(dc.value(ref_date,Payment_Dates[0])*(1)-q_0))\n",
    "    risk_adj_factor_premium=(Delta_i*(dc.value(ref_date,Payment_Dates[0])*((1)+q_0)/2))\n",
    "    risk_adj_factor_protection=(dc.value(ref_date,Payment_Dates[0])*(1)-q_0)\n",
    "\n",
    "    risk_adj_factor_accrued=risk_adj_factor_accrued+(Delta_i*(dc.value(ref_date,Payment_Dates[1])*(q_0)-x))\n",
    "    risk_adj_factor_premium=risk_adj_factor_premium+(Delta_i*(dc.value(ref_date,Payment_Dates[1])*((q_0)+x)/2))\n",
    "    risk_adj_factor_protection=risk_adj_factor_protection+(dc.value(ref_date,Payment_Dates[1])*(q_0)-x)\n",
    "    \n",
    "    PV_accrued=((1/dc_valuation_date*2)*risk_adj_factor_accrued)\n",
    "    PV_premium=(1/dc_valuation_date)*risk_adj_factor_premium\n",
    "    PV_protection=(((1-RR)/dc_valuation_date)*risk_adj_factor_protection)\n",
    "    par_spread=PV_protection/(PV_premium+PV_accrued)\n",
    "    return par_spread-par_spread_market"
   ]
  },
  {
   "cell_type": "code",
   "execution_count": null,
   "metadata": {},
   "outputs": [],
   "source": [
    "sol_1=scipy.optimize.root_scalar(f_spread_1,args=(Delta_i,dc,ref_date,payment_dates_2,q_0,RR,par_spread_2,maturity_date_2),method='brentq',bracket=[0,1])\n",
    "q_1=sol_1.root\n",
    "print(q_1)\n",
    "hazard_1=math.log10(q_1)/(-6/12)\n",
    "print(hazard_1)"
   ]
  },
  {
   "cell_type": "code",
   "execution_count": null,
   "metadata": {},
   "outputs": [],
   "source": [
    "def f_spread_2(x,Delta_i,dc,ref_date,Payment_Dates,q_0,q_1,RR,par_spread_market,maturity_date):\n",
    "    dc_valuation_date=dc.value(valuation_date, maturity_date)\n",
    "    risk_adj_factor_accrued=(Delta_i*(dc.value(ref_date,Payment_Dates[0])*(1)-q_0))\n",
    "    risk_adj_factor_premium=(Delta_i*(dc.value(ref_date,Payment_Dates[0])*((1)+q_0)/2))\n",
    "    risk_adj_factor_protection=(dc.value(ref_date,Payment_Dates[0])*(1)-q_0)\n",
    "\n",
    "    risk_adj_factor_accrued=risk_adj_factor_accrued+(Delta_i*(dc.value(ref_date,Payment_Dates[1])*(q_0)-q_1))\n",
    "    risk_adj_factor_premium=risk_adj_factor_premium+(Delta_i*(dc.value(ref_date,Payment_Dates[1])*((q_0)+q_1)/2))\n",
    "    risk_adj_factor_protection=risk_adj_factor_protection+(dc.value(ref_date,Payment_Dates[1])*(q_0)-q_1)\n",
    "    \n",
    "    risk_adj_factor_accrued=risk_adj_factor_accrued+(Delta_i*(dc.value(ref_date,Payment_Dates[2])*(q_1)-x))\n",
    "    risk_adj_factor_premium=risk_adj_factor_premium+(Delta_i*(dc.value(ref_date,Payment_Dates[2])*((q_1)+x)/2))\n",
    "    risk_adj_factor_protection=risk_adj_factor_protection+(dc.value(ref_date,Payment_Dates[2])*(q_1)-x)\n",
    "    \n",
    "    PV_accrued=((1/dc_valuation_date*2)*risk_adj_factor_accrued)\n",
    "    PV_premium=(1/dc_valuation_date)*risk_adj_factor_premium\n",
    "    PV_protection=(((1-RR)/dc_valuation_date)*risk_adj_factor_protection)\n",
    "    par_spread=PV_protection/(PV_premium+PV_accrued)\n",
    "    return par_spread-par_spread_market"
   ]
  },
  {
   "cell_type": "code",
   "execution_count": null,
   "metadata": {},
   "outputs": [],
   "source": [
    "sol_2=scipy.optimize.root_scalar(f_spread_2,args=(Delta_i,dc,ref_date,payment_dates_3,q_0,q_1,RR,par_spread_3,maturity_date_3),method='brentq',bracket=[0,1])\n",
    "q_2=sol_2.root\n",
    "print(q_2)\n",
    "hazard_2=math.log10(q_2)/(-11/12)\n",
    "print(hazard_2)"
   ]
  },
  {
   "cell_type": "code",
   "execution_count": null,
   "metadata": {},
   "outputs": [],
   "source": [
    "def f_spread_3(x,Delta_i,dc,ref_date,Payment_Dates,q_0,q_1,q_2,RR,par_spread_market,maturity_date):\n",
    "    dc_valuation_date=dc.value(valuation_date, maturity_date)\n",
    "    risk_adj_factor_accrued=(Delta_i*(dc.value(ref_date,Payment_Dates[0])*(1)-q_0))\n",
    "    risk_adj_factor_premium=(Delta_i*(dc.value(ref_date,Payment_Dates[0])*((1)+q_0)/2))\n",
    "    risk_adj_factor_protection=(dc.value(ref_date,Payment_Dates[0])*(1)-q_0)\n",
    "\n",
    "    risk_adj_factor_accrued=risk_adj_factor_accrued+(Delta_i*(dc.value(ref_date,Payment_Dates[1])*(q_0)-q_1))\n",
    "    risk_adj_factor_premium=risk_adj_factor_premium+(Delta_i*(dc.value(ref_date,Payment_Dates[1])*((q_0)+q_1)/2))\n",
    "    risk_adj_factor_protection=risk_adj_factor_protection+(dc.value(ref_date,Payment_Dates[1])*(q_0)-q_1)\n",
    "    \n",
    "    risk_adj_factor_accrued=risk_adj_factor_accrued+(Delta_i*(dc.value(ref_date,Payment_Dates[2])*(q_1)-q_2))\n",
    "    risk_adj_factor_premium=risk_adj_factor_premium+(Delta_i*(dc.value(ref_date,Payment_Dates[2])*((q_1)+q_2)/2))\n",
    "    risk_adj_factor_protection=risk_adj_factor_protection+(dc.value(ref_date,Payment_Dates[2])*(q_1)-q_2)\n",
    "    \n",
    "    risk_adj_factor_accrued=risk_adj_factor_accrued+(Delta_i*(dc.value(ref_date,Payment_Dates[3])*(q_2)-x))\n",
    "    risk_adj_factor_premium=risk_adj_factor_premium+(Delta_i*(dc.value(ref_date,Payment_Dates[3])*((q_2)+x)/2))\n",
    "    risk_adj_factor_protection=risk_adj_factor_protection+(dc.value(ref_date,Payment_Dates[3])*(q_2)-x)\n",
    "    \n",
    "    PV_accrued=((1/dc_valuation_date*2)*risk_adj_factor_accrued)\n",
    "    PV_premium=(1/dc_valuation_date)*risk_adj_factor_premium\n",
    "    PV_protection=(((1-RR)/dc_valuation_date)*risk_adj_factor_protection)\n",
    "    par_spread=PV_protection/(PV_premium+PV_accrued)\n",
    "    return par_spread-par_spread_market"
   ]
  },
  {
   "cell_type": "code",
   "execution_count": null,
   "metadata": {},
   "outputs": [],
   "source": [
    "sol_3=scipy.optimize.root_scalar(f_spread_3,args=(Delta_i,dc,ref_date,payment_dates_4,q_0,q_1,q_2,RR,par_spread_4,maturity_date_4),method='brentq',bracket=[0,1])\n",
    "q_3=sol_3.root\n",
    "print(q_3)\n",
    "hazard_3=math.log10(q_3)/(-11/12)\n",
    "print(hazard_3)"
   ]
  },
  {
   "cell_type": "code",
   "execution_count": null,
   "metadata": {},
   "outputs": [],
   "source": [
    "hazard_rates=[0]\n",
    "hazard_rates.append(hazard_0)\n",
    "hazard_rates.append(hazard_1)\n",
    "hazard_rates.append(hazard_2)\n",
    "hazard_rates.append(hazard_3)\n"
   ]
  },
  {
   "cell_type": "code",
   "execution_count": null,
   "metadata": {},
   "outputs": [],
   "source": [
    "x=[0,0.25,0.5,0.75,1]\n",
    "import plotly\n",
    "import plotly.graph_objs as go\n",
    "\n",
    "fig = go.Figure(data=go.Scatter(x=x, y=hazard_rates))\n",
    "fig.show()"
   ]
  },
  {
   "cell_type": "code",
   "execution_count": null,
   "metadata": {},
   "outputs": [],
   "source": []
  }
 ],
 "metadata": {
  "hide_input": false,
  "kernelspec": {
   "display_name": "Python 3",
   "language": "python",
   "name": "python3"
  },
  "language_info": {
   "codemirror_mode": {
    "name": "ipython",
    "version": 3
   },
   "file_extension": ".py",
   "mimetype": "text/x-python",
   "name": "python",
   "nbconvert_exporter": "python",
   "pygments_lexer": "ipython3",
   "version": "3.7.4"
  },
  "toc": {
   "base_numbering": 1,
   "nav_menu": {},
   "number_sections": true,
   "sideBar": true,
   "skip_h1_title": false,
   "title_cell": "Table of Contents",
   "title_sidebar": "Contents",
   "toc_cell": false,
   "toc_position": {
    "height": "calc(100% - 180px)",
    "left": "10px",
    "top": "150px",
    "width": "384px"
   },
   "toc_section_display": true,
   "toc_window_display": true
  },
  "varInspector": {
   "cols": {
    "lenName": 16,
    "lenType": 16,
    "lenVar": 40
   },
   "kernels_config": {
    "python": {
     "delete_cmd_postfix": "",
     "delete_cmd_prefix": "del ",
     "library": "var_list.py",
     "varRefreshCmd": "print(var_dic_list())"
    },
    "r": {
     "delete_cmd_postfix": ") ",
     "delete_cmd_prefix": "rm(",
     "library": "var_list.r",
     "varRefreshCmd": "cat(var_dic_list()) "
    }
   },
   "types_to_exclude": [
    "module",
    "function",
    "builtin_function_or_method",
    "instance",
    "_Feature"
   ],
   "window_display": false
  }
 },
 "nbformat": 4,
 "nbformat_minor": 2
}

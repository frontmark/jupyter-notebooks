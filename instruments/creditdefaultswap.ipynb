{
 "cells": [
  {
   "cell_type": "markdown",
   "metadata": {},
   "source": [
    "# Credit Default Swap"
   ]
  },
  {
   "cell_type": "markdown",
   "metadata": {},
   "source": [
    "## Import Libraries"
   ]
  },
  {
   "cell_type": "code",
   "execution_count": 1,
   "metadata": {
    "code_folding": []
   },
   "outputs": [],
   "source": [
    "#Libraries\n",
    "import math\n",
    "import datetime as dt\n",
    "import pandas as pd\n",
    "from datetime import timedelta\n",
    "import pyvacon.analytics as analytics\n",
    "import matplotlib.pyplot as plt\n",
    "import pyvacon.tools.converter as converter\n",
    "import pyvacon.tools.enums as enums\n",
    "import pyvacon.marketdata.plot as mkt_plot\n",
    "import numpy as np\n",
    "import dateutil.relativedelta as relativedelta"
   ]
  },
  {
   "cell_type": "markdown",
   "metadata": {},
   "source": [
    "## Introduction to Credit Defult Swap (CDS)"
   ]
  },
  {
   "cell_type": "markdown",
   "metadata": {},
   "source": [
    "A Credit default Swap can be designed as a Single-Name CDS or a Multi-Name CDS. The differences and further details on the functions of these special products will be described in the following subsections."
   ]
  },
  {
   "cell_type": "markdown",
   "metadata": {},
   "source": [
    "### Single-Name CDS"
   ]
  },
  {
   "cell_type": "markdown",
   "metadata": {},
   "source": [
    "A Single-Name Credit Default Swap (CDS) can be described as an insurance against the occurring credit event of a debt issuing entity (or the reference instrument). The reference instrument can be a referenced to a corporation or a sovereign state. The protection buyer makes regular payments (premium) for a specified period to the protection seller. In return the protection seller will send a payment to the protection buyer, if the credit event occurs. The premium payments end with the credit event and the contract cannot be cancelled before maturity but can be sold to a third party. "
   ]
  },
  {
   "cell_type": "markdown",
   "metadata": {},
   "source": [
    "![](CDS_function.png)"
   ]
  },
  {
   "cell_type": "markdown",
   "metadata": {},
   "source": [
    "**Settlement:**\n",
    "\n",
    "If the credit event occurs the settlement of the protection seller can be either physical or cash:\n",
    "\n",
    "*Physical settlement:* In a physical settlement the protection buyer delivers after the credit event the reference instrument or an asset of a basket. The protection buyer receives from the protection seller in return the notional. \n",
    "\n",
    "*Cash settlement:* If an cash settlement is contracted, the notional less current value of the reference instrument will be delivered."
   ]
  },
  {
   "cell_type": "markdown",
   "metadata": {},
   "source": [
    "**Credit Events:**\n",
    "\n",
    "The three most common credit events defined by the International Swaps and Derivatives Association (ISDA) are filing for bankruptcy, defaulting on payment, and restructuring debt (Source Investopedia):\n",
    "\n",
    "*Bankruptcy:*\n",
    "- Legal process and refers to the inability of an individual or organization to repay their outstanding debts. Generally, the debtor (or, less commonly, the creditor) files for bankruptcy. A bankrupt companys is also insolvent. \n",
    "\n",
    "*Payment default:*\n",
    "- This event refers to the inability of an individual or organization to pay their debts in a timely manner. Continual payment defaults could be a precursor to bankruptcy. Payment default and bankruptcy are often confused with one another: A bankruptcy tells your creditors that you will not be able to pay them in full; a payment default tells your creditors that you will not be able to pay when it is due.\n",
    "\n",
    "*Debt restructering:*\n",
    "- This event refers to a change in the terms of the debt, which causes the debt to be less favorable to debtholders. Common examples of debt restructuring include a decrease in the principal amount to be paid, a decline in the coupon rate, a postponement of payment obligations, a longer maturity time, or a change in the priority ranking of payment. "
   ]
  },
  {
   "cell_type": "markdown",
   "metadata": {},
   "source": [
    "### Index-CDS"
   ]
  },
  {
   "cell_type": "markdown",
   "metadata": {},
   "source": [
    "In a CDS-Index (e.g. iTRAXX) or Multi-Name CDS multiple single-name CDS are gathered together and bundled in a basket. These single-name CDS are commonly equally weighted in the Index. In a Pro-Rata-CDS on this basket a proportional risk assumption of the protection seller follows. If a reference asset in the portfolio defaults, the protection seller incurrs the loss in the amount of the corresponding portfolio share. \n",
    "\n",
    "**Example:**\n",
    "\n",
    "A portfolio consists of a basket of 100 equally weighted credit default swaps (weighting 1% each). An investor buys protection on this index with a nominal amount of €10 million at 50 basis points p.a. If a reference asset fails, €100,000 is settled (e.g. physical delivery). Accordingly, a pro-rata CDS for the 100 reference debtors offers protection in the amount of €100,000 each. After settlement, the contract continues to exist with a nominal value of €9,900,000. Further defaults will be settled according to the same scheme. The nominal value will be reduced accordingly."
   ]
  },
  {
   "cell_type": "markdown",
   "metadata": {},
   "source": [
    "## Trading of Credit Default Swaps and CDS markets"
   ]
  },
  {
   "cell_type": "markdown",
   "metadata": {},
   "source": [
    "**Single Name CDS:**\n",
    "\n",
    "Single-Name CDS do not require to be traded through a central counterparty. Nevertheless as measured by the notional amounts about 44% (in the end of 2017) of the single-name contracts are settled by a central counterparty. The uncleared contracts are still bilateral contracts between trader and customer. Therefore the full standardization is not yet completed. In comparison to 2008 the traded transaction volume has declined noteworthy.\n",
    "\n"
   ]
  },
  {
   "cell_type": "markdown",
   "metadata": {},
   "source": [
    "**Credit Default Swap Index :**\n",
    "\n",
    "The Credit Defaul Swap Index is also a tradable security and therefore a credit market derivative. A Index CDS  consists of a collection of single-name CDS. As measured by the notional amounts (in the end of 2017) 65% of the contracts are settled by a central counterparty. Furthermore in the european market as well as the american-market, Index CDS requiring clearing through a central counterparty, which means that the fraction should incline in the following years.  \n"
   ]
  },
  {
   "cell_type": "markdown",
   "metadata": {},
   "source": [
    "## Market Conventions"
   ]
  },
  {
   "cell_type": "markdown",
   "metadata": {},
   "source": [
    "The standardisation of credit derivatives has been led by the International Swaps and Derivatives Association, Inc. (ISDA) in order to gain market efficiency and reduce the potential for legal uncertainty. Over the past several years, driven by global contract changes and local convention changes, credit derivative contracts have become more standardised. These conventions can be subdivided in general conventions, contract specifications and further assumptions (Iwashita Yukinori, Conventions for Single-Name Credit Default Swaps, OpenGamma Quantitative Research): "
   ]
  },
  {
   "cell_type": "markdown",
   "metadata": {},
   "source": [
    "**General Conventions:**\n",
    "\n",
    "In this subsection general conventions that specify relevant dates and days for a single-name CDS contract are presented :\n",
    "\n",
    "*Business days*: \n",
    "- All computations are based on a business day calendar of weekdays only, i.e., weekends (Saturday and Sunday) are the only non-business days.\n",
    "\n",
    "*Business day conventions*: \n",
    "- When a specified date is not a business day. For single-name CDS the business day convention is following, i.e., the adjusted date is the first following day that is a business day\n",
    "\n",
    "*Daycount*: \n",
    "- Day count convention to define an accrual factor between two dates is ACT/360: \n",
    "$$accrual Factor = \\frac{Days(d_1,d_2)}{360}$$\n",
    "\n",
    "*IMM Dates*: \n",
    "- The maturity dates of CDS contacts are standardized to the IMM dates: March $20^{th}$, June $20^{th}$, September $20^{th}$ and December $20^{th}$"
   ]
  },
  {
   "cell_type": "markdown",
   "metadata": {},
   "source": [
    "**Contract Specifications:**\n",
    "\n",
    "A single-name CDS contract is specified by trade date, maturity date and coupon. Relevant Market conventions for these are presented in this subsection:\n",
    "\n",
    "*Trade Date:*\n",
    "- The Trade date is the current business day. The trade date ist denoted as T. Thus T + n represents n days after the trade date.\n",
    "\n",
    "*Maturity Date:*\n",
    "- Maturity Date is also called end date or protection end date. Scheduled maturities are rolled to the next IMM date and unadjusted by the business day convention. For example, a 5-year trade dealt on June $13^{th}$ 2013 will terminate on June $20^{th}$ 2018, whereas a 5-year trade after June $20^{th}$ 2013 will terminate September $20^{th}$ 2018.\n",
    "\n",
    "\n",
    "*Coupon:*\n",
    "- *North America:* Predominant conventions 100/500 basis points. Investment grade reference entities trade at 100 basis points quoted in a conventional spread (quoted spread) whereas high-yield reference entities trade at 500 basis points quoted in a point upfront.\n",
    "- *Europe:* Standard fixed coupons are 25/100/500/1000 basis points. Investment grade names are quoted at 100 basis points and high-yield names are quoted at 500 basis points. 25/1000 basis points are used for tight or wide credits, respectively. Two additional coupons, 300/750 basis points, are also implemented.\n",
    "- *Australia, New Zealand and Emerging Markets:* CFixed coupons of 100/500 basis points. \n",
    "- *Japan:* Coupon of 25 basis points\n",
    "- Regardless of when the CDS trade is executed, a coupon is paid by the protection buyer on the first coupon date after the trade date, which is usually an adjusted IMM date. Previously the timing of the first coupon payment depends on when the trade occurs. If the trade date is before 30 days prior to the first IMM date, the premium is paid on the first accrual date for the number of days of effective protection during that period (“short stub” period). If the trade date is within 30 days before the first coupon date, no premium payment is made on the first accrual date (“long stub period\")."
   ]
  },
  {
   "cell_type": "markdown",
   "metadata": {},
   "source": [
    "**Assumptions:**\n",
    "\n",
    "*Cash Settlement (klären):*\n",
    "- Cash settlement amount is the upfront payment which the protection buyer makes to the protection seller when entering into the swap. The cash settlement date is set to be three business days after the trade date for a standard contract.\n",
    "\n",
    "*Protection Leg (klären):*\n",
    "- Protection leg is the contingent payment made by the protection seller to the protection buyer if a credit event occurs.\n",
    "- Protection effective date or step-in date is when protection starts and set to be T + 1.\n",
    "- Protection maturity date is the same as maturity date. Thus the number of days of protection is $(Protection_ {maturity date}) -  (Protection_ {effective date}) + 1$\n",
    "- Protection payoff can be expressed as $(Notional) * ( 100\\%-(Recovery rate))$\n",
    "\n",
    "*Premium Leg (klären):*\n",
    "- Premium leg is a series of payments made by the protection buyer to the protection seller - payments terminate at the maturity of contract or following a credit event\n",
    "- Payment frequency: most commonly, coupon is paid on a quarterly basis\n",
    "- Regardless of when the CDS trade is executed the first coupon payment date is earliest IMM date after T + 1 adjusted by the business day convention\n",
    "- Accrued payment is made in the event of a default\n",
    "- Accrual begin date, also called start date, is the latest adjusted (by the business day convention) IMM date prior to T+1, orif T+1 itself is an adjusted IMM date then it is T+1 - the last accrual date (maturity date) remains unadjusted.\n",
    "- Accrual periods or payment intervals are the interval between the previous accrual date inclusive to the next accrual date exclusive. For the last accrual period the accrual end date (maturity date) is included.\n",
    "- Payment amount at each accrual date is $(Notional) * (Year fraction of accrual period) * (Coupon)$\n",
    "\n",
    "*Recovery Rate:*\n",
    "- When a CDS contract is priced, the standard recovery rate is assumed to be 40% for senior and 20% for subordinated, whereas 25% is used in for both the cases in Emerging Markets. For an actual default a defaulted instrument is delivered to the protection seller in order to receive the face value of the defaulted debt, or an auction is conducted to establish a market price of the defaulted instrument.\n"
   ]
  },
  {
   "cell_type": "markdown",
   "metadata": {},
   "source": [
    "### Notation"
   ]
  },
  {
   "cell_type": "markdown",
   "metadata": {},
   "source": [
    "## Pricing of Credit Default Swaps"
   ]
  },
  {
   "cell_type": "markdown",
   "metadata": {},
   "source": [
    "### ISDA Model"
   ]
  },
  {
   "cell_type": "markdown",
   "metadata": {},
   "source": [
    "#### Definition of Model\n",
    "\n",
    "The ISDA CDS Standard Model is the evolution of the JP Morgan CDS pricing routines. As well as the CDS date logic the\n",
    "model makes the assumption that both the yield curve and credit curve are piecewise constant in their respective forward rates. This reduces the normally needed integrals and hence eliminates the need for numerical integration in the pricing. \n",
    "The ISDA model is quite general about the contact specification. It can be used to price CDSs with any maturity date (it knows nothing about IMM dates), start date and payment interval. So the contract specifics are inputs to the model - for\n",
    "standard contracts, this would be a maturity date on the relevant IMM date, a start date of the IMM date immediately before the trade date, and quarterly premium payments.\n",
    "\n",
    "\n",
    "- Model Assumptions\n",
    "- Model Limitations\n",
    "- Distinctions for Single-Name and Index CDS\n"
   ]
  },
  {
   "cell_type": "markdown",
   "metadata": {},
   "source": [
    "**Notation:**\n",
    "\n",
    "$N=$ Notional amount of the reference instrument\n",
    "\n",
    "$RR=$ Recovery rate of the reference instrument\n",
    "\n",
    "$P(t)=$ Price of a zero-coupon bond (Risk-free curve)\n",
    "\n",
    "$t_v=$ valuation date \n",
    "\n",
    "$t_i=$ specific payment times \n",
    "\n",
    "$Q(t)=$ Probabilty of surviving derived by the hazard rates, which can be bootstrapped from the traded credit spreads\n",
    "\n",
    "$M=$ remaining payments \n",
    "\n",
    "$\\Delta_i=$ year fractions \n",
    "\n",
    "$C=$ fixed coupon payed by the protection buyer \n"
   ]
  },
  {
   "cell_type": "markdown",
   "metadata": {},
   "source": [
    "#### Model (Approximation of ISDA Model)\n",
    "\n",
    "**Protection Leg:**\n",
    "\n",
    "The protection leg in the ISDA-Model describes the present value of the payable amount, if a default occurs before maturity. Therefore this leg consists of a random payment of $N*(1-RR(\\tau)$ at the default time $\\tau$ if this is before the expiry and nothing otherwise (OpenGamma, ...)\n",
    "\n",
    "The present value of the protection leg can be approximated by the following formula:\n",
    "\n",
    "$$PV_{Protection Leg}= \\frac{N(1-RR)}{P(t_v)}\\sum_{i=1}^MP(t_i)[Q(t_{i-1})-Q(t_i)]$$"
   ]
  },
  {
   "cell_type": "markdown",
   "metadata": {},
   "source": [
    "**Premium Leg:**\n",
    "\n",
    "The premium leg consists of a regular payment (e.g. quarterly) up to expiry of the CDS and therefore the protection. It also depends on the underlying survival curve of the reference instrument and the risk-free interest rate.\n",
    "\n",
    "The present value of the premium leg can be approximated by the following formula:\n",
    "\n",
    "$$PV_{Premium Leg}=\\frac{NC}{P(t_v)}\\sum_{i=1}^M\\Delta_iP(t_i)[\\frac{Q(t_{i-1})+Q(t_i)}{2}]$$"
   ]
  },
  {
   "cell_type": "markdown",
   "metadata": {},
   "source": [
    "**Accrued Interest:**\n",
    "\n",
    "The second part of the premium leg consists of a single payment of accrued payment if the credit event occurs.\n",
    "\n",
    "The present value of the acrrued interest can be approximated by the following formula:\n",
    "\n",
    "$$PV_{accrued interes}=\\frac{NC}{2P(t_v)}\\sum_{i=1}^M\\Delta_iP(t_i)[Q(t_{i-1})-Q(t_i)]$$"
   ]
  },
  {
   "cell_type": "markdown",
   "metadata": {},
   "source": [
    "**Par Spread:**\n",
    "\n",
    "The par spread is the spread that makes the value of a credit default swap with same maturity (and of course with all other details except the coupon identical) zero at present. Therefore the par spread discribes the coupon which would make the two legs of the CDS (protection und premium leg) equal.\n",
    "\n",
    "The par spread can be approximated by the following formula:\n",
    "\n",
    "$$S_p(T)=\\frac{(1-RR)*\\sum_{i=1}^TP(t_i)(Q(t_{i-1})-Q(t_i))}{\\sum_{i=1}^T\\Delta_iP(t_i)\\frac{Q(t_{i-1}+Q(t_i)}{2}}$$"
   ]
  },
  {
   "cell_type": "markdown",
   "metadata": {},
   "source": [
    "#### Create necessary market data\n",
    "\n",
    "In order to price a CDS some market data is used an has to be constructed. Firstly, the yield curve and the following discount curve, and secondly, the hazard rate curve and the following survival rates. "
   ]
  },
  {
   "cell_type": "markdown",
   "metadata": {},
   "source": [
    "**Discount Curve:**\n",
    "\n",
    "The yield curve is constructed from money market rates (spot (L)ibor rates) with maturities out to 1Y (typically these are 1M, 2M, 3M, 6M, 9M and 12M), and swap rates with maturities out to 30Y (typically the swap rates are 2Y-10Y, 15Y, 20Y, 25Y and 30Y). The combined maturities (chronologically ordered) form the nodes of the yield curve.\n",
    "\n",
    "1. The yield curve has the following nodes:\n",
    "\n",
    "$$T^y=[t_1^y,t_2^y,...,t_i^y,...,t_{ny}^y]$$\n",
    "\n",
    "2. at the $i^th$ node the discount factor is given by:\n",
    "\n",
    "$$P_i=exp(-t_i^yR_i)$$\n",
    "\n",
    "$R_i=$ risk-free rate at point i\n",
    "\n",
    "3. The Interpolation for non-node times is built by:\n",
    "\n",
    "$$P(t)=exp(-[\\frac{t_i^yR_i(t_{i+1}^y-t)+t_{i+1}^yR_{i+1}(t-t_i^y)}{t_{i+1}^y-t_i}])$$\n",
    "\n"
   ]
  },
  {
   "cell_type": "code",
   "execution_count": 18,
   "metadata": {
    "code_folding": []
   },
   "outputs": [],
   "source": [
    "#yield curve\n",
    "object_id = \"CDS_interest_rate\"\n",
    "refdate = analytics.ptime(2020,1,1,0,0,0)\n",
    "days_to_maturity = [1, 180, 360, 720, 3*360, 4*360, 5*360, 10*360]\n",
    "dates = converter.createPTimeList(refdate, days_to_maturity)\n",
    "rates = [-0.0065, 0.0003, 0.0059, 0.0086, 0.0101, 0.012, 0.016, 0.02]\n",
    "dsc_fac = analytics.vectorDouble()\n",
    "for d in range(len(days_to_maturity)):\n",
    "        dsc_fac.append(math.exp(-rates[d]*days_to_maturity[d]/360))\n",
    "        \n",
    "dc = analytics.DiscountCurve(object_id, refdate,dates, dsc_fac, enums.DayCounter.ACT360, enums.InterpolationType.LINEAR, enums.ExtrapolationType.LINEAR)\n"
   ]
  },
  {
   "cell_type": "code",
   "execution_count": 19,
   "metadata": {
    "code_folding": [
     0
    ]
   },
   "outputs": [
    {
     "name": "stdout",
     "output_type": "stream",
     "text": [
      "DF at trade date:  0.9911386254176493\n"
     ]
    }
   ],
   "source": [
    "#test calculation\n",
    "trade_date=analytics.ptime(2021,4,1,0,0,0)\n",
    "maturity = converter.getLTime(trade_date, refdate)\n",
    "\n",
    "df1 = dc.value(refdate, maturity)\n",
    "print(\"DF at trade date: \", df1)"
   ]
  },
  {
   "cell_type": "markdown",
   "metadata": {},
   "source": [
    "**Credit curve (spread/hazard rate):**\n",
    "\n",
    "Beschreibung wo die Credit curve herkommt!\n",
    "\n",
    "1. The credit curve has the following nodes:\n",
    "\n",
    "$$T^c=[t_1^c,t_2^c,...,t_i^c,...,t_{nc}^c]$$\n",
    "\n",
    "2. at the $i^th$ node the survival probality is given by:\n",
    "\n",
    "$$Q_i=exp(-t_i^c\\Lambda_i)$$\n",
    "\n",
    "with $\\Lambda_i=$ hazard rate at point i\n",
    "\n",
    "3. The Interpolation for non-node times is built by:\n",
    "\n",
    "$$Q(t)=exp(-[\\frac{t_i^c\\Lambda_i(t_{i+1}^c-t)+t_{i+1}^c\\Lambda_{i+1}(t-t_i^c)}{t_{i+1}^c-t_i}])$$"
   ]
  },
  {
   "cell_type": "code",
   "execution_count": 20,
   "metadata": {
    "code_folding": []
   },
   "outputs": [],
   "source": [
    "#survival curve\n",
    "object_id_survival =\"CDS_survival_rate\"\n",
    "refdate = analytics.ptime(2020,1,1,0,0,0)\n",
    "days_to_maturity = [1, 180, 360, 720, 3*360, 4*360, 5*360, 10*360]\n",
    "dates = converter.createPTimeList(refdate, days_to_maturity)\n",
    "hazard_rates = [0, 0.001, 0.0015, 0.002, 0.0025, 0.003, 0.0035, 0.005]\n",
    "        \n",
    "dc_survival = analytics.SurvivalCurve(object_id_survival,refdate,dates,hazard_rates)"
   ]
  },
  {
   "cell_type": "code",
   "execution_count": 21,
   "metadata": {
    "code_folding": [
     0
    ],
    "scrolled": true
   },
   "outputs": [
    {
     "name": "stdout",
     "output_type": "stream",
     "text": [
      "Survival rate at trade date:  0.9879932116526418\n"
     ]
    }
   ],
   "source": [
    "#test calculation\n",
    "maturity = converter.getLTime(1800, refdate)\n",
    "df1 = dc_survival.value(refdate, maturity)\n",
    "print(\"Survival rate at trade date: \", df1)"
   ]
  },
  {
   "cell_type": "markdown",
   "metadata": {},
   "source": [
    "#### Setup the specification"
   ]
  },
  {
   "cell_type": "markdown",
   "metadata": {},
   "source": [
    "**Instrument specifactions:**"
   ]
  },
  {
   "cell_type": "code",
   "execution_count": 34,
   "metadata": {
    "code_folding": []
   },
   "outputs": [],
   "source": [
    "#Instrument Dates (Instrument Class Specification)\n",
    "trade_date= analytics.ptime(2020,1,1,0,0,0)\n",
    "maturity_date= analytics.ptime(2024,6,1,0,0,0)\n",
    "payment_cycle=6\n",
    "N=1000000\n",
    "RR=0.4\n",
    "coupon = 0.0014293069395962628\n",
    "\n",
    "\n",
    "valuation_date = refdate"
   ]
  },
  {
   "cell_type": "markdown",
   "metadata": {},
   "source": [
    "**Relevant time dates:**"
   ]
  },
  {
   "cell_type": "code",
   "execution_count": 35,
   "metadata": {},
   "outputs": [],
   "source": [
    "def payment_dates(trade_date,maturity_date,payment_cycle):\n",
    "    trade_date=converter.create_datetime(trade_date)\n",
    "    maturity_date=converter.create_datetime(maturity_date)\n",
    "    date=trade_date+relativedelta.relativedelta(months=+payment_cycle)\n",
    "    payment_dates=[]\n",
    "    while date<=maturity_date:\n",
    "        payment_dates.append(date)\n",
    "        date=date+relativedelta.relativedelta(months=+payment_cycle)\n",
    "    return payment_dates\n",
    "\n",
    "def M(valuation_date,payment_dates):\n",
    "    valuation_date=converter.create_datetime(valuation_date)\n",
    "    payment_dates_left=[x for x in payment_dates if x>valuation_date]\n",
    "    return len(payment_dates_left)\n",
    "Delta_i=payment_cycle/12\n"
   ]
  },
  {
   "cell_type": "code",
   "execution_count": 36,
   "metadata": {},
   "outputs": [],
   "source": [
    "Payment_Dates=payment_dates(trade_date,maturity_date,payment_cycle)\n",
    "M=M(valuation_date,Payment_Dates)"
   ]
  },
  {
   "cell_type": "markdown",
   "metadata": {},
   "source": [
    "#### Setup the pricing data"
   ]
  },
  {
   "cell_type": "markdown",
   "metadata": {},
   "source": [
    "**Protection Leg:**\n"
   ]
  },
  {
   "cell_type": "code",
   "execution_count": 37,
   "metadata": {
    "code_folding": []
   },
   "outputs": [],
   "source": [
    "def pv_protection_leg(valuation_date, trade_date, dc, M, Payment_Dates, dc_survival, maturity_date, RR):\n",
    "    k=len(Payment_Dates)-M\n",
    "    dc_valuation_date=dc.value(converter.getLTime(Payment_Dates[k],valuation_date), maturity_date)\n",
    "    risk_adj_factor_protection=0\n",
    "    while k<len(Payment_Dates)-1:\n",
    "        k=k+1\n",
    "        risk_adj_factor_protection=risk_adj_factor_protection+dc.value(converter.getLTime(Payment_Dates[k-1],valuation_date), maturity_date)*(dc_survival.value(converter.getLTime(Payment_Dates[k],valuation_date), maturity_date)-dc_survival.value(converter.getLTime(Payment_Dates[k-1],valuation_date), maturity_date))\n",
    "        #print(risk_adj_factor_protection)\n",
    "    PV_protection=((N*(1-RR)/dc_valuation_date)*risk_adj_factor_protection)\n",
    "    return PV_protection"
   ]
  },
  {
   "cell_type": "markdown",
   "metadata": {},
   "source": [
    "**Premium Leg:**"
   ]
  },
  {
   "cell_type": "code",
   "execution_count": 38,
   "metadata": {
    "code_folding": []
   },
   "outputs": [],
   "source": [
    "def pv_premium_leg(valuation_date, trade_date, dc, dc_survival, M, Payment_Dates, N, Delta_i,coupon ):\n",
    "    k=len(Payment_Dates)-M\n",
    "    dc_valuation_date=dc.value(converter.getLTime(Payment_Dates[k],valuation_date), maturity_date)\n",
    "    risk_adj_factor_premium=0\n",
    "    while k<len(Payment_Dates)-1:\n",
    "        k=k+1\n",
    "        risk_adj_factor_premium=(risk_adj_factor_premium+Delta_i\n",
    "                                 *(dc.value(converter.getLTime(Payment_Dates[k-1],valuation_date), maturity_date)\n",
    "                                *((dc_survival.value(converter.getLTime(Payment_Dates[k],valuation_date), maturity_date)\n",
    "                                +dc_survival.value(converter.getLTime(Payment_Dates[k-1],valuation_date), maturity_date))/2)))\n",
    "        #print(risk_adj_factor_protection)\n",
    "    PV_premium=((N*coupon/dc_valuation_date)*risk_adj_factor_premium)\n",
    "    return PV_premium "
   ]
  },
  {
   "cell_type": "markdown",
   "metadata": {},
   "source": [
    "**Accrued Interest:**"
   ]
  },
  {
   "cell_type": "code",
   "execution_count": 39,
   "metadata": {
    "code_folding": []
   },
   "outputs": [],
   "source": [
    "def pv_accrued_interest (valuation_date, trade_date, dc_survival, M, Payment_Dates, dc, N, Delta_i, coupon):\n",
    "    k=len(Payment_Dates)-M\n",
    "    dc_valuation_date=dc.value(converter.getLTime(Payment_Dates[k],valuation_date), maturity_date)\n",
    "    risk_adj_factor_accrued=0\n",
    "    while k<len(Payment_Dates)-1:\n",
    "        k=k+1\n",
    "        risk_adj_factor_accrued=(risk_adj_factor_accrued+Delta_i\n",
    "        *(dc.value(converter.getLTime(Payment_Dates[k-1],valuation_date), maturity_date)\n",
    "        *(dc_survival.value(converter.getLTime(Payment_Dates[k],valuation_date), maturity_date)\n",
    "        -dc_survival.value(converter.getLTime(Payment_Dates[k-1],valuation_date), maturity_date))))\n",
    "        #print(risk_adj_factor_protection)\n",
    "    PV_accrued=((N*coupon/dc_valuation_date*2)*risk_adj_factor_accrued)\n",
    "    return PV_accrued "
   ]
  },
  {
   "cell_type": "markdown",
   "metadata": {},
   "source": [
    "**Value of CDS:**"
   ]
  },
  {
   "cell_type": "code",
   "execution_count": 40,
   "metadata": {
    "code_folding": []
   },
   "outputs": [],
   "source": [
    "def Value_CDS(protection, accrued_interest, premium):\n",
    "    PV_CDS=protection-accrued_interest-premium\n",
    "    return PV_CDS"
   ]
  },
  {
   "cell_type": "markdown",
   "metadata": {},
   "source": [
    "**Par-Spread:**"
   ]
  },
  {
   "cell_type": "code",
   "execution_count": 41,
   "metadata": {
    "code_folding": []
   },
   "outputs": [],
   "source": [
    "def par_spread(pv_protection,pv_premium, pv_accrued_interest,N,coupon):\n",
    "    par_spread_i=(pv_protection/N)/((pv_premium+pv_accrued_interest)/(N*coupon))\n",
    "    return par_spread_i"
   ]
  },
  {
   "cell_type": "markdown",
   "metadata": {},
   "source": [
    "#### Pricing"
   ]
  },
  {
   "cell_type": "markdown",
   "metadata": {},
   "source": [
    "**Present Value Protection Leg**"
   ]
  },
  {
   "cell_type": "code",
   "execution_count": 42,
   "metadata": {
    "code_folding": []
   },
   "outputs": [
    {
     "name": "stdout",
     "output_type": "stream",
     "text": [
      "5077.408492693263\n"
     ]
    }
   ],
   "source": [
    "#Calculate present value protection leg\n",
    "PV_protection=pv_protection_leg(valuation_date, trade_date, dc, M, Payment_Dates, dc_survival, maturity_date,RR)\n",
    "print(PV_protection)"
   ]
  },
  {
   "cell_type": "markdown",
   "metadata": {},
   "source": [
    "**Present Value Premium Leg and Accrued Interest**"
   ]
  },
  {
   "cell_type": "code",
   "execution_count": 43,
   "metadata": {
    "code_folding": [],
    "scrolled": false
   },
   "outputs": [
    {
     "name": "stdout",
     "output_type": "stream",
     "text": [
      "12.095291989619133\n",
      "5065.313200703645\n"
     ]
    }
   ],
   "source": [
    "#Calculate present value premium leg and accrued interest\n",
    "print(pv_accrued_interest (valuation_date, trade_date, dc_survival, M, Payment_Dates, dc, N, Delta_i, coupon))\n",
    "print(pv_premium_leg(valuation_date, trade_date, dc, dc_survival, M, Payment_Dates, N,Delta_i,coupon ))\n"
   ]
  },
  {
   "cell_type": "markdown",
   "metadata": {},
   "source": [
    "**Present Value of CDS**"
   ]
  },
  {
   "cell_type": "code",
   "execution_count": 44,
   "metadata": {
    "code_folding": []
   },
   "outputs": [
    {
     "data": {
      "text/plain": [
       "-9.094947017729282e-13"
      ]
     },
     "execution_count": 44,
     "metadata": {},
     "output_type": "execute_result"
    }
   ],
   "source": [
    "#Calculate present value CDS\n",
    "Value_CDS(pv_protection_leg(valuation_date, trade_date, dc, M, Payment_Dates, dc_survival, maturity_date,RR),\n",
    "          pv_accrued_interest (valuation_date, trade_date, dc_survival, M, Payment_Dates, dc, N, Delta_i, coupon), \n",
    "          pv_premium_leg(valuation_date, trade_date, dc, dc_survival, M, Payment_Dates, N,Delta_i,coupon ))"
   ]
  },
  {
   "cell_type": "markdown",
   "metadata": {},
   "source": [
    "**Par-Spread**"
   ]
  },
  {
   "cell_type": "code",
   "execution_count": 45,
   "metadata": {
    "code_folding": [],
    "scrolled": true
   },
   "outputs": [
    {
     "data": {
      "text/plain": [
       "0.0014293069395962625"
      ]
     },
     "execution_count": 45,
     "metadata": {},
     "output_type": "execute_result"
    }
   ],
   "source": [
    "#calculate par_spread\n",
    "par_spread(pv_protection_leg(valuation_date, trade_date, dc, M, Payment_Dates, dc_survival, maturity_date,RR),\n",
    "           pv_accrued_interest (valuation_date, trade_date, dc_survival, M, Payment_Dates, dc, N, Delta_i, coupon), \n",
    "           pv_premium_leg(valuation_date, trade_date, dc, dc_survival, M, Payment_Dates, N,Delta_i,coupon ),\n",
    "           N,coupon)"
   ]
  },
  {
   "cell_type": "markdown",
   "metadata": {},
   "source": [
    "#### Plots"
   ]
  },
  {
   "cell_type": "markdown",
   "metadata": {},
   "source": [
    "# Bootstrapping Hazard Rates"
   ]
  },
  {
   "cell_type": "code",
   "execution_count": null,
   "metadata": {},
   "outputs": [],
   "source": []
  }
 ],
 "metadata": {
  "kernelspec": {
   "display_name": "Python 3",
   "language": "python",
   "name": "python3"
  },
  "language_info": {
   "codemirror_mode": {
    "name": "ipython",
    "version": 3
   },
   "file_extension": ".py",
   "mimetype": "text/x-python",
   "name": "python",
   "nbconvert_exporter": "python",
   "pygments_lexer": "ipython3",
   "version": "3.7.4"
  },
  "toc": {
   "base_numbering": 1,
   "nav_menu": {},
   "number_sections": true,
   "sideBar": true,
   "skip_h1_title": false,
   "title_cell": "Table of Contents",
   "title_sidebar": "Contents",
   "toc_cell": false,
   "toc_position": {
    "height": "calc(100% - 180px)",
    "left": "10px",
    "top": "150px",
    "width": "384px"
   },
   "toc_section_display": true,
   "toc_window_display": true
  }
 },
 "nbformat": 4,
 "nbformat_minor": 2
}

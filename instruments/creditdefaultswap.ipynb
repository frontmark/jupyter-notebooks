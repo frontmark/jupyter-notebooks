{
 "cells": [
  {
   "cell_type": "markdown",
   "metadata": {},
   "source": [
    "# Credit Default Swap"
   ]
  },
  {
   "cell_type": "markdown",
   "metadata": {},
   "source": [
    "## Import Libraries"
   ]
  },
  {
   "cell_type": "code",
   "execution_count": 1,
   "metadata": {},
   "outputs": [],
   "source": [
    "import math\n",
    "import datetime as dt\n",
    "import pandas as pd\n",
    "from datetime import timedelta\n"
   ]
  },
  {
   "cell_type": "markdown",
   "metadata": {},
   "source": [
    "## Introduction to Credit Defult Swap (CDS)"
   ]
  },
  {
   "cell_type": "markdown",
   "metadata": {},
   "source": [
    "A Credit default Swap can be designed as a Single-Name CDS or a Multi-Name CDS. The differences and further details on the functions of these special products will be described in the following subsections."
   ]
  },
  {
   "cell_type": "markdown",
   "metadata": {},
   "source": [
    "### Single-Name CDS"
   ]
  },
  {
   "cell_type": "markdown",
   "metadata": {},
   "source": [
    "A Single-Name Credit Default Swap (CDS) can be described as an insurance against the occurring credit event of a debt issuing entity (or the reference instrument). The reference instrument can be a referenced to a corporation or a sovereign state. The protection buyer makes regular payments (premium) for a specified period to the protection seller. In return the protection seller will send a payment to the protection buyer, if the credit event occurs. The premium payments end with the credit event and the contract cannot be cancelled before maturity but can be sold to a third party. "
   ]
  },
  {
   "cell_type": "markdown",
   "metadata": {},
   "source": [
    "![](CDS_function.png)"
   ]
  },
  {
   "cell_type": "markdown",
   "metadata": {},
   "source": [
    "**Settlement:**\n",
    "\n",
    "If the credit event occurs the settlement of the protection seller can be either physical or cash:\n",
    "\n",
    "*Physical settlement:* In a physical settlement the protection buyer delivers after the credit event the reference instrument or an asset of a basket. The protection buyer receives from the protection seller in return the notional. \n",
    "\n",
    "*Cash settlement:* If an cash settlement is contracted, the notional less current value of the reference instrument will be delivered."
   ]
  },
  {
   "cell_type": "markdown",
   "metadata": {},
   "source": [
    "**Credit Events:**\n",
    "\n",
    "The three most common credit events defined by the International Swaps and Derivatives Association (ISDA) are filing for bankruptcy, defaulting on payment, and restructuring debt (Source Investopedia):\n",
    "\n",
    "*Bankruptcy:*\n",
    "- Legal process and refers to the inability of an individual or organization to repay their outstanding debts. Generally, the debtor (or, less commonly, the creditor) files for bankruptcy. A bankrupt companys is also insolvent. \n",
    "\n",
    "*Payment default:*\n",
    "- This event refers to the inability of an individual or organization to pay their debts in a timely manner. Continual payment defaults could be a precursor to bankruptcy. Payment default and bankruptcy are often confused with one another: A bankruptcy tells your creditors that you will not be able to pay them in full; a payment default tells your creditors that you will not be able to pay when it is due.\n",
    "\n",
    "*Debt restructering:*\n",
    "- This event refers to a change in the terms of the debt, which causes the debt to be less favorable to debtholders. Common examples of debt restructuring include a decrease in the principal amount to be paid, a decline in the coupon rate, a postponement of payment obligations, a longer maturity time, or a change in the priority ranking of payment. "
   ]
  },
  {
   "cell_type": "markdown",
   "metadata": {},
   "source": [
    "### Index-CDS"
   ]
  },
  {
   "cell_type": "markdown",
   "metadata": {},
   "source": [
    "In a CDS-Index (e.g. iTRAXX) or Multi-Name CDS multiple single-name CDS are gathered together and bundled in a basket. These single-name CDS are commonly equally weighted in the Index. In a Pro-Rata-CDS on this basket a proportional risk assumption of the protection seller follows. If a reference asset in the portfolio defaults, the protection seller incurrs the loss in the amount of the corresponding portfolio share. \n",
    "\n",
    "**Example:**\n",
    "\n",
    "A portfolio consists of a basket of 100 equally weighted credit default swaps (weighting 1% each). An investor buys protection on this index with a nominal amount of €10 million at 50 basis points p.a. If a reference asset fails, €100,000 is settled (e.g. physical delivery). Accordingly, a pro-rata CDS for the 100 reference debtors offers protection in the amount of €100,000 each. After settlement, the contract continues to exist with a nominal value of €9,900,000. Further defaults will be settled according to the same scheme. The nominal value will be reduced accordingly."
   ]
  },
  {
   "cell_type": "markdown",
   "metadata": {},
   "source": [
    "## Trading of Credit Default Swaps and CDS markets"
   ]
  },
  {
   "cell_type": "markdown",
   "metadata": {},
   "source": [
    "**Single Name CDS:**"
   ]
  },
  {
   "cell_type": "markdown",
   "metadata": {},
   "source": [
    "**iTRAXX:**"
   ]
  },
  {
   "cell_type": "markdown",
   "metadata": {},
   "source": [
    "## Market Conventions"
   ]
  },
  {
   "cell_type": "markdown",
   "metadata": {},
   "source": [
    "The standardisation of credit derivatives has been led by the International Swaps and Derivatives Association, Inc. (ISDA) in order to gain market efficiency and reduce the potential for legal uncertainty. Over the past several years, driven by global contract changes and local convention changes, credit derivative contracts have become more standardised. These conventions can be subdivided in general conventions, contract specifications and further assumptions (Iwashita Yukinori, Conventions for Single-Name Credit Default Swaps, OpenGamma Quantitative Research): "
   ]
  },
  {
   "cell_type": "markdown",
   "metadata": {},
   "source": [
    "**General Conventions:**\n",
    "\n",
    "In this subsection general conventions that specify relevant dates and days for a single-name CDS contract are presented :\n",
    "\n",
    "*Business days*: \n",
    "- All computations are based on a business day calendar of weekdays only, i.e., weekends (Saturday and Sunday) are the only non-business days.\n",
    "\n",
    "*Business day conventions*: \n",
    "- When a specified date is not a business day. For single-name CDS the business day convention is following, i.e., the adjusted date is the first following day that is a business day\n",
    "\n",
    "*Daycount*: \n",
    "- Day count convention to define an accrual factor between two dates is ACT/360: \n",
    "$$accrual Factor = \\frac{Days(d_1,d_2)}{360}$$\n",
    "\n",
    "*IMM Dates*: \n",
    "- The maturity dates of CDS contacts are standardized to the IMM dates: March $20^{th}$, June $20^{th}$, September $20^{th}$ and December $20^{th}$"
   ]
  },
  {
   "cell_type": "markdown",
   "metadata": {},
   "source": [
    "**Contract Specifications:**\n",
    "\n",
    "A single-name CDS contract is specified by trade date, maturity date and coupon. Relevant Market conventions for these are presented in this subsection:\n",
    "\n",
    "*Trade Date:*\n",
    "- The Trade date is the current business day. The trade date ist denoted as T. Thus T + n represents n days after the trade date.\n",
    "\n",
    "*Maturity Date:*\n",
    "- Maturity Date is also called end date or protection end date. Scheduled maturities are rolled to the next IMM date and unadjusted by the business day convention. For example, a 5-year trade dealt on June $13^{th}$ 2013 will terminate on June $20^{th}$ 2018, whereas a 5-year trade after June $20^{th}$ 2013 will terminate September $20^{th}$ 2018.\n",
    "\n",
    "\n",
    "*Coupon:*\n",
    "- *North America:* Predominant conventions 100/500 basis points. Investment grade reference entities trade at 100 basis points quoted in a conventional spread (quoted spread) whereas high-yield reference entities trade at 500 basis points quoted in a point upfront.\n",
    "- *Europe:* Standard fixed coupons are 25, 100, 500 and 1000 basis points. Investment grade names are quoted at 100 basis points and high-yield names are quoted at 500 basis points. 25 and 1000 basis points are used for tight or wide credits, respectively. Two additional coupons, 300 and 750 basis points, are also implemented.\n",
    "- *Australia, New Zealand and Emerging Markets:* CFixed coupons of 100 and 500 basis points. \n",
    "- *Japan:* Coupon of 25 basis points\n",
    "- Regardless of when the CDS trade is executed, a coupon is paid by the protection buyer on the first coupon date after the trade date, which is usually an adjusted IMM date. Previously the timing of the first coupon payment depends on when the trade occurs. If the trade date is before 30 days prior to the first IMM date, the premium is paid on the first accrual date for the number of days of effective protection during that period (“short stub” period). If the trade date is within 30 days before the first coupon date, no premium payment is made on the first accrual date (“long stub period\")."
   ]
  },
  {
   "cell_type": "markdown",
   "metadata": {},
   "source": [
    "**Assumptions:**\n",
    "\n",
    "*Cash Settlement (klären):*\n",
    "- Cash settlement amount is the upfront payment which the protection buyer makes to the protection seller when entering into the swap. The cash settlement date is set to be three business days after the trade date for a standard contract.\n",
    "\n",
    "*Protection Leg (klären):*\n",
    "- Protection leg is the contingent payment made by the protection seller to the protection buyer if a credit event occurs.\n",
    "- Protection effective date or step-in date is when protection starts and set to be T + 1.\n",
    "- Protection maturity date is the same as maturity date. Thus the number of days of protection is $(Protection_ {maturity date}) -  (Protection_ {effective date}) + 1$\n",
    "- Protection payoff can be expressed as $(Notional) * ( 100\\%-(Recovery rate))$\n",
    "\n",
    "*Premium Leg (klären):*\n",
    "- Premium leg is a series of payments made by the protection buyer to the protection seller - payments terminate at the maturity of contract or following a credit event\n",
    "- Payment frequency: most commonly, coupon is paid on a quarterly basis\n",
    "- Regardless of when the CDS trade is executed the first coupon payment date is earliest IMM date after T + 1 adjusted by the business day convention\n",
    "- Accrued payment is made in the event of a default\n",
    "- Accrual begin date, also called start date, is the latest adjusted (by the business day convention) IMM date prior to T+1, orif T+1 itself is an adjusted IMM date then it is T+1 - the last accrual date (maturity date) remains unadjusted.\n",
    "- Accrual periods or payment intervals are the interval between the previous accrual date inclusive to the next accrual date exclusive. For the last accrual period the accrual end date (maturity date) is included.\n",
    "- Payment amount at each accrual date is $(Notional) * (Year fraction of accrual period) * (Coupon)$\n",
    "\n",
    "*Recovery Rate:*\n",
    "- When a CDS contract is priced, the standard recovery rate is assumed to be 40% for senior and 20% for subordinated, whereas 25% is used in for both the cases in Emerging Markets. For an actual default a defaulted instrument is delivered to the protection seller in order to receive the face value of the defaulted debt, or an auction is conducted to establish a market price of the defaulted instrument.\n"
   ]
  },
  {
   "cell_type": "markdown",
   "metadata": {},
   "source": [
    "### Notation"
   ]
  },
  {
   "cell_type": "markdown",
   "metadata": {},
   "source": [
    "## Pricing of Credit Default Swaps"
   ]
  },
  {
   "cell_type": "markdown",
   "metadata": {},
   "source": [
    "### Dicounted Spread Model"
   ]
  },
  {
   "cell_type": "markdown",
   "metadata": {},
   "source": [
    "**Definition of Model and assumptions:**\n",
    "\n",
    "A CDS can also be split into two legs like the interest rate swap. The Premium Leg, in which the protection seller receives the CDS premium fixed at the time of the transaction in accordance with the payment frequency and the Protection Leg. The current value of the protection leg is simply given by the currently traded spread of the reference asset for the remaining term to maturity. The spread of the premium leg actually flows as cash flow, the cash flow of the protection leg is \"fictitious\", i.e. it does not flow. It could - e.g. if the protection buyer resells the protection - be converted into an actual cash flow.\n",
    "\n",
    "The current \"recoverability\" of the CDS is simply given by the present value of the difference between the original and current spread for the remaining term. When discounting the spread differences, it should be noted that this difference is terminated as soon as the credit event relating to the reference asset has occurred and is therefore itself subject to a default risk, which is why the present value is not measured on the risk-free (In practice, the swap curve is used), but on the risk-adequate (based on the credit rating of the reference asset) yield curve. The risk-adequate yield curve is calculated from the (par) swap curve plus the par-credit spread structure of the reference asset $r_i + s_i$ with $i = 1, ...,n$\n",
    "\n"
   ]
  },
  {
   "cell_type": "markdown",
   "metadata": {},
   "source": [
    "**Relevant Data:**\n",
    "\n",
    "In order to price the CDS with the Discounted-Spread-Model there are two types of data needed, market data and instrument specific data.\n",
    "\n",
    "*Market Data:*\\\n",
    "The risk-adequate interest (= zero) curve can be obtained from the risk-adequate yield curve by bootstrapping. It results from the (riskfree) swap-curve and the par-credit spread structure of the reference asset. The currently traded par-credit spread must be obtained of the quotes traded at the pertinent market.\n",
    "\n",
    "*Instrument data:*\\\n",
    "Additionally instrument specific data will be needed. The notional amount of the reference instrument, the decleared premium amount and the length of the single payment periods. "
   ]
  },
  {
   "cell_type": "markdown",
   "metadata": {},
   "source": [
    "**Notation:**\n",
    "\n",
    "$s_0=$ Par-Credit-Spread of the reference instrument upon entry in the CDS = declared insurance policy\n",
    "\n",
    "$s_T=$ Currently traded par-credit spread of the reference asset at remaining maturity T of the CDS\n",
    "\n",
    "$\\Delta_i=$ Length of the i-th period of the CDS\n",
    "\n",
    "$d_i^{RA}=$ the discount factor calculated from the risk-adjusted yield curve at time $t_i$\n",
    "\n",
    "$n=$ Number of outstanding payments until the end of the CDS"
   ]
  },
  {
   "cell_type": "markdown",
   "metadata": {},
   "source": [
    "**Model:**\n",
    "\n",
    "In order to receive the present value of a Single-Name CDS, this model discounts the difference between the premium spread and the currently traded par-credit spread with the risk-adjusted discount factor. \n",
    "\n",
    "$$PV_{CDS}=N*(s_0-s_T)*\\sum_{i=1}^n(\\Delta_id_i^{RA})$$\n"
   ]
  },
  {
   "cell_type": "markdown",
   "metadata": {},
   "source": [
    "**Modell Limitations:**\n",
    "\n",
    "This model doesn't take the possible recovery rate (RR) into account. "
   ]
  },
  {
   "cell_type": "markdown",
   "metadata": {},
   "source": [
    "**Distinctions for Single-Name and Index CDS**"
   ]
  },
  {
   "cell_type": "markdown",
   "metadata": {},
   "source": [
    "Tbd."
   ]
  },
  {
   "cell_type": "markdown",
   "metadata": {},
   "source": [
    "### Adjusted discounted Spread Model"
   ]
  },
  {
   "cell_type": "markdown",
   "metadata": {},
   "source": [
    "**Definition of Model and assumptions:**\n",
    "\n",
    "The procedure for the adjusted spreads model is almost completely analogous to the procedure for the discounted spreads model. The contruction of the risk-adjusted yield curve takes into account: The traded par-credit spread structure of the reference asset implies a traded probability of default and a traded recovery rate. If the credit event occurs, the reference asset is not completely lost, but the recovery rate is maintained at the nominal amount. In contrast, the payments and protection on the CDS are completely terminated. In the adjusted spreads model, the traded spread (implying the traded recovery rate) is adjusted to a synthetic spread with a recovery rate of zero; it is designated $s_i^{adj}$ and applies:\n",
    "\n",
    "\n",
    "$$s_i^{adj}=\\frac{s_i}{1-RR}$$\n",
    "\n",
    "\n",
    "The risk-adjusted yield curve used in the adjusted spreads model, consisting of the (par) swap curve plus the (adjusted) par-credit spread structure of the reference asset, is thus given by: $r_i+s_i^{adj}$ with $i=1, ...,n$. The risk-adjusted discount factors are calculated on the basis of this risk-adjusted yield curve.\n"
   ]
  },
  {
   "cell_type": "markdown",
   "metadata": {},
   "source": [
    "**Relevant Data:**\n",
    "\n",
    "In Addition to the relevant data used in the discounted-spread model the Recovery Rate (RR) of the reference unit will be needed to calculate the adjusted spread.\n"
   ]
  },
  {
   "cell_type": "markdown",
   "metadata": {},
   "source": [
    "**Model:**\n",
    "\n",
    "$$PV_{CDS}=N*(s_0-s_T)*\\sum_{i=1}^n(\\Delta_id_i^{RA})$$\n",
    "\n",
    "with\n",
    "\n",
    "$d_i^{RA}=$ the discount factor calculated from the risk-adjusted yield curve adjusted by the Recovery Rate at time $t_i$\n",
    "\n"
   ]
  },
  {
   "cell_type": "markdown",
   "metadata": {},
   "source": [
    "**Modell Limitations:**\n",
    "\n",
    "Tbd.\n"
   ]
  },
  {
   "cell_type": "markdown",
   "metadata": {},
   "source": [
    "**Distinctions for Single-Name and Index CDS:**\n",
    "\n",
    "tbd"
   ]
  },
  {
   "cell_type": "markdown",
   "metadata": {},
   "source": [
    "### ISDA Modell"
   ]
  },
  {
   "cell_type": "markdown",
   "metadata": {},
   "source": [
    "#### Definition of Model\n",
    "\n",
    "The ISDA CDS Standard Model is the evolution of the JP Morgan CDS pricing routines. As well as the CDS date logic the\n",
    "model makes the assumption that both the yield curve and credit curve are piecewise constant in their respective forward rates. This reduces the normally needed integrals and hence eliminates the need for numerical integration in the pricing. \n",
    "The ISDA model is quite general about the contact specification. It can be used to price CDSs with any maturity date (it knows nothing about IMM dates), start date and payment interval. So the contract specifics are inputs to the model - for\n",
    "standard contracts, this would be a maturity date on the relevant IMM date, a start date of the IMM date immediately before the trade date, and quarterly premium payments.\n",
    "\n",
    "\n",
    "- Model Assumptions\n",
    "- Modell Limitations\n",
    "- Distinctions for Single-Name and Index CDS\n"
   ]
  },
  {
   "cell_type": "markdown",
   "metadata": {},
   "source": [
    "**Notation:**\n",
    "\n",
    "$N=$ Notional amount of the reference instrument\n",
    "\n",
    "$RR=$ Recovery rate of the reference instrument\n",
    "\n",
    "$P(t)=$ Price of a zero-coupon bond (Risk-free curve)\n",
    "\n",
    "$t_v=$ valuation date \n",
    "\n",
    "$t_i=$ specific payment times \n",
    "\n",
    "$Q(t)=$ Probabilty of surviving derived by the hazard rates, which can be bootstrapped from the traded credit spreads\n",
    "\n",
    "$M=$ remaining payments \n",
    "\n",
    "$\\Delta_i=$ year fractions \n",
    "\n",
    "$C=$ fixed coupon payed by the protection buyer \n"
   ]
  },
  {
   "cell_type": "markdown",
   "metadata": {},
   "source": [
    "#### Modell (Approximation of ISDA Modell)\n",
    "\n",
    "**Protection Leg:**\n",
    "$$PV_{Protection Leg}= \\frac{N(1-RR)}{P(t_v)}\\sum_{i=1}^MP(t_i)[Q(t_{i-1})-Q(t_i)]$$"
   ]
  },
  {
   "cell_type": "markdown",
   "metadata": {},
   "source": [
    "**Premium Leg:**\n",
    "$$PV_{Premium Leg}=\\frac{N}{P(t_v)}\\sum_{i=1}^M\\Delta_iP(t_i)[\\frac{Q(t_{i_1})-Q(t_i)}{2}]$$"
   ]
  },
  {
   "cell_type": "markdown",
   "metadata": {},
   "source": [
    "**Accrued Interest:**\n",
    "$$PV_{accrued interes}=\\frac{NC}{2P(t_v)}\\sum_{i=1}^M\\Delta_iP(t_i)[Q(t_{i-1})-Q(t_i)]$$"
   ]
  },
  {
   "cell_type": "markdown",
   "metadata": {},
   "source": [
    "**Par Spread:**\n",
    "$$S_p(T)=\\frac{(1-RR)*\\sum_{i=1}^TP(t_i)(Q(t_{i-1})-Q(t_i))}{\\sum_{i=1}^T\\Delta_iP(t_i)\\frac{Q(t_{i-1}-Q(t_i)}{2}}$$"
   ]
  },
  {
   "cell_type": "markdown",
   "metadata": {},
   "source": [
    "#### Create necessary market data"
   ]
  },
  {
   "cell_type": "markdown",
   "metadata": {},
   "source": [
    "**Discount Curve:**\n",
    "\n",
    "The yield curve is constructed from money market rates (spot (L)ibor rates) with maturities out to 1Y (typically these are 1M, 2M, 3M, 6M, 9M and 12M), and swap rates with maturities out to 30Y (typically the swap rates are 2Y-10Y, 15Y, 20Y, 25Y and 30Y). The combined maturities (chronologically ordered) form the nodes of the yield curve.\n",
    "\n",
    "1. The yield curve has the following nodes:\n",
    "\n",
    "$$T^y=[t_1^y,t_2^y,...,t_i^y,...,t_{ny}^y]$$\n",
    "\n",
    "2. at the $i^th$ node the discount factor is given by:\n",
    "\n",
    "$$P_i=exp(-t_i^yR_i)$$\n",
    "\n",
    "$R_i=$ risk-free rate at point i\n",
    "\n",
    "3. The Interpolation for non-node times is built by:\n",
    "\n",
    "$$P(t)=exp(-[\\frac{t_i^yR_i(t_{i+1}^y-t)+t_{i+1}^yR_{i+1}(t-t_i^y)}{t_{i+1}^y-t_i}])$$\n",
    "\n"
   ]
  },
  {
   "cell_type": "code",
   "execution_count": 2,
   "metadata": {
    "code_folding": [
     0
    ]
   },
   "outputs": [],
   "source": [
    "#interest rate\n",
    "days_to_maturity=[90, 180, 270, 360, 450, 540, 630, 720] \n",
    "rates = [0.0095, 0.010, 0.0105, 0.011, 0.0115, 0.012, 0.0125, 0.013]\n",
    "\n",
    "def discount_factors(rates):\n",
    "    df_P=[]\n",
    "    for i in range(len(rates)):\n",
    "        df_P.append(math.exp(-rates[i]*days_to_maturity[i]/360))\n",
    "    return df_P\n",
    "\n",
    "df_P=discount_factors(rates)"
   ]
  },
  {
   "cell_type": "code",
   "execution_count": 3,
   "metadata": {
    "code_folding": [
     0
    ]
   },
   "outputs": [],
   "source": [
    "#interpolation\n",
    "def interpolation(days_to_maturity,t,curve):\n",
    "    for i in range (len(days_to_maturity)-1):\n",
    "        if t>=days_to_maturity[i] and t<=days_to_maturity[i+1]:\n",
    "            t_i=days_to_maturity[i]\n",
    "            t_i_1=days_to_maturity[i+1]\n",
    "            first_node=i\n",
    "            second_node=i+1\n",
    "    curve_i=curve[first_node]\n",
    "    curve_i_1=curve[second_node]\n",
    "    interpolate_value=math.exp(-((t_i/360*curve_i*(t_i_1/360-t/360)+t_i_1/360*curve_i_1*(t/360-t_i/360))/(t_i_1/360-t_i/360)))\n",
    "    return interpolate_value"
   ]
  },
  {
   "cell_type": "code",
   "execution_count": 27,
   "metadata": {},
   "outputs": [
    {
     "data": {
      "text/plain": [
       "<pyvacon.analytics.DayCounter; proxy of <Swig Object of type 'std::shared_ptr< DayCounter > *' at 0x00000293E42306F0> >"
      ]
     },
     "execution_count": 27,
     "metadata": {},
     "output_type": "execute_result"
    }
   ],
   "source": [
    "import pyvacon\n",
    "import pyvacon.tools.enums as enums\n",
    "#pyvacon.analytics.DiscountCurve\n",
    "\n",
    "#pyvacon.analytics.SurvivalCurve()\n",
    "\n",
    "#pyvacon.analytics.DatedCurve --> Recovery Curve\n",
    "\n",
    "#Daycounter, Holiday calender\n",
    "\n",
    "#Class Product Specifications\n",
    "#"
   ]
  },
  {
   "cell_type": "markdown",
   "metadata": {},
   "source": [
    "**Credit curve (spread/hazard rate):**\n",
    "\n",
    "Beschreibung wo die Credit curve herkommt!\n",
    "\n",
    "1. The credit curve has the following nodes:\n",
    "\n",
    "$$T^c=[t_1^c,t_2^c,...,t_i^c,...,t_{nc}^c]$$\n",
    "\n",
    "2. at the $i^th$ node the survival probality is given by:\n",
    "\n",
    "$$Q_i=exp(-t_i^c\\Lambda_i)$$\n",
    "\n",
    "with $\\Lambda_i=$ hazard rate at point i\n",
    "\n",
    "3. The Interpolation for non-node times is built by:\n",
    "\n",
    "$$Q(t)=exp(-[\\frac{t_i^c\\Lambda_i(t_{i+1}^c-t)+t_{i+1}^c\\Lambda_{i+1}(t-t_i^c)}{t_{i+1}^c-t_i}])$$"
   ]
  },
  {
   "cell_type": "code",
   "execution_count": 4,
   "metadata": {
    "code_folding": [
     0
    ]
   },
   "outputs": [
    {
     "name": "stdout",
     "output_type": "stream",
     "text": [
      "[0.9987507809245809, 0.9950124791926823, 0.9888130446112331, 0.9801986733067553, 0.9692332344763441, 0.9559974818331, 0.9405880633643421, 0.9231163463866358]\n"
     ]
    }
   ],
   "source": [
    "#credit curve (survival probability)\n",
    "hazard_rate=[0.005, 0.01, 0.015, 0.02, 0.025, 0.03, 0.035, 0.04]\n",
    "\n",
    "def survival_probabilites(hazard_rate):\n",
    "    Q = []\n",
    "    for i in range(len(hazard_rate)):\n",
    "        Q.append(math.exp(-hazard_rate[i]*days_to_maturity[i]/360))\n",
    "    return Q\n",
    "\n",
    "Q=survival_probabilites(hazard_rate)\n",
    "print(Q)"
   ]
  },
  {
   "cell_type": "markdown",
   "metadata": {},
   "source": [
    "#### Setup the specification"
   ]
  },
  {
   "cell_type": "markdown",
   "metadata": {},
   "source": [
    "**Instrument specifactions:**"
   ]
  },
  {
   "cell_type": "code",
   "execution_count": 5,
   "metadata": {
    "code_folding": [
     0
    ]
   },
   "outputs": [],
   "source": [
    "#Instrument Dates\n",
    "trade_date= dt.datetime(2020,1,1)\n",
    "maturity_years=2\n",
    "payment_cycle=3\n",
    "maturity_date= trade_date + dt.timedelta(days=maturity_years*365)\n",
    "N=1000000\n",
    "RR=0.4\n",
    "coupon = 0.012\n",
    "\n",
    "valuation_date= dt.datetime (2021,1,1)"
   ]
  },
  {
   "cell_type": "markdown",
   "metadata": {},
   "source": [
    "**Relevant time dates:**"
   ]
  },
  {
   "cell_type": "code",
   "execution_count": 6,
   "metadata": {
    "code_folding": [
     0
    ]
   },
   "outputs": [],
   "source": [
    "#calculate relevant time data\n",
    "\n",
    "#ACT/360 muss noch eingepflegt werden!\n",
    "\n",
    "#time fraction between payments\n",
    "Delta_i = 365/payment_cycle/365\n",
    "\n",
    "def payments_dates(maturity_years,payment_cycle,trade_date):\n",
    "    payments=int(maturity_years*12/payment_cycle)\n",
    "    payment_dates=[]\n",
    "    payment_days=[]\n",
    "    i=1\n",
    "    payment_date_temp=0\n",
    "    while i<=payments:\n",
    "        i=i+1\n",
    "        payment_date_temp=payment_date_temp+(payment_cycle*30)\n",
    "        payment_dates.append(trade_date+timedelta(days=payment_date_temp)) \n",
    "    return payment_dates\n",
    "\n",
    "def payment_days(maturity_years,payment_cycle,trade_date):    \n",
    "    payments=int(maturity_years*12/payment_cycle)\n",
    "    payment_dates=[]\n",
    "    payment_days=[]\n",
    "    i=1\n",
    "    payment_date_temp=0\n",
    "    while i<=payments:\n",
    "        i=i+1\n",
    "        payment_date_temp=payment_date_temp+(payment_cycle*30)\n",
    "        payment_days.append(payment_date_temp)   \n",
    "    return payment_days\n",
    "    \n",
    "payment_days_temp=payment_days(maturity_years,payment_cycle,trade_date)\n",
    "    \n",
    "def payments_left (valuation_date,trade_date,payment_days):\n",
    "    delta=valuation_date-trade_date\n",
    "    delta=delta.days\n",
    "    M = len([i for i in payment_days_temp if i > delta])\n",
    "    return M\n",
    "\n",
    "#print(payments_dates(maturity_years,payment_cycle,trade_date))\n",
    "#print(payment_days(maturity_years,payment_cycle,trade_date))\n",
    "M=payments_left (valuation_date,trade_date,payment_days)\n",
    "#print(M)"
   ]
  },
  {
   "cell_type": "markdown",
   "metadata": {},
   "source": [
    "#### Setup the pricing data"
   ]
  },
  {
   "cell_type": "markdown",
   "metadata": {},
   "source": [
    "**Protection Leg:**\n"
   ]
  },
  {
   "cell_type": "code",
   "execution_count": 7,
   "metadata": {
    "code_folding": [
     0
    ]
   },
   "outputs": [],
   "source": [
    "def pv_protection_leg(valuation_date, trade_date, Q, M, payment_days_temp, df_P):\n",
    "\n",
    "    temp=valuation_date-trade_date\n",
    "    temp=temp.days\n",
    "    #print(temp)\n",
    "    k=len(Q)-M\n",
    "    #print(k)\n",
    "    if k>=0 and k<len(Q) and payment_days_temp[k-1]==temp:\n",
    "        risk_adj_factor_protection=df_P[k]*(Q[k-1]-Q[k])\n",
    "        #print(risk_adj_factor_protection)\n",
    "    elif k==-1 and Q[k]==temp:\n",
    "        risk_adj_factor_protection=df_P[k]*(1-Q[k])\n",
    "        #print(risk_adj_factor_protection)\n",
    "\n",
    "    elif k==len(Q):\n",
    "        raise IOError ('Maturity reached!')\n",
    "    else:\n",
    "        Q_interpolate=interpolation(days_to_maturity,temp,hazard_rate)\n",
    "        P_interpolate=interpolation(days_to_maturity,temp,rates)\n",
    "        if k==-1:\n",
    "            risk_adj_factor_protection=P_interpolate*(1-Q_interpolate)\n",
    "        else:\n",
    "            risk_adj_factor_protection=P_interpolate*(Q[k-1]-Q_interpolate)\n",
    "        #print(risk_adj_factor_protection)\n",
    "    while k<len(Q)-1:\n",
    "        k=k+1\n",
    "        #print(k)\n",
    "        risk_adj_factor_protection=risk_adj_factor_protection+(df_P[k]*(Q[k-1]-Q[k]))\n",
    "        #print (risk_adj_factor_protection)\n",
    "    k=len(Q)-M\n",
    "    if payment_days_temp[k-1]==temp:\n",
    "        df_P_valuation=df_P[k-1]\n",
    "    else:\n",
    "        df_P_valuation=interpolation(days_to_maturity,temp,rates)\n",
    "    PV_protection=((N*(1-RR)/df_P_valuation)*risk_adj_factor_protection)\n",
    "    return PV_protection\n"
   ]
  },
  {
   "cell_type": "markdown",
   "metadata": {},
   "source": [
    "**Premium Leg:**"
   ]
  },
  {
   "cell_type": "code",
   "execution_count": 8,
   "metadata": {
    "code_folding": [
     0
    ]
   },
   "outputs": [],
   "source": [
    "def pv_premium_leg(valuation_date, trade_date, Q, M, payment_days_temp, df_P, N, Delta_i):\n",
    "\n",
    "    temp=valuation_date-trade_date\n",
    "    temp=temp.days\n",
    "    #print(temp)\n",
    "    k=len(Q)-M\n",
    "    #print(k)\n",
    "    if k>=0 and k<len(Q) and payment_days_temp[k-1]==temp:\n",
    "        risk_adj_factor_premium=Delta_i*df_P[k]*((Q[k-1]-Q[k])/2)\n",
    "        #print(risk_adj_factor_protection)\n",
    "    elif k==-1 and Q[k]==temp:\n",
    "        risk_adj_factor_premium=Delta_i*df_P[k]*((1-Q[k])/2)\n",
    "        #print(risk_adj_factor_protection)\n",
    "\n",
    "    elif k==len(Q):\n",
    "        raise IOError ('Maturity reached!')\n",
    "    else:\n",
    "        Q_interpolate=interpolation(days_to_maturity,temp,hazard_rate)\n",
    "        P_interpolate=interpolation(days_to_maturity,temp,rates)\n",
    "        if k==-1:\n",
    "            risk_adj_factor_premium=Delta_i*P_interpolate*((1-Q_interpolate)/2)\n",
    "        else:\n",
    "            risk_adj_factor_premium=Delta_i*P_interpolate*((Q[k-1]-Q_interpolate)/2)\n",
    "        #print(risk_adj_factor_protection)\n",
    "    while k<len(Q)-1:\n",
    "        k=k+1\n",
    "        #print(k)\n",
    "        risk_adj_factor_premium=risk_adj_factor_premium+Delta_i*(df_P[k]*((Q[k-1]-Q[k]))/2)\n",
    "        #print (risk_adj_factor_protection)\n",
    "    k=len(Q)-M\n",
    "    if payment_days_temp[k-1]==temp:\n",
    "        df_P_valuation=df_P[k-1]\n",
    "    else:\n",
    "        df_P_valuation=interpolation(days_to_maturity,temp,rates)\n",
    "    PV_premium=((N/df_P_valuation)*risk_adj_factor_premium)\n",
    "    return PV_premium"
   ]
  },
  {
   "cell_type": "markdown",
   "metadata": {},
   "source": [
    "**Accrued Interest:**"
   ]
  },
  {
   "cell_type": "code",
   "execution_count": 9,
   "metadata": {
    "code_folding": [
     0
    ]
   },
   "outputs": [],
   "source": [
    "def pv_accrued_interest(valuation_date, trade_date, Q, M, payment_days_temp, df_P, N, Delta_i, coupon):\n",
    "\n",
    "    temp=valuation_date-trade_date\n",
    "    temp=temp.days\n",
    "    #print(temp)\n",
    "    k=len(Q)-M\n",
    "    #print(k)\n",
    "    if k>=0 and k<len(Q) and payment_days_temp[k-1]==temp:\n",
    "        risk_adj_factor_accrued=Delta_i*df_P[k]*(Q[k-1]-Q[k])\n",
    "        #print(risk_adj_factor_protection)\n",
    "    elif k==-1 and Q[k]==temp:\n",
    "        risk_adj_factor_accrued=Delta_i*df_P[k]*(1-Q[k])\n",
    "        #print(risk_adj_factor_protection)\n",
    "\n",
    "    elif k==len(Q):\n",
    "        raise IOError ('Maturity reached!')\n",
    "    else:\n",
    "        Q_interpolate=interpolation(days_to_maturity,temp,hazard_rate)\n",
    "        P_interpolate=interpolation(days_to_maturity,temp,rates)\n",
    "        if k==-1:\n",
    "            risk_adj_factor_accrued=Delta_i*P_interpolate*(1-Q_interpolate)\n",
    "        else:\n",
    "            risk_adj_factor_accrued=Delta_i*P_interpolate*(Q[k-1]-Q_interpolate)\n",
    "        #print(risk_adj_factor_protection)\n",
    "    while k<len(Q)-1:\n",
    "        k=k+1\n",
    "        #print(k)\n",
    "        risk_adj_factor_accrued=risk_adj_factor_accrued+Delta_i*(df_P[k]*(Q[k-1]-Q[k]))\n",
    "        #print (risk_adj_factor_protection)\n",
    "    k=len(Q)-M\n",
    "    if payment_days_temp[k-1]==temp:\n",
    "        df_P_valuation=df_P[k-1]\n",
    "    else:\n",
    "        df_P_valuation=interpolation(days_to_maturity,temp,rates)\n",
    "    PV_premium=((N*coupon/df_P_valuation*2)*risk_adj_factor_accrued)\n",
    "    return PV_premium"
   ]
  },
  {
   "cell_type": "markdown",
   "metadata": {},
   "source": [
    "**Value of CDS:**"
   ]
  },
  {
   "cell_type": "code",
   "execution_count": 10,
   "metadata": {
    "code_folding": [
     0
    ]
   },
   "outputs": [],
   "source": [
    "def Value_CDS(protection, accrued_interest, premium):\n",
    "    PV_CDS=protection-accrued_interest-premium\n",
    "    return PV_CDS"
   ]
  },
  {
   "cell_type": "markdown",
   "metadata": {},
   "source": [
    "**Par-Spread:**"
   ]
  },
  {
   "cell_type": "code",
   "execution_count": 11,
   "metadata": {
    "code_folding": [
     0
    ]
   },
   "outputs": [],
   "source": [
    "def par_spread(pv_protection,pv_premium):\n",
    "    par_spread_i=pv_protection/pv_premium/100\n",
    "    return par_spread_i"
   ]
  },
  {
   "cell_type": "markdown",
   "metadata": {},
   "source": [
    "#### Pricing"
   ]
  },
  {
   "cell_type": "markdown",
   "metadata": {},
   "source": [
    "**Protection Leg**"
   ]
  },
  {
   "cell_type": "code",
   "execution_count": 12,
   "metadata": {
    "code_folding": [
     0
    ]
   },
   "outputs": [
    {
     "name": "stdout",
     "output_type": "stream",
     "text": [
      "27805.74353546138\n"
     ]
    }
   ],
   "source": [
    "#Calculate present value protection leg\n",
    "PV_protection=pv_protection_leg(valuation_date, trade_date, Q, M, payment_days_temp, df_P)\n",
    "print(PV_protection)"
   ]
  },
  {
   "cell_type": "markdown",
   "metadata": {},
   "source": [
    "**Premium Leg and Accrued Interest**"
   ]
  },
  {
   "cell_type": "code",
   "execution_count": 13,
   "metadata": {
    "code_folding": [
     0
    ],
    "scrolled": false
   },
   "outputs": [
    {
     "name": "stdout",
     "output_type": "stream",
     "text": [
      "370.7432471394851\n",
      "7723.817648739274\n"
     ]
    }
   ],
   "source": [
    "#Calculate present value premium leg and accrued interest\n",
    "PV_accrued_interest=pv_accrued_interest(valuation_date, trade_date, Q, M, payment_days_temp, df_P, N, Delta_i, coupon)\n",
    "PV_premium=pv_premium_leg(valuation_date, trade_date, Q, M, payment_days_temp, df_P, N, Delta_i)\n",
    "\n",
    "print(PV_accrued_interest)\n",
    "print(PV_premium)"
   ]
  },
  {
   "cell_type": "markdown",
   "metadata": {},
   "source": [
    "**Value of CDS**"
   ]
  },
  {
   "cell_type": "code",
   "execution_count": 14,
   "metadata": {
    "code_folding": [
     0
    ]
   },
   "outputs": [
    {
     "data": {
      "text/plain": [
       "19711.18263958262"
      ]
     },
     "execution_count": 14,
     "metadata": {},
     "output_type": "execute_result"
    }
   ],
   "source": [
    "#Calculate present value CDS\n",
    "Value_CDS(PV_protection, PV_accrued_interest, PV_premium)"
   ]
  },
  {
   "cell_type": "markdown",
   "metadata": {},
   "source": [
    "**Par-Spread:**"
   ]
  },
  {
   "cell_type": "code",
   "execution_count": 15,
   "metadata": {
    "code_folding": [
     0
    ]
   },
   "outputs": [
    {
     "data": {
      "text/plain": [
       "0.03599999999999999"
      ]
     },
     "execution_count": 15,
     "metadata": {},
     "output_type": "execute_result"
    }
   ],
   "source": [
    "#calculate par_spread\n",
    "par_spread(PV_protection,PV_premium)"
   ]
  },
  {
   "cell_type": "markdown",
   "metadata": {},
   "source": [
    "#### Plots"
   ]
  },
  {
   "cell_type": "markdown",
   "metadata": {},
   "source": [
    "# Bootstrapping Hazard Rates"
   ]
  },
  {
   "cell_type": "code",
   "execution_count": null,
   "metadata": {},
   "outputs": [],
   "source": []
  }
 ],
 "metadata": {
  "kernelspec": {
   "display_name": "Python 3",
   "language": "python",
   "name": "python3"
  },
  "language_info": {
   "codemirror_mode": {
    "name": "ipython",
    "version": 3
   },
   "file_extension": ".py",
   "mimetype": "text/x-python",
   "name": "python",
   "nbconvert_exporter": "python",
   "pygments_lexer": "ipython3",
   "version": "3.7.4"
  },
  "toc": {
   "base_numbering": 1,
   "nav_menu": {},
   "number_sections": true,
   "sideBar": true,
   "skip_h1_title": false,
   "title_cell": "Table of Contents",
   "title_sidebar": "Contents",
   "toc_cell": false,
   "toc_position": {},
   "toc_section_display": true,
   "toc_window_display": true
  }
 },
 "nbformat": 4,
 "nbformat_minor": 2
}

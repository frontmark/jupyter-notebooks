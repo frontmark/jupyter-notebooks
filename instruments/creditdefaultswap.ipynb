{
 "cells": [
  {
   "cell_type": "markdown",
   "metadata": {},
   "source": [
    "# Credit Default Swap"
   ]
  },
  {
   "cell_type": "markdown",
   "metadata": {},
   "source": [
    "## Import Libraries"
   ]
  },
  {
   "cell_type": "code",
   "execution_count": 1,
   "metadata": {
    "code_folding": []
   },
   "outputs": [],
   "source": [
    "#Libraries\n",
    "import math\n",
    "import datetime as dt\n",
    "import pandas as pd\n",
    "from datetime import timedelta\n",
    "import pyvacon.analytics as analytics\n",
    "import matplotlib.pyplot as plt\n",
    "import pyvacon.tools.converter as converter\n",
    "import pyvacon.tools.enums as enums\n",
    "import pyvacon.marketdata.plot as mkt_plot\n",
    "import numpy as np\n",
    "import dateutil.relativedelta as relativedelta"
   ]
  },
  {
   "cell_type": "markdown",
   "metadata": {},
   "source": [
    "## Introduction to Credit Defult Swap (CDS)"
   ]
  },
  {
   "cell_type": "markdown",
   "metadata": {},
   "source": [
    "A Credit default Swap can be designed as a Single-Name CDS or a Multi-Name CDS. The differences and further details on the functions of these special products will be described in the following subsections."
   ]
  },
  {
   "cell_type": "markdown",
   "metadata": {},
   "source": [
    "### Single-Name CDS"
   ]
  },
  {
   "cell_type": "markdown",
   "metadata": {},
   "source": [
    "A Single-Name Credit Default Swap (CDS) can be described as an insurance against the occurring credit event of a debt issuing entity (or the reference instrument). The reference instrument can be a referenced to a corporation or a sovereign state. The protection buyer makes regular payments (premium) for a specified period to the protection seller. In return the protection seller will send a payment to the protection buyer, if the credit event occurs. The premium payments end with the credit event and the contract cannot be cancelled before maturity but can be sold to a third party. "
   ]
  },
  {
   "cell_type": "markdown",
   "metadata": {},
   "source": [
    "![](CDS_function.png)"
   ]
  },
  {
   "cell_type": "markdown",
   "metadata": {},
   "source": [
    "**Settlement:**\n",
    "\n",
    "If the credit event occurs the settlement of the protection seller can be either physical or cash:\n",
    "\n",
    "*Physical settlement:* In a physical settlement the protection buyer delivers after the credit event the reference instrument or an asset of a basket. The protection buyer receives from the protection seller in return the notional. \n",
    "\n",
    "*Cash settlement:* If an cash settlement is contracted, the notional less current value of the reference instrument will be delivered."
   ]
  },
  {
   "cell_type": "markdown",
   "metadata": {},
   "source": [
    "**Credit Events:**\n",
    "\n",
    "The three most common credit events defined by the International Swaps and Derivatives Association (ISDA) are filing for bankruptcy, defaulting on payment, and restructuring debt (Source Investopedia):\n",
    "\n",
    "*Bankruptcy:*\n",
    "- Legal process and refers to the inability of an individual or organization to repay their outstanding debts. Generally, the debtor (or, less commonly, the creditor) files for bankruptcy. A bankrupt companys is also insolvent. \n",
    "\n",
    "*Payment default:*\n",
    "- This event refers to the inability of an individual or organization to pay their debts in a timely manner. Continual payment defaults could be a precursor to bankruptcy. Payment default and bankruptcy are often confused with one another: A bankruptcy tells your creditors that you will not be able to pay them in full; a payment default tells your creditors that you will not be able to pay when it is due.\n",
    "\n",
    "*Debt restructering:*\n",
    "- This event refers to a change in the terms of the debt, which causes the debt to be less favorable to debtholders. Common examples of debt restructuring include a decrease in the principal amount to be paid, a decline in the coupon rate, a postponement of payment obligations, a longer maturity time, or a change in the priority ranking of payment. "
   ]
  },
  {
   "cell_type": "markdown",
   "metadata": {},
   "source": [
    "### Index-CDS"
   ]
  },
  {
   "cell_type": "markdown",
   "metadata": {},
   "source": [
    "In a CDS-Index (e.g. iTRAXX) or Multi-Name CDS multiple single-name CDS are gathered together and bundled in a basket. These single-name CDS are commonly equally weighted in the Index. In a Pro-Rata-CDS on this basket a proportional risk assumption of the protection seller follows. If a reference asset in the portfolio defaults, the protection seller incurrs the loss in the amount of the corresponding portfolio share. \n",
    "\n",
    "**Example:**\n",
    "\n",
    "A portfolio consists of a basket of 100 equally weighted credit default swaps (weighting 1% each). An investor buys protection on this index with a nominal amount of €10 million at 50 basis points p.a. If a reference asset fails, €100,000 is settled (e.g. physical delivery). Accordingly, a pro-rata CDS for the 100 reference debtors offers protection in the amount of €100,000 each. After settlement, the contract continues to exist with a nominal value of €9,900,000. Further defaults will be settled according to the same scheme. The nominal value will be reduced accordingly."
   ]
  },
  {
   "cell_type": "markdown",
   "metadata": {},
   "source": [
    "## Trading of Credit Default Swaps and CDS markets"
   ]
  },
  {
   "cell_type": "markdown",
   "metadata": {},
   "source": [
    "**Single Name CDS:**\n",
    "\n",
    "Single-Name CDS do not require to be traded through a central counterparty. Nevertheless as measured by the notional amounts about 44% (in the end of 2017) of the single-name contracts are settled by a central counterparty. The uncleared contracts are still bilateral contracts between trader and customer. Therefore the full standardization is not yet completed. In comparison to 2008 the traded transaction volume has declined noteworthy.\n",
    "\n"
   ]
  },
  {
   "cell_type": "markdown",
   "metadata": {},
   "source": [
    "**Credit Default Swap Index :**\n",
    "\n",
    "The Credit Defaul Swap Index is also a tradable security and therefore a credit market derivative. A Index CDS  consists of a collection of single-name CDS. As measured by the notional amounts (in the end of 2017) 65% of the contracts are settled by a central counterparty. Furthermore in the european market as well as the american-market, Index CDS requiring clearing through a central counterparty, which means that the fraction should incline in the following years.  \n"
   ]
  },
  {
   "cell_type": "markdown",
   "metadata": {},
   "source": [
    "## Market Conventions"
   ]
  },
  {
   "cell_type": "markdown",
   "metadata": {},
   "source": [
    "The standardisation of credit derivatives has been led by the International Swaps and Derivatives Association, Inc. (ISDA) in order to gain market efficiency and reduce the potential for legal uncertainty. Over the past several years, driven by global contract changes and local convention changes, credit derivative contracts have become more standardised. These conventions can be subdivided in general conventions, contract specifications and further assumptions (Iwashita Yukinori, Conventions for Single-Name Credit Default Swaps, OpenGamma Quantitative Research): "
   ]
  },
  {
   "cell_type": "markdown",
   "metadata": {},
   "source": [
    "**General Conventions:**\n",
    "\n",
    "In this subsection general conventions that specify relevant dates and days for a single-name CDS contract are presented :\n",
    "\n",
    "*Business days*: \n",
    "- All computations are based on a business day calendar of weekdays only, i.e., weekends (Saturday and Sunday) are the only non-business days.\n",
    "\n",
    "*Business day conventions*: \n",
    "- When a specified date is not a business day. For single-name CDS the business day convention is following, i.e., the adjusted date is the first following day that is a business day\n",
    "\n",
    "*Daycount*: \n",
    "- Day count convention to define an accrual factor between two dates is ACT/360: \n",
    "$$accrual Factor = \\frac{Days(d_1,d_2)}{360}$$\n",
    "\n",
    "*IMM Dates*: \n",
    "- The maturity dates of CDS contacts are standardized to the IMM dates: March $20^{th}$, June $20^{th}$, September $20^{th}$ and December $20^{th}$"
   ]
  },
  {
   "cell_type": "markdown",
   "metadata": {},
   "source": [
    "**Contract Specifications:**\n",
    "\n",
    "A single-name CDS contract is specified by trade date, maturity date and coupon. Relevant Market conventions for these are presented in this subsection:\n",
    "\n",
    "*Trade Date:*\n",
    "- The Trade date is the current business day. The trade date ist denoted as T. Thus T + n represents n days after the trade date.\n",
    "\n",
    "*Maturity Date:*\n",
    "- Maturity Date is also called end date or protection end date. Scheduled maturities are rolled to the next IMM date and unadjusted by the business day convention. For example, a 5-year trade dealt on June $13^{th}$ 2013 will terminate on June $20^{th}$ 2018, whereas a 5-year trade after June $20^{th}$ 2013 will terminate September $20^{th}$ 2018.\n",
    "\n",
    "\n",
    "*Coupon:*\n",
    "- *North America:* Predominant conventions 100/500 basis points. Investment grade reference entities trade at 100 basis points quoted in a conventional spread (quoted spread) whereas high-yield reference entities trade at 500 basis points quoted in a point upfront.\n",
    "- *Europe:* Standard fixed coupons are 25/100/500/1000 basis points. Investment grade names are quoted at 100 basis points and high-yield names are quoted at 500 basis points. 25/1000 basis points are used for tight or wide credits, respectively. Two additional coupons, 300/750 basis points, are also implemented.\n",
    "- *Australia, New Zealand and Emerging Markets:* CFixed coupons of 100/500 basis points. \n",
    "- *Japan:* Coupon of 25 basis points\n",
    "- Regardless of when the CDS trade is executed, a coupon is paid by the protection buyer on the first coupon date after the trade date, which is usually an adjusted IMM date. Previously the timing of the first coupon payment depends on when the trade occurs. If the trade date is before 30 days prior to the first IMM date, the premium is paid on the first accrual date for the number of days of effective protection during that period (“short stub” period). If the trade date is within 30 days before the first coupon date, no premium payment is made on the first accrual date (“long stub period\")."
   ]
  },
  {
   "cell_type": "markdown",
   "metadata": {},
   "source": [
    "**Assumptions:**\n",
    "\n",
    "*Cash Settlement (klären):*\n",
    "- Cash settlement amount is the upfront payment which the protection buyer makes to the protection seller when entering into the swap. The cash settlement date is set to be three business days after the trade date for a standard contract.\n",
    "\n",
    "*Protection Leg (klären):*\n",
    "- Protection leg is the contingent payment made by the protection seller to the protection buyer if a credit event occurs.\n",
    "- Protection effective date or step-in date is when protection starts and set to be T + 1.\n",
    "- Protection maturity date is the same as maturity date. Thus the number of days of protection is $(Protection_ {maturity date}) -  (Protection_ {effective date}) + 1$\n",
    "- Protection payoff can be expressed as $(Notional) * ( 100\\%-(Recovery rate))$\n",
    "\n",
    "*Premium Leg (klären):*\n",
    "- Premium leg is a series of payments made by the protection buyer to the protection seller - payments terminate at the maturity of contract or following a credit event\n",
    "- Payment frequency: most commonly, coupon is paid on a quarterly basis\n",
    "- Regardless of when the CDS trade is executed the first coupon payment date is earliest IMM date after T + 1 adjusted by the business day convention\n",
    "- Accrued payment is made in the event of a default\n",
    "- Accrual begin date, also called start date, is the latest adjusted (by the business day convention) IMM date prior to T+1, orif T+1 itself is an adjusted IMM date then it is T+1 - the last accrual date (maturity date) remains unadjusted.\n",
    "- Accrual periods or payment intervals are the interval between the previous accrual date inclusive to the next accrual date exclusive. For the last accrual period the accrual end date (maturity date) is included.\n",
    "- Payment amount at each accrual date is $(Notional) * (Year fraction of accrual period) * (Coupon)$\n",
    "\n",
    "*Recovery Rate:*\n",
    "- When a CDS contract is priced, the standard recovery rate is assumed to be 40% for senior and 20% for subordinated, whereas 25% is used in for both the cases in Emerging Markets. For an actual default a defaulted instrument is delivered to the protection seller in order to receive the face value of the defaulted debt, or an auction is conducted to establish a market price of the defaulted instrument.\n"
   ]
  },
  {
   "cell_type": "markdown",
   "metadata": {},
   "source": [
    "**Dates:**\n",
    "- Trade Date: Date when the trade is executed\n",
    "- Step-in or Protection Effective Date: Usually T+1. This is the date from which the issuer is deemed to be risky.\n",
    "- Valuation Date: Date that future expected cash flows are discounted to - If this is the trade date, then we will report the market value, if it is the Cash-settle Date then we will report the cash settlement)\n",
    "- Cash-settle Date: Date that any upfront fees are paid\n",
    "- Start or Accrual Begin Date: This is when the CDS nominally starts in terms of premium payments, i.e. the number of days in the first period (and thus the amount of the first premium payment) is counted from this date. It is also known as the prior coupon date and is the previous IMM date before the trade date.\n",
    "- End or Maturity Date: This is when the contract expires and protection ends - any default after this date does not trigger a payment. This is an (unadjusted) IMM date.\n",
    "- The Payment Dates. These are the dates when premium payments are made. They are IMM dates adjusted to the next good business day.\n",
    "- The Accrual Start and End Dates: These are dates used to calculate the exact value of each premium payment. Apart from the final accrual end date, these are adjusted IMM dates."
   ]
  },
  {
   "cell_type": "markdown",
   "metadata": {},
   "source": [
    "## Pricing of Credit Default Swaps"
   ]
  },
  {
   "cell_type": "markdown",
   "metadata": {},
   "source": [
    "### ISDA Model"
   ]
  },
  {
   "cell_type": "markdown",
   "metadata": {},
   "source": [
    "#### Definition of Model\n",
    "\n",
    "The ISDA CDS Standard Model is the evolution of the JP Morgan CDS pricing routines. As well as the CDS date logic the\n",
    "model makes the assumption that both the yield curve and credit curve are piecewise constant in their respective forward rates. This reduces the normally needed integrals and hence eliminates the need for numerical integration in the pricing. \n",
    "The ISDA model is quite general about the contact specification. It can be used to price CDSs with any maturity date (it knows nothing about IMM dates), start date and payment interval. So the contract specifics are inputs to the model - for\n",
    "standard contracts, this would be a maturity date on the relevant IMM date, a start date of the IMM date immediately before the trade date, and quarterly premium payments.\n",
    "\n",
    "\n"
   ]
  },
  {
   "cell_type": "markdown",
   "metadata": {},
   "source": [
    "**Notation:**\n",
    "\n",
    "$N=$ Notional amount of the reference instrument\n",
    "\n",
    "$RR=$ Recovery rate of the reference instrument\n",
    "\n",
    "$P(t)=$ Price of a zero-coupon bond (Risk-free curve)\n",
    "\n",
    "$t_v=$ valuation date (Date that future expected cash flows are discounted to - If this is the trade date, then we will report the market value, if it is the Cash-settle Date (date that any upfront fees are paid) then we will report the cash settlement)\n",
    "\n",
    "$t_i=$ specific payment times \n",
    "\n",
    "$Q(t)=$ Probabilty of surviving derived by the hazard rates, which can be bootstrapped from the traded credit spreads\n",
    "\n",
    "$M=$ remaining payments \n",
    "\n",
    "$\\Delta_i=$ year fractions (between payment dates)\n",
    "\n",
    "$C=$ fixed coupon payed by the protection buyer \n"
   ]
  },
  {
   "cell_type": "markdown",
   "metadata": {},
   "source": [
    "#### Model (Approximation of ISDA Model)\n",
    "\n",
    "**Protection Leg:**\n",
    "\n",
    "The protection leg in the ISDA-Model describes the present value of the payable amount, if a default occurs before maturity. Therefore this leg consists of a random payment of $N*(1-RR(\\tau)$ at the default time $\\tau$ if this is before the expiry and nothing otherwise (OpenGamma, ...)\n",
    "\n",
    "The present value of the protection leg can be approximated by the following formula:\n",
    "\n",
    "$$PV_{Protection Leg}= \\frac{N(1-RR)}{P(t_v)}\\sum_{i=1}^MP(t_i)[Q(t_{i-1})-Q(t_i)]$$"
   ]
  },
  {
   "cell_type": "markdown",
   "metadata": {},
   "source": [
    "**Premium Leg:**\n",
    "\n",
    "The premium leg consists of a regular payment (e.g. quarterly) up to expiry of the CDS and therefore the protection. It also depends on the underlying survival curve of the reference instrument and the risk-free interest rate.\n",
    "\n",
    "The present value of the premium leg can be approximated by the following formula:\n",
    "\n",
    "$$PV_{Premium Leg}=\\frac{NC}{P(t_v)}\\sum_{i=1}^M\\Delta_iP(t_i)[\\frac{Q(t_{i-1})+Q(t_i)}{2}]$$"
   ]
  },
  {
   "cell_type": "markdown",
   "metadata": {},
   "source": [
    "**Accrued Interest:**\n",
    "\n",
    "The second part of the premium leg consists of a single payment of accrued payment if the credit event occurs.\n",
    "\n",
    "The present value of the acrrued interest can be approximated by the following formula:\n",
    "\n",
    "$$PV_{accrued interes}=\\frac{NC}{2P(t_v)}\\sum_{i=1}^M\\Delta_iP(t_i)[Q(t_{i-1})-Q(t_i)]$$"
   ]
  },
  {
   "cell_type": "markdown",
   "metadata": {},
   "source": [
    "**Par Spread:**\n",
    "\n",
    "The par spread is the spread that makes the value of a credit default swap with same maturity (and of course with all other details except the coupon identical) zero at present. Therefore the par spread discribes the coupon which would make the two legs of the CDS (protection und premium leg) equal.\n",
    "\n",
    "The par spread can be approximated by the following formula:\n",
    "\n",
    "$$S_p(T)=\\frac{(1-RR)*\\sum_{i=1}^TP(t_i)(Q(t_{i-1})-Q(t_i))}{\\sum_{i=1}^T\\Delta_iP(t_i)\\frac{Q(t_{i-1}+Q(t_i)}{2}}$$"
   ]
  },
  {
   "cell_type": "markdown",
   "metadata": {},
   "source": [
    "#### Create market data\n",
    "\n",
    "In order to price a CDS some market data is used an has to be constructed. Firstly, the yield curve and the following discount curve, and secondly, the hazard rate curve and the following survival rates. "
   ]
  },
  {
   "cell_type": "markdown",
   "metadata": {},
   "source": [
    "**Discount Curve:**\n",
    "\n",
    "The yield curve is constructed from money market rates (spot (L)ibor rates) with maturities out to 1Y (typically these are 1M, 2M, 3M, 6M, 9M and 12M), and swap rates with maturities out to 30Y (typically the swap rates are 2Y-10Y, 15Y, 20Y, 25Y and 30Y). The combined maturities (chronologically ordered) form the nodes of the yield curve.\n",
    "\n",
    "1. The yield curve has the following nodes:\n",
    "\n",
    "$$T^y=[t_1^y,t_2^y,...,t_i^y,...,t_{ny}^y]$$\n",
    "\n",
    "2. at the $i^th$ node the discount factor is given by:\n",
    "\n",
    "$$P_i=exp(-t_i^yR_i)$$\n",
    "\n",
    "$R_i=$ risk-free rate at point i\n",
    "\n",
    "3. The Interpolation for non-node times is built by:\n",
    "\n",
    "$$P(t)=exp(-[\\frac{t_i^yR_i(t_{i+1}^y-t)+t_{i+1}^yR_{i+1}(t-t_i^y)}{t_{i+1}^y-t_i}])$$\n",
    "\n"
   ]
  },
  {
   "cell_type": "code",
   "execution_count": 2,
   "metadata": {
    "code_folding": [
     0
    ]
   },
   "outputs": [],
   "source": [
    "#yield curve\n",
    "object_id = \"CDS_interest_rate\"\n",
    "refdate = dt.datetime(2020,1,1)\n",
    "days_to_maturity = [1, 180, 360, 720, 3*360, 4*360, 5*360, 10*360]\n",
    "dates = converter.createPTimeList(refdate, days_to_maturity)\n",
    "dates = converter.create_datetime_list(dates)\n",
    "rates = [-0.0065, 0.0003, 0.0059, 0.0086, 0.0101, 0.012, 0.016, 0.02]\n",
    "dsc_fac = analytics.vectorDouble()\n",
    "for d in range(len(days_to_maturity)):\n",
    "        dsc_fac.append(math.exp(-rates[d]*days_to_maturity[d]/360))\n",
    "        \n",
    "dc = analytics.DiscountCurve(object_id, refdate, dates, dsc_fac, enums.DayCounter.ACT360, enums.InterpolationType.LINEAR, enums.ExtrapolationType.LINEAR)\n"
   ]
  },
  {
   "cell_type": "markdown",
   "metadata": {},
   "source": [
    "**Credit curve (spread/hazard rate):**\n",
    "\n",
    "Beschreibung wo die Credit curve herkommt!\n",
    "\n",
    "1. The credit curve has the following nodes:\n",
    "\n",
    "$$T^c=[t_1^c,t_2^c,...,t_i^c,...,t_{nc}^c]$$\n",
    "\n",
    "2. at the $i^th$ node the survival probality is given by:\n",
    "\n",
    "$$Q_i=exp(-t_i^c\\Lambda_i)$$\n",
    "\n",
    "with $\\Lambda_i=$ hazard rate at point i\n",
    "\n",
    "3. The Interpolation for non-node times is built by:\n",
    "\n",
    "$$Q(t)=exp(-[\\frac{t_i^c\\Lambda_i(t_{i+1}^c-t)+t_{i+1}^c\\Lambda_{i+1}(t-t_i^c)}{t_{i+1}^c-t_i}])$$"
   ]
  },
  {
   "cell_type": "code",
   "execution_count": 40,
   "metadata": {
    "code_folding": [
     0
    ]
   },
   "outputs": [],
   "source": [
    "#survival curve\n",
    "object_id_survival =\"CDS_survival_rate\"\n",
    "refdate = dt.datetime(2020,1,1)\n",
    "days_to_maturity = [1, 180, 360, 720, 3*360, 4*360, 5*360, 10*360]\n",
    "dates = converter.createPTimeList(refdate, days_to_maturity)\n",
    "dates = converter.create_datetime_list(dates)\n",
    "hazard_rates = [0, 0.01, 0.015, 0.02, 0.025, 0.03, 0.035, 0.05]\n",
    "        \n",
    "dc_survival = analytics.SurvivalCurve(object_id_survival,refdate,dates,hazard_rates)"
   ]
  },
  {
   "cell_type": "markdown",
   "metadata": {},
   "source": [
    "#### Setup the specification"
   ]
  },
  {
   "cell_type": "markdown",
   "metadata": {},
   "source": [
    "**Instrument specifactions:**"
   ]
  },
  {
   "cell_type": "code",
   "execution_count": 244,
   "metadata": {
    "code_folding": []
   },
   "outputs": [],
   "source": [
    "#Instrument Dates (Instrument Class Specification)\n",
    "trade_date= dt.datetime(2020,1,1)\n",
    "maturity_date= dt.datetime(2020,4,1)\n",
    "payment_cycle=3\n",
    "N=1000000\n",
    "RR=0.4\n",
    "coupon = 0.014\n",
    "\n",
    "ref_date = refdate"
   ]
  },
  {
   "cell_type": "markdown",
   "metadata": {},
   "source": [
    "**Roll out payment dates:**"
   ]
  },
  {
   "cell_type": "code",
   "execution_count": 270,
   "metadata": {
    "code_folding": [
     0
    ]
   },
   "outputs": [],
   "source": [
    "def payment_dates(trade_date,maturity_date,payment_cycle):\n",
    "    date=maturity_date-relativedelta.relativedelta(months=+payment_cycle)\n",
    "    payment_dates=[maturity_date]\n",
    "    if maturity_date<date:\n",
    "        payment_dates.append(maturity_date)\n",
    "    while date>trade_date:\n",
    "        payment_dates.append(date)\n",
    "        date=date-relativedelta.relativedelta(months=+payment_cycle)\n",
    "    return sorted(payment_dates)\n"
   ]
  },
  {
   "cell_type": "markdown",
   "metadata": {},
   "source": [
    "#### Setup the pricing data"
   ]
  },
  {
   "cell_type": "markdown",
   "metadata": {},
   "source": [
    "**Protection Leg:**\n"
   ]
  },
  {
   "cell_type": "code",
   "execution_count": 271,
   "metadata": {
    "code_folding": [
     0
    ]
   },
   "outputs": [],
   "source": [
    "def pv_protection_leg(ref_date, trade_date, dc, payment_dates, dc_survival, maturity_date, RR):\n",
    "    M=len([x for x in payment_dates if x>ref_date])\n",
    "    k=len(payment_dates)-M\n",
    "    dc_valuation_date=dc.value(ref_date, maturity_date)\n",
    "    risk_adj_factor_protection=0\n",
    "    if len(payment_dates_ins)==1:\n",
    "        risk_adj_factor_protection=(risk_adj_factor_protection\n",
    "                                        +dc.value(trade_date,payment_dates_ins[k])\n",
    "                                        *(1\n",
    "                                        -dc_survival.value(trade_date,payment_dates_ins[k])))    \n",
    "    while k<len(payment_dates)-1:\n",
    "        k=k+1\n",
    "        risk_adj_factor_protection=(risk_adj_factor_protection\n",
    "                                    +dc.value(trade_date,payment_dates[k-1])\n",
    "                                    *(dc_survival.value(trade_date,payment_dates[k-1])\n",
    "                                    -dc_survival.value(trade_date,payment_dates[k])))\n",
    "    PV_protection=((N*(1-RR)/dc_valuation_date)*risk_adj_factor_protection)\n",
    "    return PV_protection"
   ]
  },
  {
   "cell_type": "markdown",
   "metadata": {},
   "source": [
    "**Premium Leg:**"
   ]
  },
  {
   "cell_type": "code",
   "execution_count": 272,
   "metadata": {
    "code_folding": [
     0
    ]
   },
   "outputs": [],
   "source": [
    "def pv_premium_leg(ref_date, trade_date, dc, dc_survival, payment_dates, N,coupon ):\n",
    "    M=len([x for x in payment_dates if x>ref_date])  \n",
    "    k=len(payment_dates)-M\n",
    "    dc_valuation_date=dc.value(ref_date, maturity_date)\n",
    "    risk_adj_factor_premium=0\n",
    "    if len(payment_dates_ins)==1:\n",
    "         risk_adj_factor_premium=(risk_adj_factor_premium+((payment_dates_ins[k] - trade_date).days)/360\n",
    "                                     *(dc.value(trade_date,payment_dates_ins[k])\n",
    "                                    *(1\n",
    "                                    +dc_survival.value(trade_date,payment_dates_ins[k]))/2))\n",
    "    while k<len(payment_dates)-1:\n",
    "        k=k+1\n",
    "        risk_adj_factor_premium=(risk_adj_factor_premium+((payment_dates_ins[k] - payment_dates_ins[k-1]).days)/360\n",
    "                                 *(dc.value(trade_date,payment_dates[k-1])\n",
    "                                *((dc_survival.value(trade_date,payment_dates[k-1])\n",
    "                                +dc_survival.value(trade_date,payment_dates[k]))/2)))\n",
    "    PV_premium=((N*coupon/dc_valuation_date)*risk_adj_factor_premium)\n",
    "    return PV_premium "
   ]
  },
  {
   "cell_type": "markdown",
   "metadata": {},
   "source": [
    "**Accrued Interest:**"
   ]
  },
  {
   "cell_type": "code",
   "execution_count": 273,
   "metadata": {
    "code_folding": [
     0
    ]
   },
   "outputs": [],
   "source": [
    "def pv_accrued_interest (ref_date, trade_date, dc_survival, payment_dates, dc, N, coupon):\n",
    "    M=len([x for x in payment_dates if x>ref_date])        \n",
    "    k=len(payment_dates)-M\n",
    "    dc_valuation_date=dc.value(ref_date, maturity_date)\n",
    "    risk_adj_factor_accrued=0\n",
    "    if len(payment_dates_ins)==1:\n",
    "         risk_adj_factor_accrued=(risk_adj_factor_accrued+((payment_dates_ins[k] - trade_date).days)/360\n",
    "                                    *(dc.value(trade_date,payment_dates_ins[k])\n",
    "                                    *((1)\n",
    "                                    -dc_survival.value(trade_date,payment_dates_ins[k]))))\n",
    "    while k<len(payment_dates)-1:\n",
    "        k=k+1\n",
    "        risk_adj_factor_accrued=(risk_adj_factor_accrued+((payment_dates_ins[k] - payment_dates_ins[k-1]).days)/360\n",
    "                                *(dc.value(trade_date,payment_dates[k-1])\n",
    "                                *(dc_survival.value(trade_date,payment_dates[k-1])\n",
    "                                -dc_survival.value(trade_date,payment_dates[k]))))\n",
    "    PV_accrued=((N*coupon/dc_valuation_date*2)*risk_adj_factor_accrued)\n",
    "    return PV_accrued "
   ]
  },
  {
   "cell_type": "markdown",
   "metadata": {},
   "source": [
    "**Value of CDS:**"
   ]
  },
  {
   "cell_type": "code",
   "execution_count": 274,
   "metadata": {
    "code_folding": [
     0
    ]
   },
   "outputs": [],
   "source": [
    "def Value_CDS(protection, accrued_interest, premium):\n",
    "    PV_CDS=protection-accrued_interest-premium\n",
    "    return PV_CDS"
   ]
  },
  {
   "cell_type": "markdown",
   "metadata": {},
   "source": [
    "**Par-Spread:**"
   ]
  },
  {
   "cell_type": "code",
   "execution_count": 275,
   "metadata": {
    "code_folding": [
     0
    ]
   },
   "outputs": [],
   "source": [
    "def par_spread(ref_date, trade_date, dc_survival, payment_dates_ins, dc):\n",
    "    M=len([x for x in payment_dates_ins if x>ref_date])\n",
    "    k=len(payment_dates_ins)-M\n",
    "    maturity_date=payment_dates_ins[-1]\n",
    "    dc_valuation_date=dc.value(ref_date, maturity_date)\n",
    "    risk_adj_factor_accrued=0\n",
    "    risk_adj_factor_premium=0\n",
    "    risk_adj_factor_protection=0\n",
    "    if len(payment_dates_ins)==1:\n",
    "        risk_adj_factor_accrued=(risk_adj_factor_accrued+((payment_dates_ins[k] - trade_date).days)/360\n",
    "                                    *(dc.value(trade_date,payment_dates_ins[k])\n",
    "                                    *(1)\n",
    "                                    -dc_survival.value(trade_date,payment_dates_ins[k])))\n",
    "        risk_adj_factor_premium=(risk_adj_factor_premium+((payment_dates_ins[k] - trade_date).days)/360\n",
    "                                     *(dc.value(trade_date,payment_dates_ins[k])\n",
    "                                    *(1)\n",
    "                                    +dc_survival.value(trade_date,payment_dates_ins[k]))/2)\n",
    "        risk_adj_factor_protection=(risk_adj_factor_protection\n",
    "                                        +dc.value(trade_date,payment_dates_ins[k])\n",
    "                                        *(1)\n",
    "                                        -dc_survival.value(trade_date,payment_dates_ins[k]))\n",
    "    else:\n",
    "        while k<len(payment_dates_ins)-1:\n",
    "            k=k+1\n",
    "            risk_adj_factor_accrued=(risk_adj_factor_accrued+((payment_dates_ins[k] - payment_dates_ins[k-1]).days)/360\n",
    "                                        *(dc.value(trade_date,payment_dates_ins[k-1])\n",
    "                                        *(dc_survival.value(trade_date,payment_dates_ins[k-1])\n",
    "                                        -dc_survival.value(trade_date,payment_dates_ins[k]))))\n",
    "            risk_adj_factor_premium=(risk_adj_factor_premium+((payment_dates_ins[k] - payment_dates_ins[k-1]).days)/360\n",
    "                                         *(dc.value(trade_date,payment_dates_ins[k-1])\n",
    "                                        *((dc_survival.value(trade_date,payment_dates_ins[k-1])\n",
    "                                        +dc_survival.value(trade_date,payment_dates_ins[k]))/2)))\n",
    "            risk_adj_factor_protection=(risk_adj_factor_protection\n",
    "                                            +dc.value(trade_date,payment_dates_ins[k-1])\n",
    "                                            *(dc_survival.value(trade_date,payment_dates_ins[k-1])\n",
    "                                            -dc_survival.value(trade_date,payment_dates_ins[k])))\n",
    "    PV_accrued=((1/dc_valuation_date*2)*risk_adj_factor_accrued)\n",
    "    PV_premium=(1/dc_valuation_date)*risk_adj_factor_premium\n",
    "    PV_protection=(((1-RR)/dc_valuation_date)*risk_adj_factor_protection)\n",
    "    \n",
    "    par_spread_i=(PV_protection)/((PV_premium+PV_accrued))\n",
    "    return par_spread_i"
   ]
  },
  {
   "cell_type": "markdown",
   "metadata": {},
   "source": [
    "#### Pricing"
   ]
  },
  {
   "cell_type": "markdown",
   "metadata": {},
   "source": [
    "**Present Value Protection Leg**"
   ]
  },
  {
   "cell_type": "code",
   "execution_count": 276,
   "metadata": {
    "code_folding": [
     0
    ]
   },
   "outputs": [
    {
     "name": "stdout",
     "output_type": "stream",
     "text": [
      "492.9758442829145\n"
     ]
    }
   ],
   "source": [
    "#Calculate present value protection leg\n",
    "PV_protection=pv_protection_leg(ref_date, trade_date, dc, payment_dates_ins, dc_survival, maturity_date,RR)\n",
    "print(PV_protection)"
   ]
  },
  {
   "cell_type": "markdown",
   "metadata": {},
   "source": [
    "**Present Value Premium Leg and Accrued Interest**"
   ]
  },
  {
   "cell_type": "code",
   "execution_count": 277,
   "metadata": {
    "code_folding": [
     0
    ],
    "scrolled": false
   },
   "outputs": [
    {
     "name": "stdout",
     "output_type": "stream",
     "text": [
      "1.9810325594331935\n",
      "1205.1282081653972\n"
     ]
    }
   ],
   "source": [
    "#Calculate present value premium leg and accrued interest\n",
    "print(pv_accrued_interest (ref_date, trade_date, dc_survival, payment_dates_ins, dc, N, coupon))\n",
    "print(pv_premium_leg(ref_date, trade_date, dc, dc_survival, payment_dates_ins, N,coupon ))\n"
   ]
  },
  {
   "cell_type": "markdown",
   "metadata": {},
   "source": [
    "**Present Value of CDS**"
   ]
  },
  {
   "cell_type": "code",
   "execution_count": 278,
   "metadata": {
    "code_folding": [
     0
    ]
   },
   "outputs": [
    {
     "data": {
      "text/plain": [
       "-714.1333964419158"
      ]
     },
     "execution_count": 278,
     "metadata": {},
     "output_type": "execute_result"
    }
   ],
   "source": [
    "#Calculate present value CDS\n",
    "Value_CDS(pv_protection_leg(ref_date, trade_date, dc, payment_dates_ins, dc_survival, maturity_date,RR),\n",
    "          pv_accrued_interest (ref_date, trade_date, dc_survival, payment_dates_ins, dc, N, coupon), \n",
    "          pv_premium_leg(ref_date, trade_date, dc, dc_survival, payment_dates_ins, N,coupon ))"
   ]
  },
  {
   "cell_type": "markdown",
   "metadata": {},
   "source": [
    "**Par-Spread**"
   ]
  },
  {
   "cell_type": "code",
   "execution_count": 279,
   "metadata": {
    "code_folding": [
     0
    ],
    "scrolled": true
   },
   "outputs": [
    {
     "data": {
      "text/plain": [
       "0.005647310389186015"
      ]
     },
     "execution_count": 279,
     "metadata": {},
     "output_type": "execute_result"
    }
   ],
   "source": [
    "#calculate par_spread\n",
    "par_spread(ref_date, trade_date, dc_survival, payment_dates_ins, dc)"
   ]
  },
  {
   "cell_type": "markdown",
   "metadata": {},
   "source": [
    "#### Plots"
   ]
  },
  {
   "cell_type": "code",
   "execution_count": null,
   "metadata": {},
   "outputs": [],
   "source": []
  },
  {
   "cell_type": "code",
   "execution_count": 280,
   "metadata": {},
   "outputs": [],
   "source": [
    "#wie wirken sich verschiedene Coupons auf den Wert des CDS aus --> Verbindung zwischen Hazard Rate und Spread grafisch darstellen\n",
    "#Auswirkungen von verschiedenen Recovery Rates?"
   ]
  },
  {
   "cell_type": "markdown",
   "metadata": {},
   "source": [
    "# Bootstrapping Hazard Rates"
   ]
  },
  {
   "cell_type": "code",
   "execution_count": 296,
   "metadata": {
    "code_folding": [
     0
    ],
    "scrolled": true
   },
   "outputs": [
    {
     "name": "stdout",
     "output_type": "stream",
     "text": [
      "[1, 2, 3, 4, 5, 6, 7, 8, 9, 10, 11, 12, 24, 36, 48, 60]\n"
     ]
    }
   ],
   "source": [
    "#Define CDS with different maturities for Bootstrapping\n",
    "\n",
    "maturities_CDS = []\n",
    "maturities_CDS.extend( (np.arange(11)+1) ) # 1 to 11 months\n",
    "maturities_CDS.extend((np.arange(5)+1)*12) # 1 to 10 years\n",
    "print(maturities_CDS)\n",
    "\n",
    "ref_date=dt.datetime(2020,1,1)\n",
    "maturity_dates=[]\n",
    "date=ref_date+relativedelta.relativedelta(month=1)\n",
    "for i in range (len(maturities_CDS)):\n",
    "    if maturities_CDS[i]>12:\n",
    "        date=ref_date+relativedelta.relativedelta(years=(maturities_CDS[i]/12))\n",
    "        maturity_dates.append(date)\n",
    "    elif maturities_CDS[i]<=12:\n",
    "        date=ref_date+relativedelta.relativedelta(month=maturities_CDS[i])\n",
    "        maturity_dates.append(date)\n",
    "    \n",
    "maturity_dates_sorted=sorted(maturity_dates)\n",
    "\n",
    "payment_dates_bootstrapp=[]\n",
    "for i  in range(len(maturity_dates_sorted)):\n",
    "    payment_dates_bootstrapp.append(payment_dates(ref_date,maturity_dates_sorted[i],3))\n",
    "payment_dates_bootstrapp=sorted(payment_dates_bootstrapp, key=lambda x: x[-1])\n",
    "del payment_dates_bootstrapp[0]\n",
    "#print(payment_dates_bootstrapp)\n"
   ]
  },
  {
   "cell_type": "code",
   "execution_count": 300,
   "metadata": {
    "code_folding": [
     0
    ]
   },
   "outputs": [],
   "source": [
    "#Bootstrapping Functionality\n",
    "from typing import List\n",
    "import scipy.optimize\n",
    "\n",
    "\n",
    "refdate = dt.datetime(2020,1,1)\n",
    "trade_date = refdate \n",
    "\n",
    "mkt_par_spread=[0.00655]\n",
    "for i in range(len(payment_dates_bootstrapp)-1):\n",
    "    mkt_par_spread.append(mkt_par_spread[i]*1.03)\n",
    "#print(mkt_par_spread)\n",
    "\n",
    "\n",
    "def create_survival(refdate, dates: List[dt.datetime], hazard_rates: List[float]):\n",
    "    return analytics.SurvivalCurve('survival_curve', refdate, dates, hazard_rates)\n",
    "    \n",
    "def calibration_error(x, mkt_par_spread, ref_date, trade_date, payment_dates, dc, dates, hazard_rates):\n",
    "    hazard_rates[-1] = x\n",
    "    dc_surv = create_survival(ref_date, dates, hazard_rates)\n",
    "    return  mkt_par_spread - par_spread(ref_date, trade_date, dc_surv, payment_dates, dc)\n",
    "\n",
    "\n",
    "def calibrate_hazard_rate(payment_dates_bootstrapp, ref_date,mkt_par_spread, trade_date, dc):\n",
    "    #sort payment_dates by [-1]\n",
    "    sc_dates=[ref_date]\n",
    "    hazard_rates=[0.0]\n",
    "    for i in range(len(payment_dates_bootstrapp)):\n",
    "        payment_dates_iter = payment_dates_bootstrapp[i]\n",
    "        mkt_par_spread_iter = mkt_par_spread[i]\n",
    "        sc_dates.append(payment_dates_iter[-1])\n",
    "        hazard_rates.append(hazard_rates[-1])\n",
    "        sol=scipy.optimize.root_scalar(calibration_error,args=(mkt_par_spread_iter, ref_date, trade_date, \n",
    "                         payment_dates_iter, dc, sc_dates, hazard_rates),method='brentq',bracket=[0.0,1.0])\n",
    "        hazard_rates[-1] = sol.root\n",
    "        \n",
    "    return create_survival(ref_date, sc_dates, hazard_rates)\n",
    "\n",
    "survival_curve=calibrate_hazard_rate(payment_dates_bootstrapp, ref_date,mkt_par_spread, trade_date, dc)\n",
    "\n",
    "\n",
    "\n",
    "survival_curve_bootstrap=[survival_curve.value(refdate,refdate)]\n",
    "\n",
    "for i in range(len(payment_dates_bootstrapp)):\n",
    "    survival_curve_bootstrap.append(survival_curve.value(refdate,payment_dates_bootstrapp[i][-1]))\n",
    "#print(survival_curve_bootstrap)"
   ]
  },
  {
   "cell_type": "code",
   "execution_count": 301,
   "metadata": {
    "code_folding": [
     0
    ],
    "scrolled": false
   },
   "outputs": [
    {
     "data": {
      "application/vnd.plotly.v1+json": {
       "config": {
        "plotlyServerURL": "https://plot.ly"
       },
       "data": [
        {
         "line": {
          "shape": "linear"
         },
         "type": "scatter",
         "x": [
          1,
          2,
          3,
          4,
          5,
          6,
          7,
          8,
          9,
          10,
          11,
          12,
          24,
          36,
          48,
          60
         ],
         "y": [
          0,
          0.00571155167468409,
          0.007673650621416975,
          0.009033677860955757,
          0.009484933927878778,
          0.010156439526760059,
          0.010681429511439808,
          0.011379899948354408,
          0.011772163551246238,
          0.012110195532877004,
          0.012956956734186866,
          0.013215990198091339,
          0.015046257057605483,
          0.015616469814709641,
          0.01615981411910713,
          0.01671888073677645
         ]
        }
       ],
       "layout": {
        "template": {
         "data": {
          "bar": [
           {
            "error_x": {
             "color": "#2a3f5f"
            },
            "error_y": {
             "color": "#2a3f5f"
            },
            "marker": {
             "line": {
              "color": "#E5ECF6",
              "width": 0.5
             }
            },
            "type": "bar"
           }
          ],
          "barpolar": [
           {
            "marker": {
             "line": {
              "color": "#E5ECF6",
              "width": 0.5
             }
            },
            "type": "barpolar"
           }
          ],
          "carpet": [
           {
            "aaxis": {
             "endlinecolor": "#2a3f5f",
             "gridcolor": "white",
             "linecolor": "white",
             "minorgridcolor": "white",
             "startlinecolor": "#2a3f5f"
            },
            "baxis": {
             "endlinecolor": "#2a3f5f",
             "gridcolor": "white",
             "linecolor": "white",
             "minorgridcolor": "white",
             "startlinecolor": "#2a3f5f"
            },
            "type": "carpet"
           }
          ],
          "choropleth": [
           {
            "colorbar": {
             "outlinewidth": 0,
             "ticks": ""
            },
            "type": "choropleth"
           }
          ],
          "contour": [
           {
            "colorbar": {
             "outlinewidth": 0,
             "ticks": ""
            },
            "colorscale": [
             [
              0,
              "#0d0887"
             ],
             [
              0.1111111111111111,
              "#46039f"
             ],
             [
              0.2222222222222222,
              "#7201a8"
             ],
             [
              0.3333333333333333,
              "#9c179e"
             ],
             [
              0.4444444444444444,
              "#bd3786"
             ],
             [
              0.5555555555555556,
              "#d8576b"
             ],
             [
              0.6666666666666666,
              "#ed7953"
             ],
             [
              0.7777777777777778,
              "#fb9f3a"
             ],
             [
              0.8888888888888888,
              "#fdca26"
             ],
             [
              1,
              "#f0f921"
             ]
            ],
            "type": "contour"
           }
          ],
          "contourcarpet": [
           {
            "colorbar": {
             "outlinewidth": 0,
             "ticks": ""
            },
            "type": "contourcarpet"
           }
          ],
          "heatmap": [
           {
            "colorbar": {
             "outlinewidth": 0,
             "ticks": ""
            },
            "colorscale": [
             [
              0,
              "#0d0887"
             ],
             [
              0.1111111111111111,
              "#46039f"
             ],
             [
              0.2222222222222222,
              "#7201a8"
             ],
             [
              0.3333333333333333,
              "#9c179e"
             ],
             [
              0.4444444444444444,
              "#bd3786"
             ],
             [
              0.5555555555555556,
              "#d8576b"
             ],
             [
              0.6666666666666666,
              "#ed7953"
             ],
             [
              0.7777777777777778,
              "#fb9f3a"
             ],
             [
              0.8888888888888888,
              "#fdca26"
             ],
             [
              1,
              "#f0f921"
             ]
            ],
            "type": "heatmap"
           }
          ],
          "heatmapgl": [
           {
            "colorbar": {
             "outlinewidth": 0,
             "ticks": ""
            },
            "colorscale": [
             [
              0,
              "#0d0887"
             ],
             [
              0.1111111111111111,
              "#46039f"
             ],
             [
              0.2222222222222222,
              "#7201a8"
             ],
             [
              0.3333333333333333,
              "#9c179e"
             ],
             [
              0.4444444444444444,
              "#bd3786"
             ],
             [
              0.5555555555555556,
              "#d8576b"
             ],
             [
              0.6666666666666666,
              "#ed7953"
             ],
             [
              0.7777777777777778,
              "#fb9f3a"
             ],
             [
              0.8888888888888888,
              "#fdca26"
             ],
             [
              1,
              "#f0f921"
             ]
            ],
            "type": "heatmapgl"
           }
          ],
          "histogram": [
           {
            "marker": {
             "colorbar": {
              "outlinewidth": 0,
              "ticks": ""
             }
            },
            "type": "histogram"
           }
          ],
          "histogram2d": [
           {
            "colorbar": {
             "outlinewidth": 0,
             "ticks": ""
            },
            "colorscale": [
             [
              0,
              "#0d0887"
             ],
             [
              0.1111111111111111,
              "#46039f"
             ],
             [
              0.2222222222222222,
              "#7201a8"
             ],
             [
              0.3333333333333333,
              "#9c179e"
             ],
             [
              0.4444444444444444,
              "#bd3786"
             ],
             [
              0.5555555555555556,
              "#d8576b"
             ],
             [
              0.6666666666666666,
              "#ed7953"
             ],
             [
              0.7777777777777778,
              "#fb9f3a"
             ],
             [
              0.8888888888888888,
              "#fdca26"
             ],
             [
              1,
              "#f0f921"
             ]
            ],
            "type": "histogram2d"
           }
          ],
          "histogram2dcontour": [
           {
            "colorbar": {
             "outlinewidth": 0,
             "ticks": ""
            },
            "colorscale": [
             [
              0,
              "#0d0887"
             ],
             [
              0.1111111111111111,
              "#46039f"
             ],
             [
              0.2222222222222222,
              "#7201a8"
             ],
             [
              0.3333333333333333,
              "#9c179e"
             ],
             [
              0.4444444444444444,
              "#bd3786"
             ],
             [
              0.5555555555555556,
              "#d8576b"
             ],
             [
              0.6666666666666666,
              "#ed7953"
             ],
             [
              0.7777777777777778,
              "#fb9f3a"
             ],
             [
              0.8888888888888888,
              "#fdca26"
             ],
             [
              1,
              "#f0f921"
             ]
            ],
            "type": "histogram2dcontour"
           }
          ],
          "mesh3d": [
           {
            "colorbar": {
             "outlinewidth": 0,
             "ticks": ""
            },
            "type": "mesh3d"
           }
          ],
          "parcoords": [
           {
            "line": {
             "colorbar": {
              "outlinewidth": 0,
              "ticks": ""
             }
            },
            "type": "parcoords"
           }
          ],
          "pie": [
           {
            "automargin": true,
            "type": "pie"
           }
          ],
          "scatter": [
           {
            "marker": {
             "colorbar": {
              "outlinewidth": 0,
              "ticks": ""
             }
            },
            "type": "scatter"
           }
          ],
          "scatter3d": [
           {
            "line": {
             "colorbar": {
              "outlinewidth": 0,
              "ticks": ""
             }
            },
            "marker": {
             "colorbar": {
              "outlinewidth": 0,
              "ticks": ""
             }
            },
            "type": "scatter3d"
           }
          ],
          "scattercarpet": [
           {
            "marker": {
             "colorbar": {
              "outlinewidth": 0,
              "ticks": ""
             }
            },
            "type": "scattercarpet"
           }
          ],
          "scattergeo": [
           {
            "marker": {
             "colorbar": {
              "outlinewidth": 0,
              "ticks": ""
             }
            },
            "type": "scattergeo"
           }
          ],
          "scattergl": [
           {
            "marker": {
             "colorbar": {
              "outlinewidth": 0,
              "ticks": ""
             }
            },
            "type": "scattergl"
           }
          ],
          "scattermapbox": [
           {
            "marker": {
             "colorbar": {
              "outlinewidth": 0,
              "ticks": ""
             }
            },
            "type": "scattermapbox"
           }
          ],
          "scatterpolar": [
           {
            "marker": {
             "colorbar": {
              "outlinewidth": 0,
              "ticks": ""
             }
            },
            "type": "scatterpolar"
           }
          ],
          "scatterpolargl": [
           {
            "marker": {
             "colorbar": {
              "outlinewidth": 0,
              "ticks": ""
             }
            },
            "type": "scatterpolargl"
           }
          ],
          "scatterternary": [
           {
            "marker": {
             "colorbar": {
              "outlinewidth": 0,
              "ticks": ""
             }
            },
            "type": "scatterternary"
           }
          ],
          "surface": [
           {
            "colorbar": {
             "outlinewidth": 0,
             "ticks": ""
            },
            "colorscale": [
             [
              0,
              "#0d0887"
             ],
             [
              0.1111111111111111,
              "#46039f"
             ],
             [
              0.2222222222222222,
              "#7201a8"
             ],
             [
              0.3333333333333333,
              "#9c179e"
             ],
             [
              0.4444444444444444,
              "#bd3786"
             ],
             [
              0.5555555555555556,
              "#d8576b"
             ],
             [
              0.6666666666666666,
              "#ed7953"
             ],
             [
              0.7777777777777778,
              "#fb9f3a"
             ],
             [
              0.8888888888888888,
              "#fdca26"
             ],
             [
              1,
              "#f0f921"
             ]
            ],
            "type": "surface"
           }
          ],
          "table": [
           {
            "cells": {
             "fill": {
              "color": "#EBF0F8"
             },
             "line": {
              "color": "white"
             }
            },
            "header": {
             "fill": {
              "color": "#C8D4E3"
             },
             "line": {
              "color": "white"
             }
            },
            "type": "table"
           }
          ]
         },
         "layout": {
          "annotationdefaults": {
           "arrowcolor": "#2a3f5f",
           "arrowhead": 0,
           "arrowwidth": 1
          },
          "coloraxis": {
           "colorbar": {
            "outlinewidth": 0,
            "ticks": ""
           }
          },
          "colorscale": {
           "diverging": [
            [
             0,
             "#8e0152"
            ],
            [
             0.1,
             "#c51b7d"
            ],
            [
             0.2,
             "#de77ae"
            ],
            [
             0.3,
             "#f1b6da"
            ],
            [
             0.4,
             "#fde0ef"
            ],
            [
             0.5,
             "#f7f7f7"
            ],
            [
             0.6,
             "#e6f5d0"
            ],
            [
             0.7,
             "#b8e186"
            ],
            [
             0.8,
             "#7fbc41"
            ],
            [
             0.9,
             "#4d9221"
            ],
            [
             1,
             "#276419"
            ]
           ],
           "sequential": [
            [
             0,
             "#0d0887"
            ],
            [
             0.1111111111111111,
             "#46039f"
            ],
            [
             0.2222222222222222,
             "#7201a8"
            ],
            [
             0.3333333333333333,
             "#9c179e"
            ],
            [
             0.4444444444444444,
             "#bd3786"
            ],
            [
             0.5555555555555556,
             "#d8576b"
            ],
            [
             0.6666666666666666,
             "#ed7953"
            ],
            [
             0.7777777777777778,
             "#fb9f3a"
            ],
            [
             0.8888888888888888,
             "#fdca26"
            ],
            [
             1,
             "#f0f921"
            ]
           ],
           "sequentialminus": [
            [
             0,
             "#0d0887"
            ],
            [
             0.1111111111111111,
             "#46039f"
            ],
            [
             0.2222222222222222,
             "#7201a8"
            ],
            [
             0.3333333333333333,
             "#9c179e"
            ],
            [
             0.4444444444444444,
             "#bd3786"
            ],
            [
             0.5555555555555556,
             "#d8576b"
            ],
            [
             0.6666666666666666,
             "#ed7953"
            ],
            [
             0.7777777777777778,
             "#fb9f3a"
            ],
            [
             0.8888888888888888,
             "#fdca26"
            ],
            [
             1,
             "#f0f921"
            ]
           ]
          },
          "colorway": [
           "#636efa",
           "#EF553B",
           "#00cc96",
           "#ab63fa",
           "#FFA15A",
           "#19d3f3",
           "#FF6692",
           "#B6E880",
           "#FF97FF",
           "#FECB52"
          ],
          "font": {
           "color": "#2a3f5f"
          },
          "geo": {
           "bgcolor": "white",
           "lakecolor": "white",
           "landcolor": "#E5ECF6",
           "showlakes": true,
           "showland": true,
           "subunitcolor": "white"
          },
          "hoverlabel": {
           "align": "left"
          },
          "hovermode": "closest",
          "mapbox": {
           "style": "light"
          },
          "paper_bgcolor": "white",
          "plot_bgcolor": "#E5ECF6",
          "polar": {
           "angularaxis": {
            "gridcolor": "white",
            "linecolor": "white",
            "ticks": ""
           },
           "bgcolor": "#E5ECF6",
           "radialaxis": {
            "gridcolor": "white",
            "linecolor": "white",
            "ticks": ""
           }
          },
          "scene": {
           "xaxis": {
            "backgroundcolor": "#E5ECF6",
            "gridcolor": "white",
            "gridwidth": 2,
            "linecolor": "white",
            "showbackground": true,
            "ticks": "",
            "zerolinecolor": "white"
           },
           "yaxis": {
            "backgroundcolor": "#E5ECF6",
            "gridcolor": "white",
            "gridwidth": 2,
            "linecolor": "white",
            "showbackground": true,
            "ticks": "",
            "zerolinecolor": "white"
           },
           "zaxis": {
            "backgroundcolor": "#E5ECF6",
            "gridcolor": "white",
            "gridwidth": 2,
            "linecolor": "white",
            "showbackground": true,
            "ticks": "",
            "zerolinecolor": "white"
           }
          },
          "shapedefaults": {
           "line": {
            "color": "#2a3f5f"
           }
          },
          "ternary": {
           "aaxis": {
            "gridcolor": "white",
            "linecolor": "white",
            "ticks": ""
           },
           "baxis": {
            "gridcolor": "white",
            "linecolor": "white",
            "ticks": ""
           },
           "bgcolor": "#E5ECF6",
           "caxis": {
            "gridcolor": "white",
            "linecolor": "white",
            "ticks": ""
           }
          },
          "title": {
           "x": 0.05
          },
          "xaxis": {
           "automargin": true,
           "gridcolor": "white",
           "linecolor": "white",
           "ticks": "",
           "title": {
            "standoff": 15
           },
           "zerolinecolor": "white",
           "zerolinewidth": 2
          },
          "yaxis": {
           "automargin": true,
           "gridcolor": "white",
           "linecolor": "white",
           "ticks": "",
           "title": {
            "standoff": 15
           },
           "zerolinecolor": "white",
           "zerolinewidth": 2
          }
         }
        },
        "title": {
         "text": "Hazard Rates Bootstrapped"
        },
        "xaxis": {
         "title": {
          "text": "Maturity (in years)"
         }
        },
        "yaxis": {
         "title": {
          "text": "Hazarad Rate (in percentage)"
         }
        }
       }
      },
      "text/html": [
       "<div>\n",
       "        \n",
       "        \n",
       "            <div id=\"582f8fc5-11fc-4626-9331-ef76f9d80cd3\" class=\"plotly-graph-div\" style=\"height:525px; width:100%;\"></div>\n",
       "            <script type=\"text/javascript\">\n",
       "                require([\"plotly\"], function(Plotly) {\n",
       "                    window.PLOTLYENV=window.PLOTLYENV || {};\n",
       "                    \n",
       "                if (document.getElementById(\"582f8fc5-11fc-4626-9331-ef76f9d80cd3\")) {\n",
       "                    Plotly.newPlot(\n",
       "                        '582f8fc5-11fc-4626-9331-ef76f9d80cd3',\n",
       "                        [{\"line\": {\"shape\": \"linear\"}, \"type\": \"scatter\", \"x\": [1, 2, 3, 4, 5, 6, 7, 8, 9, 10, 11, 12, 24, 36, 48, 60], \"y\": [-0.0, 0.00571155167468409, 0.007673650621416975, 0.009033677860955757, 0.009484933927878778, 0.010156439526760059, 0.010681429511439808, 0.011379899948354408, 0.011772163551246238, 0.012110195532877004, 0.012956956734186866, 0.013215990198091339, 0.015046257057605483, 0.015616469814709641, 0.01615981411910713, 0.01671888073677645]}],\n",
       "                        {\"template\": {\"data\": {\"bar\": [{\"error_x\": {\"color\": \"#2a3f5f\"}, \"error_y\": {\"color\": \"#2a3f5f\"}, \"marker\": {\"line\": {\"color\": \"#E5ECF6\", \"width\": 0.5}}, \"type\": \"bar\"}], \"barpolar\": [{\"marker\": {\"line\": {\"color\": \"#E5ECF6\", \"width\": 0.5}}, \"type\": \"barpolar\"}], \"carpet\": [{\"aaxis\": {\"endlinecolor\": \"#2a3f5f\", \"gridcolor\": \"white\", \"linecolor\": \"white\", \"minorgridcolor\": \"white\", \"startlinecolor\": \"#2a3f5f\"}, \"baxis\": {\"endlinecolor\": \"#2a3f5f\", \"gridcolor\": \"white\", \"linecolor\": \"white\", \"minorgridcolor\": \"white\", \"startlinecolor\": \"#2a3f5f\"}, \"type\": \"carpet\"}], \"choropleth\": [{\"colorbar\": {\"outlinewidth\": 0, \"ticks\": \"\"}, \"type\": \"choropleth\"}], \"contour\": [{\"colorbar\": {\"outlinewidth\": 0, \"ticks\": \"\"}, \"colorscale\": [[0.0, \"#0d0887\"], [0.1111111111111111, \"#46039f\"], [0.2222222222222222, \"#7201a8\"], [0.3333333333333333, \"#9c179e\"], [0.4444444444444444, \"#bd3786\"], [0.5555555555555556, \"#d8576b\"], [0.6666666666666666, \"#ed7953\"], [0.7777777777777778, \"#fb9f3a\"], [0.8888888888888888, \"#fdca26\"], [1.0, \"#f0f921\"]], \"type\": \"contour\"}], \"contourcarpet\": [{\"colorbar\": {\"outlinewidth\": 0, \"ticks\": \"\"}, \"type\": \"contourcarpet\"}], \"heatmap\": [{\"colorbar\": {\"outlinewidth\": 0, \"ticks\": \"\"}, \"colorscale\": [[0.0, \"#0d0887\"], [0.1111111111111111, \"#46039f\"], [0.2222222222222222, \"#7201a8\"], [0.3333333333333333, \"#9c179e\"], [0.4444444444444444, \"#bd3786\"], [0.5555555555555556, \"#d8576b\"], [0.6666666666666666, \"#ed7953\"], [0.7777777777777778, \"#fb9f3a\"], [0.8888888888888888, \"#fdca26\"], [1.0, \"#f0f921\"]], \"type\": \"heatmap\"}], \"heatmapgl\": [{\"colorbar\": {\"outlinewidth\": 0, \"ticks\": \"\"}, \"colorscale\": [[0.0, \"#0d0887\"], [0.1111111111111111, \"#46039f\"], [0.2222222222222222, \"#7201a8\"], [0.3333333333333333, \"#9c179e\"], [0.4444444444444444, \"#bd3786\"], [0.5555555555555556, \"#d8576b\"], [0.6666666666666666, \"#ed7953\"], [0.7777777777777778, \"#fb9f3a\"], [0.8888888888888888, \"#fdca26\"], [1.0, \"#f0f921\"]], \"type\": \"heatmapgl\"}], \"histogram\": [{\"marker\": {\"colorbar\": {\"outlinewidth\": 0, \"ticks\": \"\"}}, \"type\": \"histogram\"}], \"histogram2d\": [{\"colorbar\": {\"outlinewidth\": 0, \"ticks\": \"\"}, \"colorscale\": [[0.0, \"#0d0887\"], [0.1111111111111111, \"#46039f\"], [0.2222222222222222, \"#7201a8\"], [0.3333333333333333, \"#9c179e\"], [0.4444444444444444, \"#bd3786\"], [0.5555555555555556, \"#d8576b\"], [0.6666666666666666, \"#ed7953\"], [0.7777777777777778, \"#fb9f3a\"], [0.8888888888888888, \"#fdca26\"], [1.0, \"#f0f921\"]], \"type\": \"histogram2d\"}], \"histogram2dcontour\": [{\"colorbar\": {\"outlinewidth\": 0, \"ticks\": \"\"}, \"colorscale\": [[0.0, \"#0d0887\"], [0.1111111111111111, \"#46039f\"], [0.2222222222222222, \"#7201a8\"], [0.3333333333333333, \"#9c179e\"], [0.4444444444444444, \"#bd3786\"], [0.5555555555555556, \"#d8576b\"], [0.6666666666666666, \"#ed7953\"], [0.7777777777777778, \"#fb9f3a\"], [0.8888888888888888, \"#fdca26\"], [1.0, \"#f0f921\"]], \"type\": \"histogram2dcontour\"}], \"mesh3d\": [{\"colorbar\": {\"outlinewidth\": 0, \"ticks\": \"\"}, \"type\": \"mesh3d\"}], \"parcoords\": [{\"line\": {\"colorbar\": {\"outlinewidth\": 0, \"ticks\": \"\"}}, \"type\": \"parcoords\"}], \"pie\": [{\"automargin\": true, \"type\": \"pie\"}], \"scatter\": [{\"marker\": {\"colorbar\": {\"outlinewidth\": 0, \"ticks\": \"\"}}, \"type\": \"scatter\"}], \"scatter3d\": [{\"line\": {\"colorbar\": {\"outlinewidth\": 0, \"ticks\": \"\"}}, \"marker\": {\"colorbar\": {\"outlinewidth\": 0, \"ticks\": \"\"}}, \"type\": \"scatter3d\"}], \"scattercarpet\": [{\"marker\": {\"colorbar\": {\"outlinewidth\": 0, \"ticks\": \"\"}}, \"type\": \"scattercarpet\"}], \"scattergeo\": [{\"marker\": {\"colorbar\": {\"outlinewidth\": 0, \"ticks\": \"\"}}, \"type\": \"scattergeo\"}], \"scattergl\": [{\"marker\": {\"colorbar\": {\"outlinewidth\": 0, \"ticks\": \"\"}}, \"type\": \"scattergl\"}], \"scattermapbox\": [{\"marker\": {\"colorbar\": {\"outlinewidth\": 0, \"ticks\": \"\"}}, \"type\": \"scattermapbox\"}], \"scatterpolar\": [{\"marker\": {\"colorbar\": {\"outlinewidth\": 0, \"ticks\": \"\"}}, \"type\": \"scatterpolar\"}], \"scatterpolargl\": [{\"marker\": {\"colorbar\": {\"outlinewidth\": 0, \"ticks\": \"\"}}, \"type\": \"scatterpolargl\"}], \"scatterternary\": [{\"marker\": {\"colorbar\": {\"outlinewidth\": 0, \"ticks\": \"\"}}, \"type\": \"scatterternary\"}], \"surface\": [{\"colorbar\": {\"outlinewidth\": 0, \"ticks\": \"\"}, \"colorscale\": [[0.0, \"#0d0887\"], [0.1111111111111111, \"#46039f\"], [0.2222222222222222, \"#7201a8\"], [0.3333333333333333, \"#9c179e\"], [0.4444444444444444, \"#bd3786\"], [0.5555555555555556, \"#d8576b\"], [0.6666666666666666, \"#ed7953\"], [0.7777777777777778, \"#fb9f3a\"], [0.8888888888888888, \"#fdca26\"], [1.0, \"#f0f921\"]], \"type\": \"surface\"}], \"table\": [{\"cells\": {\"fill\": {\"color\": \"#EBF0F8\"}, \"line\": {\"color\": \"white\"}}, \"header\": {\"fill\": {\"color\": \"#C8D4E3\"}, \"line\": {\"color\": \"white\"}}, \"type\": \"table\"}]}, \"layout\": {\"annotationdefaults\": {\"arrowcolor\": \"#2a3f5f\", \"arrowhead\": 0, \"arrowwidth\": 1}, \"coloraxis\": {\"colorbar\": {\"outlinewidth\": 0, \"ticks\": \"\"}}, \"colorscale\": {\"diverging\": [[0, \"#8e0152\"], [0.1, \"#c51b7d\"], [0.2, \"#de77ae\"], [0.3, \"#f1b6da\"], [0.4, \"#fde0ef\"], [0.5, \"#f7f7f7\"], [0.6, \"#e6f5d0\"], [0.7, \"#b8e186\"], [0.8, \"#7fbc41\"], [0.9, \"#4d9221\"], [1, \"#276419\"]], \"sequential\": [[0.0, \"#0d0887\"], [0.1111111111111111, \"#46039f\"], [0.2222222222222222, \"#7201a8\"], [0.3333333333333333, \"#9c179e\"], [0.4444444444444444, \"#bd3786\"], [0.5555555555555556, \"#d8576b\"], [0.6666666666666666, \"#ed7953\"], [0.7777777777777778, \"#fb9f3a\"], [0.8888888888888888, \"#fdca26\"], [1.0, \"#f0f921\"]], \"sequentialminus\": [[0.0, \"#0d0887\"], [0.1111111111111111, \"#46039f\"], [0.2222222222222222, \"#7201a8\"], [0.3333333333333333, \"#9c179e\"], [0.4444444444444444, \"#bd3786\"], [0.5555555555555556, \"#d8576b\"], [0.6666666666666666, \"#ed7953\"], [0.7777777777777778, \"#fb9f3a\"], [0.8888888888888888, \"#fdca26\"], [1.0, \"#f0f921\"]]}, \"colorway\": [\"#636efa\", \"#EF553B\", \"#00cc96\", \"#ab63fa\", \"#FFA15A\", \"#19d3f3\", \"#FF6692\", \"#B6E880\", \"#FF97FF\", \"#FECB52\"], \"font\": {\"color\": \"#2a3f5f\"}, \"geo\": {\"bgcolor\": \"white\", \"lakecolor\": \"white\", \"landcolor\": \"#E5ECF6\", \"showlakes\": true, \"showland\": true, \"subunitcolor\": \"white\"}, \"hoverlabel\": {\"align\": \"left\"}, \"hovermode\": \"closest\", \"mapbox\": {\"style\": \"light\"}, \"paper_bgcolor\": \"white\", \"plot_bgcolor\": \"#E5ECF6\", \"polar\": {\"angularaxis\": {\"gridcolor\": \"white\", \"linecolor\": \"white\", \"ticks\": \"\"}, \"bgcolor\": \"#E5ECF6\", \"radialaxis\": {\"gridcolor\": \"white\", \"linecolor\": \"white\", \"ticks\": \"\"}}, \"scene\": {\"xaxis\": {\"backgroundcolor\": \"#E5ECF6\", \"gridcolor\": \"white\", \"gridwidth\": 2, \"linecolor\": \"white\", \"showbackground\": true, \"ticks\": \"\", \"zerolinecolor\": \"white\"}, \"yaxis\": {\"backgroundcolor\": \"#E5ECF6\", \"gridcolor\": \"white\", \"gridwidth\": 2, \"linecolor\": \"white\", \"showbackground\": true, \"ticks\": \"\", \"zerolinecolor\": \"white\"}, \"zaxis\": {\"backgroundcolor\": \"#E5ECF6\", \"gridcolor\": \"white\", \"gridwidth\": 2, \"linecolor\": \"white\", \"showbackground\": true, \"ticks\": \"\", \"zerolinecolor\": \"white\"}}, \"shapedefaults\": {\"line\": {\"color\": \"#2a3f5f\"}}, \"ternary\": {\"aaxis\": {\"gridcolor\": \"white\", \"linecolor\": \"white\", \"ticks\": \"\"}, \"baxis\": {\"gridcolor\": \"white\", \"linecolor\": \"white\", \"ticks\": \"\"}, \"bgcolor\": \"#E5ECF6\", \"caxis\": {\"gridcolor\": \"white\", \"linecolor\": \"white\", \"ticks\": \"\"}}, \"title\": {\"x\": 0.05}, \"xaxis\": {\"automargin\": true, \"gridcolor\": \"white\", \"linecolor\": \"white\", \"ticks\": \"\", \"title\": {\"standoff\": 15}, \"zerolinecolor\": \"white\", \"zerolinewidth\": 2}, \"yaxis\": {\"automargin\": true, \"gridcolor\": \"white\", \"linecolor\": \"white\", \"ticks\": \"\", \"title\": {\"standoff\": 15}, \"zerolinecolor\": \"white\", \"zerolinewidth\": 2}}}, \"title\": {\"text\": \"Hazard Rates Bootstrapped\"}, \"xaxis\": {\"title\": {\"text\": \"Maturity (in years)\"}}, \"yaxis\": {\"title\": {\"text\": \"Hazarad Rate (in percentage)\"}}},\n",
       "                        {\"responsive\": true}\n",
       "                    ).then(function(){\n",
       "                            \n",
       "var gd = document.getElementById('582f8fc5-11fc-4626-9331-ef76f9d80cd3');\n",
       "var x = new MutationObserver(function (mutations, observer) {{\n",
       "        var display = window.getComputedStyle(gd).display;\n",
       "        if (!display || display === 'none') {{\n",
       "            console.log([gd, 'removed!']);\n",
       "            Plotly.purge(gd);\n",
       "            observer.disconnect();\n",
       "        }}\n",
       "}});\n",
       "\n",
       "// Listen for the removal of the full notebook cells\n",
       "var notebookContainer = gd.closest('#notebook-container');\n",
       "if (notebookContainer) {{\n",
       "    x.observe(notebookContainer, {childList: true});\n",
       "}}\n",
       "\n",
       "// Listen for the clearing of the current output cell\n",
       "var outputEl = gd.closest('.output');\n",
       "if (outputEl) {{\n",
       "    x.observe(outputEl, {childList: true});\n",
       "}}\n",
       "\n",
       "                        })\n",
       "                };\n",
       "                });\n",
       "            </script>\n",
       "        </div>"
      ]
     },
     "metadata": {},
     "output_type": "display_data"
    }
   ],
   "source": [
    "#Plotting Hazard Rates for different maturities\n",
    "x=maturities_CDS\n",
    "hazard_rates=[]\n",
    "for i in range(len(survival_curve_bootstrap)):\n",
    "    hazard_rates.append(math.log(survival_curve_bootstrap[i])/(-maturities_CDS[i]/12))\n",
    "\n",
    "import plotly\n",
    "import plotly.graph_objs as go\n",
    "\n",
    "fig = go.Figure(data=go.Scatter(x=x, y=hazard_rates, line_shape='linear'))\n",
    "fig.update_layout(title='Hazard Rates Bootstrapped',\n",
    "                   xaxis_title='Maturity (in years)',\n",
    "                   yaxis_title='Hazarad Rate (in percentage)')\n",
    "fig.show()"
   ]
  },
  {
   "cell_type": "code",
   "execution_count": null,
   "metadata": {},
   "outputs": [],
   "source": []
  }
 ],
 "metadata": {
  "hide_input": false,
  "kernelspec": {
   "display_name": "Python 3",
   "language": "python",
   "name": "python3"
  },
  "language_info": {
   "codemirror_mode": {
    "name": "ipython",
    "version": 3
   },
   "file_extension": ".py",
   "mimetype": "text/x-python",
   "name": "python",
   "nbconvert_exporter": "python",
   "pygments_lexer": "ipython3",
   "version": "3.7.4"
  },
  "toc": {
   "base_numbering": 1,
   "nav_menu": {},
   "number_sections": true,
   "sideBar": true,
   "skip_h1_title": false,
   "title_cell": "Table of Contents",
   "title_sidebar": "Contents",
   "toc_cell": false,
   "toc_position": {
    "height": "calc(100% - 180px)",
    "left": "10px",
    "top": "150px",
    "width": "384px"
   },
   "toc_section_display": true,
   "toc_window_display": true
  },
  "varInspector": {
   "cols": {
    "lenName": 16,
    "lenType": 16,
    "lenVar": 40
   },
   "kernels_config": {
    "python": {
     "delete_cmd_postfix": "",
     "delete_cmd_prefix": "del ",
     "library": "var_list.py",
     "varRefreshCmd": "print(var_dic_list())"
    },
    "r": {
     "delete_cmd_postfix": ") ",
     "delete_cmd_prefix": "rm(",
     "library": "var_list.r",
     "varRefreshCmd": "cat(var_dic_list()) "
    }
   },
   "types_to_exclude": [
    "module",
    "function",
    "builtin_function_or_method",
    "instance",
    "_Feature"
   ],
   "window_display": false
  }
 },
 "nbformat": 4,
 "nbformat_minor": 2
}

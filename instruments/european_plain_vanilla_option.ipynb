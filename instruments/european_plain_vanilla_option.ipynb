{
 "cells": [
  {
   "cell_type": "markdown",
   "metadata": {},
   "source": [
    "![](../images/rivacon_frontmark_combined_header.png)"
   ]
  },
  {
   "cell_type": "markdown",
   "metadata": {},
   "source": [
    "# European Plain Vanilla Option"
   ]
  },
  {
   "cell_type": "code",
   "execution_count": null,
   "metadata": {
    "ExecuteTime": {
     "end_time": "2020-05-01T08:48:04.025673Z",
     "start_time": "2020-05-01T08:47:56.395303Z"
    }
   },
   "outputs": [],
   "source": [
    "import pyvacon.analytics as analytics\n",
    "import datetime as dt\n",
    "import pyvacon.tools.converter as converter\n",
    "import pyvacon.marketdata.converter as mkt_converter\n",
    "import pyvacon.tools.enums as enums\n",
    "import math\n",
    "from scipy.stats import norm\n",
    "import random\n",
    "import pandas as pd\n",
    "import pyvacon.marketdata.plot as mkt_plot #import module for plotting functionality\n",
    "#the next lin is a jupyter internal command to show the matplotlib graphs within the notebook\n",
    "%matplotlib inline"
   ]
  },
  {
   "cell_type": "markdown",
   "metadata": {},
   "source": [
    "## Definition of an European Plain Vanilla Option\n",
    "\n",
    "An European option gives the holder the right to *buy* (call option) or to *sell* (put option) the underlying asset at a certain date for a certain price. The price is called *exercise price* or *strike price*; the date is called *expiration date* or *maturity*. Let $c$ denote an European call option and $p$ and European put option. The payoff at maturity of an European option is given as\n",
    "\n",
    "$$c = max(S_0-K,0) \\quad \\text{resp.} \\quad p = max(K-S_0, 0)$$\n",
    "\n",
    "where $S_0$ is the current spot price of the underlying and $K$ is the strike price.\n",
    "\n",
    "\n",
    "## Option Pricing Using Black-Scholes-Merton Model\n",
    "\n",
    "### Black-Scholes-Merton pricing formulas\n",
    "\n",
    "The value of an European option according to the Black-Scholes-Merton formulas is\n",
    "\n",
    "$$c=S_0N(d_1)-Ke^{-rT}N(d_2) \\quad \\text{resp.} \\quad p=Ke^{-rT}N(d_2)-S_0N(-d_1)$$\n",
    "\n",
    "with $$d_1=\\frac{\\ln(S_0/K)+(r+\\frac{\\sigma^2}{2})T}{\\sigma\\sqrt{T}} \\quad \\text{and} \\quad d_2 = \\frac{\\ln(S_0/K)+(r-\\frac{\\sigma^2}{2})T}{\\sigma\\sqrt{T}}= d_1-\\sigma\\sqrt{T}.$$\n",
    "\n",
    "$N(x)$ is the cumulative probability distribution function for a standardized normal distribution, $r$ is the risk-free interest rate, $\\sigma$ is the underlying's volatility and $T$ is the option's maturity as year fraction.\n",
    "\n",
    "In contrast to European options, American options who represent the majority of traded options, can be exercised any time up to the expiration date."
   ]
  },
  {
   "cell_type": "markdown",
   "metadata": {},
   "source": [
    "The following code defines the Black-Scholes-Merton formula for European options. "
   ]
  },
  {
   "cell_type": "code",
   "execution_count": null,
   "metadata": {
    "ExecuteTime": {
     "end_time": "2020-05-01T08:48:04.038328Z",
     "start_time": "2020-05-01T08:48:04.028353Z"
    }
   },
   "outputs": [],
   "source": [
    "def BSMOptionPricer(Type,S0, K, r, sigma, T, t=0):\n",
    "    d1= (math.log(S0/K)+(r+sigma**2/2)*(T-t))/(sigma*math.sqrt(T-t))\n",
    "    d2 = d1-sigma*math.sqrt(T-t)\n",
    "    if Type=='c':\n",
    "        cp = 1\n",
    "    if Type =='p':\n",
    "        cp = -1\n",
    "    return cp*(S0*norm.cdf(cp*d1)-K*math.exp(-r*(T-t))*norm.cdf(cp*d2))"
   ]
  },
  {
   "cell_type": "markdown",
   "metadata": {},
   "source": [
    "### Calculation of an option price using Black-Scholes-Merton formulas\n",
    "\n",
    "The following code defines the input parameters for the BSM formula and computes the price of a call option as well as a put option. Therefore, it calls the formula which was defined in the previous step."
   ]
  },
  {
   "cell_type": "code",
   "execution_count": null,
   "metadata": {
    "ExecuteTime": {
     "end_time": "2020-05-01T08:48:04.064269Z",
     "start_time": "2020-05-01T08:48:04.041319Z"
    }
   },
   "outputs": [],
   "source": [
    "# Definition of the input parameters\n",
    "S0 = 50 # Current spot price\n",
    "K = 50 # Strike price\n",
    "r = 0.05 # Risk-free interest rate\n",
    "sigma = 0.3 # Volatility of the underlying\n",
    "t = 0.0 # Time to valuation date\n",
    "T = 1.0 # Time to maturity\n",
    "\n",
    "# Calculation of the call price\n",
    "c = BSMOptionPricer('c', S0, K, r, sigma, T, t)\n",
    "print('Call price = ', c)\n",
    "\n",
    "#Calculation of the put price\n",
    "p = BSMOptionPricer('p', S0, K, r, sigma, T, t)\n",
    "print('Put price = ', p)"
   ]
  },
  {
   "cell_type": "markdown",
   "metadata": {},
   "source": [
    "### Plotting the option price using Black-Scholes-Merton"
   ]
  },
  {
   "cell_type": "code",
   "execution_count": null,
   "metadata": {
    "ExecuteTime": {
     "end_time": "2020-05-01T08:48:04.754630Z",
     "start_time": "2020-05-01T08:48:04.068247Z"
    }
   },
   "outputs": [],
   "source": [
    "spots = []\n",
    "n=0.5\n",
    "while n<=100:\n",
    "    spots.append(n)\n",
    "    n=n+0.1\n",
    "    \n",
    "#strikes = [0,10,20,30,40,50,60,70,80,90,100]\n",
    "#ttm = [0.1, 0.25, 0.5, 0.75, 1.0, 1.5, 2.0, 2.5, 3.0, 4.0, 5.0]\n",
    "#vols = [0.1, 0.15, 0.2, 0.25, 0.3, 0.35, 0.4, 0.45, 0.5]\n",
    "    \n",
    "call_prices = []\n",
    "for i in range(len(spots)):\n",
    "    call_prices.append(BSMOptionPricer('c', spots[i], K, r, sigma, T, t))\n",
    "    \n",
    "put_prices = []\n",
    "for i in range(len(spots)):\n",
    "    put_prices.append(BSMOptionPricer('p', spots[i], K, r, sigma, T, t))\n",
    "\n",
    "# create data frame\n",
    "prices_list = {'Spots': spots, \n",
    "              'Call Prices': call_prices,\n",
    "              'Put Prices': put_prices}\n",
    "\n",
    "prices = pd.DataFrame(prices_list, index = spots)    \n",
    "\n",
    "# plot the prices\n",
    "fig, ax = mkt_plot.plt.subplots(figsize=(20,10))\n",
    "ax.plot(prices['Spots'],prices['Call Prices'],label='Call Prices')\n",
    "ax.plot(prices['Spots'],prices['Put Prices'],label = 'Put Prices')\n",
    "ax.tick_params(axis=\"x\", labelsize=12)\n",
    "ax.tick_params(axis=\"y\", labelsize=12)\n",
    "ax.axvline(x=K, label='Strike', ls= '--', c='g')\n",
    "ax.set_title('European Plain Vanilla Option',fontsize=30,y=1.02)\n",
    "ax.set_xlabel('Spot',fontsize=20)\n",
    "ax.set_ylabel('Price',fontsize=20)\n",
    "legend = ax.legend(loc='best', shadow=True, fontsize='15')"
   ]
  },
  {
   "cell_type": "markdown",
   "metadata": {},
   "source": [
    "### Exercises – Black-Scholes-Merton model"
   ]
  },
  {
   "cell_type": "markdown",
   "metadata": {},
   "source": [
    "- Calculate the price of a European call option in 0.5 years with a spot price of 40, a strike of 60, a risk-free-interest rate of 5%, a volatility of 0.25 and maturity in 1.5 years."
   ]
  },
  {
   "cell_type": "code",
   "execution_count": null,
   "metadata": {},
   "outputs": [],
   "source": []
  },
  {
   "cell_type": "markdown",
   "metadata": {},
   "source": [
    "- Plot a graph of the price of the European call option you just calculated dependent on different volatilities."
   ]
  },
  {
   "cell_type": "code",
   "execution_count": null,
   "metadata": {},
   "outputs": [],
   "source": []
  },
  {
   "cell_type": "markdown",
   "metadata": {},
   "source": [
    "## Option Pricing Using Black-76 Model\n",
    "\n",
    "### Black-76 pricing formulas\n",
    "\n",
    "In the Black-76 model (Black, \"The pricing of commodity contracts\", 1976), the spot price of the underlying is replaced by a discounted forward price. This is because we are interested rather in the payoff at maturity where the spot price $S_T$ should correspond to the current forward price $F_0$. We will apply this model later using the pyvacon European Vanilla Specification. The payoff at maturity of an European call option $c$ or put option $p$ is given as\n",
    "\n",
    "$$c = max(F_0-K,0) \\quad \\text{resp.} \\quad p = max(K-F_0, 0)$$\n",
    "\n",
    "where $F_0$ is the current forward price of the underlying and $K$ is the strike price.\n",
    "\n",
    "The value of an European option using the Black-76 model is:\n",
    "\n",
    "$$c=e^{-rT}[F_0N(d_1)-KN(d_2)] \\quad \\text{resp.} \\quad p=e^{-rT}[KN(-d_2)-F_0N(-d_1)]$$\n",
    "\n",
    "with $$d_1=\\frac{\\ln(F_0/K)+(\\frac{\\sigma^2}{2})T}{\\sigma\\sqrt{T}} \\quad \\text{and} \\quad d_2 = \\frac{\\ln(F_0/K)+(\\frac{\\sigma^2}{2})T}{\\sigma\\sqrt{T}}= d_1-\\sigma\\sqrt{T}.$$\n",
    "\n",
    "$N(x)$ is the cumulative probability distribution function for a standardized normal distribution, $r$ is the discount rate, $\\sigma$ is the underlying's volatility and $T$ is the option's maturity as year fraction."
   ]
  },
  {
   "cell_type": "markdown",
   "metadata": {},
   "source": [
    "The following code defines the Black-76 formula for European options. "
   ]
  },
  {
   "cell_type": "code",
   "execution_count": null,
   "metadata": {
    "ExecuteTime": {
     "end_time": "2020-05-01T08:48:04.767318Z",
     "start_time": "2020-05-01T08:48:04.757341Z"
    }
   },
   "outputs": [],
   "source": [
    "def B76OptionPricer(Type,F, K, r_dsc, sigma, T, t=0):\n",
    "    d1 = (math.log(F/K)+(sigma**2/2)*(T-t))/(sigma*math.sqrt(T-t))\n",
    "    d2 = d1-sigma*math.sqrt(T-t)\n",
    "    if Type=='c':\n",
    "        cp = 1\n",
    "    if Type =='p':\n",
    "        cp = -1\n",
    "    return cp*math.exp(-r_dsc*(T-t))*(F*norm.cdf(cp*d1)-K*norm.cdf(cp*d2))"
   ]
  },
  {
   "cell_type": "markdown",
   "metadata": {},
   "source": [
    "### Calculation of an option price using Black-76 formulas\n",
    "\n",
    "The following code defines the input parameters for the Black-76 formula and computes the price of a call option as well as a put option. Therefore, it calls the formula which was defined in the previous step. For the calculation of the forward value, we assume a funding rate which is different from the discount rate minus the borrowing rate."
   ]
  },
  {
   "cell_type": "code",
   "execution_count": null,
   "metadata": {
    "ExecuteTime": {
     "end_time": "2020-05-01T08:48:04.805215Z",
     "start_time": "2020-05-01T08:48:04.770307Z"
    }
   },
   "outputs": [],
   "source": [
    "# Definition of the input parameters\n",
    "S0 = 90 # Current spot price\n",
    "K = 50 # Strike price\n",
    "r_dsc = 0.0 # Discount rate\n",
    "r_f = 0.0 # Funding rate\n",
    "r_b = 0.00 # Borrowing rate\n",
    "sigma = 0.2 # Volatility of the underlying\n",
    "t = 0.0 # Time to valuation date\n",
    "T = 1.0 # Time to maturity\n",
    "F0 = S0*math.exp((r_f-r_b)*(T-t)) # Forward value is calculated assuming a funding-rate different from the discount rate minus the borrowing rate\n",
    "\n",
    "# Calculation of the call price\n",
    "c = B76OptionPricer('c', F0, K, r_dsc, sigma, T, t)\n",
    "print('Call price = ', c)\n",
    "\n",
    "#Calculation of the put price\n",
    "p = B76OptionPricer('p', F0, K, r_dsc, sigma, T, t)\n",
    "print('Put price = ', p)"
   ]
  },
  {
   "cell_type": "markdown",
   "metadata": {},
   "source": [
    "## Plotting the Option Price Using the Black-76 Model"
   ]
  },
  {
   "cell_type": "code",
   "execution_count": null,
   "metadata": {
    "ExecuteTime": {
     "end_time": "2020-05-01T08:48:05.449090Z",
     "start_time": "2020-05-01T08:48:04.808206Z"
    }
   },
   "outputs": [],
   "source": [
    "fwd_spots = []\n",
    "#strikes = [0,10,20,30,40,50,60,70,80,90,100]\n",
    "#ttm = [0.1, 0.25, 0.5, 0.75, 1.0, 1.5, 2.0, 2.5, 3.0, 4.0, 5.0]\n",
    "#vols = [0.1, 0.15, 0.2, 0.25, 0.3, 0.35, 0.4, 0.45, 0.5]\n",
    "\n",
    "n=0.5\n",
    "while n<=100:\n",
    "    fwd_spots.append(n)\n",
    "    n=n+0.1\n",
    "    \n",
    "call_prices = []\n",
    "for i in range(len(fwd_spots)):\n",
    "    call_prices.append(B76OptionPricer('c', fwd_spots[i], K, r_dsc, sigma, T, t))\n",
    "    \n",
    "put_prices = []\n",
    "for i in range(len(fwd_spots)):\n",
    "    put_prices.append(B76OptionPricer('p', fwd_spots[i], K, r_dsc, sigma, T, t))\n",
    "\n",
    "# create data frame\n",
    "prices_list = {'Spots': fwd_spots, \n",
    "              'Call Prices': call_prices,\n",
    "              'Put Prices': put_prices}\n",
    "\n",
    "prices = pd.DataFrame(prices_list, index = fwd_spots)    \n",
    "\n",
    "# plot the prices\n",
    "fig, ax = mkt_plot.plt.subplots(figsize=(20,10))\n",
    "ax.plot(prices['Spots'],prices['Call Prices'],label='Call Prices')\n",
    "ax.plot(prices['Spots'],prices['Put Prices'],label = 'Put Prices')\n",
    "ax.tick_params(axis=\"x\", labelsize=12)\n",
    "ax.tick_params(axis=\"y\", labelsize=12)\n",
    "ax.axvline(x=K, label='Strike', ls= '--', c='g')\n",
    "ax.set_title('European Plain Vanilla Option',fontsize=30,y=1.02)\n",
    "ax.set_xlabel('Spot',fontsize=20)\n",
    "ax.set_ylabel('Price',fontsize=20)\n",
    "legend = ax.legend(loc='best', shadow=True, fontsize='15')"
   ]
  },
  {
   "cell_type": "markdown",
   "metadata": {},
   "source": [
    "### Converting the Black-Scholes-Merton model into a Black-76 model\n",
    "\n",
    "Modifying the Black-Scholes-Merton model from above, we derive the same results as using the Black-76 model. Distinguishing between the funding rate $r_f$ and borrowing rate $r_b$ used to so calculate the forward value and the discount rate $r_{dsc}$, the modified function looks as follows:\n",
    "\n",
    "$$c=S_0e^{((r_f-r_b)-r_{dsc})T}N(d_1)-Ke^{-r_{dsc}T}N(d_2) \\quad \\text{resp.} \\quad p=Ke^{-r_{dsc}T}N(d_2)-S_0e^{((r_f-r_b)-r_{dsc})T}N(-d_1)$$\n",
    "\n",
    "with $$d_1=\\frac{\\ln(S_0/K)+((r_f-r_b)+\\frac{\\sigma^2}{2})T}{\\sigma\\sqrt{T}} \\quad \\text{and} \\quad d_2 = \\frac{\\ln(S_0/K)+((r_f-r_b)-\\frac{\\sigma^2}{2})T}{\\sigma\\sqrt{T}}= d_1-\\sigma\\sqrt{T}.$$\n",
    "\n",
    "The function is provided in the following code."
   ]
  },
  {
   "cell_type": "code",
   "execution_count": null,
   "metadata": {
    "ExecuteTime": {
     "end_time": "2020-05-01T08:48:05.463054Z",
     "start_time": "2020-05-01T08:48:05.453080Z"
    }
   },
   "outputs": [],
   "source": [
    "def BSMOptionPricerMod(Type,S0, K, r_f, r_dsc, sigma, T, t=0):\n",
    "    d1= (math.log(S0/K)+(r_f-r_b+sigma**2/2)*(T-t))/(sigma*math.sqrt(T-t))\n",
    "    d2 = d1-sigma*math.sqrt(T-t)\n",
    "    if Type=='c':\n",
    "        cp = 1\n",
    "    if Type =='p':\n",
    "        cp = -1\n",
    "    return cp*(S0*math.exp((r_f-r_b-r_dsc)*(T-t))*norm.cdf(cp*d1)-K*math.exp(-r_dsc*(T-t))*norm.cdf(cp*d2))"
   ]
  },
  {
   "cell_type": "code",
   "execution_count": null,
   "metadata": {
    "ExecuteTime": {
     "end_time": "2020-05-01T08:48:05.486997Z",
     "start_time": "2020-05-01T08:48:05.466046Z"
    }
   },
   "outputs": [],
   "source": [
    "#Calculation of the call price\n",
    "c = BSMOptionPricerMod('c', S0, K, r_f,r_dsc, sigma, T, t)\n",
    "print('Call price = ', c)\n",
    "\n",
    "#Calculation of the put price\n",
    "p = BSMOptionPricerMod('p', S0, K, r_f,r_dsc, sigma, T, t)\n",
    "print('Put price = ', p)"
   ]
  },
  {
   "cell_type": "markdown",
   "metadata": {},
   "source": [
    "### Exercise - Black-76 model"
   ]
  },
  {
   "cell_type": "markdown",
   "metadata": {},
   "source": [
    "- Sketch a diagram showing the price of an European call/put option trading at the money dependent on the time to maturity."
   ]
  },
  {
   "cell_type": "code",
   "execution_count": null,
   "metadata": {},
   "outputs": [],
   "source": []
  },
  {
   "cell_type": "markdown",
   "metadata": {},
   "source": [
    "- Sketch a diagram showing the price of an European call/put option trading at the money dependent on different discount factors."
   ]
  },
  {
   "cell_type": "code",
   "execution_count": null,
   "metadata": {},
   "outputs": [],
   "source": []
  },
  {
   "cell_type": "markdown",
   "metadata": {},
   "source": [
    "## Option Pricing Using Monte Carlo Simulation\n",
    "\n",
    "### Monte Carlo option pricing formulas\n",
    "\n",
    "As a first step, we need to simulate the path followed by the stock price $S$. Following one single path, the stock price at maturity $S_T$ is given by \n",
    "\n",
    "$$S_T = S_0e^{{(\\hat{\\mu}-\\frac{\\sigma^2}{2})T+\\sigma\\epsilon\\sqrt{T}}}$$\n",
    "\n",
    "with $S_0$ as the current stock price, $\\hat{\\mu}$ as the expected return in a risk-neutral world, $\\sigma$ as the underlying's volatility, $t$ as the time to maturity as year fraction and $\\epsilon$ as a random sample from a normal distribution with mean zero and standard deviation 1. Here, we assume that the expected return $\\hat{\\mu}$ to be the funding rate $r_f$ minus the borrowing rate $r_b$.\n",
    "\n",
    "For each simulated path, the payoff is defined as before as\n",
    "\n",
    "$$c = max(S_T-K,0) \\quad \\text{resp.} \\quad p = max(K-S_T, 0).$$\n",
    "\n",
    "The option price can now be calculated by simulating $n$ different paths and averaging the discounted payoffs of all paths.\n",
    "\n",
    "For a detailed description please refer to Hull, *Options, futures, and other derivatives, 8th Edition,* 2012, p. 446 ff.\n",
    "\n",
    "The following code defines an option pricing formula using Monte Carlo simulation."
   ]
  },
  {
   "cell_type": "code",
   "execution_count": null,
   "metadata": {
    "ExecuteTime": {
     "end_time": "2020-05-01T08:48:05.507933Z",
     "start_time": "2020-05-01T08:48:05.490979Z"
    },
    "code_folding": []
   },
   "outputs": [],
   "source": [
    "def MCS(Type, S0, K, r_f, r_b, r_dsc, sigma, T,n, t=0):\n",
    "    sumPV = 0\n",
    "    if Type=='c':\n",
    "         cp = 1\n",
    "    if Type =='p':\n",
    "        cp = -1  \n",
    "    for i in range(n):\n",
    "        St = S0*math.exp((r_f-r_b-sigma**2/2)*(T-t)+sigma*norm.ppf(random.random())*math.sqrt(T-t)) # Calculates stock price at maturity for a single path\n",
    "        PV = max(cp*(St-K),0)*math.exp(-r_dsc*(T-t)) # Calculates the present value of the payoff of a single path\n",
    "        sumPV = sumPV + PV # Sums up the present values of the single paths over the number of simulations                               \n",
    "    return sumPV/n # calculates the average present value of the n paths"
   ]
  },
  {
   "cell_type": "markdown",
   "metadata": {},
   "source": [
    "### Calculation of an option price using Monte Carlo simulation\n",
    "\n",
    "The following code defines the input parameters for the Monte Carlo simulation and computes the price of a call option as well as a put option. Therefore, it calls the formula which was defined in the previous step."
   ]
  },
  {
   "cell_type": "code",
   "execution_count": null,
   "metadata": {
    "ExecuteTime": {
     "end_time": "2020-05-01T08:48:30.266823Z",
     "start_time": "2020-05-01T08:48:05.510924Z"
    }
   },
   "outputs": [],
   "source": [
    "S0 = 50 # Current stock price\n",
    "K = 50 # Strike price\n",
    "r_f = 0.05 # Funding rate\n",
    "r_b = 0.00 # Borrowing rate\n",
    "r_dsc = 0.05 # Disount rate\n",
    "sigma = 0.3 # Volatility of the underlying\n",
    "t = 0.0 # Time to valuation date\n",
    "T = 1.0 # Time to maturity\n",
    "n = 100000 # Number of simulated paths for the stock price at maturity\n",
    "\n",
    "tic = dt.datetime.now()\n",
    "c = MCS('c',S0, K, r_f, r_b, r_dsc, sigma, T,n, t)\n",
    "print (\"Call price = \",c)\n",
    "print('Runtime call price:  {}'.format(dt.datetime.now() - tic))\n",
    "p = MCS('p',S0, K, r_f,r_b, r_dsc, sigma, T,n, t)\n",
    "print(\"Put price = \",p)\n",
    "print('Runtime put price: {}'.format(dt.datetime.now() - tic))"
   ]
  },
  {
   "cell_type": "markdown",
   "metadata": {},
   "source": [
    "### Exercise - Monte Carlo Simulation"
   ]
  },
  {
   "cell_type": "markdown",
   "metadata": {},
   "source": [
    "- Change the simulated number of paths to see how the price converges to the price calculated using the analytic function (of course using the same parameter as above)."
   ]
  },
  {
   "cell_type": "code",
   "execution_count": null,
   "metadata": {},
   "outputs": [],
   "source": []
  },
  {
   "cell_type": "markdown",
   "metadata": {},
   "source": [
    "## Option Pricing Using pyvacon European Vanilla Specification"
   ]
  },
  {
   "cell_type": "markdown",
   "metadata": {},
   "source": [
    "### Create the necessary market data\n",
    "\n",
    "As a first step, we need to create the market data necessary to undertake the valuation. Therefore, we need to construct a *discount-*, *funding-* and *borrowing curve*, a *forward-curve* as well as a *volatility surface*.\n",
    "\n",
    "#### Create a discount-, funding-, and borrowing curve"
   ]
  },
  {
   "cell_type": "code",
   "execution_count": null,
   "metadata": {
    "ExecuteTime": {
     "end_time": "2020-05-01T08:48:30.284774Z",
     "start_time": "2020-05-01T08:48:30.268817Z"
    }
   },
   "outputs": [],
   "source": [
    "object_id = \"TEST_DC\"\n",
    "refdate = analytics.ptime(2017,1,1,0,0,0)\n",
    "days_to_maturity = [1, 180, 365, 720, 3*365, 4*365, 10*365]\n",
    "dates = converter.createPTimeList(refdate, days_to_maturity)\n",
    "# discount factors from constant rate\n",
    "disc_rate = 0.05\n",
    "borrow_rate = 0.0\n",
    "funding_rate = 0.05\n",
    "\n",
    "disc_df = analytics.vectorDouble()\n",
    "for d in days_to_maturity:\n",
    "    disc_df.append(math.exp(-d/365.0*disc_rate))\n",
    "dc = analytics.DiscountCurve(object_id, refdate,dates, disc_df, enums.DayCounter.ACT365_FIXED, enums.InterpolationType.HAGAN_DF, enums.ExtrapolationType.NONE)\n",
    "\n",
    "borrow_df = analytics.vectorDouble()\n",
    "for d in days_to_maturity:\n",
    "    borrow_df.append(math.exp(-d/365.0*borrow_rate))\n",
    "bc = analytics.DiscountCurve(object_id, refdate, dates, borrow_df, enums.DayCounter.ACT365_FIXED, \n",
    "                             enums.InterpolationType.HAGAN_DF, enums.ExtrapolationType.NONE)\n",
    "\n",
    "funding_df = analytics.vectorDouble()\n",
    "for d in days_to_maturity:\n",
    "    funding_df.append(math.exp(-d/365.0*funding_rate))\n",
    "fc = analytics.DiscountCurve(object_id, refdate, dates, funding_df, enums.DayCounter.ACT365_FIXED, \n",
    "                             enums.InterpolationType.HAGAN_DF, enums.ExtrapolationType.NONE)"
   ]
  },
  {
   "cell_type": "markdown",
   "metadata": {},
   "source": [
    "#### Create a forward curve\n",
    "\n",
    "To ensure comparability with the results from the Black-Scholes-Merton model, we assume a non dividend paying stock."
   ]
  },
  {
   "cell_type": "code",
   "execution_count": null,
   "metadata": {
    "ExecuteTime": {
     "end_time": "2020-05-01T08:48:30.318684Z",
     "start_time": "2020-05-01T08:48:30.286771Z"
    }
   },
   "outputs": [],
   "source": [
    "# Creation of a Forward curve\n",
    "#div table\n",
    "object_id = \"Div_Table\"\n",
    "refdate = analytics.ptime(2017,1,1,0,0,0) #dates which enters analytics objects must be analytics ptimes. \n",
    "\n",
    "ex_dates = converter.createPTimeList(refdate, [dt.datetime(2018,3,29), dt.datetime(2019,3,29), dt.datetime(2020,3,29), dt.datetime(2021,3,29)])\n",
    "pay_dates = converter.createPTimeList(refdate, [dt.datetime(2018,4,1), dt.datetime(2019,4,1), dt.datetime(2020,4,1), dt.datetime(2021,4,1)])\n",
    "tax_factors = analytics.vectorDouble([1.0, 1.0, 1.0, 1.0])\n",
    "div_yield = analytics.vectorDouble([0, 0.000, 0.00, 0.00])\n",
    "div_cash = analytics.vectorDouble([0.0, 0.0, 0.0, 0.0])\n",
    "\n",
    "div_table=analytics.DividendTable(object_id, refdate, ex_dates, div_yield, div_cash, tax_factors, pay_dates)\n",
    "\n",
    "spot = 50.0\n",
    "\n",
    "forward_curve = analytics.EquityForwardCurve(refdate, spot, fc, bc, div_table)"
   ]
  },
  {
   "cell_type": "markdown",
   "metadata": {},
   "source": [
    "#### Create a volatility surface\n",
    "\n",
    "In order to compare the results with the Black-Scholes-Merton model above, we use a flat volatillity surface."
   ]
  },
  {
   "cell_type": "code",
   "execution_count": null,
   "metadata": {
    "ExecuteTime": {
     "end_time": "2020-05-01T08:48:30.335638Z",
     "start_time": "2020-05-01T08:48:30.320679Z"
    }
   },
   "outputs": [],
   "source": [
    "flat_param = analytics.VolatilityParametrizationFlat(0.3)\n",
    "\n",
    "obj_id = 'TEST_SURFACE'\n",
    "vol_surf = analytics.VolatilitySurface(obj_id, refdate, forward_curve, enums.DayCounter.ACT365_FIXED, flat_param)"
   ]
  },
  {
   "cell_type": "markdown",
   "metadata": {},
   "source": [
    "### Setup the specification\n",
    "\n",
    "The pyvacon European Vanilla specification requires the following obligatory arguments:\n",
    "- object id\n",
    "- issuer\n",
    "- securitization level\n",
    "- currency\n",
    "- underlying id\n",
    "- type\n",
    "- expiry\n",
    "- strike\n",
    "\n",
    "Although the arguments *object id*, *issuer*, *securitization level* and the *underlying id* are not relevant for the pricing process, they nevertheless have to be set. Hence, we have to input valid strings for these arguments. Optional arguments are the *share ratio*, *holidays*, *ex settle* and *tradesettle*.\n",
    "\n",
    "Referring to the Black-Scholes-Merton model, we consequently provided the model already with the the *option type*, the *expiry* $T$ and the *strike price* $K$. Thus, $S_0$, $r$ and $\\sigma$ have not been set yet. This data has been defined in the previous steps by creating the necessary market data.\n",
    "\n",
    "The *Back76PricingData* requires a discount curve, pricing parameter, a pricing specification and a volatility surface. Furthermore, we need to provide a valuation date and set the pricing request. The underlying's spot price $S_0$ is provided with forward curve which is contained in the volatility surface which, of course, also contains the volatility $\\sigma$. $r$ is contained in the provided discount curve. "
   ]
  },
  {
   "cell_type": "code",
   "execution_count": null,
   "metadata": {
    "ExecuteTime": {
     "end_time": "2020-05-01T08:48:30.351595Z",
     "start_time": "2020-05-01T08:48:30.337633Z"
    }
   },
   "outputs": [],
   "source": [
    "object_id = 'Test_call'\n",
    "issuer = 'DBK'\n",
    "seclevel = 'COLLATERALIZED'\n",
    "currency = 'EUR'\n",
    "\n",
    "tpe = 'PUT' # Change to 'PUT' if you want to calculate the price of an european put option.\n",
    "expiry = analytics.ptime()\n",
    "refdate.addDays(expiry, 365)\n",
    "\n",
    "strike = 50\n",
    "\n",
    "prdata = analytics.Black76PricingData()\n",
    "#help(analytics.Black76PricingData)\n",
    "\n",
    "prdata.valDate = refdate\n",
    "\n",
    "prdata.spec = analytics.EuropeanVanillaSpecification(object_id, issuer, seclevel, 'EUR', 'ADS', tpe, expiry, strike)\n",
    "\n",
    "prdata.dsc = dc\n",
    "\n",
    "prdata.param = analytics.PricingParameter()\n",
    "\n",
    "prdata.vol = vol_surf\n",
    "\n",
    "prdata.pricingRequest = analytics.PricingRequest()"
   ]
  },
  {
   "cell_type": "markdown",
   "metadata": {},
   "source": [
    "### Calculation of an option price using the pyvacon European Vanilla Specification\n",
    "\n",
    "After all necessary information has been set, the price of the option can be calculated using the *analytics.price* function."
   ]
  },
  {
   "cell_type": "code",
   "execution_count": null,
   "metadata": {
    "ExecuteTime": {
     "end_time": "2020-05-01T08:48:30.368550Z",
     "start_time": "2020-05-01T08:48:30.354589Z"
    }
   },
   "outputs": [],
   "source": [
    "price = analytics.price(prdata)\n",
    "price.getPrice()"
   ]
  },
  {
   "cell_type": "markdown",
   "metadata": {},
   "source": [
    "### Exercises - pyvacon European Vanilla Specification"
   ]
  },
  {
   "cell_type": "markdown",
   "metadata": {},
   "source": [
    "- Calculate the price of an European put option using the pyvacon European Vanilla Specification."
   ]
  },
  {
   "cell_type": "code",
   "execution_count": null,
   "metadata": {},
   "outputs": [],
   "source": []
  },
  {
   "cell_type": "markdown",
   "metadata": {},
   "source": [
    "- Modify the dividend table to see how dividends impact the option price."
   ]
  },
  {
   "cell_type": "code",
   "execution_count": null,
   "metadata": {},
   "outputs": [],
   "source": []
  },
  {
   "cell_type": "markdown",
   "metadata": {},
   "source": [
    "- Calculate the price of an European call option using a discount curve with a non-constant discount rate."
   ]
  },
  {
   "cell_type": "code",
   "execution_count": null,
   "metadata": {},
   "outputs": [],
   "source": []
  },
  {
   "cell_type": "markdown",
   "metadata": {},
   "source": [
    "- Use a different volatility model."
   ]
  },
  {
   "cell_type": "code",
   "execution_count": null,
   "metadata": {},
   "outputs": [],
   "source": []
  },
  {
   "cell_type": "markdown",
   "metadata": {},
   "source": [
    "## General Remarks\n",
    "\n",
    "### Implied volatility\n",
    "\n",
    "Since the volatility in the option pricing formulas cannot be directly observed, one usually works with implied volatilities. Implied volatilities are the volatilities implied by option prices observed in the market. As it is not possible to invert the Black-Scholes-Merton or Black-76 formulas so that the volatility is expressed as a function of the other parameters, one needs to use an interactive search procedure.\n",
    "\n",
    "### Dividends\n",
    "\n",
    "Up to now, we assumed that the option's underlying is a non dividend paying stock. Including cash-dividends in the Black-Scholes-Merton model, one basically needs to adjust the stock price by the present value of the dividends to be paid during the lift of the option."
   ]
  }
 ],
 "metadata": {
  "kernelspec": {
   "display_name": "Python 3",
   "language": "python",
   "name": "python3"
  },
  "language_info": {
   "codemirror_mode": {
    "name": "ipython",
    "version": 3
   },
   "file_extension": ".py",
   "mimetype": "text/x-python",
   "name": "python",
   "nbconvert_exporter": "python",
   "pygments_lexer": "ipython3",
   "version": "3.7.4"
  },
  "toc": {
   "base_numbering": 1,
   "nav_menu": {},
   "number_sections": true,
   "sideBar": true,
   "skip_h1_title": true,
   "title_cell": "Table of Contents",
   "title_sidebar": "Contents",
   "toc_cell": false,
   "toc_position": {},
   "toc_section_display": true,
   "toc_window_display": true
  },
  "varInspector": {
   "cols": {
    "lenName": 16,
    "lenType": 16,
    "lenVar": 40
   },
   "kernels_config": {
    "python": {
     "delete_cmd_postfix": "",
     "delete_cmd_prefix": "del ",
     "library": "var_list.py",
     "varRefreshCmd": "print(var_dic_list())"
    },
    "r": {
     "delete_cmd_postfix": ") ",
     "delete_cmd_prefix": "rm(",
     "library": "var_list.r",
     "varRefreshCmd": "cat(var_dic_list()) "
    }
   },
   "types_to_exclude": [
    "module",
    "function",
    "builtin_function_or_method",
    "instance",
    "_Feature"
   ],
   "window_display": false
  }
 },
 "nbformat": 4,
 "nbformat_minor": 2
}

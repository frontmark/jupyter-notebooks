{
 "cells": [
  {
   "cell_type": "markdown",
   "metadata": {},
   "source": [
    "![](../images/rivacon_frontmark_combined_header.png)"
   ]
  },
  {
   "cell_type": "markdown",
   "metadata": {},
   "source": [
    "# Binomial Trees"
   ]
  },
  {
   "cell_type": "code",
   "execution_count": null,
   "metadata": {
    "ExecuteTime": {
     "end_time": "2020-05-03T11:38:27.214283Z",
     "start_time": "2020-05-03T11:38:27.209856Z"
    }
   },
   "outputs": [],
   "source": [
    "import math"
   ]
  },
  {
   "cell_type": "code",
   "execution_count": null,
   "metadata": {
    "ExecuteTime": {
     "end_time": "2020-05-03T11:38:27.242864Z",
     "start_time": "2020-05-03T11:38:27.218989Z"
    }
   },
   "outputs": [],
   "source": [
    "def exp(x):\n",
    "    return math.exp(x)"
   ]
  },
  {
   "cell_type": "markdown",
   "metadata": {},
   "source": [
    "## Application of Binomial Trees\n",
    "\n",
    "Binomial trees are a popular technique for pricing options. This method relies on the assumption that stock prices follow a random walk and at each time step, it has a certain probability of moving up or down by a certain percentage. Furthermore, it requires the assumption that no arbitrage opportunities exist. The binomial tree represents the different paths a stock price can follow. In the limit, this model converges to the Black-Scholes-Merton model, which is described [here](european_plain_vanilla_option.ipynb).\n",
    "\n",
    "## Example - One-Step Binomial Tree\n",
    "\n",
    "Consider a stock which currently trades at 50. We are interested in pricing a European call option with a strike of 50 and maturity in six months from now. We know that at maturity, the stock will either move up to 55 or move down to 45. Hence, if the stock price moves up, the option will have a value of 5; if the stock price moves down, the option will have the value zero. \n",
    "\n",
    "Assuming a risk neutral world, we can set up a portfolio of the stock itself and the option so that we already know the value of the portfolio at maturity. Therefore, we need to calculate the delta of shares we need to hold to make the portfolio riskless. We can calculate delta as \n",
    "\n",
    "$$\\Delta=\\frac{c_u-c_d}{S_0u-S_0d},$$\n",
    "\n",
    "\n",
    "where $c_u$ and $c_d$ is the value of the option assuming the stock moves up respectively down and $S_0u$ and $S_0d$ is the value of the stock if it moves up respectively down. Hence, delta is given as \n",
    "\n",
    "$$\\Delta=\\frac{5-0}{55-45}=0.5.$$\n",
    "\n",
    "\n",
    "Now, we can create a riskless portfolio by holding a long position in $\\Delta$ shares and short one call option. If the stock price moves up to 55, the value of the portfolio is $55\\cdot0.5-5=22.5$; if the stock price moves down to 45, the value of the portfolio is $45\\cdot0.5-0=22.5$. Discounting the portfolio value at maturity assuming a risk-free interest rate $r$ of 0.05 gives as a present value of the portfolio of \n",
    "\n",
    "$$22.5e^{-0.05\\cdot6/12}=21.94.$$\n",
    "\n",
    "In order to determine the option price today, we know that the portfolio value is the value of the long position in $\\Delta$ shares and the short position in one option and we further now that this value is $21.94$. Hence, it follows that \n",
    "\n",
    "$$50\\cdot0.5-c=21.94$$ or $$c = 3.06.$$\n",
    "\n",
    "The following code shows how the option value can be calculated."
   ]
  },
  {
   "cell_type": "code",
   "execution_count": null,
   "metadata": {
    "ExecuteTime": {
     "end_time": "2020-05-03T11:38:27.266046Z",
     "start_time": "2020-05-03T11:38:27.247851Z"
    }
   },
   "outputs": [],
   "source": [
    "S0 = 50\n",
    "K = 50\n",
    "S0_u = 55\n",
    "S0_d = 45\n",
    "r= 0.05\n",
    "T = 0.5\n",
    "\n",
    "c_u = max(S0_u-K,0)\n",
    "c_d = max(S0_d-K, 0)\n",
    "\n",
    "delta = (c_u-c_d)/(S0_u-S0_d)\n",
    "\n",
    "pf_value_u = (S0_u*delta-c_u)*exp(-r*T)\n",
    "pf_value_d = (S0_d*delta-c_d)*exp(-r*T)\n",
    "\n",
    "c = -(pf_value_u-(S0*delta))\n",
    "print(c)"
   ]
  },
  {
   "cell_type": "markdown",
   "metadata": {},
   "source": [
    "## Generalization of the One-Step Binomial Tree\n",
    "\n",
    "The following formula allows the pricing of an option using a one-step binomial tree. The value of an option $o$ is defined as\n",
    "\n",
    "$$ o = e^{-rT}[po_u+(1-p)o_d]$$\n",
    "\n",
    "where $o_u$ describes the value of the option in case of an upward-movement of the stock and $o_d$ in case of a downward-movement of the stock with the probability of an upward-movement $p$ defined as\n",
    "\n",
    "$$p=\\frac{e^{rT}-d}{u-d}$$\n",
    "\n",
    "where $u$ is the upward-moving factor and $d$ is the downward-moving factor, i.e. $u-1$ is the percentage increase in case of an upward-movement and $1-d$ is the percentage decrease in case of an downward-movement.\n",
    "\n",
    "For a detailed description how the formulas are derived please refer to Hull, *Options, futures, and other derivatives, 8th Edition,* 2012, p. 265.\n",
    "\n",
    "We now can take the example from before using these formulas."
   ]
  },
  {
   "cell_type": "code",
   "execution_count": null,
   "metadata": {
    "ExecuteTime": {
     "end_time": "2020-05-03T11:38:27.281245Z",
     "start_time": "2020-05-03T11:38:27.268703Z"
    }
   },
   "outputs": [],
   "source": [
    "S0 = 50\n",
    "K = 50\n",
    "r = 0.05\n",
    "T = 0.5\n",
    "u = 1.1\n",
    "d = 0.9\n",
    "S0_u = S0*u\n",
    "S0_d = S0*d\n",
    "\n",
    "#Call\n",
    "o_u = max(S0_u-K,0)\n",
    "o_d = max(S0_d-K, 0)\n",
    "\n",
    "#Put - uncomment the following lines to calculate the value of a put option instead of a call option\n",
    "#o_u = max(K-S0_u,0)\n",
    "#o_d = max(K-S0_d, 0)\n",
    "\n",
    "p = (exp(r*T)-d)/(u-d)\n",
    "\n",
    "o = exp(-r*T)*(p*o_u+(1-p)*o_d)\n",
    "print(o)"
   ]
  },
  {
   "cell_type": "markdown",
   "metadata": {},
   "source": [
    "## Two-Step Binomial Tree\n",
    "\n",
    "The analysis of the option value using the one-step binomial tree can be extended to a two-step binomial tree. Hence, let A denote the node at start $S_0$. In the first step, the stock price either moves up by $u$ or down by $d$ to $S_0u$ or $S_0d$ where $S_0u$ is node B and $S_0d$ is node C of the binomial tree. In the second step, the stock price again goes up by $u$ or down by $d$ from each node. Hence from node B, the stock price goes up to $S_0uu$ (node D), or down to $S_0ud$ (node E). From node C, the stock price either goes up to $S_0du$ which equals $S_0ud$ (node E) or down to $S_0dd$ node (F). Hence, we derive the following nodes from the two-step binomial model.\n",
    "\n",
    "\n",
    "$A = S_0$,\n",
    "$B = S_0u$,\n",
    "$C = S_0d$,\n",
    "$D = S_0uu$,\n",
    "$E = S_0ud/S_0du$,\n",
    "$F = S_0dd$.\n",
    "\n",
    "In order to determine the option price today, we need to go backwards starting at the nodes at maturity to determine the option prices at the previous nodes. Therefore, we need the stock prices at each node A to F which are given as \n",
    "\n",
    "$A = 50.00$,\n",
    "$B = 55.00$,\n",
    "$C = 45.00$,\n",
    "$D = 60.50$,\n",
    "$E = 49.50$,\n",
    "$F = 40.50$.\n",
    "\n",
    "Hence, at nodes D to F the option price is either $max(S_T-K, 0)$ in case of call option or $max(K-S_T, 0)$ in case of a put option. This leads to the following option values at the terminal nodes D to F in case of a call option:\n",
    "\n",
    "$o_D = 10.50$,\n",
    "$o_E = 0.00$,\n",
    "$o_F = 0.00$.\n",
    "\n",
    "Having calculated the payoffs at maturity, we can determine the option values at nodes B and C. The values are calculated using the formula given in section 1.3 as \n",
    "\n",
    "$$o = e^{-rT}[po_u+(1-p)o_d].$$\n",
    "\n",
    "The probability of an upward-movement $p$ is defined as shown in section 1.2 as \n",
    "\n",
    "$$p=\\frac{e^{rT}-d}{u-d}$$ which is approximately 0.63.\n",
    "\n",
    "Using this probability of an upward movement, the option value at node B is $o_B=e^{-0.05\\cdot{0.5}}[0.63\\cdot{10.50}+(1-0.63)\\cdot{0}]=6.42$ and the option value at node C is $o_C=e^{-0.05\\cdot{0.5}}[0.63\\cdot{0}+(1-0.63)\\cdot{0}]=0$.\n",
    "\n",
    "$o_B = 6.42$,\n",
    "$o_C = 0.00$.\n",
    "\n",
    "The same can be done for the last node A which is $o_A=e^{-0.05\\cdot{0.5}}[0.63\\cdot{6.42}+(1-0.63)\\cdot{0}]=3.92$.\n",
    "\n",
    "Hence, the option value today at node A is 3.92.\n",
    "\n",
    "The procedure for deriving the option value can be reproduced using the following code cell."
   ]
  },
  {
   "cell_type": "code",
   "execution_count": null,
   "metadata": {
    "ExecuteTime": {
     "end_time": "2020-05-03T11:38:27.302917Z",
     "start_time": "2020-05-03T11:38:27.284395Z"
    }
   },
   "outputs": [],
   "source": [
    "S0 = 50\n",
    "K = 50\n",
    "r = 0.05\n",
    "T = 0.5\n",
    "u = 1.1\n",
    "d = 0.9\n",
    "\n",
    "S0_u = S0*u\n",
    "S0_d = S0*d\n",
    "\n",
    "S0_uu = S0*u**2\n",
    "S0_ud = S0*u*d #Equals S0_du == S0*d*u\n",
    "S0_dd = S0*d**2\n",
    "\n",
    "p = (exp(r*T)-d)/(u-d)\n",
    "\n",
    "\n",
    "o_F = max(S0_dd-K, 0) #In the case of a put option this needs to be max(K-S0_dd, 0)\n",
    "o_E = max(S0_ud-K, 0)\n",
    "o_D = max(S0_uu-K, 0)\n",
    "\n",
    "o_C = exp(-r*T)*(o_E*p+o_F*(1-p))\n",
    "o_B = exp(-r*T)*(o_D*p+o_E*(1-p))\n",
    "\n",
    "o_A = exp(-r*T)*(o_B*p+o_C*(1-p))\n",
    "\n",
    "print('Value of the call option = ',o_A)"
   ]
  },
  {
   "cell_type": "markdown",
   "metadata": {},
   "source": [
    "## Generalization of the Two-Step Binomial Tree\n",
    "\n",
    "The formula for the two-step binomial tree can be generalized as follows: Let $r$ denote the risk-free interest rate and $\\Delta{t}$ denote the length of a time step. The probability of an upward movement is $p$ and the option value is $o$ (e.g. the option value after an upward movement is $o_u$). The option value at each time step $\\Delta{t}$ is defined as\n",
    "\n",
    "$$o = e^{-r\\Delta{t}}[po_u+(1-p)o_d]$$\n",
    "with\n",
    "$$p=\\frac{e^{r\\Delta{t}}-d}{u-d}$$\n",
    "\n",
    "Repeating this step for the relevant nodes gives\n",
    "\n",
    "\\begin{align}\n",
    "o_u &= e^{-r\\Delta{t}}[po_uu+(1-p)o_ud] \\\\\n",
    "\\\\\n",
    "o_d &= e^{-r\\Delta{t}}[po_ud+(1-p)o_dd] \\\\\n",
    "\\\\\n",
    "o &= e^{-r\\Delta{t}}[po_u+(1-p)o_d] \\\\\n",
    "\\end{align}\n",
    "\n",
    "which can be summarized to \n",
    "\n",
    "$$o = e^{-2r\\Delta{t}}[p^2o_{uu}+2p(1-p)o_{ud}+(1-p^2)o_{dd}].$$"
   ]
  },
  {
   "cell_type": "markdown",
   "metadata": {},
   "source": [
    "## Application of Binomial Trees in Option Pricing\n",
    "\n",
    "The most commonly application of binomial trees in option pricing is the case of American options. In contrast to European options, American options can be exercised at any time before expiry, and this give the holder of the option more rights than in the case of an European option. The valuation of American options using binomial trees is explained in the [American Plain Vanilla Option](american_plain_vanilla_option.ipynb) notebook."
   ]
  },
  {
   "cell_type": "markdown",
   "metadata": {},
   "source": [
    "---"
   ]
  }
 ],
 "metadata": {
  "kernelspec": {
   "display_name": "Python 3",
   "language": "python",
   "name": "python3"
  },
  "language_info": {
   "codemirror_mode": {
    "name": "ipython",
    "version": 3
   },
   "file_extension": ".py",
   "mimetype": "text/x-python",
   "name": "python",
   "nbconvert_exporter": "python",
   "pygments_lexer": "ipython3",
   "version": "3.7.4"
  },
  "toc": {
   "base_numbering": 1,
   "nav_menu": {},
   "number_sections": true,
   "sideBar": true,
   "skip_h1_title": true,
   "title_cell": "Table of Contents",
   "title_sidebar": "Contents",
   "toc_cell": false,
   "toc_position": {},
   "toc_section_display": true,
   "toc_window_display": true
  },
  "varInspector": {
   "cols": {
    "lenName": 16,
    "lenType": 16,
    "lenVar": 40
   },
   "kernels_config": {
    "python": {
     "delete_cmd_postfix": "",
     "delete_cmd_prefix": "del ",
     "library": "var_list.py",
     "varRefreshCmd": "print(var_dic_list())"
    },
    "r": {
     "delete_cmd_postfix": ") ",
     "delete_cmd_prefix": "rm(",
     "library": "var_list.r",
     "varRefreshCmd": "cat(var_dic_list()) "
    }
   },
   "types_to_exclude": [
    "module",
    "function",
    "builtin_function_or_method",
    "instance",
    "_Feature"
   ],
   "window_display": false
  }
 },
 "nbformat": 4,
 "nbformat_minor": 2
}

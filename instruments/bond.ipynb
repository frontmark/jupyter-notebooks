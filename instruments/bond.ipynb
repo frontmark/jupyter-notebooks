{
 "cells": [
  {
   "cell_type": "markdown",
   "metadata": {},
   "source": [
    "![](../images/rivacon_frontmark_combined_header.png)"
   ]
  },
  {
   "cell_type": "code",
   "execution_count": 1,
   "metadata": {
    "ExecuteTime": {
     "end_time": "2020-07-17T07:10:05.921093Z",
     "start_time": "2020-07-17T07:09:57.267800Z"
    }
   },
   "outputs": [],
   "source": [
    "from math import exp\n",
    "from pandas import DataFrame\n",
    "from datetime import datetime\n",
    "from dateutil.relativedelta import relativedelta\n",
    "from pyriva.enums import DBUdl\n",
    "from pyriva.enums import DayCounter\n",
    "from pyriva.enums import SecuritizationLevel\n",
    "from pyriva.enums import InterpolationType\n",
    "from pyriva.enums import ExtrapolationType\n",
    "from pyriva.enums import InflationInterpolation\n",
    "from pyriva.instruments import ZeroBondSpecification\n",
    "from pyriva.instruments import FixedRateBondSpecification\n",
    "from pyriva.instruments import FloatingRateNoteSpecification\n",
    "from pyriva.instruments import GeneralBondSpecification\n",
    "import pyriva"
   ]
  },
  {
   "cell_type": "code",
   "execution_count": 2,
   "metadata": {
    "ExecuteTime": {
     "end_time": "2020-07-17T07:10:12.276645Z",
     "start_time": "2020-07-17T07:10:05.921093Z"
    },
    "code_folding": []
   },
   "outputs": [
    {
     "data": {
      "text/html": [
       "        <script type=\"text/javascript\">\n",
       "        window.PlotlyConfig = {MathJaxConfig: 'local'};\n",
       "        if (window.MathJax) {MathJax.Hub.Config({SVG: {font: \"STIX-Web\"}});}\n",
       "        if (typeof require !== 'undefined') {\n",
       "        require.undef(\"plotly\");\n",
       "        requirejs.config({\n",
       "            paths: {\n",
       "                'plotly': ['https://cdn.plot.ly/plotly-latest.min']\n",
       "            }\n",
       "        });\n",
       "        require(['plotly'], function(Plotly) {\n",
       "            window._Plotly = Plotly;\n",
       "        });\n",
       "        }\n",
       "        </script>\n",
       "        "
      ]
     },
     "metadata": {},
     "output_type": "display_data"
    }
   ],
   "source": [
    "if True:\n",
    "    #\n",
    "    import pyvacon\n",
    "    import pyvacon.models.tools as model_tools\n",
    "    import pyvacon.models.plot as model_plot\n",
    "    import pyvacon.marketdata.testdata as mkt_testdata\n",
    "    import pyvacon.marketdata.plot as mkt_plot\n",
    "\n",
    "    import matplotlib.pyplot as plt\n",
    "    %matplotlib inline\n",
    "\n",
    "    from plotly.offline import init_notebook_mode, iplot\n",
    "    from plotly.graph_objs import *\n",
    "\n",
    "    init_notebook_mode(connected=True)"
   ]
  },
  {
   "cell_type": "code",
   "execution_count": 3,
   "metadata": {
    "ExecuteTime": {
     "end_time": "2020-07-17T07:10:12.302282Z",
     "start_time": "2020-07-17T07:10:12.276645Z"
    }
   },
   "outputs": [],
   "source": [
    "pyriva.set_log_level('DEBUG')"
   ]
  },
  {
   "cell_type": "markdown",
   "metadata": {},
   "source": [
    "# Bonds"
   ]
  },
  {
   "cell_type": "markdown",
   "metadata": {},
   "source": [
    "## Setup Specifications"
   ]
  },
  {
   "cell_type": "markdown",
   "metadata": {},
   "source": [
    "### Reference Date\n",
    "The reference date defines any date a pricing is performed for. As pre-condition for a sucessful evaluation of a financial instrument all the relevant information, in particular the relevant market data, must be provided for this date. The first time pricing is relevant is the issue date. Therefore is often coincides with the reference date in this notebook."
   ]
  },
  {
   "cell_type": "code",
   "execution_count": 4,
   "metadata": {
    "ExecuteTime": {
     "end_time": "2020-07-17T07:10:12.333537Z",
     "start_time": "2020-07-17T07:10:12.302282Z"
    }
   },
   "outputs": [],
   "source": [
    "ref_date = datetime(2010, 1, 23)"
   ]
  },
  {
   "cell_type": "markdown",
   "metadata": {
    "heading_collapsed": true
   },
   "source": [
    "### General Bond Specification\n",
    "<code>pyriva</code> supports the specification of a wide class of bonds including\n",
    "- **Zero Bonds**: bonds without any coupon payment.\n",
    "- **Fixed Rate Bonds**: bonds with fixed coupons, i.e. the amount of the coupon payment is known when the bond is issued. \n",
    "- **Floating Rate Notes**: bonds with coupon payments that depend on a reference index and their amount, thus, depends on future, i.e. at bond issuance unknown, values of this reference index. It is possible to add coupon-specific spreads to the floating rate coupon payments. <br>\n",
    "Note: The specification of floating rate notes (FRNs) allows for different curves for discounting and fixing the cashflows. Decoupling the discount curve from the fixing curve is especially important for the acknowledgement of risk adjustments by adding (potentially time dependent) credit spreads to the discount curve in the discounted cashflow valuation model. In general, the FRN specification is <u>not</u> intended to be used for bonds with different dynamics in the discount and fixing curve, e.g. for bonds with 10y pension index used for fixing. The valuation of these bonds would require more sophisticated model or - at least - to include a convexity adjustment.\n",
    "- **Fixed-to-Float Bonds**: bonds with both, fixed coupons and coupons that depend on a reference index.\n",
    "- **Callable/Putable Bonds**: <font color='red'>... [SW] sobald die Schnittstelle zum bereits vorhandenen entsprechenden C++-Code angespasst ist ...</font>"
   ]
  },
  {
   "cell_type": "markdown",
   "metadata": {},
   "source": [
    "### Zero Bond\n",
    "A zero-coupon bond is a debt instrument where the face value is repaid at expiry. It does not have any so-called coupons, i.e. it does not make any periodic interest payments. When the bond reaches maturity, its investor receives its par (or face) value. Examples of zero-coupon bonds include U.S. Treasury bills, U.S. savings bonds, long-term zero-coupon bonds.\n",
    "\n",
    "(Source: Wikipedia)"
   ]
  },
  {
   "cell_type": "code",
   "execution_count": 5,
   "metadata": {
    "ExecuteTime": {
     "end_time": "2020-07-17T07:10:12.349153Z",
     "start_time": "2020-07-17T07:10:12.333537Z"
    }
   },
   "outputs": [],
   "source": [
    "#help(ZeroBondSpecification) # For help, please uncomment this line."
   ]
  },
  {
   "cell_type": "markdown",
   "metadata": {},
   "source": [
    "#### Minimal Specification\n",
    "The <code>ZeroBondSpecification</code> expects the following parameters:\n",
    "- **Object Id** <br>\n",
    "  The object Id is a (preferably unique) identifying name (in string format) of the specified object, e.g. the ISIN. It is for identifiying purposes only, i.e. the bond valuation is not affected by the value for object Id.\n",
    "\n",
    "\n",
    "- **Currency** <br>\n",
    "  Though the currency is not necessarily used in the pricer, it has to be available in the frontmark market data manager. Any input of a ISO currency code (ISO 4217) as three-letter-string shall be fine, e.g. <code>'EUR'</code>. The information is evaluated only for identifiying an appropriate risk adjusted discount curve unless it is provided manually.\n",
    "\n",
    "\n",
    "- **Issue Date** <br>\n",
    "  Instrument's issue date in datetime format, e.g. <code>datetime(2017, 02, 20)</code>.\n",
    "\n",
    "\n",
    "- **Expiry Date** <br>\n",
    "  Instrument's expiry date in datetime format, e.g. <code>datetime(2022, 02, 20)</code>. The expiry date determines the payment date of the notional. Obviously the expiry date must be after the issue date. The bond pricer does not account for the issue date as all future payments relevant for the bond's price are independent from the issue date. (The issue date is, however, used to double-check potential mistakes in defining coupon scheduls by validating that they are between issue and expiry date.)"
   ]
  },
  {
   "cell_type": "code",
   "execution_count": 6,
   "metadata": {
    "ExecuteTime": {
     "end_time": "2020-07-17T07:10:12.380402Z",
     "start_time": "2020-07-17T07:10:12.349153Z"
    }
   },
   "outputs": [],
   "source": [
    "issue_date = ref_date\n",
    "maturity = 5\n",
    "expiry_date = issue_date + relativedelta(years = maturity)\n",
    "zero_bond = ZeroBondSpecification(obj_id = 'Test_Zero_Bond', curr = 'EUR', issue_date = issue_date, \n",
    "                                  expiry = expiry_date)\n",
    "# zero_bond.get_dictionary()"
   ]
  },
  {
   "cell_type": "markdown",
   "metadata": {},
   "source": [
    "#### Full Specification\n",
    "Addionally, you can provide <code>ZeroBondSpecification</code> with the following information to deviate from default values or to allow more sophisticated pricing algorithms:\n",
    "- **Notional** <br>\n",
    "  Bond's face value as float number, e.g. <code>100.0</code>. The face value is set to 100.0 if no notional is provided. Otherwise the notional must be positive.\n",
    "\n",
    "\n",
    "- **Issuer** <br>\n",
    "  The bond issuer is given in string format. It could be used to identify an appropriate risk adjusted discount curve in the frontmark market data manager. In general, this market data manager provides mapping rules for the combination of \n",
    "<ul>\n",
    "    <li>the sector associated with the issuer,</li>\n",
    "    <li>the rating associated with the issuer,</li>\n",
    "    <li>the securitization level of the bond, and</li>\n",
    "    <li>the currency of the bond.</li>\n",
    "</ul>\n",
    "However, there the market data manager also allows for more specific mapping, e.g. for issuer specific spreads in order to consider idiosyncratic behaviour rather than sector and rating specific one, only. <br>\n",
    "If the discount curve is provided manually the issuer information is irrelevant for pricing. Thus, it is possible to provide a dummy issuer, e.g. by <code>'dummy_issuer'</code> (= Default Value). On the other hand, <code>pyriva.enums</code>has to provide a mapping of the chosen string to the issuer identifyer in the frontmark market data manager before you can make use of it.\n",
    "\n",
    "\n",
    "- **Securitisation Level** <br>\n",
    "  Currently the following levels are supported:\n",
    "    * <code>pyriva.enums.SecuritizationLevel.NONE</code> (= Default Value)\n",
    "    * <code>pyriva.enums.SecuritizationLevel.COLLATERALIZED</code>\n",
    "    * <code>pyriva.enums.SecuritizationLevel.SENIOR_SECURED</code>\n",
    "    * <code>pyriva.enums.SecuritizationLevel.SENIOR_UNSECURED</code>\n",
    "    * <code>pyriva.enums.SecuritizationLevel.SUBORDINATED</code>\n",
    "    * <code>pyriva.enums.SecuritizationLevel.MEZZANINE</code>\n",
    "    * <code>pyriva.enums.SecuritizationLevel.EQUITY</code>\n",
    "</ul>\n",
    "As mentioned above (see 'Issuer') the securitisation level is used for selecting an appropriate risk adjusted discount curve in the frontmark market data manager if you want to use it. The securitisation level is ignored if the discount curve is provided manually. However, one of the values listed above must be set in order to avoid error messages."
   ]
  },
  {
   "cell_type": "code",
   "execution_count": 7,
   "metadata": {
    "ExecuteTime": {
     "end_time": "2020-07-17T07:10:12.402541Z",
     "start_time": "2020-07-17T07:10:12.380402Z"
    }
   },
   "outputs": [],
   "source": [
    "issue_date = ref_date\n",
    "maturity = 5\n",
    "expiry_date = issue_date + relativedelta(years = maturity)\n",
    "# additional (optional) specification parameters\n",
    "notional = 100.0\n",
    "issuer = DBUdl.BMW\n",
    "sec_level = SecuritizationLevel.NONE\n",
    "zero_bond_extended = ZeroBondSpecification('Test_Zero_Bond', curr = 'EUR', issue_date = ref_date, \n",
    "                                           expiry = expiry_date, notional = notional, \n",
    "                                           issuer = issuer, sec_level = sec_level)\n",
    "# zero_bond.get_dictionary()"
   ]
  },
  {
   "cell_type": "markdown",
   "metadata": {},
   "source": [
    "### Fixed Rate Bond\n",
    "A fixed rate bond is a debt instrument with a fixed interest rate payments, so-called coupons, defined by predetermined coupon rates (= annualized interest rates) times the bond's notional. The coupon payments are performed at specified dates before bond maturity.\n",
    "Due to the fixed coupon, the fixed rate bond exhibits a significant amount of interest rate risk, i. e. its market value is susceptible to fluctuations in interest rates. That being said, the fixed-rate bond, although a conservative investment, is highly susceptible to a loss in value due to inflation. The fixed-rate bond’s long maturity schedule and predetermined coupon rate offers an investor a solidified return, while leaving the individual exposed to a rise in the consumer price index and overall decrease in their purchasing power.\n",
    "\n",
    "The coupon rate attached to the fixed-rate bond is payable at specified dates before the bond reaches maturity; the coupon rate and the fixed-payments are delivered periodically to the investor at a percentage rate of the bond’s face value. Due to a fixed-rate bond’s lengthy maturity date, these payments are typically small and as stated before are not tied into interest rates.\n",
    "\n",
    "(Source: Wikipedia)"
   ]
  },
  {
   "cell_type": "code",
   "execution_count": 8,
   "metadata": {
    "ExecuteTime": {
     "end_time": "2020-07-17T07:10:12.433789Z",
     "start_time": "2020-07-17T07:10:12.402541Z"
    }
   },
   "outputs": [],
   "source": [
    "#help(FixedRateBondSpecification) # For help, please uncomment this line."
   ]
  },
  {
   "cell_type": "markdown",
   "metadata": {},
   "source": [
    "#### Minimal Specification\n",
    "Additonal to the <code>ZeroBondSpecification</code> the <code>FixedRateBondSpecification</code> expects the following parameters:\n",
    "- **Fixed Rate Coupon Payment Dates** <br>\n",
    "For fixed rate coupons the payment dates must be provided as list of dates in datetime format, e.g. <code>[datetime.datetime(2018, 2, 20, 0, 0), datetime.datetime(2019, 2, 20, 0, 0), datetime.datetime(2020, 2, 20, 0, 0), datetime.datetime(2021, 2, 20, 0, 0)]</code>. The coupon dates must be between the issue and the expiry date!\n",
    "\n",
    "\n",
    "- **Fixed Coupon Rates** <br>\n",
    "For fixed rate coupons the size of the coupon payment is given as fraction of the notional. Therefore, the fixed coupon rates must be provided as list of corresponding float numbers. Example: A fixed coupon bond with notional 1,000,000 EUR and a maturity of 5 years has a yearly rate of 6% and pays semiannually, i.e. coupons of 3%. Thus, there are 10 coupon payments of 30,000 EUR and the fixed coupon rates to be provided are <code>[0.03]*10</code>. Of course, the length of the fixed coupon rate list must be identical to the one of the coupon payment date list."
   ]
  },
  {
   "cell_type": "code",
   "execution_count": 9,
   "metadata": {
    "ExecuteTime": {
     "end_time": "2020-07-17T07:10:12.465036Z",
     "start_time": "2020-07-17T07:10:12.433789Z"
    }
   },
   "outputs": [],
   "source": [
    "issue_date = ref_date\n",
    "maturity = 5\n",
    "expiry_date = issue_date + relativedelta(years=maturity)\n",
    "# generate coupon dates manually (ignoring holiday calendars and roll conventions)\n",
    "period = 12\n",
    "coupon_dates = [issue_date + (n+1)*relativedelta(months=period) for n in range(int(maturity*12/period))]\n",
    "# define fixed rate coupons\n",
    "coupon = 0.01\n",
    "coupons = [coupon]*len(coupon_dates)\n",
    "fixed_coupon_bond = FixedRateBondSpecification(obj_id = 'Test_Fixed_Rate_Bond', curr = 'EUR',\n",
    "                                               issue_date = issue_date, expiry = expiry_date,\n",
    "                                               coupon_dates = coupon_dates, coupons = coupons)\n",
    "# fixed_coupon_bond.get_dictionary()"
   ]
  },
  {
   "cell_type": "markdown",
   "metadata": {},
   "source": [
    "#### Full Specification\n",
    "Addionally, you can provide <code>FixedRateBondSpecification</code> with the more parameters to deviate from default values or to allow more sophisticated pricing algorithms. Besindes the ones mentioned for the full <code>ZeroBondSpecification</code> this is:\n",
    "- **Day Count Convention** <br>\n",
    "  The day count convention (dcc) defines the method for determining the number of days between two fixed dates, e.g. coupon payments dates, as fraction of a year. Thus, the dcc is important for calculating the amount transferred on payment dates and the accrued interests for dates between payments as well as for counting days when quantifying periods of time by discounting cashflows for pricing purposes. For details refer to the [schedule generation notebook](../marketdata/daycounter_rollconventions_schedules.ipynb). <br>\n",
    "Currently the following conventions are supported:\n",
    "    * <code>pyriva.enums.DayCounter.ACT252</code>\n",
    "    * <code>pyriva.enums.DayCounter.ACT2360</code>\n",
    "    * <code>pyriva.enums.DayCounter.ACT365_FIXED</code> (= Default Value)\n",
    "    * <code>pyriva.enums.DayCounter.ACTACT</code>\n",
    "    * <code>pyriva.enums.DayCounter.ThirtyE360</code>\n",
    "    * <code>pyriva.enums.DayCounter.ThirtyU360</code>"
   ]
  },
  {
   "cell_type": "code",
   "execution_count": 10,
   "metadata": {
    "ExecuteTime": {
     "end_time": "2020-07-17T07:10:12.502800Z",
     "start_time": "2020-07-17T07:10:12.465036Z"
    }
   },
   "outputs": [],
   "source": [
    "issue_date = ref_date\n",
    "maturity = 5\n",
    "expiry_date = issue_date + relativedelta(years=maturity)\n",
    "# generate coupon dates manually (ignoring holiday calendars and roll conventions)\n",
    "period = 12\n",
    "coupon_dates = [issue_date + (n+1)*relativedelta(months=period) for n in range(int(maturity*12/period))]\n",
    "# define fixed rate coupons\n",
    "coupon = 0.01\n",
    "coupons = [coupon]*len(coupon_dates)\n",
    "# additional (optional) specification parameters\n",
    "notional = 100.0\n",
    "day_count_convention = DayCounter.ACT365_FIXED\n",
    "issuer = DBUdl.BMW\n",
    "sec_level = SecuritizationLevel.NONE\n",
    "fixed_coupon_bond_extended = FixedRateBondSpecification(obj_id = 'Test_Fixed_Rate_Bond', curr = 'EUR',\n",
    "                                                        issue_date = issue_date, expiry = expiry_date,\n",
    "                                                        coupon_dates = coupon_dates, coupons = coupons,\n",
    "                                                        notional = notional, day_count = day_count_convention,\n",
    "                                                        issuer = issuer, sec_level = sec_level)\n",
    "# fixed_coupon_bond_extended.get_dictionary()"
   ]
  },
  {
   "cell_type": "markdown",
   "metadata": {},
   "source": [
    "### Floating Rate Note\n",
    "Floating rate note is a type of bond that contains a variable coupon that is equal to a money market reference rate, or a federal funds rate plus a specified spread. Although the spread remains constant, the majority of floating rate notes contains quarterly coupons that pay-out interest every 3 months with variable percentage returns. At the beginning of each coupon period, the rate is calculated by adding the spread with the reference rate. This structure differs from the fixed-bond rate which locks in a coupon rate and delivers it to the holder, e.g. semi-annually over a course of multiple years.\n",
    "\n",
    "(Souce: Wikipedia)"
   ]
  },
  {
   "cell_type": "code",
   "execution_count": 11,
   "metadata": {
    "ExecuteTime": {
     "end_time": "2020-07-17T07:10:12.534049Z",
     "start_time": "2020-07-17T07:10:12.502800Z"
    }
   },
   "outputs": [],
   "source": [
    "#help(FloatingRateNoteSpecification) # For help, please uncomment this line."
   ]
  },
  {
   "cell_type": "markdown",
   "metadata": {},
   "source": [
    "#### Minimal Specification\n",
    "Additonal to the <code>ZeroBondSpecification</code> the <code>FloatingRateNoteSpecification</code> expects the following parameters:\n",
    "- **Floating Rate Coupon Periods** <br>\n",
    "In contrast to fixed rate coupons for floating rate coupons not only the payment dates but the complete coupon periods, i.e. including accrual start and end date, must be specified. This additional information is needed for the calculation of the period's length, which defined the size of the floating rate coupon. Similar to the fixed coupon dates the coupon periods are specified as list of dates in datetime format, e.g. <code>[datetime.datetime(2017, 2, 20, 0, 0), datetime.datetime(2018, 2, 20, 0, 0), datetime.datetime(2019, 2, 20, 0, 0), datetime.datetime(2020, 2, 20, 0, 0), datetime.datetime(2021, 2, 20, 0, 0)]</code>. All coupon periods must be fully between the issue and the expiry date!\n",
    "\n",
    "\n",
    "- **Floating Rate Spreads** <br>\n",
    "Finally the parameter spreads determines the addons to the floating rate coupons as for example premium payments or adjustments to account for the creditworthiness of the bond issuer. Similar to fixed coupons the spreads must be specified as list of float numbers defining the fraction of the notional that has to paid on top of the floating rate coupon defined by the reference index. The length of the list must be one element shorter than the length of the coupon period dates."
   ]
  },
  {
   "cell_type": "code",
   "execution_count": 12,
   "metadata": {
    "ExecuteTime": {
     "end_time": "2020-07-17T07:10:12.549672Z",
     "start_time": "2020-07-17T07:10:12.534049Z"
    }
   },
   "outputs": [],
   "source": [
    "issue_date = ref_date\n",
    "maturity = 5\n",
    "expiry_date = issue_date + relativedelta(years=maturity)\n",
    "# generate coupon periods manually (ignoring holiday calendars and roll conventions)\n",
    "period = 6\n",
    "coupon_periods = [issue_date + n*relativedelta(months=period) for n in range(int(maturity*12/period+1))]\n",
    "# define the spreads\n",
    "spread = 0.01\n",
    "spreads = [spread]*(len(coupon_periods)-1)\n",
    "float_coupon_bond = FloatingRateNoteSpecification(obj_id = 'Test_Floating_Rate_Note', curr = 'EUR',\n",
    "                                                  issue_date = issue_date, expiry = expiry_date,\n",
    "                                                  coupon_periods = coupon_periods, spreads = spreads)\n",
    "# float_coupon_bond.get_dictionary()"
   ]
  },
  {
   "cell_type": "markdown",
   "metadata": {},
   "source": [
    "#### Full Specification\n",
    "Addionally, you can provide <code>FloatingRateNoteSpecification</code> with the more parameters to deviate from default values or to allow more sophisticated pricing algorithms. Besindes the ones already mentioned above for full specifications this is:\n",
    "- **Reference Index** <br>\n",
    "Floating rate coupons refer to an interest rate index, e.g. EURIBOR-3M. This reference index will be used for fixing the coupon rate. The reference index can be defined here as string, e.g. <code>'EURIBOR-3M'</code>. This reference index need not to be defined at the bond specification stage. However, the reference index must be defined for pricing, either by providing a reference index with the name specified as reference index of by overwriting this value in the pricing context. The default value for the reference index is <code>''</code>."
   ]
  },
  {
   "cell_type": "code",
   "execution_count": 13,
   "metadata": {
    "ExecuteTime": {
     "end_time": "2020-07-17T07:10:12.580921Z",
     "start_time": "2020-07-17T07:10:12.549672Z"
    }
   },
   "outputs": [],
   "source": [
    "issue_date = ref_date\n",
    "maturity = 5\n",
    "expiry_date = issue_date + relativedelta(years=maturity)\n",
    "# generate coupon periods manually (ignoring holiday calendars and roll conventions)\n",
    "period = 6\n",
    "coupon_periods = [issue_date + n*relativedelta(months=period) for n in range(int(maturity*12/period+1))]\n",
    "# define the spreads\n",
    "spread = 0.01\n",
    "spreads = [spread]*(len(coupon_periods)-1)\n",
    "# additional (optional) specification parameters\n",
    "ref_index = 'dummy_curve'\n",
    "notional = 100.0\n",
    "day_count_convention = DayCounter.ACT365_FIXED\n",
    "issuer = DBUdl.BMW\n",
    "sec_level = SecuritizationLevel.NONE\n",
    "float_coupon_bond_extended = FloatingRateNoteSpecification(obj_id = 'Test_Floating_Rate_Note', curr = 'EUR',\n",
    "                                                           issue_date = issue_date, expiry = expiry_date,\n",
    "                                                           coupon_periods = coupon_periods, spreads = spreads,\n",
    "                                                           reference_index = ref_index, notional = notional,\n",
    "                                                           day_count = day_count_convention, issuer = issuer,\n",
    "                                                           sec_level = sec_level)\n",
    "# float_coupon_bond_extended.get_dictionary()"
   ]
  },
  {
   "cell_type": "markdown",
   "metadata": {},
   "source": [
    "### Fixed-To-Float Bonds\n",
    "For bonds with both fixed and floating rate bonds the general bond specification is used. Thus, fixed-to-float bonds starting with fixed rate coupons and changing to floating rate coupons after some maturity are specified by <code>GeneralBondSpecification</code>."
   ]
  },
  {
   "cell_type": "markdown",
   "metadata": {},
   "source": [
    "#### Minimal Specification"
   ]
  },
  {
   "cell_type": "code",
   "execution_count": 14,
   "metadata": {
    "ExecuteTime": {
     "end_time": "2020-07-17T07:10:12.603060Z",
     "start_time": "2020-07-17T07:10:12.580921Z"
    }
   },
   "outputs": [],
   "source": [
    "issue_date = ref_date\n",
    "maturity = 5\n",
    "fix_to_float = 2\n",
    "expiry_date = issue_date + relativedelta(years=maturity)\n",
    "notional = 100.0\n",
    "period = 3\n",
    "# fixed rate part\n",
    "coupon_dates = [issue_date + (n+1)*relativedelta(months=period)\n",
    "                for n in range(int(fix_to_float*12/period))]\n",
    "coupon = 0.02\n",
    "coupons = [coupon]*(len(coupon_dates))\n",
    "# floating rate part\n",
    "coupon_periods = [issue_date + n*relativedelta(months=period)\n",
    "                  for n in range(int(fix_to_float*12/period), int(maturity*12/period+1))]\n",
    "spread = 0.01\n",
    "spreads = [spread]*(len(coupon_periods)-1)\n",
    "# fixed-to-float specification\n",
    "fixed_to_float_bond = GeneralBondSpecification(obj_id = 'Test_Fixed_to_Float_Bond', curr = 'EUR',\n",
    "                                               issue_date = issue_date, expiry = expiry_date,\n",
    "                                               coupon_dates = coupon_dates, coupons = coupons,\n",
    "                                               coupon_periods = coupon_periods, spreads = spreads)\n",
    "# fixed_to_float_bond.get_dictionary()"
   ]
  },
  {
   "cell_type": "markdown",
   "metadata": {},
   "source": [
    "#### Full Specification"
   ]
  },
  {
   "cell_type": "code",
   "execution_count": 15,
   "metadata": {
    "ExecuteTime": {
     "end_time": "2020-07-17T07:10:12.634308Z",
     "start_time": "2020-07-17T07:10:12.603060Z"
    }
   },
   "outputs": [],
   "source": [
    "issue_date = ref_date\n",
    "maturity = 5\n",
    "fix_to_float = 2\n",
    "expiry_date = issue_date + relativedelta(years=maturity)\n",
    "notional = 100.0\n",
    "period = 3\n",
    "# fixed rate part\n",
    "coupon_dates = [issue_date + (n+1)*relativedelta(months=period)\n",
    "                for n in range(int(fix_to_float*12/period))]\n",
    "coupon = 0.02\n",
    "coupons = [coupon]*(len(coupon_dates))\n",
    "# floating rate part\n",
    "coupon_periods = [issue_date + n*relativedelta(months=period)\n",
    "                  for n in range(int(fix_to_float*12/period), int(maturity*12/period+1))]\n",
    "spread = 0.01\n",
    "spreads = [spread]*(len(coupon_periods)-1)\n",
    "# additional (optional) specification parameters\n",
    "ref_index = 'dummy_curve'\n",
    "notional = 100.0\n",
    "day_count_convention = DayCounter.ACT365_FIXED\n",
    "issuer = DBUdl.BMW\n",
    "sec_level = SecuritizationLevel.NONE\n",
    "# fixed-to-float specification\n",
    "fixed_to_float_bond_extended = GeneralBondSpecification(obj_id = 'Test_Fixed_to_Float_Bond', curr = 'EUR',\n",
    "                                                        issue_date = issue_date, expiry = expiry_date,\n",
    "                                                        coupon_dates = coupon_dates, coupons = coupons,\n",
    "                                                        coupon_periods = coupon_periods, spreads = spreads,\n",
    "                                                        reference_index = ref_index, notional = notional,\n",
    "                                                        day_count = day_count_convention, issuer = issuer,\n",
    "                                                        sec_level = sec_level)\n",
    "# fixed_to_float_bond_extended.get_dictionary()"
   ]
  },
  {
   "cell_type": "markdown",
   "metadata": {},
   "source": [
    "## Pricing"
   ]
  },
  {
   "cell_type": "markdown",
   "metadata": {
    "ExecuteTime": {
     "end_time": "2020-07-06T14:13:54.311922Z",
     "start_time": "2020-07-06T14:13:54.296299Z"
    }
   },
   "source": [
    "### Pricing Models\n",
    "\n",
    "For plain vanilla bonds there are currently two different models available to calculate the fair price: the simple discounted cashflow method and the Jarrow-(Lando-)Turnbull (JLT) model."
   ]
  },
  {
   "cell_type": "markdown",
   "metadata": {},
   "source": [
    "#### Simple discounted cashflows\n",
    "This method uses a (potentially risk-adjusted) discount curve to discount all expected cashflows. To determine the expected cashflow of a floating coupon, the pricer just computes the corresponding forward rate from a explicitly defined fixing curve (also of type discount curve). Let us assume that the bond has $n+1$ cashflows: $n$ coupon payments $c_i$ with $1\\leq i\\leq n$ and the payment of the notional at the expiry date. The cashflows $c_i$ occur at times $t_i$. Then, the bond's present value is given by\n",
    "\n",
    "$$V=\\sum_{i=1}^n df_i\\cdot c_i + df_n\\cdot N$$\n",
    "\n",
    "where $df_i$ is the discount factor at timepoint $i$."
   ]
  },
  {
   "cell_type": "markdown",
   "metadata": {},
   "source": [
    "#### JLT\n",
    "<font color='orange'>**To Do:** describe the JLT model</font>"
   ]
  },
  {
   "cell_type": "markdown",
   "metadata": {},
   "source": [
    "### Bond Pricer Configuration"
   ]
  },
  {
   "cell_type": "markdown",
   "metadata": {},
   "source": [
    "#### General Parameters\n",
    "\n",
    "As explained in [Overview](../overview.ipynb), we need to setup the respective BasePricingData object which is *BondPricingData* for bonds. This object needs the following data:\n",
    "- **spec**: A BondSpecification object as defined above. It determines the bond's main characteristics, as for example issue and expiry date, notional, etc.\n",
    "- **param**: The BondPricingParameter object specifies parameters for the pricing methodology to be applied, e.g. shift parmaeters for the calculation of finite differences as approximations for Greeks. In the bond case it also allows to deviate from the simple discounted cashflow model to alternatively available Jarrow-(Lando-)Turnbull (JLT) model.\n",
    "- **pricingRequest**: The PricingRequest object configures which figures the pricer computes. Currently, the following results are supported that are relevant for bonds (see below):\n",
    "    * <code>pyvacon.pricing.PricingRequest.setTheta(True)</code>\n",
    "    * <code>pyvacon.pricing.PricingRequest.setMacaulayDuration(True)</code>\n",
    "    * <code>pyvacon.pricing.PricingRequest.setYTM(True)</code>\n",
    "    * <code>pyvacon.pricing.PricingRequest.setConvexity(True)</code>\n",
    "    * <code>pyvacon.pricing.PricingRequest.setRho(True)</code>\n",
    "    * <code>pyvacon.pricing.PricingRequest.setCleanPrice(True)</code>\n",
    "- **pricer**: The pricer determines the pricing model (class) to be used for the evaluation of the instrument. By default 'BondPricer' is used for bonds. Further details of the pricing model must be configured in the param object (see above).\n",
    "- **valDate**: The valuation date defines the date for which the calculations shall be performed.\n",
    "- **discountCurve**: The discount curve used to discount all cashflows (in case of JLT this is the risk free discount curve, otherwise the risk adjusted discount curve). Using the frontmark market data manager the risk adjustment could be specified by the combination of isser (in order to specify sector and rating), securitisation level, and currency.\n",
    "- **fixingCurve**: For bonds with coupons that depend on a reference index, e.g. floating rate notes or fixed-to-float bonds, the reference index must be specified. This is either done through the corresponding parameter in the BondSpecification or via the fixing curve here."
   ]
  },
  {
   "cell_type": "code",
   "execution_count": 16,
   "metadata": {
    "ExecuteTime": {
     "end_time": "2020-07-17T07:10:12.649930Z",
     "start_time": "2020-07-17T07:10:12.634308Z"
    }
   },
   "outputs": [],
   "source": [
    "pricing_data_simple = pyvacon.pricing.BondPricingData()\n",
    "pricing_data_simple.param = pyvacon.pricing.BondPricingParameter()\n",
    "pricing_data_simple.param.useJLT = False\n",
    "pricing_data_simple.pricingRequest = pyvacon.pricing.PricingRequest()\n",
    "pricing_data_simple.pricingRequest.setCleanPrice(True)\n",
    "pricing_data_simple.pricer = 'BondPricer'"
   ]
  },
  {
   "cell_type": "markdown",
   "metadata": {},
   "source": [
    "#### Valuation Date\n",
    "The valuation date is the date for which the bond's present value is to be calculated. All relevant pricing parameters, in particular the necessary market data, must be available for the valuation date."
   ]
  },
  {
   "cell_type": "code",
   "execution_count": 17,
   "metadata": {
    "ExecuteTime": {
     "end_time": "2020-07-17T07:10:12.681180Z",
     "start_time": "2020-07-17T07:10:12.649930Z"
    }
   },
   "outputs": [],
   "source": [
    "val_date = ref_date\n",
    "pricing_data_simple.valDate = val_date"
   ]
  },
  {
   "cell_type": "markdown",
   "metadata": {},
   "source": [
    "#### Market Data"
   ]
  },
  {
   "cell_type": "markdown",
   "metadata": {},
   "source": [
    "##### Test Market Data\n",
    "pyvacon provides test market data for EONIA, EUR6M, and EUR12M as well as a flat zero curve FLAT_ZERO for testing purposes."
   ]
  },
  {
   "cell_type": "code",
   "execution_count": 18,
   "metadata": {
    "ExecuteTime": {
     "end_time": "2020-07-17T07:10:12.703316Z",
     "start_time": "2020-07-17T07:10:12.681180Z"
    }
   },
   "outputs": [],
   "source": [
    "pricing_data_simple.discountCurve = mkt_testdata.InterestRate.Curves.EONIA(val_date)"
   ]
  },
  {
   "cell_type": "markdown",
   "metadata": {},
   "source": [
    "##### Manual Market Data Input\n",
    "Additionally, market data are provided manually for executing more elaborated tests. Refer also to the [notebook on discount curves](../marketdata/discount_curves.ipynb) for more information."
   ]
  },
  {
   "cell_type": "markdown",
   "metadata": {},
   "source": [
    "###### Zero Rate Curve\n",
    "The zero rate curve $r(t)$ is defined by the following set of grid points $r(t_i)$ for maturities $t_i$ from one day (\"overnigth\") to 50 years:"
   ]
  },
  {
   "cell_type": "code",
   "execution_count": 19,
   "metadata": {
    "ExecuteTime": {
     "end_time": "2020-07-17T07:10:12.734562Z",
     "start_time": "2020-07-17T07:10:12.703316Z"
    }
   },
   "outputs": [],
   "source": [
    "grid_days = [1, 2, 7]\n",
    "grid_months = [1, 2, 3, 6]\n",
    "grid_years = [1, 2, 3, 4, 5, 7, 10, 20, 50]\n",
    "\n",
    "zero_rates_OIS = [0.0001, 0.0001, 0.0002, 0.0003, 0.0005, 0.0006, 0.0007, 0.0009,\n",
    "                  0.0013, 0.0016, 0.0019, 0.0022, 0.0026, 0.0030, 0.0035, 0.0042]\n",
    "#zero_rates_OIS = [0.1] * ( len(grid_days) + len(grid_months) + len(grid_years) )\n",
    "\n",
    "shift = 0.0001\n",
    "grid_dates = []\n",
    "zr_curve_OIS = {}\n",
    "zr_curve_shiftedOIS = {}\n",
    "k = 0\n",
    "years_to_maturity = []                                       # currently just needed for plotting\n",
    "shifted_zero_rates_OIS = []                                  # currently just needed for plotting\n",
    "for d in grid_days:\n",
    "    grid_dates.append(ref_date + relativedelta(days=d))\n",
    "    years_to_maturity.append(d/365)                          # currently just needed for plotting\n",
    "    zr_curve_OIS[d/365] = zero_rates_OIS[k]\n",
    "    zr_curve_shiftedOIS[d/365] = zero_rates_OIS[k] + shift\n",
    "    shifted_zero_rates_OIS.append(zero_rates_OIS[k] + shift) # currently just needed for plotting\n",
    "    k += 1\n",
    "for m in grid_months:\n",
    "    grid_dates.append(ref_date + relativedelta(months=m))\n",
    "    years_to_maturity.append(m/12)                           # currently just needed for plotting\n",
    "    zr_curve_OIS[m/12] = zero_rates_OIS[k]\n",
    "    zr_curve_shiftedOIS[m/12] = zero_rates_OIS[k] + shift\n",
    "    shifted_zero_rates_OIS.append(zero_rates_OIS[k] + shift) # currently just needed for plotting\n",
    "    k += 1\n",
    "for y in grid_years:\n",
    "    grid_dates.append(ref_date + relativedelta(years=y))\n",
    "    years_to_maturity.append(y)                              # currently just needed for plotting\n",
    "    zr_curve_OIS[y] = zero_rates_OIS[k]\n",
    "    zr_curve_shiftedOIS[y] = zero_rates_OIS[k] + shift\n",
    "    shifted_zero_rates_OIS.append(zero_rates_OIS[k] + shift) # currently just needed for plotting\n",
    "    k += 1"
   ]
  },
  {
   "cell_type": "code",
   "execution_count": 20,
   "metadata": {
    "ExecuteTime": {
     "end_time": "2020-07-17T07:10:18.080756Z",
     "start_time": "2020-07-17T07:10:12.734562Z"
    }
   },
   "outputs": [
    {
     "data": {
      "application/vnd.plotly.v1+json": {
       "config": {
        "linkText": "Export to plot.ly",
        "plotlyServerURL": "https://plot.ly",
        "showLink": false
       },
       "data": [
        {
         "mode": "lines+markers",
         "name": "EUR OIS",
         "type": "scatter",
         "x": [
          0.0027397260273972603,
          0.005479452054794521,
          0.019178082191780823,
          0.08333333333333333,
          0.16666666666666666,
          0.25,
          0.5,
          1,
          2,
          3,
          4,
          5,
          7,
          10,
          20,
          50
         ],
         "y": [
          0.0001,
          0.0001,
          0.0002,
          0.0003,
          0.0005,
          0.0006,
          0.0007,
          0.0009,
          0.0013,
          0.0016,
          0.0019,
          0.0022,
          0.0026,
          0.003,
          0.0035,
          0.0042
         ]
        },
        {
         "mode": "lines+markers",
         "name": "EUR OIS (shifted)",
         "type": "scatter",
         "x": [
          0.0027397260273972603,
          0.005479452054794521,
          0.019178082191780823,
          0.08333333333333333,
          0.16666666666666666,
          0.25,
          0.5,
          1,
          2,
          3,
          4,
          5,
          7,
          10,
          20,
          50
         ],
         "y": [
          0.0002,
          0.0002,
          0.00030000000000000003,
          0.00039999999999999996,
          0.0006000000000000001,
          0.0007,
          0.0008,
          0.001,
          0.0014,
          0.0017000000000000001,
          0.002,
          0.0023,
          0.0026999999999999997,
          0.0031,
          0.0036,
          0.0043
         ]
        }
       ],
       "layout": {
        "template": {
         "data": {
          "bar": [
           {
            "error_x": {
             "color": "#2a3f5f"
            },
            "error_y": {
             "color": "#2a3f5f"
            },
            "marker": {
             "line": {
              "color": "#E5ECF6",
              "width": 0.5
             }
            },
            "type": "bar"
           }
          ],
          "barpolar": [
           {
            "marker": {
             "line": {
              "color": "#E5ECF6",
              "width": 0.5
             }
            },
            "type": "barpolar"
           }
          ],
          "carpet": [
           {
            "aaxis": {
             "endlinecolor": "#2a3f5f",
             "gridcolor": "white",
             "linecolor": "white",
             "minorgridcolor": "white",
             "startlinecolor": "#2a3f5f"
            },
            "baxis": {
             "endlinecolor": "#2a3f5f",
             "gridcolor": "white",
             "linecolor": "white",
             "minorgridcolor": "white",
             "startlinecolor": "#2a3f5f"
            },
            "type": "carpet"
           }
          ],
          "choropleth": [
           {
            "colorbar": {
             "outlinewidth": 0,
             "ticks": ""
            },
            "type": "choropleth"
           }
          ],
          "contour": [
           {
            "colorbar": {
             "outlinewidth": 0,
             "ticks": ""
            },
            "colorscale": [
             [
              0,
              "#0d0887"
             ],
             [
              0.1111111111111111,
              "#46039f"
             ],
             [
              0.2222222222222222,
              "#7201a8"
             ],
             [
              0.3333333333333333,
              "#9c179e"
             ],
             [
              0.4444444444444444,
              "#bd3786"
             ],
             [
              0.5555555555555556,
              "#d8576b"
             ],
             [
              0.6666666666666666,
              "#ed7953"
             ],
             [
              0.7777777777777778,
              "#fb9f3a"
             ],
             [
              0.8888888888888888,
              "#fdca26"
             ],
             [
              1,
              "#f0f921"
             ]
            ],
            "type": "contour"
           }
          ],
          "contourcarpet": [
           {
            "colorbar": {
             "outlinewidth": 0,
             "ticks": ""
            },
            "type": "contourcarpet"
           }
          ],
          "heatmap": [
           {
            "colorbar": {
             "outlinewidth": 0,
             "ticks": ""
            },
            "colorscale": [
             [
              0,
              "#0d0887"
             ],
             [
              0.1111111111111111,
              "#46039f"
             ],
             [
              0.2222222222222222,
              "#7201a8"
             ],
             [
              0.3333333333333333,
              "#9c179e"
             ],
             [
              0.4444444444444444,
              "#bd3786"
             ],
             [
              0.5555555555555556,
              "#d8576b"
             ],
             [
              0.6666666666666666,
              "#ed7953"
             ],
             [
              0.7777777777777778,
              "#fb9f3a"
             ],
             [
              0.8888888888888888,
              "#fdca26"
             ],
             [
              1,
              "#f0f921"
             ]
            ],
            "type": "heatmap"
           }
          ],
          "heatmapgl": [
           {
            "colorbar": {
             "outlinewidth": 0,
             "ticks": ""
            },
            "colorscale": [
             [
              0,
              "#0d0887"
             ],
             [
              0.1111111111111111,
              "#46039f"
             ],
             [
              0.2222222222222222,
              "#7201a8"
             ],
             [
              0.3333333333333333,
              "#9c179e"
             ],
             [
              0.4444444444444444,
              "#bd3786"
             ],
             [
              0.5555555555555556,
              "#d8576b"
             ],
             [
              0.6666666666666666,
              "#ed7953"
             ],
             [
              0.7777777777777778,
              "#fb9f3a"
             ],
             [
              0.8888888888888888,
              "#fdca26"
             ],
             [
              1,
              "#f0f921"
             ]
            ],
            "type": "heatmapgl"
           }
          ],
          "histogram": [
           {
            "marker": {
             "colorbar": {
              "outlinewidth": 0,
              "ticks": ""
             }
            },
            "type": "histogram"
           }
          ],
          "histogram2d": [
           {
            "colorbar": {
             "outlinewidth": 0,
             "ticks": ""
            },
            "colorscale": [
             [
              0,
              "#0d0887"
             ],
             [
              0.1111111111111111,
              "#46039f"
             ],
             [
              0.2222222222222222,
              "#7201a8"
             ],
             [
              0.3333333333333333,
              "#9c179e"
             ],
             [
              0.4444444444444444,
              "#bd3786"
             ],
             [
              0.5555555555555556,
              "#d8576b"
             ],
             [
              0.6666666666666666,
              "#ed7953"
             ],
             [
              0.7777777777777778,
              "#fb9f3a"
             ],
             [
              0.8888888888888888,
              "#fdca26"
             ],
             [
              1,
              "#f0f921"
             ]
            ],
            "type": "histogram2d"
           }
          ],
          "histogram2dcontour": [
           {
            "colorbar": {
             "outlinewidth": 0,
             "ticks": ""
            },
            "colorscale": [
             [
              0,
              "#0d0887"
             ],
             [
              0.1111111111111111,
              "#46039f"
             ],
             [
              0.2222222222222222,
              "#7201a8"
             ],
             [
              0.3333333333333333,
              "#9c179e"
             ],
             [
              0.4444444444444444,
              "#bd3786"
             ],
             [
              0.5555555555555556,
              "#d8576b"
             ],
             [
              0.6666666666666666,
              "#ed7953"
             ],
             [
              0.7777777777777778,
              "#fb9f3a"
             ],
             [
              0.8888888888888888,
              "#fdca26"
             ],
             [
              1,
              "#f0f921"
             ]
            ],
            "type": "histogram2dcontour"
           }
          ],
          "mesh3d": [
           {
            "colorbar": {
             "outlinewidth": 0,
             "ticks": ""
            },
            "type": "mesh3d"
           }
          ],
          "parcoords": [
           {
            "line": {
             "colorbar": {
              "outlinewidth": 0,
              "ticks": ""
             }
            },
            "type": "parcoords"
           }
          ],
          "pie": [
           {
            "automargin": true,
            "type": "pie"
           }
          ],
          "scatter": [
           {
            "marker": {
             "colorbar": {
              "outlinewidth": 0,
              "ticks": ""
             }
            },
            "type": "scatter"
           }
          ],
          "scatter3d": [
           {
            "line": {
             "colorbar": {
              "outlinewidth": 0,
              "ticks": ""
             }
            },
            "marker": {
             "colorbar": {
              "outlinewidth": 0,
              "ticks": ""
             }
            },
            "type": "scatter3d"
           }
          ],
          "scattercarpet": [
           {
            "marker": {
             "colorbar": {
              "outlinewidth": 0,
              "ticks": ""
             }
            },
            "type": "scattercarpet"
           }
          ],
          "scattergeo": [
           {
            "marker": {
             "colorbar": {
              "outlinewidth": 0,
              "ticks": ""
             }
            },
            "type": "scattergeo"
           }
          ],
          "scattergl": [
           {
            "marker": {
             "colorbar": {
              "outlinewidth": 0,
              "ticks": ""
             }
            },
            "type": "scattergl"
           }
          ],
          "scattermapbox": [
           {
            "marker": {
             "colorbar": {
              "outlinewidth": 0,
              "ticks": ""
             }
            },
            "type": "scattermapbox"
           }
          ],
          "scatterpolar": [
           {
            "marker": {
             "colorbar": {
              "outlinewidth": 0,
              "ticks": ""
             }
            },
            "type": "scatterpolar"
           }
          ],
          "scatterpolargl": [
           {
            "marker": {
             "colorbar": {
              "outlinewidth": 0,
              "ticks": ""
             }
            },
            "type": "scatterpolargl"
           }
          ],
          "scatterternary": [
           {
            "marker": {
             "colorbar": {
              "outlinewidth": 0,
              "ticks": ""
             }
            },
            "type": "scatterternary"
           }
          ],
          "surface": [
           {
            "colorbar": {
             "outlinewidth": 0,
             "ticks": ""
            },
            "colorscale": [
             [
              0,
              "#0d0887"
             ],
             [
              0.1111111111111111,
              "#46039f"
             ],
             [
              0.2222222222222222,
              "#7201a8"
             ],
             [
              0.3333333333333333,
              "#9c179e"
             ],
             [
              0.4444444444444444,
              "#bd3786"
             ],
             [
              0.5555555555555556,
              "#d8576b"
             ],
             [
              0.6666666666666666,
              "#ed7953"
             ],
             [
              0.7777777777777778,
              "#fb9f3a"
             ],
             [
              0.8888888888888888,
              "#fdca26"
             ],
             [
              1,
              "#f0f921"
             ]
            ],
            "type": "surface"
           }
          ],
          "table": [
           {
            "cells": {
             "fill": {
              "color": "#EBF0F8"
             },
             "line": {
              "color": "white"
             }
            },
            "header": {
             "fill": {
              "color": "#C8D4E3"
             },
             "line": {
              "color": "white"
             }
            },
            "type": "table"
           }
          ]
         },
         "layout": {
          "annotationdefaults": {
           "arrowcolor": "#2a3f5f",
           "arrowhead": 0,
           "arrowwidth": 1
          },
          "coloraxis": {
           "colorbar": {
            "outlinewidth": 0,
            "ticks": ""
           }
          },
          "colorscale": {
           "diverging": [
            [
             0,
             "#8e0152"
            ],
            [
             0.1,
             "#c51b7d"
            ],
            [
             0.2,
             "#de77ae"
            ],
            [
             0.3,
             "#f1b6da"
            ],
            [
             0.4,
             "#fde0ef"
            ],
            [
             0.5,
             "#f7f7f7"
            ],
            [
             0.6,
             "#e6f5d0"
            ],
            [
             0.7,
             "#b8e186"
            ],
            [
             0.8,
             "#7fbc41"
            ],
            [
             0.9,
             "#4d9221"
            ],
            [
             1,
             "#276419"
            ]
           ],
           "sequential": [
            [
             0,
             "#0d0887"
            ],
            [
             0.1111111111111111,
             "#46039f"
            ],
            [
             0.2222222222222222,
             "#7201a8"
            ],
            [
             0.3333333333333333,
             "#9c179e"
            ],
            [
             0.4444444444444444,
             "#bd3786"
            ],
            [
             0.5555555555555556,
             "#d8576b"
            ],
            [
             0.6666666666666666,
             "#ed7953"
            ],
            [
             0.7777777777777778,
             "#fb9f3a"
            ],
            [
             0.8888888888888888,
             "#fdca26"
            ],
            [
             1,
             "#f0f921"
            ]
           ],
           "sequentialminus": [
            [
             0,
             "#0d0887"
            ],
            [
             0.1111111111111111,
             "#46039f"
            ],
            [
             0.2222222222222222,
             "#7201a8"
            ],
            [
             0.3333333333333333,
             "#9c179e"
            ],
            [
             0.4444444444444444,
             "#bd3786"
            ],
            [
             0.5555555555555556,
             "#d8576b"
            ],
            [
             0.6666666666666666,
             "#ed7953"
            ],
            [
             0.7777777777777778,
             "#fb9f3a"
            ],
            [
             0.8888888888888888,
             "#fdca26"
            ],
            [
             1,
             "#f0f921"
            ]
           ]
          },
          "colorway": [
           "#636efa",
           "#EF553B",
           "#00cc96",
           "#ab63fa",
           "#FFA15A",
           "#19d3f3",
           "#FF6692",
           "#B6E880",
           "#FF97FF",
           "#FECB52"
          ],
          "font": {
           "color": "#2a3f5f"
          },
          "geo": {
           "bgcolor": "white",
           "lakecolor": "white",
           "landcolor": "#E5ECF6",
           "showlakes": true,
           "showland": true,
           "subunitcolor": "white"
          },
          "hoverlabel": {
           "align": "left"
          },
          "hovermode": "closest",
          "mapbox": {
           "style": "light"
          },
          "paper_bgcolor": "white",
          "plot_bgcolor": "#E5ECF6",
          "polar": {
           "angularaxis": {
            "gridcolor": "white",
            "linecolor": "white",
            "ticks": ""
           },
           "bgcolor": "#E5ECF6",
           "radialaxis": {
            "gridcolor": "white",
            "linecolor": "white",
            "ticks": ""
           }
          },
          "scene": {
           "xaxis": {
            "backgroundcolor": "#E5ECF6",
            "gridcolor": "white",
            "gridwidth": 2,
            "linecolor": "white",
            "showbackground": true,
            "ticks": "",
            "zerolinecolor": "white"
           },
           "yaxis": {
            "backgroundcolor": "#E5ECF6",
            "gridcolor": "white",
            "gridwidth": 2,
            "linecolor": "white",
            "showbackground": true,
            "ticks": "",
            "zerolinecolor": "white"
           },
           "zaxis": {
            "backgroundcolor": "#E5ECF6",
            "gridcolor": "white",
            "gridwidth": 2,
            "linecolor": "white",
            "showbackground": true,
            "ticks": "",
            "zerolinecolor": "white"
           }
          },
          "shapedefaults": {
           "line": {
            "color": "#2a3f5f"
           }
          },
          "ternary": {
           "aaxis": {
            "gridcolor": "white",
            "linecolor": "white",
            "ticks": ""
           },
           "baxis": {
            "gridcolor": "white",
            "linecolor": "white",
            "ticks": ""
           },
           "bgcolor": "#E5ECF6",
           "caxis": {
            "gridcolor": "white",
            "linecolor": "white",
            "ticks": ""
           }
          },
          "title": {
           "x": 0.05
          },
          "xaxis": {
           "automargin": true,
           "gridcolor": "white",
           "linecolor": "white",
           "ticks": "",
           "title": {
            "standoff": 15
           },
           "zerolinecolor": "white",
           "zerolinewidth": 2
          },
          "yaxis": {
           "automargin": true,
           "gridcolor": "white",
           "linecolor": "white",
           "ticks": "",
           "title": {
            "standoff": 15
           },
           "zerolinecolor": "white",
           "zerolinewidth": 2
          }
         }
        },
        "title": {
         "text": "Zero Rate OIS"
        },
        "xaxis": {
         "title": {
          "text": "Time to maturity (years)"
         }
        },
        "yaxis": {
         "title": {
          "text": "Zero Rate"
         }
        }
       }
      },
      "text/html": [
       "<div>\n",
       "        \n",
       "        \n",
       "            <div id=\"822e6a9f-ae14-4fba-92c9-ca3c653a55d5\" class=\"plotly-graph-div\" style=\"height:525px; width:100%;\"></div>\n",
       "            <script type=\"text/javascript\">\n",
       "                require([\"plotly\"], function(Plotly) {\n",
       "                    window.PLOTLYENV=window.PLOTLYENV || {};\n",
       "                    \n",
       "                if (document.getElementById(\"822e6a9f-ae14-4fba-92c9-ca3c653a55d5\")) {\n",
       "                    Plotly.newPlot(\n",
       "                        '822e6a9f-ae14-4fba-92c9-ca3c653a55d5',\n",
       "                        [{\"mode\": \"lines+markers\", \"name\": \"EUR OIS\", \"type\": \"scatter\", \"x\": [0.0027397260273972603, 0.005479452054794521, 0.019178082191780823, 0.08333333333333333, 0.16666666666666666, 0.25, 0.5, 1.0, 2.0, 3.0, 4.0, 5.0, 7.0, 10.0, 20.0, 50.0], \"y\": [0.0001, 0.0001, 0.0002, 0.0003, 0.0005, 0.0006, 0.0007, 0.0009, 0.0013, 0.0016, 0.0019, 0.0022, 0.0026, 0.003, 0.0035, 0.0042]}, {\"mode\": \"lines+markers\", \"name\": \"EUR OIS (shifted)\", \"type\": \"scatter\", \"x\": [0.0027397260273972603, 0.005479452054794521, 0.019178082191780823, 0.08333333333333333, 0.16666666666666666, 0.25, 0.5, 1.0, 2.0, 3.0, 4.0, 5.0, 7.0, 10.0, 20.0, 50.0], \"y\": [0.0002, 0.0002, 0.00030000000000000003, 0.00039999999999999996, 0.0006000000000000001, 0.0007, 0.0008, 0.001, 0.0014, 0.0017000000000000001, 0.002, 0.0023, 0.0026999999999999997, 0.0031, 0.0036, 0.0043]}],\n",
       "                        {\"template\": {\"data\": {\"bar\": [{\"error_x\": {\"color\": \"#2a3f5f\"}, \"error_y\": {\"color\": \"#2a3f5f\"}, \"marker\": {\"line\": {\"color\": \"#E5ECF6\", \"width\": 0.5}}, \"type\": \"bar\"}], \"barpolar\": [{\"marker\": {\"line\": {\"color\": \"#E5ECF6\", \"width\": 0.5}}, \"type\": \"barpolar\"}], \"carpet\": [{\"aaxis\": {\"endlinecolor\": \"#2a3f5f\", \"gridcolor\": \"white\", \"linecolor\": \"white\", \"minorgridcolor\": \"white\", \"startlinecolor\": \"#2a3f5f\"}, \"baxis\": {\"endlinecolor\": \"#2a3f5f\", \"gridcolor\": \"white\", \"linecolor\": \"white\", \"minorgridcolor\": \"white\", \"startlinecolor\": \"#2a3f5f\"}, \"type\": \"carpet\"}], \"choropleth\": [{\"colorbar\": {\"outlinewidth\": 0, \"ticks\": \"\"}, \"type\": \"choropleth\"}], \"contour\": [{\"colorbar\": {\"outlinewidth\": 0, \"ticks\": \"\"}, \"colorscale\": [[0.0, \"#0d0887\"], [0.1111111111111111, \"#46039f\"], [0.2222222222222222, \"#7201a8\"], [0.3333333333333333, \"#9c179e\"], [0.4444444444444444, \"#bd3786\"], [0.5555555555555556, \"#d8576b\"], [0.6666666666666666, \"#ed7953\"], [0.7777777777777778, \"#fb9f3a\"], [0.8888888888888888, \"#fdca26\"], [1.0, \"#f0f921\"]], \"type\": \"contour\"}], \"contourcarpet\": [{\"colorbar\": {\"outlinewidth\": 0, \"ticks\": \"\"}, \"type\": \"contourcarpet\"}], \"heatmap\": [{\"colorbar\": {\"outlinewidth\": 0, \"ticks\": \"\"}, \"colorscale\": [[0.0, \"#0d0887\"], [0.1111111111111111, \"#46039f\"], [0.2222222222222222, \"#7201a8\"], [0.3333333333333333, \"#9c179e\"], [0.4444444444444444, \"#bd3786\"], [0.5555555555555556, \"#d8576b\"], [0.6666666666666666, \"#ed7953\"], [0.7777777777777778, \"#fb9f3a\"], [0.8888888888888888, \"#fdca26\"], [1.0, \"#f0f921\"]], \"type\": \"heatmap\"}], \"heatmapgl\": [{\"colorbar\": {\"outlinewidth\": 0, \"ticks\": \"\"}, \"colorscale\": [[0.0, \"#0d0887\"], [0.1111111111111111, \"#46039f\"], [0.2222222222222222, \"#7201a8\"], [0.3333333333333333, \"#9c179e\"], [0.4444444444444444, \"#bd3786\"], [0.5555555555555556, \"#d8576b\"], [0.6666666666666666, \"#ed7953\"], [0.7777777777777778, \"#fb9f3a\"], [0.8888888888888888, \"#fdca26\"], [1.0, \"#f0f921\"]], \"type\": \"heatmapgl\"}], \"histogram\": [{\"marker\": {\"colorbar\": {\"outlinewidth\": 0, \"ticks\": \"\"}}, \"type\": \"histogram\"}], \"histogram2d\": [{\"colorbar\": {\"outlinewidth\": 0, \"ticks\": \"\"}, \"colorscale\": [[0.0, \"#0d0887\"], [0.1111111111111111, \"#46039f\"], [0.2222222222222222, \"#7201a8\"], [0.3333333333333333, \"#9c179e\"], [0.4444444444444444, \"#bd3786\"], [0.5555555555555556, \"#d8576b\"], [0.6666666666666666, \"#ed7953\"], [0.7777777777777778, \"#fb9f3a\"], [0.8888888888888888, \"#fdca26\"], [1.0, \"#f0f921\"]], \"type\": \"histogram2d\"}], \"histogram2dcontour\": [{\"colorbar\": {\"outlinewidth\": 0, \"ticks\": \"\"}, \"colorscale\": [[0.0, \"#0d0887\"], [0.1111111111111111, \"#46039f\"], [0.2222222222222222, \"#7201a8\"], [0.3333333333333333, \"#9c179e\"], [0.4444444444444444, \"#bd3786\"], [0.5555555555555556, \"#d8576b\"], [0.6666666666666666, \"#ed7953\"], [0.7777777777777778, \"#fb9f3a\"], [0.8888888888888888, \"#fdca26\"], [1.0, \"#f0f921\"]], \"type\": \"histogram2dcontour\"}], \"mesh3d\": [{\"colorbar\": {\"outlinewidth\": 0, \"ticks\": \"\"}, \"type\": \"mesh3d\"}], \"parcoords\": [{\"line\": {\"colorbar\": {\"outlinewidth\": 0, \"ticks\": \"\"}}, \"type\": \"parcoords\"}], \"pie\": [{\"automargin\": true, \"type\": \"pie\"}], \"scatter\": [{\"marker\": {\"colorbar\": {\"outlinewidth\": 0, \"ticks\": \"\"}}, \"type\": \"scatter\"}], \"scatter3d\": [{\"line\": {\"colorbar\": {\"outlinewidth\": 0, \"ticks\": \"\"}}, \"marker\": {\"colorbar\": {\"outlinewidth\": 0, \"ticks\": \"\"}}, \"type\": \"scatter3d\"}], \"scattercarpet\": [{\"marker\": {\"colorbar\": {\"outlinewidth\": 0, \"ticks\": \"\"}}, \"type\": \"scattercarpet\"}], \"scattergeo\": [{\"marker\": {\"colorbar\": {\"outlinewidth\": 0, \"ticks\": \"\"}}, \"type\": \"scattergeo\"}], \"scattergl\": [{\"marker\": {\"colorbar\": {\"outlinewidth\": 0, \"ticks\": \"\"}}, \"type\": \"scattergl\"}], \"scattermapbox\": [{\"marker\": {\"colorbar\": {\"outlinewidth\": 0, \"ticks\": \"\"}}, \"type\": \"scattermapbox\"}], \"scatterpolar\": [{\"marker\": {\"colorbar\": {\"outlinewidth\": 0, \"ticks\": \"\"}}, \"type\": \"scatterpolar\"}], \"scatterpolargl\": [{\"marker\": {\"colorbar\": {\"outlinewidth\": 0, \"ticks\": \"\"}}, \"type\": \"scatterpolargl\"}], \"scatterternary\": [{\"marker\": {\"colorbar\": {\"outlinewidth\": 0, \"ticks\": \"\"}}, \"type\": \"scatterternary\"}], \"surface\": [{\"colorbar\": {\"outlinewidth\": 0, \"ticks\": \"\"}, \"colorscale\": [[0.0, \"#0d0887\"], [0.1111111111111111, \"#46039f\"], [0.2222222222222222, \"#7201a8\"], [0.3333333333333333, \"#9c179e\"], [0.4444444444444444, \"#bd3786\"], [0.5555555555555556, \"#d8576b\"], [0.6666666666666666, \"#ed7953\"], [0.7777777777777778, \"#fb9f3a\"], [0.8888888888888888, \"#fdca26\"], [1.0, \"#f0f921\"]], \"type\": \"surface\"}], \"table\": [{\"cells\": {\"fill\": {\"color\": \"#EBF0F8\"}, \"line\": {\"color\": \"white\"}}, \"header\": {\"fill\": {\"color\": \"#C8D4E3\"}, \"line\": {\"color\": \"white\"}}, \"type\": \"table\"}]}, \"layout\": {\"annotationdefaults\": {\"arrowcolor\": \"#2a3f5f\", \"arrowhead\": 0, \"arrowwidth\": 1}, \"coloraxis\": {\"colorbar\": {\"outlinewidth\": 0, \"ticks\": \"\"}}, \"colorscale\": {\"diverging\": [[0, \"#8e0152\"], [0.1, \"#c51b7d\"], [0.2, \"#de77ae\"], [0.3, \"#f1b6da\"], [0.4, \"#fde0ef\"], [0.5, \"#f7f7f7\"], [0.6, \"#e6f5d0\"], [0.7, \"#b8e186\"], [0.8, \"#7fbc41\"], [0.9, \"#4d9221\"], [1, \"#276419\"]], \"sequential\": [[0.0, \"#0d0887\"], [0.1111111111111111, \"#46039f\"], [0.2222222222222222, \"#7201a8\"], [0.3333333333333333, \"#9c179e\"], [0.4444444444444444, \"#bd3786\"], [0.5555555555555556, \"#d8576b\"], [0.6666666666666666, \"#ed7953\"], [0.7777777777777778, \"#fb9f3a\"], [0.8888888888888888, \"#fdca26\"], [1.0, \"#f0f921\"]], \"sequentialminus\": [[0.0, \"#0d0887\"], [0.1111111111111111, \"#46039f\"], [0.2222222222222222, \"#7201a8\"], [0.3333333333333333, \"#9c179e\"], [0.4444444444444444, \"#bd3786\"], [0.5555555555555556, \"#d8576b\"], [0.6666666666666666, \"#ed7953\"], [0.7777777777777778, \"#fb9f3a\"], [0.8888888888888888, \"#fdca26\"], [1.0, \"#f0f921\"]]}, \"colorway\": [\"#636efa\", \"#EF553B\", \"#00cc96\", \"#ab63fa\", \"#FFA15A\", \"#19d3f3\", \"#FF6692\", \"#B6E880\", \"#FF97FF\", \"#FECB52\"], \"font\": {\"color\": \"#2a3f5f\"}, \"geo\": {\"bgcolor\": \"white\", \"lakecolor\": \"white\", \"landcolor\": \"#E5ECF6\", \"showlakes\": true, \"showland\": true, \"subunitcolor\": \"white\"}, \"hoverlabel\": {\"align\": \"left\"}, \"hovermode\": \"closest\", \"mapbox\": {\"style\": \"light\"}, \"paper_bgcolor\": \"white\", \"plot_bgcolor\": \"#E5ECF6\", \"polar\": {\"angularaxis\": {\"gridcolor\": \"white\", \"linecolor\": \"white\", \"ticks\": \"\"}, \"bgcolor\": \"#E5ECF6\", \"radialaxis\": {\"gridcolor\": \"white\", \"linecolor\": \"white\", \"ticks\": \"\"}}, \"scene\": {\"xaxis\": {\"backgroundcolor\": \"#E5ECF6\", \"gridcolor\": \"white\", \"gridwidth\": 2, \"linecolor\": \"white\", \"showbackground\": true, \"ticks\": \"\", \"zerolinecolor\": \"white\"}, \"yaxis\": {\"backgroundcolor\": \"#E5ECF6\", \"gridcolor\": \"white\", \"gridwidth\": 2, \"linecolor\": \"white\", \"showbackground\": true, \"ticks\": \"\", \"zerolinecolor\": \"white\"}, \"zaxis\": {\"backgroundcolor\": \"#E5ECF6\", \"gridcolor\": \"white\", \"gridwidth\": 2, \"linecolor\": \"white\", \"showbackground\": true, \"ticks\": \"\", \"zerolinecolor\": \"white\"}}, \"shapedefaults\": {\"line\": {\"color\": \"#2a3f5f\"}}, \"ternary\": {\"aaxis\": {\"gridcolor\": \"white\", \"linecolor\": \"white\", \"ticks\": \"\"}, \"baxis\": {\"gridcolor\": \"white\", \"linecolor\": \"white\", \"ticks\": \"\"}, \"bgcolor\": \"#E5ECF6\", \"caxis\": {\"gridcolor\": \"white\", \"linecolor\": \"white\", \"ticks\": \"\"}}, \"title\": {\"x\": 0.05}, \"xaxis\": {\"automargin\": true, \"gridcolor\": \"white\", \"linecolor\": \"white\", \"ticks\": \"\", \"title\": {\"standoff\": 15}, \"zerolinecolor\": \"white\", \"zerolinewidth\": 2}, \"yaxis\": {\"automargin\": true, \"gridcolor\": \"white\", \"linecolor\": \"white\", \"ticks\": \"\", \"title\": {\"standoff\": 15}, \"zerolinecolor\": \"white\", \"zerolinewidth\": 2}}}, \"title\": {\"text\": \"Zero Rate OIS\"}, \"xaxis\": {\"title\": {\"text\": \"Time to maturity (years)\"}}, \"yaxis\": {\"title\": {\"text\": \"Zero Rate\"}}},\n",
       "                        {\"responsive\": true}\n",
       "                    ).then(function(){\n",
       "                            \n",
       "var gd = document.getElementById('822e6a9f-ae14-4fba-92c9-ca3c653a55d5');\n",
       "var x = new MutationObserver(function (mutations, observer) {{\n",
       "        var display = window.getComputedStyle(gd).display;\n",
       "        if (!display || display === 'none') {{\n",
       "            console.log([gd, 'removed!']);\n",
       "            Plotly.purge(gd);\n",
       "            observer.disconnect();\n",
       "        }}\n",
       "}});\n",
       "\n",
       "// Listen for the removal of the full notebook cells\n",
       "var notebookContainer = gd.closest('#notebook-container');\n",
       "if (notebookContainer) {{\n",
       "    x.observe(notebookContainer, {childList: true});\n",
       "}}\n",
       "\n",
       "// Listen for the clearing of the current output cell\n",
       "var outputEl = gd.closest('.output');\n",
       "if (outputEl) {{\n",
       "    x.observe(outputEl, {childList: true});\n",
       "}}\n",
       "\n",
       "                        })\n",
       "                };\n",
       "                });\n",
       "            </script>\n",
       "        </div>"
      ]
     },
     "metadata": {},
     "output_type": "display_data"
    }
   ],
   "source": [
    "# plot for visualisation\n",
    "zero_rate_curve = {'ZeroRate_OIS': zero_rates_OIS,\n",
    "                   'Shifted_ZeroRate_OIS': shifted_zero_rates_OIS\n",
    "                  }\n",
    "\n",
    "rates = DataFrame(zero_rate_curve, index = years_to_maturity)    \n",
    "\n",
    "zr_plot_data = [Scatter(name = 'EUR OIS',           x = rates.index, y = rates['ZeroRate_OIS'],\n",
    "                        mode = 'lines+markers'),\n",
    "                Scatter(name = 'EUR OIS (shifted)', x = rates.index, y = rates['Shifted_ZeroRate_OIS'],\n",
    "                        mode = 'lines+markers')]\n",
    "\n",
    "zr_layout = Layout(title=\"Zero Rate OIS\",\n",
    "               xaxis=dict(title = 'Time to maturity (years)'),\n",
    "               yaxis=dict(title = 'Zero Rate'))\n",
    "\n",
    "iplot(Figure(data=zr_plot_data, layout=zr_layout))"
   ]
  },
  {
   "cell_type": "markdown",
   "metadata": {},
   "source": [
    "###### Discount Curve\n",
    "For the derivation of $df_r(t_i)$ from the associated zero rates $r(t_i)$ there are various approaches:\n",
    "- **Continuous Compounding**\n",
    "  $$df_r(t) = e^{-r \\cdot t}$$\n",
    "- **Discrete Compounding**\n",
    "  $$df_r(t) = \\frac{1}{(1 + r)^t}$$\n",
    "- **Simple Compounding**\n",
    "  $$df_r(t) = \\frac{1}{1 + r \\cdot t}$$\n",
    "- **Linear Compounding**\n",
    "  $$df_r(t) = 1 - r \\cdot t$$"
   ]
  },
  {
   "cell_type": "code",
   "execution_count": 21,
   "metadata": {
    "ExecuteTime": {
     "end_time": "2020-07-17T07:10:18.118526Z",
     "start_time": "2020-07-17T07:10:18.080756Z"
    }
   },
   "outputs": [],
   "source": [
    "df_OIS = []\n",
    "for t, r in zr_curve_OIS.items():\n",
    "#   Continuous compounding\n",
    "#    df_OIS.append(exp(-r*t))\n",
    "#   Discrete compounding\n",
    "    df_OIS.append(1/(1 + r)**t)\n",
    "#   Simple compounding\n",
    "#    df_OIS.append(1/(1 + r*t))\n",
    "#   Linear compounding\n",
    "#    df_OIS.append(1 - r*t)\n",
    "    \n",
    "shifted_df_OIS = []\n",
    "for t, r in zr_curve_shiftedOIS.items():\n",
    "#   Continuous compounding\n",
    "#    shifted_df_OIS.append(exp(-r*t))\n",
    "#   Discrete compounding\n",
    "    shifted_df_OIS.append(1/(1 + r)**t)\n",
    "#   Simple compounding\n",
    "#    shifted_df_OIS.append(1/(1 + r*t))\n",
    "#   Linear compounding\n",
    "#    shifted_df_OIS.append(1 - r*t)"
   ]
  },
  {
   "cell_type": "markdown",
   "metadata": {},
   "source": [
    "And the discount curve is composed by these discount factors $df_r(t_i)$ at the grid points $t_i$."
   ]
  },
  {
   "cell_type": "code",
   "execution_count": 22,
   "metadata": {
    "ExecuteTime": {
     "end_time": "2020-07-17T07:10:18.149787Z",
     "start_time": "2020-07-17T07:10:18.118526Z"
    }
   },
   "outputs": [],
   "source": [
    "dc_OIS = pyvacon.marketdata.DiscountCurve('EUROIS', ref_date, grid_dates, df_OIS, DayCounter.ACT365_FIXED,\n",
    "                                          InterpolationType.HAGAN_DF, ExtrapolationType.NONE)\n",
    "shifted_dc_OIS = pyvacon.marketdata.DiscountCurve('shiftedEUROIS', ref_date, grid_dates, shifted_df_OIS,\n",
    "                                                  DayCounter.ACT365_FIXED, InterpolationType.HAGAN_DF,\n",
    "                                                  ExtrapolationType.NONE)"
   ]
  },
  {
   "cell_type": "markdown",
   "metadata": {},
   "source": [
    "The definition of the discount curve includes the following parameters:\n",
    "- **Curve Name** <br>\n",
    "This curve name can be referenced later.\n",
    "- **Reference Date** <br>\n",
    "The reference date (in datetime format) determines the date for which the discount curve is provided. \n",
    "- **Grid Dates** <br>\n",
    "The grid dates (as list of dates in datetime format) specify the grid point for which the discount factors are provided.\n",
    "- **Discount Factors** <br>\n",
    "The discount factor are given as list of float numbers. The lenght of the list must be identical to the one for the grid dates.\n",
    "- **Interpolation Method** <br>\n",
    "For the interpolation of discount factors between two given values the following methods are supported:\n",
    "    * <code>pyriva.enums.InterpolationType.CONSTANT</code> <br>\n",
    "    Interpolated discout factors will be equal to the previous discount factor:\n",
    "\n",
    "    $$df_r(t) = df_r(t_{k-1}) \\qquad \\forall\\, t \\,\\, \\text{with} \\,\\, t_{k-1} \\le t < t_k$$\n",
    "    <br>\n",
    "    * <code>pyriva.enums.InterpolationType.LINEAR</code> <br>\n",
    "    Discount factors between the discount factor for $t_{k-1}$ and $t_k$ will be linearly interpolated:\n",
    "\n",
    "    $$df_r(t) = \\frac{t - t_{k-1}}{t_k - t_{k-1}} \\cdot df_r(t_k) + \\frac{t_k - t}{t_k - t_{k-1}} \\cdot df_r(t_{k-1})  \\qquad \\forall\\, t \\,\\, \\text{with} \\,\\, t_{k-1} \\le t < t_k$$\n",
    "    <br>    \n",
    "    * <code>pyriva.enums.InterpolationType.LINEARLOG</code> <br>\n",
    "    Similar to the interpolation method LINEAR the method LINEARLOG linearly interpolates the discount factor based on the neighbouring discount factors for $t_{k-1}$ and $t_k$. However, the discount factors' logarithms rather than the values themsselves are used:\n",
    "    \n",
    "    $$\\ln[df_r(t)] = \\frac{t - t_{k-1}}{t_k - t_{k-1}} \\cdot \\ln[df_r(t_k)]\n",
    "    + \\frac{t_k - t}{t_k - t_{k-1}} \\cdot \\ln[df_r(t_{k-1})]  \\qquad \\forall\\, t \\ge t_k = t_\\text{max}$$\n",
    "    \n",
    "    For discount factors based on continuously compounding zero rates this interpolation method corresponds to a linear interpolation of the product $r \\cdot t$ of zero rates and maturity.\n",
    "    <br><br>\n",
    "    * <code>pyriva.enums.InterpolationType.CONSTRAINED_SPLINE</code>\n",
    "    <br><br>    \n",
    "    * <code>pyriva.enums.InterpolationType.HAGAN</code>\n",
    "    <br><br>    \n",
    "    * <code>pyriva.enums.InterpolationType.HAGAN_DF</code>\n",
    "    <br><br>    \n",
    "- **Extrapolation Method** <br>\n",
    "At the lower end of the discount curve the (automatically provided) value $df_r(t=0) = 1$ ensures that no extrapolation is necessary. However, at the upper end of the curve an extrapolation method must be specified. Currently, the following methods are available:\n",
    "    * <code>pyriva.enums.ExtrapolationType.NONE</code> <br>\n",
    "    If an extrapolation is needed, the program will throw an error message.\n",
    "    <br><br>\n",
    "    * <code>pyriva.enums.ExtrapolationType.CONSTANT</code> <br>\n",
    "    Extrapolated discout factors will be equal to the last discount factor:\n",
    "\n",
    "    $$df_r(t) = df_r(t_\\text{max}) \\qquad \\forall\\, t \\ge t_\\text{max}$$\n",
    "    <br>\n",
    "    * <code>pyriva.enums.ExtrapolationType.LINEAR</code> <br>\n",
    "    Discount factors above the last discount factor for $t_k = t_\\text{max}$ will be extrapolated linearly based on the two discount factors for $t_{k-1}$ and $t_k$:\n",
    "\n",
    "    $$df_r(t) = \\frac{t - t_{k-1}}{t_k - t_{k-1}} \\cdot df_r(t_k) - \\frac{t - t_k}{t_k - t_{k-1}} \\cdot df_r(t_{k-1})  \\qquad \\forall\\, t \\ge t_k = t_\\text{max}$$\n",
    "    <br>\n",
    "    * <code>pyriva.enums.ExtrapolationType.LINEARLOG</code> <br>\n",
    "    Similar to the extrapolation method LINEAR the method LINEARLOG linearly extrapolates the discount factor based on the two last discount factors for $t_{k-1}$ and $t_k$. However, the discount factors' logarithms rather than the values themsselves are used:\n",
    "\n",
    "    $$\\ln[df_r(t)] = \\frac{t - t_{k-1}}{t_k - t_{k-1}} \\cdot \\ln[df_r(t_k)]\n",
    "    - \\frac{t - t_k}{t_k - t_{k-1}} \\cdot \\ln[df_r(t_{k-1})]  \\qquad \\forall\\, t \\ge t_k = t_\\text{max}$$\n",
    "\n",
    "    For discount factors based on continuously compounding zero rates this extrapolation method corresponds to a linear extrapolation of the product $r \\cdot t$ of zero rates and maturity."
   ]
  },
  {
   "cell_type": "markdown",
   "metadata": {},
   "source": [
    "### Discounted Cashflow Pricings\n",
    "For financial instruments paying interest rate coupons we distinguish two prices: the dirty price and the clean price. These two prices differ by the so-called \"accrued interest\":\n",
    "\n",
    "$$\\text{Clean Price} = \\text{Dirty Price} - \\text{Accrued Interest}$$\n",
    "\n",
    "The accrued interest accounts for the fact that the bond holder continuously accrued interest rates, however, receives the associated coupon payment at specific coupon payment dates only. Therefore a buyer of a bond has to compensate the seller by the already accrued interests since the last coupon payment date if the bond is sold in between of two coupon payments. <br>\n",
    "At coupon payment dates the accrued interest is zero and the clean price, thus, equal to the dirty price."
   ]
  },
  {
   "cell_type": "markdown",
   "metadata": {},
   "source": [
    "#### Zero Bond Valuation\n",
    "As a zero bond exhibits no coupon payments, its clean and dirty price are always identical. In addition to the bond specification the following parameters are needed for the valuation of a zero bond:\n",
    "- Valuation Date\n",
    "- Discount Curve (at valuation date)"
   ]
  },
  {
   "cell_type": "code",
   "execution_count": 23,
   "metadata": {
    "ExecuteTime": {
     "end_time": "2020-07-17T07:10:18.218782Z",
     "start_time": "2020-07-17T07:10:18.149787Z"
    }
   },
   "outputs": [
    {
     "name": "stdout",
     "output_type": "stream",
     "text": [
      "Test_Zero_Bond: dirty price: 99.2524655569977, clean price: 99.2524655569977\n"
     ]
    }
   ],
   "source": [
    "#val_date = refdate + dt.timedelta(days=180)\n",
    "val_date = ref_date\n",
    "pricing_data_simple.spec = zero_bond\n",
    "pricing_data_simple.valDate = val_date\n",
    "pricing_data_simple.discountCurve = mkt_testdata.InterestRate.Curves.EONIA(val_date)\n",
    "results = pyvacon.pricing.price(pricing_data_simple)\n",
    "print(pricing_data_simple.spec.getObjectId() \n",
    "      + ': dirty price: ' + str(results.getPrice()) \n",
    "      + ', clean price: ' + str(results.getCleanPrice())\n",
    "     )"
   ]
  },
  {
   "cell_type": "markdown",
   "metadata": {},
   "source": [
    "For bonds with coupon payment the accrued interest are calculated as fraction of the upcoming coupon payment where nominator and denominator of the fraction are given by the number of days since the last coupon payment and the number of days of the current coupon period, respectively:\n",
    "\n",
    "$$\\text{Accrued Interest} = \\frac{\\text{Number of days from last coupon payment (included) to settlement date (excluded)}}{\\text{Number of days in coupon period}} \\cdot c_i$$\n",
    "\n",
    "While the bond seller will always receive the dirty price, the quotation of bond prices differ between various markets. In the U.S., for example, clean prices (also known as \"flat prices\") are quoted."
   ]
  },
  {
   "cell_type": "markdown",
   "metadata": {},
   "source": [
    "#### Fixed Rate Bond Valuation\n",
    "In addition to the bond specification the following parameters are needed for the valuation of a fixed rate bond:\n",
    "\n",
    "- Valuation Date\n",
    "- Discount Curve (at valuation date)"
   ]
  },
  {
   "cell_type": "code",
   "execution_count": 24,
   "metadata": {
    "ExecuteTime": {
     "end_time": "2020-07-17T07:10:18.234406Z",
     "start_time": "2020-07-17T07:10:18.218782Z"
    }
   },
   "outputs": [
    {
     "name": "stdout",
     "output_type": "stream",
     "text": [
      "Test_Fixed_Rate_Bond: dirty price: 104.23274724223772, clean price: 104.23274724223772\n"
     ]
    }
   ],
   "source": [
    "#val_date = refdate + dt.timedelta(days=180)\n",
    "val_date = ref_date\n",
    "pricing_data_simple.spec = fixed_coupon_bond\n",
    "pricing_data_simple.valDate = val_date\n",
    "pricing_data_simple.discountCurve = mkt_testdata.InterestRate.Curves.EONIA(val_date)\n",
    "results = pyvacon.pricing.price(pricing_data_simple)\n",
    "print(pricing_data_simple.spec.getObjectId() \n",
    "      + ': dirty price: ' + str(results.getPrice()) \n",
    "      + ', clean price: ' + str(results.getCleanPrice())\n",
    "     )"
   ]
  },
  {
   "cell_type": "markdown",
   "metadata": {},
   "source": [
    "#### Floating Rate Bond Valuation\n",
    "In addition to the bond specification as well as \n",
    "<ul>\n",
    "    <li> Valuation Date and\n",
    "    <li> Discount Curve (at valuation date)\n",
    "</ul>\n",
    "for the valuation of a floating rate bond the\n",
    "<ul> \n",
    "    <li> Fixing Curve (at valuation date)\n",
    "</ul>\n",
    "is needed for determining the amount of the floating rate coupons. Moreover, the fixed reference index rate\n",
    "<ul>\n",
    "    <li>Past Fixing\n",
    "</ul>\n",
    "has to be provided as for floating rate bonds the upcoming coupon payment is defined by the last fixing rather than by the current market data.  "
   ]
  },
  {
   "cell_type": "code",
   "execution_count": 44,
   "metadata": {
    "ExecuteTime": {
     "end_time": "2020-07-17T07:20:53.527121Z",
     "start_time": "2020-07-17T07:20:53.480313Z"
    }
   },
   "outputs": [
    {
     "name": "stdout",
     "output_type": "stream",
     "text": [
      "Test_Floating_Rate_Note, dirty price: 99.2524655569977, clean price: 99.2524655569977\n"
     ]
    },
    {
     "data": {
      "text/plain": [
       "{'polymorphic_name': 'Finance::BondSpecification',\n",
       " 'ptr_wrapper': {'id': 2147483649,\n",
       "  'data': {'BaseSpecification': {'BaseObject': {'Clonable': 0,\n",
       "     'objId_': 'Test_Floating_Rate_Note'},\n",
       "    'expiry_': '20150123T000000',\n",
       "    'issuer_': 'dummy_issuer',\n",
       "    'curr_': 'EUR',\n",
       "    'udlIds_': [],\n",
       "    'holidays_': '',\n",
       "    'exSettle_': 0,\n",
       "    'tradeSettle_': 0,\n",
       "    'descriptionFields_': [],\n",
       "    'productType_': 'BOND'},\n",
       "   'issueDate_': '20100123T000000',\n",
       "   'notional_': 100.0,\n",
       "   'dc_': '',\n",
       "   'fixedCouponSchedule_': [],\n",
       "   'floatingRateUnderlying_': '',\n",
       "   'floatingCouponPeriods_': [],\n",
       "   'floatingRateSpreads_': [],\n",
       "   'couponSchedule_': {'coupons_': [{'accrualStart_': '20100123T000000',\n",
       "      'accrualEnd_': '20100723T000000',\n",
       "      'paymentDate_': '20100723T000000',\n",
       "      'fixingDate_': '20100123T000000',\n",
       "      'floatingPeriodStart_': '20100123T000000',\n",
       "      'floatingPeriodEnd_': '20100723T000000',\n",
       "      'dc_': 'Act365Fixed',\n",
       "      'floatingSpread_': 0.01,\n",
       "      'floatingRateCap_': 10000000000.0,\n",
       "      'floatingRateFloor_': -10000000000.0,\n",
       "      'anualizedFixedCoupon_': 0.0,\n",
       "      'accrualPeriodLength_': 0.4958904109589041,\n",
       "      'floatingFixingUdl_': '',\n",
       "      'amortizationFactor_': 1.0},\n",
       "     {'accrualStart_': '20100723T000000',\n",
       "      'accrualEnd_': '20110123T000000',\n",
       "      'paymentDate_': '20110123T000000',\n",
       "      'fixingDate_': '20100723T000000',\n",
       "      'floatingPeriodStart_': '20100723T000000',\n",
       "      'floatingPeriodEnd_': '20110123T000000',\n",
       "      'dc_': 'Act365Fixed',\n",
       "      'floatingSpread_': 0.01,\n",
       "      'floatingRateCap_': 10000000000.0,\n",
       "      'floatingRateFloor_': -10000000000.0,\n",
       "      'anualizedFixedCoupon_': 0.0,\n",
       "      'accrualPeriodLength_': 0.5041095890410959,\n",
       "      'floatingFixingUdl_': '',\n",
       "      'amortizationFactor_': 1.0},\n",
       "     {'accrualStart_': '20110123T000000',\n",
       "      'accrualEnd_': '20110723T000000',\n",
       "      'paymentDate_': '20110723T000000',\n",
       "      'fixingDate_': '20110123T000000',\n",
       "      'floatingPeriodStart_': '20110123T000000',\n",
       "      'floatingPeriodEnd_': '20110723T000000',\n",
       "      'dc_': 'Act365Fixed',\n",
       "      'floatingSpread_': 0.01,\n",
       "      'floatingRateCap_': 10000000000.0,\n",
       "      'floatingRateFloor_': -10000000000.0,\n",
       "      'anualizedFixedCoupon_': 0.0,\n",
       "      'accrualPeriodLength_': 0.4958904109589041,\n",
       "      'floatingFixingUdl_': '',\n",
       "      'amortizationFactor_': 1.0},\n",
       "     {'accrualStart_': '20110723T000000',\n",
       "      'accrualEnd_': '20120123T000000',\n",
       "      'paymentDate_': '20120123T000000',\n",
       "      'fixingDate_': '20110723T000000',\n",
       "      'floatingPeriodStart_': '20110723T000000',\n",
       "      'floatingPeriodEnd_': '20120123T000000',\n",
       "      'dc_': 'Act365Fixed',\n",
       "      'floatingSpread_': 0.01,\n",
       "      'floatingRateCap_': 10000000000.0,\n",
       "      'floatingRateFloor_': -10000000000.0,\n",
       "      'anualizedFixedCoupon_': 0.0,\n",
       "      'accrualPeriodLength_': 0.5041095890410959,\n",
       "      'floatingFixingUdl_': '',\n",
       "      'amortizationFactor_': 1.0},\n",
       "     {'accrualStart_': '20120123T000000',\n",
       "      'accrualEnd_': '20120723T000000',\n",
       "      'paymentDate_': '20120723T000000',\n",
       "      'fixingDate_': '20120123T000000',\n",
       "      'floatingPeriodStart_': '20120123T000000',\n",
       "      'floatingPeriodEnd_': '20120723T000000',\n",
       "      'dc_': 'Act365Fixed',\n",
       "      'floatingSpread_': 0.01,\n",
       "      'floatingRateCap_': 10000000000.0,\n",
       "      'floatingRateFloor_': -10000000000.0,\n",
       "      'anualizedFixedCoupon_': 0.0,\n",
       "      'accrualPeriodLength_': 0.4986301369863014,\n",
       "      'floatingFixingUdl_': '',\n",
       "      'amortizationFactor_': 1.0},\n",
       "     {'accrualStart_': '20120723T000000',\n",
       "      'accrualEnd_': '20130123T000000',\n",
       "      'paymentDate_': '20130123T000000',\n",
       "      'fixingDate_': '20120723T000000',\n",
       "      'floatingPeriodStart_': '20120723T000000',\n",
       "      'floatingPeriodEnd_': '20130123T000000',\n",
       "      'dc_': 'Act365Fixed',\n",
       "      'floatingSpread_': 0.01,\n",
       "      'floatingRateCap_': 10000000000.0,\n",
       "      'floatingRateFloor_': -10000000000.0,\n",
       "      'anualizedFixedCoupon_': 0.0,\n",
       "      'accrualPeriodLength_': 0.5041095890410959,\n",
       "      'floatingFixingUdl_': '',\n",
       "      'amortizationFactor_': 1.0},\n",
       "     {'accrualStart_': '20130123T000000',\n",
       "      'accrualEnd_': '20130723T000000',\n",
       "      'paymentDate_': '20130723T000000',\n",
       "      'fixingDate_': '20130123T000000',\n",
       "      'floatingPeriodStart_': '20130123T000000',\n",
       "      'floatingPeriodEnd_': '20130723T000000',\n",
       "      'dc_': 'Act365Fixed',\n",
       "      'floatingSpread_': 0.01,\n",
       "      'floatingRateCap_': 10000000000.0,\n",
       "      'floatingRateFloor_': -10000000000.0,\n",
       "      'anualizedFixedCoupon_': 0.0,\n",
       "      'accrualPeriodLength_': 0.4958904109589041,\n",
       "      'floatingFixingUdl_': '',\n",
       "      'amortizationFactor_': 1.0},\n",
       "     {'accrualStart_': '20130723T000000',\n",
       "      'accrualEnd_': '20140123T000000',\n",
       "      'paymentDate_': '20140123T000000',\n",
       "      'fixingDate_': '20130723T000000',\n",
       "      'floatingPeriodStart_': '20130723T000000',\n",
       "      'floatingPeriodEnd_': '20140123T000000',\n",
       "      'dc_': 'Act365Fixed',\n",
       "      'floatingSpread_': 0.01,\n",
       "      'floatingRateCap_': 10000000000.0,\n",
       "      'floatingRateFloor_': -10000000000.0,\n",
       "      'anualizedFixedCoupon_': 0.0,\n",
       "      'accrualPeriodLength_': 0.5041095890410959,\n",
       "      'floatingFixingUdl_': '',\n",
       "      'amortizationFactor_': 1.0},\n",
       "     {'accrualStart_': '20140123T000000',\n",
       "      'accrualEnd_': '20140723T000000',\n",
       "      'paymentDate_': '20140723T000000',\n",
       "      'fixingDate_': '20140123T000000',\n",
       "      'floatingPeriodStart_': '20140123T000000',\n",
       "      'floatingPeriodEnd_': '20140723T000000',\n",
       "      'dc_': 'Act365Fixed',\n",
       "      'floatingSpread_': 0.01,\n",
       "      'floatingRateCap_': 10000000000.0,\n",
       "      'floatingRateFloor_': -10000000000.0,\n",
       "      'anualizedFixedCoupon_': 0.0,\n",
       "      'accrualPeriodLength_': 0.4958904109589041,\n",
       "      'floatingFixingUdl_': '',\n",
       "      'amortizationFactor_': 1.0},\n",
       "     {'accrualStart_': '20140723T000000',\n",
       "      'accrualEnd_': '20150123T000000',\n",
       "      'paymentDate_': '20150123T000000',\n",
       "      'fixingDate_': '20140723T000000',\n",
       "      'floatingPeriodStart_': '20140723T000000',\n",
       "      'floatingPeriodEnd_': '20150123T000000',\n",
       "      'dc_': 'Act365Fixed',\n",
       "      'floatingSpread_': 0.01,\n",
       "      'floatingRateCap_': 10000000000.0,\n",
       "      'floatingRateFloor_': -10000000000.0,\n",
       "      'anualizedFixedCoupon_': 0.0,\n",
       "      'accrualPeriodLength_': 0.5041095890410959,\n",
       "      'floatingFixingUdl_': '',\n",
       "      'amortizationFactor_': 1.0}]}}}}"
      ]
     },
     "execution_count": 44,
     "metadata": {},
     "output_type": "execute_result"
    }
   ],
   "source": [
    "#val_date = refdate + dt.timedelta(days=180)\n",
    "val_date = ref_date\n",
    "pricing_data_simple.spec = float_coupon_bond\n",
    "pricing_data_simple.valDate = val_date\n",
    "pricing_data_simple.discountCurve = mkt_testdata.InterestRate.Curves.EONIA(val_date)\n",
    "pricing_data_simple.fixingCurve = mkt_testdata.InterestRate.Curves.EONIA(val_date)\n",
    "pricing_data_simple.pastFixing = 0.015\n",
    "results = pyvacon.pricing.price(pricing_data_simple)\n",
    "print(pricing_data_simple.spec.getObjectId()\n",
    "      + ', dirty price: ' + str(results.getPrice())\n",
    "      + ', clean price: ' + str(results.getCleanPrice())\n",
    "     )\n",
    "pricing_data_simple.spec.get_dictionary()"
   ]
  },
  {
   "cell_type": "markdown",
   "metadata": {},
   "source": [
    "#### Fixed-to-Float Rate Bond Valuation\n",
    "Finally, the following parameters are needed for the valuation of a fixed-to-float bond additonal to the bond specification:\n",
    "* Valuation Date\n",
    "* Discount Curve (at valuation date)\n",
    "* Fixing Curve (at valuation date)\n",
    "</ul>\n",
    "The past fixing is not needed as the first floating rate coupon period is fully in the future."
   ]
  },
  {
   "cell_type": "code",
   "execution_count": 26,
   "metadata": {
    "ExecuteTime": {
     "end_time": "2020-07-17T07:10:18.319040Z",
     "start_time": "2020-07-17T07:10:18.281278Z"
    }
   },
   "outputs": [
    {
     "name": "stdout",
     "output_type": "stream",
     "text": [
      "Test_Fixed_to_Float_Bond, dirty price: 103.2457275204556, clean price: 103.2457275204556\n"
     ]
    }
   ],
   "source": [
    "#val_date = refdate + dt.timedelta(days=180)\n",
    "val_date = ref_date\n",
    "pricing_data_simple.spec = fixed_to_float_bond\n",
    "pricing_data_simple.valDate = val_date\n",
    "pricing_data_simple.discountCurve = mkt_testdata.InterestRate.Curves.EONIA(val_date)\n",
    "pricing_data_simple.fixingCurve = mkt_testdata.InterestRate.Curves.EONIA(val_date)\n",
    "results = pyvacon.pricing.price(pricing_data_simple)\n",
    "print(pricing_data_simple.spec.getObjectId()\n",
    "      + ', dirty price: ' + str(results.getPrice())\n",
    "      + ', clean price: ' + str(results.getCleanPrice())\n",
    "     )"
   ]
  },
  {
   "cell_type": "markdown",
   "metadata": {},
   "source": [
    "### Additional Output"
   ]
  },
  {
   "cell_type": "markdown",
   "metadata": {},
   "source": [
    "#### Macaulay Duration\n",
    "Macaulay duration, named for Frederick Macaulay who introduced the concept, is the weighted average maturity of cashflows. Consider some set of fixed cashflows. The present value of these cashflows is:\n",
    "\n",
    "$$V=\\sum _{i=1}^{n}PV_{i}$$\n",
    "\n",
    "The Macaulay duration is defined as:\n",
    "\n",
    "$$\\text{MacD} = {\\frac {\\sum _{i=1}^{n}{t_{i}PV_{i}}}{\\sum _{i=1}^{n}{PV_{i}}}}={\\frac {\\sum _{i=1}^{n}{t_{i}PV_{i}}}{V}}=\\sum _{i=1}^{n}t_{i}{\\frac {PV_{i}}{V}}$$\n",
    "\n",
    "where:\n",
    "- $i$ indexes the cashflows,\n",
    "- $PV_{i}$ is the present value of the $i$th cash payment from an asset,\n",
    "- $t_{i}$ is the time in years until the $i$th payment will be received,\n",
    "- $V$ is the present value of all future cash payments from the asset.\n",
    "\n",
    "**NOTE**: To compute the year fraction $t_i$ we use the day counter of the underlying discount curve.\n",
    "\n",
    "<font color='orange'>**TODO**: Explain Macaulay duration for JLT.</font>"
   ]
  },
  {
   "cell_type": "markdown",
   "metadata": {},
   "source": [
    "#### Modified Duration\n",
    "In contrast to Macaulay duration, modified duration (sometimes abbreviated MD) is a price sensitivity measure, defined as the percentage derivative of price with respect to yield (the logarithmic derivative of bond price with respect to yield). Modified duration applies when a bond or other asset is considered as a function of yield. In this case one can measure the logarithmic derivative with respect to yield $y$:\n",
    "\n",
    "$$ \\text{ModD}(y)\\equiv -{\\frac {1}{V}}\\cdot {\\frac {\\partial V}{\\partial y}}=-{\\frac {\\partial \\ln(V)}{\\partial y}}$$"
   ]
  },
  {
   "cell_type": "markdown",
   "metadata": {},
   "source": [
    "##### Modified Duration for constant yield\n",
    "When the yield is expressed continuously compounded, Macaulay duration and modified duration are numerically equal. To see this, if we take the derivative of price or present value with respect to the continuously compounded yield $y$ we see that:\n",
    "\n",
    "$$\\frac {\\partial V}{\\partial y}=-\\sum _{i=1}^{n}t_{i}\\cdot CF_{i}\\cdot e^{-y\\cdot t_{i}} = - \\text{MacD}\\cdot V,$$\n",
    "\n",
    "In other words, for yields expressed continuously compounded, $\\text{ModD} = \\text{MacD}$.\n",
    "\n",
    "When the yield is expressed periodically compounded, e.g. annually or semi-annually, the bond value becomes:\n",
    "\n",
    "$$V(y_{k}) = \\sum _{i=1}^{n} \\frac{CF_{i}}{(1+y_{k}/k)^{k\\cdot t_{i}}}$$\n",
    "\n",
    "and the modified duration can be derived from:\n",
    "\n",
    "$$\\frac{\\partial V}{\\partial y_{k}}\n",
    "= - \\frac{1}{1+y_{k}/k} \\cdot \\sum _{i=1}^{n} t_{i}\\cdot \\frac{CF_{i}}{(1+y_{k}/k)^{k\\cdot t_{i}}}\n",
    "= - \\frac{\\text{MacD}\\cdot V(y_{k})}{1+y_{k}/k},$$\n",
    "\n",
    "i.e. for yields expressed periodically compounded the modified duration and Macaulay duration fulfill the following well-known relationship:\n",
    "\n",
    "$$\\text{ModD} = \\frac{\\text{MacD}}{1+y_{k}/k},$$\n",
    "\n",
    "where:\n",
    "- $i$ indexes the cash flows,\n",
    "- $k$ is the compounding frequency per year (1 for annual, 2 for semi-annual, etc.),\n",
    "- $CF_{i}$ is the cash flow of the $i$th payment from an asset,\n",
    "- $t_{i}$ is the time in years until the $i$th payment will be received,\n",
    "- $y_{k}$ is the yield to maturity for an asset, periodically compounded\n",
    "- $V$ is the present value of all cash payments from the asset.\n",
    "\n",
    "**Note**: While the Macaulay duration provides a weighted average *maturity*, i.e. it is measured in years, the modified duration describes the price sensitivity, i.e. the percentage change in price for a unit change in yield, and has, thus, no dimension/unit. <br>\n",
    "As both the Macauly and the modified duration do not take into account yield dependent cashflows they really make sense for fixed rate bonds only."
   ]
  },
  {
   "cell_type": "markdown",
   "metadata": {},
   "source": [
    "#### Rho\n",
    "Often we are interested in the price sensitivity with regards to the zero rates rather than with regards to the yield. This zero rate sensitivity is usually called $\\rho$ (\"rho\") as in the equity sector. The bond's zero rate sensitivity is closely related to the modified duration."
   ]
  },
  {
   "cell_type": "markdown",
   "metadata": {},
   "source": [
    "##### Modified Duration for zero rates\n",
    "Replacing the flat yield by the discount curve's time dependent zero rates $r(t_i)$ we get the followin grelationship between the modified duration and the first derivative $\\rho$ with regards to the zero rate:\n",
    "\n",
    "$$\\rho = \\frac{\\partial V}{\\partial r} = - \\, \\text{ModD}\\cdot V(r(t_i)) \\,.$$\n",
    "\n",
    "The negative sign indicates that the bond price rises if the zero rates falls."
   ]
  },
  {
   "cell_type": "markdown",
   "metadata": {},
   "source": [
    "##### Bond Pricer Configuration for Macaulay Duration and Rho"
   ]
  },
  {
   "cell_type": "code",
   "execution_count": 27,
   "metadata": {
    "ExecuteTime": {
     "end_time": "2020-07-17T07:10:18.334663Z",
     "start_time": "2020-07-17T07:10:18.319040Z"
    }
   },
   "outputs": [],
   "source": [
    "pricing_data_simple.pricingRequest.setMacaulayDuration(True)\n",
    "pricing_data_simple.pricingRequest.setRho(True)"
   ]
  },
  {
   "cell_type": "code",
   "execution_count": 28,
   "metadata": {
    "ExecuteTime": {
     "end_time": "2020-07-17T07:10:18.365910Z",
     "start_time": "2020-07-17T07:10:18.334663Z"
    }
   },
   "outputs": [
    {
     "name": "stdout",
     "output_type": "stream",
     "text": [
      "Test_Fixed_Rate_Bond Dirty Price:      104.23, Macaulay Duration:  4.91\n",
      "                     Clean Price:      104.23, Modified Duration:  4.91\n",
      "                             Rho:     -511.47\n"
     ]
    }
   ],
   "source": [
    "val_date = ref_date\n",
    "pricing_data_simple.spec = fixed_coupon_bond\n",
    "pricing_data_simple.valDate = val_date\n",
    "pricing_data_simple.discountCurve = mkt_testdata.InterestRate.Curves.EONIA(val_date)\n",
    "results = pyvacon.pricing.price(pricing_data_simple)\n",
    "print('{0:20s} Dirty Price: {1:11,.2f}, Macaulay Duration: {2:5.2f}'\n",
    "      .format(pricing_data_simple.spec.getObjectId(), results.getPrice(), results.getMacaulayDuration()))\n",
    "print('{0:20s} Clean Price: {1:11,.2f}, Modified Duration: {2:5.2f}'\n",
    "      .format('', results.getCleanPrice(), - results.getRho('EONIA')/results.getCleanPrice()))\n",
    "print('{0:28s} Rho: {1:11,.2f}'.format('', results.getRho('EONIA')))"
   ]
  },
  {
   "cell_type": "markdown",
   "metadata": {},
   "source": [
    "##### Example: Fixed Rate Bond\n",
    "For the calculation of the Macaulay duration and rho for a fixed rate bond we provide specific market data. Thus, we can test the price sensitivity by the evaluation with shifted zero rates."
   ]
  },
  {
   "cell_type": "code",
   "execution_count": 29,
   "metadata": {
    "ExecuteTime": {
     "end_time": "2020-07-17T07:10:18.419296Z",
     "start_time": "2020-07-17T07:10:18.365910Z"
    }
   },
   "outputs": [
    {
     "name": "stdout",
     "output_type": "stream",
     "text": [
      "Test_Fixed_Rate_Bond Dirty Price:       103.88, Macaulay Duration:   4.91\n",
      "                     Clean Price:       103.88, Modified Duration:   4.91\n",
      "                     Rho * Shift:        -0.05, Rho:              -509.72\n",
      "Test_Fixed_Rate_Bond Dirty Price:       103.83, Clean Price:       103.83\n"
     ]
    }
   ],
   "source": [
    "val_date = ref_date\n",
    "pricing_data_simple.spec = fixed_coupon_bond\n",
    "pricing_data_simple.valDate = val_date\n",
    "# Pricing with unshifted OIS curve\n",
    "pricing_data_simple.discountCurve = dc_OIS\n",
    "results = pyvacon.pricing.price(pricing_data_simple)\n",
    "print('{0:20s} Dirty Price: {1:12,.2f}, Macaulay Duration: {2:6.2f}'\n",
    "      .format(pricing_data_simple.spec.getObjectId(), results.getPrice(), results.getMacaulayDuration()))\n",
    "print('{0:20s} Clean Price: {1:12,.2f}, Modified Duration: {2:6.2f}'\n",
    "      .format('', results.getCleanPrice(), - results.getRho('EUROIS')/results.getCleanPrice()))\n",
    "print('{0:20s} Rho * Shift: {1:12,.2f}, Rho: {2:20,.2f}'\n",
    "      .format('', results.getRho('EUROIS')*shift, results.getRho('EUROIS')))\n",
    "# Pricing with shifted OIS curve\n",
    "pricing_data_simple.discountCurve = shifted_dc_OIS\n",
    "results = pyvacon.pricing.price(pricing_data_simple)\n",
    "print('{0:20s} Dirty Price: {1:12,.2f}, Clean Price: {2:12,.2f}'\n",
    "      .format(pricing_data_simple.spec.getObjectId(), results.getPrice(), results.getCleanPrice()))"
   ]
  },
  {
   "cell_type": "markdown",
   "metadata": {},
   "source": [
    "As expected, the modified duration is very close to the Macaulay duration and provides a first order approximation for the relative bond price change associated with changes of the discount curve $r(t)$."
   ]
  },
  {
   "cell_type": "markdown",
   "metadata": {},
   "source": [
    "#### Convexity\n",
    "For marginal changes of the zero rates the modified duration reasonably approximates the bond's price change. For largers zero rate movements, however, the second order derivative of the price w.r.t. the zero rates is needed. This second order derivative is called convexity."
   ]
  },
  {
   "cell_type": "markdown",
   "metadata": {},
   "source": [
    "##### Bond Pricer Configuration for the Convexity"
   ]
  },
  {
   "cell_type": "code",
   "execution_count": 30,
   "metadata": {
    "ExecuteTime": {
     "end_time": "2020-07-17T07:10:18.434920Z",
     "start_time": "2020-07-17T07:10:18.419296Z"
    }
   },
   "outputs": [],
   "source": [
    "pricing_data_simple.pricingRequest.setConvexity(True)"
   ]
  },
  {
   "cell_type": "code",
   "execution_count": 31,
   "metadata": {
    "ExecuteTime": {
     "end_time": "2020-07-17T07:10:18.466168Z",
     "start_time": "2020-07-17T07:10:18.434920Z"
    }
   },
   "outputs": [
    {
     "name": "stdout",
     "output_type": "stream",
     "text": [
      "Test_Fixed_Rate_Bond Dirty Price:        104.23, Macaulay Duration:  4.91\n",
      "                     Clean Price:        104.23, Modified Duration:  4.91\n",
      "                             Rho:       -511.47, Convexity:      2,538.79\n"
     ]
    }
   ],
   "source": [
    "val_date = ref_date\n",
    "pricing_data_simple.spec = fixed_coupon_bond\n",
    "pricing_data_simple.valDate = val_date\n",
    "pricing_data_simple.discountCurve = mkt_testdata.InterestRate.Curves.EONIA(val_date)\n",
    "results = pyvacon.pricing.price(pricing_data_simple)\n",
    "print('{0:20s} Dirty Price: {1:13,.2f}, Macaulay Duration: {2:5.2f}'\n",
    "      .format(pricing_data_simple.spec.getObjectId(), results.getPrice(), results.getMacaulayDuration()))\n",
    "print('{0:20s} Clean Price: {1:13,.2f}, Modified Duration: {2:5.2f}'\n",
    "      .format('', results.getCleanPrice(), - results.getRho('EONIA')/results.getCleanPrice()))\n",
    "print('{0:28s} Rho: {1:13,.2f}, Convexity: {2:13,.2f}'.format('', results.getRho('EONIA'), results.getConvexity()))"
   ]
  },
  {
   "cell_type": "markdown",
   "metadata": {},
   "source": [
    "##### Example: Fixed Rate Bond\n",
    "Similar to the testing of $\\rho$ we check the convexity with our own market data."
   ]
  },
  {
   "cell_type": "code",
   "execution_count": 32,
   "metadata": {
    "ExecuteTime": {
     "end_time": "2020-07-17T07:10:18.497416Z",
     "start_time": "2020-07-17T07:10:18.466168Z"
    }
   },
   "outputs": [
    {
     "name": "stdout",
     "output_type": "stream",
     "text": [
      "Test_Fixed_Rate_Bond Dirty Price:       103.88, Macaulay Duration:   4.91\n",
      "                     Clean Price:       103.88, Modified Duration:   4.91\n",
      "                     Rho * Shift:        -0.05, Rho:              -509.72\n",
      "                     1/2*Conv.*Shift^2:   0.00, Convexity:       2,530.03\n",
      "Test_Fixed_Rate_Bond Dirty Price:       103.83, Clean Price:      103.83\n"
     ]
    }
   ],
   "source": [
    "val_date = ref_date\n",
    "pricing_data_simple.spec = fixed_coupon_bond\n",
    "pricing_data_simple.valDate = val_date\n",
    "# Pricing with unshifted OIS curve\n",
    "pricing_data_simple.discountCurve = dc_OIS\n",
    "results = pyvacon.pricing.price(pricing_data_simple)\n",
    "print('{0:20s} Dirty Price: {1:12,.2f}, Macaulay Duration: {2:6.2f}'\n",
    "      .format(pricing_data_simple.spec.getObjectId(), results.getPrice(), results.getMacaulayDuration()))\n",
    "print('{0:20s} Clean Price: {1:12,.2f}, Modified Duration: {2:6.2f}'\n",
    "      .format('', results.getCleanPrice(), - results.getRho('EUROIS')/results.getCleanPrice()))\n",
    "print('{0:20s} Rho * Shift: {1:12,.2f}, Rho: {2:20,.2f}'\n",
    "      .format('', results.getRho('EUROIS')*shift, results.getRho('EUROIS')))\n",
    "print('{0:20s} 1/2*Conv.*Shift^2: {1:6,.2f}, Convexity: {2:14,.2f}'.\n",
    "      format('', results.getConvexity()*shift**2/2, results.getConvexity()))\n",
    "# Pricing with shifted OIS curve\n",
    "pricing_data_simple.discountCurve = shifted_dc_OIS\n",
    "results = pyvacon.pricing.price(pricing_data_simple)\n",
    "print('{0:20s} Dirty Price: {1:12,.2f}, Clean Price: {2:11,.2f}'\n",
    "      .format(pricing_data_simple.spec.getObjectId(), results.getPrice(), results.getCleanPrice()))"
   ]
  },
  {
   "cell_type": "markdown",
   "metadata": {},
   "source": [
    "As expected from the bond price's Taylor expansion\n",
    "\n",
    "$$V(r + dr) - V(r) = \\frac{\\partial V}{\\partial r} \\cdot dr \n",
    "                   + \\frac{1}{2} \\frac{\\partial^2 V}{\\partial r^2} \\cdot dr^2 + \\ldots\n",
    "                   = \\rho dr + \\frac{1}{2} \\, \\text{convexity} \\cdot dr^2 + \\ldots$$\n",
    "\n",
    "the bond's price change associated with changes of the zero rates is even better approximated including the convexity than with the first order derivative $\\rho$ alone."
   ]
  },
  {
   "cell_type": "markdown",
   "metadata": {},
   "source": [
    "#### Yield to maturity (YTM)\n",
    "The yield to maturity (YTM), book yield or redemption yield of a bond is the (theoretical) internal rate of return (IRR, overall interest rate) earned by an investor who buys the bond today at the market price, assuming that the bond is held until maturity, and that all coupon and principal payments are made on schedule.\n",
    "<br><br>\n",
    "$$\n",
    "V = \\sum_{i=1}^n df_y(t_i) \\cdot CF_i\n",
    "  = \\left\\{ \\begin{array}{ll}\n",
    "    \\sum_{i=1}^n CF_i \\cdot e^{-y \\cdot t_i} & \\qquad \\text{(continuous compounding)} \\\\\n",
    "    \\sum_{i=1}^n \\frac{CF_i}{(1+y)^{t_i}}    & \\qquad \\text{(discrete compounding)}      \\end{array} \\right.\n",
    "$$\n",
    "\n",
    "The YTM is often given in terms of Annual Percentage Rate (A.P.R.), but more often market convention is followed. In a number of major markets (such as gilts) the convention is to quote annualized yields with semi-annual compounding (see compound interest)\n",
    "<br><br>\n",
    "$$\n",
    "V = \\sum_{i=1}^n \\frac{CF_i}{(1+y/k)^{k \\cdot t_i}}\n",
    "$$\n",
    "<br>\n",
    "Thus, for example, an annual effective yield of 10.25% would be quoted as 10.00%, because 1.05 × 1.05 = 1.1025 and 2 × 5 = 10.\n",
    "\n",
    "**Note**: The YTM computed by the BondPricer is the continuously compounded rate w.r.t. the day counter of the respective discount curve used for pricing the product."
   ]
  },
  {
   "cell_type": "markdown",
   "metadata": {},
   "source": [
    "##### Bond Price Configuration for the Yield-to-Maturity"
   ]
  },
  {
   "cell_type": "code",
   "execution_count": 33,
   "metadata": {
    "ExecuteTime": {
     "end_time": "2020-07-17T07:10:18.519553Z",
     "start_time": "2020-07-17T07:10:18.497416Z"
    }
   },
   "outputs": [],
   "source": [
    "pricing_data_simple.pricingRequest.setYTM(True)"
   ]
  },
  {
   "cell_type": "markdown",
   "metadata": {},
   "source": [
    "##### Example: Zero Bond"
   ]
  },
  {
   "cell_type": "code",
   "execution_count": 34,
   "metadata": {
    "ExecuteTime": {
     "end_time": "2020-07-17T07:10:18.535176Z",
     "start_time": "2020-07-17T07:10:18.519553Z"
    }
   },
   "outputs": [
    {
     "name": "stdout",
     "output_type": "stream",
     "text": [
      "Test_Zero_Bond       Dirty Price:       98.91, Clean Price:       98.91, Yield-to-Maturity:      0.0022\n"
     ]
    }
   ],
   "source": [
    "val_date = ref_date\n",
    "pricing_data_simple.spec = zero_bond\n",
    "pricing_data_simple.valDate = val_date\n",
    "pricing_data_simple.discountCurve = dc_OIS\n",
    "results = pyvacon.pricing.price(pricing_data_simple)\n",
    "print('{0:20s} Dirty Price: {1:11,.2f}, Clean Price: {2:11,.2f}, Yield-to-Maturity: {3:11,.4f}'\n",
    "      .format(pricing_data_simple.spec.getObjectId(), results.getPrice(), results.getCleanPrice(), results.getYTM()))"
   ]
  },
  {
   "cell_type": "markdown",
   "metadata": {},
   "source": [
    "##### Example: Fixed Rate Bond"
   ]
  },
  {
   "cell_type": "code",
   "execution_count": 35,
   "metadata": {
    "ExecuteTime": {
     "end_time": "2020-07-17T07:10:18.566423Z",
     "start_time": "2020-07-17T07:10:18.535176Z"
    }
   },
   "outputs": [
    {
     "name": "stdout",
     "output_type": "stream",
     "text": [
      "Test_Fixed_Rate_Bond Dirty Price:      103.88, Clean Price:      103.88, Yield-to-Maturity:      0.0022\n"
     ]
    }
   ],
   "source": [
    "val_date = ref_date\n",
    "pricing_data_simple.spec = fixed_coupon_bond\n",
    "pricing_data_simple.valDate = val_date\n",
    "pricing_data_simple.discountCurve = dc_OIS\n",
    "results = pyvacon.pricing.price(pricing_data_simple)\n",
    "print('{0:20s} Dirty Price: {1:11,.2f}, Clean Price: {2:11,.2f}, Yield-to-Maturity: {3:11,.4f}'\n",
    "      .format(pricing_data_simple.spec.getObjectId(), results.getPrice(), results.getCleanPrice(), results.getYTM()))"
   ]
  },
  {
   "cell_type": "markdown",
   "metadata": {},
   "source": [
    "For continuously compounded discount factors and flat zero rate curves the yield-to-maturity is equal to the constant zero rate."
   ]
  },
  {
   "cell_type": "markdown",
   "metadata": {},
   "source": [
    "#### Theta\n",
    "The Greek $\\vartheta$ ('Theta') describes the change of the bond's price with regards to changes to the term to maturity.\n",
    "\n",
    "$$\\vartheta = \\frac{\\partial V}{\\partial t}$$\n",
    "\n",
    "Thus, for continuous compounding there is the following simple relationship between $\\vartheta$ and the bond price $V$ using the yield-to-maturity $y$:\n",
    "\n",
    "$$\\vartheta  = - y \\sum_{i=1}^n CF_i \\cdot e^{- y \\cdot t_i} = - y \\cdot V$$"
   ]
  },
  {
   "cell_type": "markdown",
   "metadata": {},
   "source": [
    "##### Bond Price Configuration for Theta"
   ]
  },
  {
   "cell_type": "code",
   "execution_count": 36,
   "metadata": {
    "ExecuteTime": {
     "end_time": "2020-07-17T07:10:18.582048Z",
     "start_time": "2020-07-17T07:10:18.566423Z"
    }
   },
   "outputs": [],
   "source": [
    "pricing_data_simple.pricingRequest.setTheta(True)"
   ]
  },
  {
   "cell_type": "markdown",
   "metadata": {},
   "source": [
    "##### Example: Zero Bond"
   ]
  },
  {
   "cell_type": "code",
   "execution_count": 37,
   "metadata": {
    "ExecuteTime": {
     "end_time": "2020-07-17T07:10:18.619809Z",
     "start_time": "2020-07-17T07:10:18.582048Z"
    }
   },
   "outputs": [
    {
     "name": "stdout",
     "output_type": "stream",
     "text": [
      "Test_Zero_Bond       Dirty Price:       98.91,               Theta:     -0.0000\n",
      "                     Clean Price:       98.91, - YTM * Dirty Price:     -0.0006\n",
      "Test_Zero_Bond       Dirty Price (shifted by dt = -0.0027y =  -1d):     98.9072\n",
      "Test_Zero_Bond       Dirty Price:                                       98.9072\n"
     ]
    }
   ],
   "source": [
    "val_date = ref_date\n",
    "pricing_data_simple.spec = zero_bond\n",
    "# Pricing of bond with unchanged maturity\n",
    "pricing_data_simple.valDate = val_date\n",
    "pricing_data_simple.discountCurve = dc_OIS\n",
    "results = pyvacon.pricing.price(pricing_data_simple)\n",
    "print('{0:20s} Dirty Price: {1:11,.2f},               Theta: {2:11,.4f}'\n",
    "      .format(pricing_data_simple.spec.getObjectId(), results.getPrice(), results.getTheta()))\n",
    "print('{0:20s} Clean Price: {1:11,.2f}, - YTM * Dirty Price: {2:11,.4f}'\n",
    "      .format('', results.getCleanPrice(), - results.getYTM()/365 * results.getPrice()))\n",
    "time_shift = -1\n",
    "print('{0:20s} Dirty Price (shifted by dt = {1:3,.4f}y = {2:3d}d): {3:11,.4f}'\n",
    "      .format(pricing_data_simple.spec.getObjectId(), time_shift/365, time_shift, \n",
    "              results.getPrice() + results.getTheta()*time_shift))\n",
    "# Pricing of bond with maturity shortened by one day\n",
    "val_date = ref_date - relativedelta(days=time_shift)\n",
    "pricing_data_simple.spec = zero_bond\n",
    "pricing_data_simple.valDate = val_date\n",
    "# Using unchanged market data\n",
    "pricing_data_simple.discountCurve = dc_OIS\n",
    "results = pyvacon.pricing.price(pricing_data_simple)\n",
    "print('{0:20s} Dirty Price: {1:45,.4f}'\n",
    "      .format(pricing_data_simple.spec.getObjectId(), results.getPrice()))"
   ]
  },
  {
   "cell_type": "markdown",
   "metadata": {},
   "source": [
    "##### Example: Fixed Rate Bond"
   ]
  },
  {
   "cell_type": "code",
   "execution_count": 38,
   "metadata": {
    "ExecuteTime": {
     "end_time": "2020-07-17T07:10:18.682303Z",
     "start_time": "2020-07-17T07:10:18.619809Z"
    }
   },
   "outputs": [
    {
     "name": "stdout",
     "output_type": "stream",
     "text": [
      "Test_Fixed_Rate_Bond Dirty Price:       103.88,               Theta:       -0.0000\n",
      "                     Clean Price:       103.88, - YTM * Dirty Price:       -0.0006\n",
      "Test_Fixed_Rate_Bond Dirty Price (shifted by dt = -0.00274y =  -1d):      103.8832\n",
      "Test_Fixed_Rate_Bond Dirty Price:                                         103.8832\n"
     ]
    }
   ],
   "source": [
    "val_date = ref_date\n",
    "pricing_data_simple.spec = fixed_coupon_bond\n",
    "# Pricing of bond with unchanged maturity\n",
    "pricing_data_simple.valDate = val_date\n",
    "pricing_data_simple.discountCurve = dc_OIS\n",
    "results = pyvacon.pricing.price(pricing_data_simple)\n",
    "print('{0:20s} Dirty Price: {1:12,.2f},               Theta: {2:13,.4f}'\n",
    "      .format(pricing_data_simple.spec.getObjectId(), results.getPrice(), results.getTheta()))\n",
    "print('{0:20s} Clean Price: {1:12,.2f}, - YTM * Dirty Price: {2:13,.4f}'\n",
    "      .format('', results.getCleanPrice(), - results.getYTM()/365 * results.getPrice()))\n",
    "time_shift = -1\n",
    "print('{0:20s} Dirty Price (shifted by dt = {1:3,.5f}y = {2:3d}d): {3:13,.4f}'\n",
    "      .format(pricing_data_simple.spec.getObjectId(), time_shift/365, time_shift, \n",
    "              results.getPrice() + results.getTheta()*time_shift))\n",
    "# Pricing of bond with maturity shortened by one day\n",
    "val_date = ref_date - relativedelta(days=time_shift)\n",
    "pricing_data_simple.spec = fixed_coupon_bond\n",
    "pricing_data_simple.valDate = val_date\n",
    "# Using unchanged market data\n",
    "pricing_data_simple.discountCurve = dc_OIS\n",
    "results = pyvacon.pricing.price(pricing_data_simple)\n",
    "print('{0:20s} Dirty Price: {1:48,.4f}'\n",
    "      .format(pricing_data_simple.spec.getObjectId(), results.getPrice()))"
   ]
  },
  {
   "cell_type": "markdown",
   "metadata": {},
   "source": [
    "# Inflation Linked Bonds\n",
    "In the following we see how we may price an inflation linked bond. In contrast to the plain vanilla bonds described in the previous section, all payments of an inflation linked bond are adjusted  in relation to a Consumer Price Index (CPI) value or a Retail Prices Index (RPI) value for a country. \n",
    "Note that such an index is usually computed on a monthly basis from the government of the respective country. Since payments of coupons and notional of the bond are not necessarily on an EOM basis, an interpolation of these indices is necessary, which is determined in the respective bond's term sheet. We will discuss the different interpolation conventions in the next section."
   ]
  },
  {
   "cell_type": "markdown",
   "metadata": {},
   "source": [
    "## Interpolation of Price Indices"
   ]
  },
  {
   "cell_type": "markdown",
   "metadata": {},
   "source": [
    "### Linear Interpolation\n",
    "One method often used is simple linear interpolation. Let $I(M_t)$ define the index value of the reference index for month $M_t$ belonging to time point $t$. Linear interpolation\n",
    "for a day $d$ in the month $M_t$ is defined by\n",
    "\n",
    "$$I(t) = \\frac{D_t - t + 1}{D_t} I(M_t) +  \\frac{t-1}{D_t} I(M_t+1)$$\n",
    "\n",
    "where $I(M_t+1)$ denotes the index belonging to the following month and $D_t$ is the number of days in the month $M_t$. This interpolation is most often used for bonds issued from Canada, USA, France, Germany, Italy and Sweden."
   ]
  },
  {
   "cell_type": "markdown",
   "metadata": {},
   "source": [
    "### Japanese Interpolation\n",
    "We call the following formula Japanese interpolation because it is commonly used for Japanese bonds. Here, the interpolation is defined piecewise depending on the day $t$ of the month.\n",
    "\n",
    "$$\n",
    "I(t) = \\left\\{ \\begin{array}{ll}\n",
    "       \\frac{10 - t}{{\\bar D}_t} I(M_t-1) + \\frac{{\\bar D}_t + t-10}{{\\bar D}_t} I(M_t)   & \\text{for} \\quad t < 10, \\\\\n",
    "       \\frac{D_t - t + 10}{D_t}  I(M_t)   + \\frac{t-10}{D_t}                     I(M_t+1) & \\text{for} \\quad t \\ge 10\n",
    "       \\end{array} \\right.\n",
    "$$\n",
    "\n",
    "where $D_t$ (and ${\\bar D}_t$) denotes the number of days between the 11th day of month $M_t$ (and $M_t-1$) and the 10th day of the month $M_t+1$ (and $M_t$, respectively)."
   ]
  },
  {
   "cell_type": "markdown",
   "metadata": {},
   "source": [
    "### Examples"
   ]
  },
  {
   "cell_type": "code",
   "execution_count": 39,
   "metadata": {
    "ExecuteTime": {
     "end_time": "2020-07-17T07:10:19.083334Z",
     "start_time": "2020-07-17T07:10:18.682303Z"
    },
    "code_folding": []
   },
   "outputs": [
    {
     "data": {
      "image/png": "[encoded data removed]",
      "text/plain": [
       "<Figure size 432x288 with 1 Axes>"
      ]
     },
     "metadata": {
      "needs_background": "light"
     },
     "output_type": "display_data"
    }
   ],
   "source": [
    "# plot inflation curves\n",
    "inflation_curve = mkt_testdata.Inflation.CPI(ref_date)\n",
    "dates = [ref_date + relativedelta(days=d) for d in range(20,80)]\n",
    "\n",
    "german = [inflation_curve.value(ref_date, date, InflationInterpolation.GERMAN) for date in dates]\n",
    "japan = [inflation_curve.value(ref_date, date, InflationInterpolation.JAPAN) for date in dates]\n",
    "const = [inflation_curve.value(ref_date, date, InflationInterpolation.CONSTANT) for date in dates]\n",
    "plt.plot(dates, const, '.', label = 'CONSTANT')\n",
    "plt.plot(dates, german, '.', label = 'GERMAN')\n",
    "plt.plot(dates, japan, '.', label = 'JAPAN')\n",
    "plt.xticks(rotation=70)\n",
    "legend = plt.legend()\n",
    "\n",
    "#DataFrame.from_dict({'date': dates_p, 'index': const, 'japan': japan})"
   ]
  },
  {
   "cell_type": "markdown",
   "metadata": {},
   "source": [
    "## Pricing"
   ]
  },
  {
   "cell_type": "markdown",
   "metadata": {},
   "source": [
    "### Pricing Data\n",
    "\n",
    "As explained in [Overview](../overview.ipynb), we need to setup the respective PricingData object which is *InflationLinkedBondPricingData* for inflation linkers. This object needs the following data\n",
    "- **spec**: An InflationLinkedBondSpecification object\n",
    "- **param**: BondPricingParameter that is mainly used to define the model, i.e. JLT or simple discounted cashflow\n",
    "- **discountCurve**: The discount curve used to discount all cashflows (in case of JLT this is the risk free discount curve, otherwise the risk adjusted discount curve)\n",
    "- **pricingRequest**: The pricing request defining which figures will be computed, e.g. YTM\n",
    "- **inflationFwdCurve**: A InflationIndexForwardCurve containing the estimated forward monthly inflation indices\n",
    "- **inflationFixingReference1**: The fixed inflation value needed to fix the base reference index by interpolation (only needed if base index ref date is before the valuation date)\n",
    "- **inflationFixingReference2**: The second fixed inflation value for the base index (two values are needed due to interpolation)\n",
    "- **inflationFixing1**: Fixed inflation index needed to compute inflation adjustment for the next cashflow\n",
    "- **inflationFixing2**: Fixed inflation index needed to compute inflation adjustment for the next cashflow"
   ]
  },
  {
   "cell_type": "code",
   "execution_count": 40,
   "metadata": {
    "ExecuteTime": {
     "end_time": "2020-07-17T07:10:19.098958Z",
     "start_time": "2020-07-17T07:10:19.083334Z"
    }
   },
   "outputs": [],
   "source": [
    "pricing_data_infl = pyvacon.pricing.InflationLinkedBondPricingData()\n",
    "pricing_data_infl.param = pyvacon.pricing.BondPricingParameter()\n",
    "pricing_data_infl.param.useJLT = False\n",
    "pricing_data_infl.discountCurve = mkt_testdata.InterestRate.Curves.EONIA(ref_date)\n",
    "pricing_data_infl.pricingRequest = pyvacon.pricing.PricingRequest()\n",
    "pricing_data_infl.pricingRequest.setPricingData(False)\n",
    "pricing_data_infl.pricingRequest.setCleanPrice(True)\n",
    "pricing_data_infl.pricingRequest.setMacaulayDuration(True)\n",
    "pricing_data_infl.pricingRequest.setRho(True)\n",
    "pricing_data_infl.pricingRequest.setConvexity(True)\n",
    "pricing_data_infl.pricingRequest.setYTM(True)\n",
    "pricing_data_infl.pricingRequest.setTheta(True)\n",
    "pricing_data_infl.inflationFwdCurve = inflation_curve\n",
    "pricing_data_infl.inflationFixingReference1 = 100\n",
    "pricing_data_infl.inflationFixingReference2 = 100\n",
    "pricing_data_infl.inflationFixing1 = 10000\n",
    "pricing_data_infl.inflationFixing2 = 10000\n",
    "pricing_data_infl.valDate = ref_date"
   ]
  },
  {
   "cell_type": "markdown",
   "metadata": {},
   "source": [
    "### InflationLinkedBondSpecification\n",
    "\n",
    "The <code>InflationLinkedBondSpecification</code> is similar to the <code>BondSpecification</code> (for details see [above](#Bond-Pricer-Configuration)). It just adds some inflation related information\n",
    "- **deflation protection**: This flag determines whether coupons and notional payments are also adjusted in case of deflation\n",
    "- **inflation interpolation**: This specifies the interpolation method from the methods described [above](#Interpolation-of-price-indices) to derive the inflation index for a certain day in the month. The values that can be used here are defined in <code>pyriva.enums.InflationInterpolation</code>. Currently these are:\n",
    "    * <code>pyriva.enums.InflationInterpolation.GERMAN</code>\n",
    "    * <code>pyriva.enums.InflationInterpolation.JAPANESE</code>\n",
    "    * <code>pyriva.enums.InflationInterpolation.CONSTANT</code>\n",
    "    * <code>pyriva.enums.InflationInterpolation.UNDEFINED</code>\n",
    "- **inflation lag**: Needed to compute the month of the respective inflation index used to determine cashflow adjustment (it defines the number of month  before the cashflow month to derive inflation index month used).\n",
    "- **inflation index**: Defines the inflation index used. This is only needed if automatic setup of pricing data will be used. Otherwise, just the inflation curve defined in the PricingData will be used and this string will be ignored.\n",
    "\n",
    "**Note**: Moreover, there are the following diffences between the argument lists of <code>BondSpecification</code> and <code>InflationLinkedBondSpecification</code>:\n",
    "- Order of <code>issue_date</code> and <code>expiry_date</code>\n",
    "- Coupon Description: <br>\n",
    "  While inflation linked bond specifications receive the coupon information as <code>coupon_schedule</code>, i.e. as <code>CouponDescription</code> object, plain vanilla bond specifications get the <code>coupon_dates, coupons</code> (for fixed rate coupons) and <code>reference_index, coupon_periods, spreads</code> (for floating rate coupons) explicitly."
   ]
  },
  {
   "cell_type": "code",
   "execution_count": 41,
   "metadata": {
    "ExecuteTime": {
     "end_time": "2020-07-17T07:10:19.199231Z",
     "start_time": "2020-07-17T07:10:19.098958Z"
    }
   },
   "outputs": [],
   "source": [
    "object_id = 'Test_Inflation_Bond'\n",
    "issuer = 'dummy_issuer'\n",
    "securitization_level = SecuritizationLevel.SENIOR_SECURED\n",
    "currency = 'EUR'\n",
    "issue_date = ref_date + relativedelta(days=20)\n",
    "maturity = 2\n",
    "expiry_date = issue_date + relativedelta(years=maturity)\n",
    "notional = 100.0\n",
    "\n",
    "coupon_schedule = []\n",
    "period = 12\n",
    "day_count_convention = DayCounter.ACT365_FIXED\n",
    "annualized_fixed_coupon = 0.05\n",
    "for k in range(int(12/period * maturity)):\n",
    "    accrual_start = ref_date + k*relativedelta(months=period)\n",
    "    accrual_end = ref_date + (k+1)*relativedelta(months=period)\n",
    "    payment_date = accrual_end + relativedelta(days=20)\n",
    "    coupon = pyvacon.instruments.CouponDescription(accrual_start, accrual_end, payment_date, \n",
    "                                                   day_count_convention, annualized_fixed_coupon)\n",
    "    coupon_schedule.append(coupon)\n",
    "\n",
    "inflationLag = 0\n",
    "infl_interpol_method = InflationInterpolation.GERMAN\n",
    "inflation_index = 'dummy_index'\n",
    "deflationProtection = False\n",
    "# inflation linked bond specification\n",
    "inflation_linked_bond = pyvacon.instruments.InflationLinkedBondSpecification(object_id, issuer,\n",
    "                                                                             securitization_level, currency,\n",
    "                                                                             issue_date, expiry_date, notional,\n",
    "                                                                             coupon_schedule, inflationLag,\n",
    "                                                                             infl_interpol_method,\n",
    "                                                                             inflation_index, deflationProtection)"
   ]
  },
  {
   "cell_type": "markdown",
   "metadata": {},
   "source": [
    "### Price Call"
   ]
  },
  {
   "cell_type": "code",
   "execution_count": 42,
   "metadata": {
    "ExecuteTime": {
     "end_time": "2020-07-17T07:10:19.236994Z",
     "start_time": "2020-07-17T07:10:19.199231Z"
    }
   },
   "outputs": [
    {
     "name": "stdout",
     "output_type": "stream",
     "text": [
      "Test_Inflation_Bond  Dirty Price:      112.23,   Macaulay Duration:  2.01\n",
      "                     Clean Price:      112.23,   Modified Duration:  2.01\n",
      "                     Rho * Shift:       -0.02,   Rho:             -225.55\n",
      "                     1/2*Conv.*Shift^2:  0.00,   Convexity:        458.14\n",
      "                     Yield-to-Maturity:  0.0015, Theta:             -0.0003\n"
     ]
    }
   ],
   "source": [
    "pricing_data_infl.spec = inflation_linked_bond\n",
    "results = pyvacon.pricing.price(pricing_data_infl)\n",
    "print('{0:20s} Dirty Price: {1:11,.2f},   Macaulay Duration: {2:5.2f}'\n",
    "      .format(pricing_data_infl.spec.getObjectId(), results.getPrice(), results.getMacaulayDuration()))\n",
    "print('{0:20s} Clean Price: {1:11,.2f},   Modified Duration: {2:5.2f}'\n",
    "      .format('', results.getCleanPrice(), - results.getRho('EONIA')/results.getCleanPrice()))\n",
    "print('{0:20s} Rho * Shift: {1:11,.2f},   Rho: {2:19.2f}'\n",
    "      .format('', results.getRho('EONIA')*shift, results.getRho('EONIA')))\n",
    "print('{0:20s} 1/2*Conv.*Shift^2: {1:5,.2f},   Convexity: {2:13,.2f}'.\n",
    "      format('', results.getConvexity()*shift**2/2, results.getConvexity()))\n",
    "print('{0:20s} Yield-to-Maturity: {1:7,.4f}, Theta: {2:19,.4f}'.\n",
    "      format('', results.getYTM(), results.getTheta()))"
   ]
  }
 ],
 "metadata": {
  "hide_input": false,
  "kernelspec": {
   "display_name": "Python 3",
   "language": "python",
   "name": "python3"
  },
  "language_info": {
   "codemirror_mode": {
    "name": "ipython",
    "version": 3
   },
   "file_extension": ".py",
   "mimetype": "text/x-python",
   "name": "python",
   "nbconvert_exporter": "python",
   "pygments_lexer": "ipython3",
   "version": "3.7.6"
  },
  "toc": {
   "base_numbering": 1,
   "nav_menu": {},
   "number_sections": true,
   "sideBar": true,
   "skip_h1_title": false,
   "title_cell": "Table of Contents",
   "title_sidebar": "Contents",
   "toc_cell": false,
   "toc_position": {
    "height": "967.552px",
    "left": "0px",
    "right": "1824.51px",
    "top": "65.7292px",
    "width": "409.267px"
   },
   "toc_section_display": true,
   "toc_window_display": true
  },
  "varInspector": {
   "cols": {
    "lenName": 16,
    "lenType": 16,
    "lenVar": 40
   },
   "kernels_config": {
    "python": {
     "delete_cmd_postfix": "",
     "delete_cmd_prefix": "del ",
     "library": "var_list.py",
     "varRefreshCmd": "print(var_dic_list())"
    },
    "r": {
     "delete_cmd_postfix": ") ",
     "delete_cmd_prefix": "rm(",
     "library": "var_list.r",
     "varRefreshCmd": "cat(var_dic_list()) "
    }
   },
   "types_to_exclude": [
    "module",
    "function",
    "builtin_function_or_method",
    "instance",
    "_Feature"
   ],
   "window_display": false
  }
 },
 "nbformat": 4,
 "nbformat_minor": 2
}

{
 "cells": [
  {
   "cell_type": "markdown",
   "metadata": {},
   "source": [
    "![](../images/rivacon_frontmark_combined_header.png)"
   ]
  },
  {
   "cell_type": "code",
   "execution_count": 15,
   "metadata": {
    "ExecuteTime": {
     "end_time": "2020-07-15T15:59:41.042096Z",
     "start_time": "2020-07-15T15:59:41.026472Z"
    }
   },
   "outputs": [],
   "source": [
    "from datetime import datetime, timedelta\n",
    "from dateutil.relativedelta import relativedelta\n",
    "from pyriva.enums import DBUdl\n",
    "from pyriva.enums import DayCounter\n",
    "from pyriva.enums import SecuritizationLevel\n",
    "from pyriva.instruments import ZeroBondSpecification\n",
    "from pyriva.instruments import FixedRateBondSpecification\n",
    "from pyriva.instruments import FloatingRateBondSpecification\n",
    "import pyriva"
   ]
  },
  {
   "cell_type": "code",
   "execution_count": 4,
   "metadata": {
    "ExecuteTime": {
     "end_time": "2020-07-15T15:06:13.818702Z",
     "start_time": "2020-07-15T15:06:13.787438Z"
    },
    "code_folding": []
   },
   "outputs": [],
   "source": [
    "if False:\n",
    "    #\n",
    "    import pyvacon\n",
    "    import datetime as dt\n",
    "\n",
    "    import pyvacon.marketdata.testdata as mkt_testdata\n",
    "    import pyvacon.tools.enums as enums\n",
    "    import pyvacon.marketdata.plot as mkt_plot\n",
    "    import pyvacon.models.plot as model_plot\n",
    "    import pyvacon.models.tools as model_tools\n",
    "\n",
    "    import matplotlib.pyplot as plt\n",
    "    %matplotlib inline\n",
    "\n",
    "    #%matplotlib qt\n",
    "    #%matplotlib notebook"
   ]
  },
  {
   "cell_type": "code",
   "execution_count": 5,
   "metadata": {
    "ExecuteTime": {
     "end_time": "2020-07-15T15:06:14.922473Z",
     "start_time": "2020-07-15T15:06:14.906916Z"
    }
   },
   "outputs": [],
   "source": [
    "pyriva.set_log_level('DEBUG')"
   ]
  },
  {
   "cell_type": "markdown",
   "metadata": {},
   "source": [
    "# Bonds"
   ]
  },
  {
   "cell_type": "markdown",
   "metadata": {},
   "source": [
    "## Setup Specifications"
   ]
  },
  {
   "cell_type": "markdown",
   "metadata": {},
   "source": [
    "### Reference Date\n",
    "The reference date defines any date a pricing is performed for. As pre-condition for a sucessful evaluation of a financial instrument all the relevant information, in particular the relevant market data, must be provided for this date. The first time pricing is relevant is the issue date. Therefore is often coincides with the reference date in this notebook."
   ]
  },
  {
   "cell_type": "code",
   "execution_count": 6,
   "metadata": {
    "ExecuteTime": {
     "end_time": "2020-07-15T15:06:17.615415Z",
     "start_time": "2020-07-15T15:06:17.599784Z"
    }
   },
   "outputs": [],
   "source": [
    "ref_date = datetime(2010, 1, 23)"
   ]
  },
  {
   "cell_type": "markdown",
   "metadata": {
    "heading_collapsed": true
   },
   "source": [
    "### General Bond Specification\n",
    "<code>pyriva</code> supports the specification of a wide class of bonds including\n",
    "- **Zero Bonds**: bonds without any coupon payment.\n",
    "- **Fixed Rate Bonds**: bonds with fixed coupons, i.e. the amount of the coupon payment is known when the bond is issued. \n",
    "- **Floating Rate Notes**: bonds with coupon payments that depend on a reference index and their amount, thus, depends on future, i.e. at bond issuance unknown, values of this reference index. It is possible to add coupon-specific spreads to the floating rate coupon payments. <br>\n",
    "Note: The specification of floating rate notes (FRNs) allows for different curves for discounting and fixing the cashflows. Decoupling the discount curve from the fixing curve is especially important for the acknowledgement of risk adjustments by adding (potentially time dependent) credit spreads to the discount curve in the discounted cashflow valuation model. In general, the FRN specification is <u>not</u> intended to be used for bonds with different dynamics in the discount and fixing curve, e.g. for bonds with 10y pension index used for fixing. The valuation of these bonds would require more sophisticated model or - at least - to include a convexity adjustment.\n",
    "- **Fixed-to-Float Bonds**: bonds with both, fixed coupons and coupons that depend on a reference index.\n",
    "- **Callable/Putable Bonds**: <font color='red'>... [SW] sobald die Schnittstelle zum bereits vorhandenen entsprechenden C++-Code angespasst ist ...</font>"
   ]
  },
  {
   "cell_type": "markdown",
   "metadata": {},
   "source": [
    "### Zero Bond\n",
    "A zero-coupon bond is a bond where the face notional is repaid at expiry. It does not have any so-called coupons, i.e. it does not make any periodic interest payments. When the bond reaches maturity, its investor receives its par (or face) value. Examples of zero-coupon bonds include U.S. Treasury bills, U.S. savings bonds, long-term zero-coupon bonds. "
   ]
  },
  {
   "cell_type": "code",
   "execution_count": 7,
   "metadata": {
    "ExecuteTime": {
     "end_time": "2020-07-15T15:06:19.883087Z",
     "start_time": "2020-07-15T15:06:19.867529Z"
    }
   },
   "outputs": [],
   "source": [
    "#help(ZeroBondSpecification)"
   ]
  },
  {
   "cell_type": "markdown",
   "metadata": {},
   "source": [
    "#### Minimal Specification\n",
    "The <code>ZeroBondSpecification</code> expects the following parameters:\n",
    "- **Object Id** <br>\n",
    "The object Id is a (preferably unique) identifying name (in string format) of the specified object, e.g. the ISIN. It is for identifiying purposes only, i.e. the bond valuation is not affected by the value for object Id.\n",
    "\n",
    "\n",
    "- **Currency** <br>\n",
    "Though the currency is not necessarily used in the pricer, it has to be available in the frontmark market data manager. Any input of a ISO currency code (ISO 4217) as three-letter-string shall be fine, e.g. <code>'EUR'</code>. The information is evaluated only for identifiying an appropriate risk adjusted discount curve unless it is provided manually.\n",
    "\n",
    "\n",
    "- **Issue Date** <br>\n",
    "Instrument's issue date in datetime format, e.g. <code>datetime(2017, 02, 20)</code>.\n",
    "\n",
    "\n",
    "- **Expiry Date** <br>\n",
    "Instrument's expiry date in datetime format, e.g. <code>datetime(2022, 02, 20)</code>. The expiry date determines the payment date of the notional. Obviously the expiry date must be after the issue date. The bond pricer does not account for the issue date as all future payments relevant for the bond's price are independent from the issue date. (The issue date is, however, used to double-check potential mistakes in defining coupon scheduls by validating that they are between issue and expiry date.)\n",
    "<br><font color='red'>[SW] Momentan könnte man ein expiry_date < issue_date eingeben. Wollen wir das verhindern?</font>"
   ]
  },
  {
   "cell_type": "code",
   "execution_count": 8,
   "metadata": {
    "ExecuteTime": {
     "end_time": "2020-07-15T15:06:21.989873Z",
     "start_time": "2020-07-15T15:06:21.974250Z"
    }
   },
   "outputs": [],
   "source": [
    "issue_date = ref_date\n",
    "maturity = 5\n",
    "expiry_date = issue_date + relativedelta(years = maturity)\n",
    "zero_bond = ZeroBondSpecification(obj_id = 'Test_Zero_Bond', curr = 'EUR', issue_date = issue_date, \n",
    "                                  expiry = expiry_date)\n",
    "# zero_bond.get_dictionary()"
   ]
  },
  {
   "cell_type": "markdown",
   "metadata": {},
   "source": [
    "##### Additional Specifications\n",
    "- **Notional** <br>\n",
    "Notional as float number, e.g. <code>100.0</code>. The notional is set to 200.0 if no notional is provided. Otherwise the notional must be positive.\n",
    "\n",
    "\n",
    "- **Issuer** <br>\n",
    "The bond issuer is given in string format. It could be used to identify an appropriate risk adjusted discount curve in the frontmark market data manager. In general, this market data manager provides mapping rules for the combination of \n",
    "<ul>\n",
    "    <li>the sector associated with the issuer,</li>\n",
    "    <li>the rating associated with the issuer,</li>\n",
    "    <li>the securitization level of the bond, and</li>\n",
    "    <li>the currency of the bond.</li>\n",
    "</ul>\n",
    "However, there the market data manager also allows for more specific mapping, e.g. for issuer specific spreads in order to consider idiosyncratic behaviour rather than sector and rating specific one, only. <br>\n",
    "If the discount curve is provided manually the issuer information is irrelevant for pricing. Thus, it is possible to provide a dummy issuer, e.g. by <code>'dummy_issuer'</code>. On the other hand, <code>pyriva.enums</code>has to provide a mapping of the chosen string to the issuer identifyer in the frontmark market data manager before you can make use of it.\n",
    "\n",
    "\n",
    "- **Securitisation Level** <br>\n",
    "Currently the following levels are supported:\n",
    "    * <code>pyriva.enums.SecuritizationLevel.NONE</code>\n",
    "    * <code>pyriva.enums.SecuritizationLevel.COLLATERALIZED</code>\n",
    "    * <code>pyriva.enums.SecuritizationLevel.SENIOR_SECURED</code>\n",
    "    * <code>pyriva.enums.SecuritizationLevel.SENIOR_UNSECURED</code>\n",
    "    * <code>pyriva.enums.SecuritizationLevel.SUBORDINATED</code>\n",
    "    * <code>pyriva.enums.SecuritizationLevel.MEZZANINE</code>\n",
    "    * <code>pyriva.enums.SecuritizationLevel.EQUITY</code>\n",
    "</ul>\n",
    "As mentioned above (see 'Issuer') the securitisation level is used for selecting an appropriate risk adjusted discount curve in the frontmark market data manager if you want to use it. The securitisation level is ignored if the discount curve is provided manually. However, one of the values listed above must be set in order to avoid error messages."
   ]
  },
  {
   "cell_type": "code",
   "execution_count": 16,
   "metadata": {
    "ExecuteTime": {
     "end_time": "2020-07-15T16:00:38.620972Z",
     "start_time": "2020-07-15T16:00:38.605348Z"
    }
   },
   "outputs": [],
   "source": [
    "issue_date = ref_date\n",
    "maturity = 5\n",
    "expiry_date = issue_date + relativedelta(years = maturity)\n",
    "issuer = DBUdl.BMW\n",
    "sec_level = SecuritizationLevel.NONE\n",
    "zero_bond_extended = ZeroBondSpecification('Test_Zero_Bond', curr = 'EUR', issue_date = ref_date, \n",
    "                                           expiry = expiry_date, notional = 100.0, \n",
    "                                           issuer = issuer, sec_level = sec_level)\n",
    "# zero_bond.get_dictionary()"
   ]
  },
  {
   "cell_type": "markdown",
   "metadata": {},
   "source": [
    "### Fixed Coupon Bond"
   ]
  },
  {
   "cell_type": "code",
   "execution_count": 12,
   "metadata": {
    "ExecuteTime": {
     "end_time": "2020-07-15T15:07:09.240407Z",
     "start_time": "2020-07-15T15:07:09.209162Z"
    }
   },
   "outputs": [],
   "source": [
    "issue_date = ref_date\n",
    "maturity = 5\n",
    "expiry_date = issue_date + relativedelta(years=maturity)\n",
    "# generate coupon dates (ignoring roll conventions)\n",
    "period = 12\n",
    "coupon_dates = [issue_date + (n+1)*relativedelta(months=period) for n in range(int(maturity*12/period))]\n",
    "# define fixed rate coupons\n",
    "coupon = 0.01\n",
    "coupons = [coupon]*len(coupon_dates)\n",
    "fixed_coupon_bond = FixedRateBondSpecification(obj_id = 'Test_Fixed_Rate_Bond', curr = 'EUR',\n",
    "                                               issue_date = issue_date, expiry = expiry_date,\n",
    "                                               coupon_dates = coupon_dates, coupons = coupons)\n",
    "# fixed_coupon_bond.get_dictionary()"
   ]
  },
  {
   "cell_type": "markdown",
   "metadata": {},
   "source": [
    "### Float Coupon Bond"
   ]
  },
  {
   "cell_type": "code",
   "execution_count": 13,
   "metadata": {
    "ExecuteTime": {
     "end_time": "2020-07-15T15:07:12.188044Z",
     "start_time": "2020-07-15T15:07:12.072162Z"
    }
   },
   "outputs": [
    {
     "ename": "NameError",
     "evalue": "name 'dt' is not defined",
     "output_type": "error",
     "traceback": [
      "\u001b[1;31m---------------------------------------------------------------------------\u001b[0m",
      "\u001b[1;31mNameError\u001b[0m                                 Traceback (most recent call last)",
      "\u001b[1;32m<ipython-input-13-c1496684d3de>\u001b[0m in \u001b[0;36m<module>\u001b[1;34m\u001b[0m\n\u001b[1;32m----> 1\u001b[1;33m \u001b[0mcoupon_dates\u001b[0m \u001b[1;33m=\u001b[0m \u001b[1;33m[\u001b[0m\u001b[0mdt\u001b[0m\u001b[1;33m.\u001b[0m\u001b[0mdatetime\u001b[0m\u001b[1;33m(\u001b[0m\u001b[0my\u001b[0m\u001b[1;33m,\u001b[0m \u001b[1;36m2\u001b[0m\u001b[1;33m,\u001b[0m \u001b[1;36m20\u001b[0m\u001b[1;33m)\u001b[0m \u001b[1;32mfor\u001b[0m \u001b[0my\u001b[0m \u001b[1;32min\u001b[0m \u001b[1;33m[\u001b[0m\u001b[1;36m2018\u001b[0m\u001b[1;33m,\u001b[0m\u001b[1;36m2019\u001b[0m\u001b[1;33m,\u001b[0m\u001b[1;36m2020\u001b[0m\u001b[1;33m,\u001b[0m\u001b[1;36m2021\u001b[0m\u001b[1;33m]\u001b[0m\u001b[1;33m]\u001b[0m\u001b[1;33m\u001b[0m\u001b[1;33m\u001b[0m\u001b[0m\n\u001b[0m\u001b[0;32m      2\u001b[0m \u001b[0mspreads\u001b[0m \u001b[1;33m=\u001b[0m \u001b[1;33m[\u001b[0m\u001b[1;36m1.0\u001b[0m\u001b[1;33m]\u001b[0m\u001b[1;33m*\u001b[0m\u001b[0mlen\u001b[0m\u001b[1;33m(\u001b[0m\u001b[0mcoupon_dates\u001b[0m\u001b[1;33m)\u001b[0m\u001b[1;33m\u001b[0m\u001b[1;33m\u001b[0m\u001b[0m\n\u001b[0;32m      3\u001b[0m float_coupon_bond = pyvacon.instruments.BondSpecification('Float_Coupon', 'DBK', enums.SecuritizationLevel.NONE, 'EUR', expiry, refdate, 100.0, \n\u001b[0;32m      4\u001b[0m                             \u001b[0menums\u001b[0m\u001b[1;33m.\u001b[0m\u001b[0mDayCounter\u001b[0m\u001b[1;33m.\u001b[0m\u001b[0mACT365_FIXED\u001b[0m\u001b[1;33m,\u001b[0m \u001b[1;33m[\u001b[0m\u001b[1;33m]\u001b[0m\u001b[1;33m,\u001b[0m \u001b[1;33m[\u001b[0m\u001b[1;33m]\u001b[0m\u001b[1;33m,\u001b[0m \u001b[1;34m'EUR6M'\u001b[0m\u001b[1;33m,\u001b[0m \u001b[0mcoupon_dates\u001b[0m\u001b[1;33m,\u001b[0m\u001b[1;33m\u001b[0m\u001b[1;33m\u001b[0m\u001b[0m\n\u001b[0;32m      5\u001b[0m                             spreads)\n",
      "\u001b[1;32m<ipython-input-13-c1496684d3de>\u001b[0m in \u001b[0;36m<listcomp>\u001b[1;34m(.0)\u001b[0m\n\u001b[1;32m----> 1\u001b[1;33m \u001b[0mcoupon_dates\u001b[0m \u001b[1;33m=\u001b[0m \u001b[1;33m[\u001b[0m\u001b[0mdt\u001b[0m\u001b[1;33m.\u001b[0m\u001b[0mdatetime\u001b[0m\u001b[1;33m(\u001b[0m\u001b[0my\u001b[0m\u001b[1;33m,\u001b[0m \u001b[1;36m2\u001b[0m\u001b[1;33m,\u001b[0m \u001b[1;36m20\u001b[0m\u001b[1;33m)\u001b[0m \u001b[1;32mfor\u001b[0m \u001b[0my\u001b[0m \u001b[1;32min\u001b[0m \u001b[1;33m[\u001b[0m\u001b[1;36m2018\u001b[0m\u001b[1;33m,\u001b[0m\u001b[1;36m2019\u001b[0m\u001b[1;33m,\u001b[0m\u001b[1;36m2020\u001b[0m\u001b[1;33m,\u001b[0m\u001b[1;36m2021\u001b[0m\u001b[1;33m]\u001b[0m\u001b[1;33m]\u001b[0m\u001b[1;33m\u001b[0m\u001b[1;33m\u001b[0m\u001b[0m\n\u001b[0m\u001b[0;32m      2\u001b[0m \u001b[0mspreads\u001b[0m \u001b[1;33m=\u001b[0m \u001b[1;33m[\u001b[0m\u001b[1;36m1.0\u001b[0m\u001b[1;33m]\u001b[0m\u001b[1;33m*\u001b[0m\u001b[0mlen\u001b[0m\u001b[1;33m(\u001b[0m\u001b[0mcoupon_dates\u001b[0m\u001b[1;33m)\u001b[0m\u001b[1;33m\u001b[0m\u001b[1;33m\u001b[0m\u001b[0m\n\u001b[0;32m      3\u001b[0m float_coupon_bond = pyvacon.instruments.BondSpecification('Float_Coupon', 'DBK', enums.SecuritizationLevel.NONE, 'EUR', expiry, refdate, 100.0, \n\u001b[0;32m      4\u001b[0m                             \u001b[0menums\u001b[0m\u001b[1;33m.\u001b[0m\u001b[0mDayCounter\u001b[0m\u001b[1;33m.\u001b[0m\u001b[0mACT365_FIXED\u001b[0m\u001b[1;33m,\u001b[0m \u001b[1;33m[\u001b[0m\u001b[1;33m]\u001b[0m\u001b[1;33m,\u001b[0m \u001b[1;33m[\u001b[0m\u001b[1;33m]\u001b[0m\u001b[1;33m,\u001b[0m \u001b[1;34m'EUR6M'\u001b[0m\u001b[1;33m,\u001b[0m \u001b[0mcoupon_dates\u001b[0m\u001b[1;33m,\u001b[0m\u001b[1;33m\u001b[0m\u001b[1;33m\u001b[0m\u001b[0m\n\u001b[0;32m      5\u001b[0m                             spreads)\n",
      "\u001b[1;31mNameError\u001b[0m: name 'dt' is not defined"
     ]
    }
   ],
   "source": [
    "coupon_dates = [dt.datetime(y, 2, 20) for y in [2018,2019,2020,2021]]\n",
    "spreads = [1.0]*len(coupon_dates)\n",
    "float_coupon_bond = pyvacon.instruments.BondSpecification('Float_Coupon', 'DBK', enums.SecuritizationLevel.NONE, 'EUR', expiry, refdate, 100.0, \n",
    "                            enums.DayCounter.ACT365_FIXED, [], [], 'EUR6M', coupon_dates, \n",
    "                            spreads)"
   ]
  },
  {
   "cell_type": "markdown",
   "metadata": {},
   "source": [
    "### Fixed-To-Float"
   ]
  },
  {
   "cell_type": "code",
   "execution_count": null,
   "metadata": {
    "ExecuteTime": {
     "end_time": "2020-05-01T08:38:36.379643Z",
     "start_time": "2020-05-01T08:38:36.313819Z"
    }
   },
   "outputs": [],
   "source": [
    "float_coupon_dates = [dt.datetime(y, 2, 20) for y in [2022,2023,2024]]\n",
    "float_spreads = [0.5]*3\n",
    "fix_to_float_bond = pyvacon.instruments.BondSpecification('Fixed_to_Float_Coupon', 'DBK', enums.SecuritizationLevel.NONE, 'EUR', expiry, refdate, 100.0, \n",
    "                            enums.DayCounter.ACT365_FIXED, coupon_dates, coupons, 'EUR6M', float_coupon_dates, \n",
    "                            float_spreads)"
   ]
  },
  {
   "cell_type": "markdown",
   "metadata": {},
   "source": [
    "## Pricing\n",
    "\n",
    "There are two different models to calculate the fair price of a bond. The simple discounted cashflow method and the Jarrow-Landau-Turnbull (JLT) model.\n",
    "### Simple discounted cashflows\n",
    "This method uses a (risk-adjusted) discount curve to discount all expected cashflows. To determine the expected cashflow of a floating coupon, the pricer just computes the forward rate from a explicitly defined fixing curve (also of type Discount curve). Let us assume that the bond has $N+1$ cashflows $c_i$, $1\\leq i\\leq N+1$ where the last cashflow is the payment of the principal. The cashflows $c_i$ occur at times $t_i$. Then, the value of the bond is given by\n",
    "$$\n",
    "V=\\sum_i df_i\\cdot c_i\n",
    "$$\n",
    "where $df_i$ is the discount factor at timepoint $i$. \n",
    "### JLT\n",
    "The JLT model "
   ]
  },
  {
   "cell_type": "code",
   "execution_count": null,
   "metadata": {
    "ExecuteTime": {
     "end_time": "2020-05-01T08:38:36.404577Z",
     "start_time": "2020-05-01T08:38:36.385628Z"
    }
   },
   "outputs": [],
   "source": [
    "pricing_data_simple = pyvacon.pricing.BondPricingData()\n",
    "pricing_data_simple.param = pyvacon.pricing.BondPricingParameter()\n",
    "pricing_data_simple.param.useJLT = False\n",
    "pricing_data_simple.discountCurve = mkt_testdata.InterestRate.Curves.EONIA(refdate)\n",
    "pricing_data_simple.pricingRequest = pyvacon.pricing.PricingRequest()\n",
    "pricing_data_simple.pricingRequest.setCleanPrice(True)\n",
    "pricing_data_simple.pricer = 'BondPricer'\n",
    "pricing_data_simple.valDate = refdate"
   ]
  },
  {
   "cell_type": "markdown",
   "metadata": {},
   "source": [
    "### Discounted Cashflow"
   ]
  },
  {
   "cell_type": "code",
   "execution_count": null,
   "metadata": {
    "ExecuteTime": {
     "end_time": "2020-05-01T08:38:36.607385Z",
     "start_time": "2020-05-01T08:38:36.408567Z"
    }
   },
   "outputs": [],
   "source": [
    "# pricing_data_simple: pricing data for simple pv calculation using discount curve\n",
    "#mkt_testdata.InterestRate.EUR12M()\n",
    "pricing_data_simple.spec = zero_bond\n",
    "results = pyvacon.pricing.price(pricing_data_simple)\n",
    "print(pricing_data_simple.spec.getObjectId() + ', dirty price: ' + str(results.getPrice()) + \",  clean price: \" + str(results.getCleanPrice()))"
   ]
  },
  {
   "cell_type": "code",
   "execution_count": null,
   "metadata": {
    "ExecuteTime": {
     "end_time": "2020-05-01T08:38:36.712168Z",
     "start_time": "2020-05-01T08:38:36.612373Z"
    }
   },
   "outputs": [],
   "source": [
    "pricing_data_simple.spec = fixed_coupon_bond\n",
    "results = pyvacon.pricing.price(pricing_data_simple)\n",
    "print(pricing_data_simple.spec.getObjectId() + ', dirty price: ' + str(results.getPrice()) + \",  clean price: \" + str(results.getCleanPrice()))"
   ]
  },
  {
   "cell_type": "code",
   "execution_count": null,
   "metadata": {
    "ExecuteTime": {
     "end_time": "2020-05-01T08:38:36.802923Z",
     "start_time": "2020-05-01T08:38:36.718153Z"
    }
   },
   "outputs": [],
   "source": [
    "pricing_data_simple.spec = float_coupon_bond\n",
    "pricing_data_simple.fixingCurve = mkt_testdata.InterestRate.Curves.EONIA(refdate)\n",
    "pricing_data_simple.pastFixing = 0.1\n",
    "results = pyvacon.pricing.price(pricing_data_simple)\n",
    "print(pricing_data_simple.spec.getObjectId() + ', dirty price: ' + str(results.getPrice()) + \",  clean price: \" + str(results.getCleanPrice()))"
   ]
  },
  {
   "cell_type": "code",
   "execution_count": null,
   "metadata": {
    "ExecuteTime": {
     "end_time": "2020-05-01T08:38:36.919610Z",
     "start_time": "2020-05-01T08:38:36.805914Z"
    }
   },
   "outputs": [],
   "source": [
    "pricing_data_simple.spec = fix_to_float_bond\n",
    "results = pyvacon.pricing.price(pricing_data_simple)\n",
    "print(pricing_data_simple.spec.getObjectId() + ', dirty price: ' + str(results.getPrice()) + \",  clean price: \" + str(results.getCleanPrice()))"
   ]
  },
  {
   "cell_type": "markdown",
   "metadata": {},
   "source": [
    "### Outputs\n",
    "#### Macaulay Duration\n",
    "Macaulay duration, named for Frederick Macaulay who introduced the concept, is the weighted average maturity of cashflows. Consider some set of fixed cashflows. The present value of these cashflows is:\n",
    "\n",
    "$$ V=\\sum _{i=1}^{n}PV_{i}V=\\sum _{i=1}^{n}PV_{i}$$\n",
    "The Macaulay duration is defined as:\n",
    "$$ MacD={\\frac {\\sum _{i=1}^{n}{t_{i}PV_{i}}}{\\sum _{i=1}^{n}{PV_{i}}}}={\\frac {\\sum _{i=1}^{n}{t_{i}PV_{i}}}{V}}=\\sum _{i=1}^{n}t_{i}{\\frac {PV_{i}}{V}}$$\n",
    "where:\n",
    "\n",
    "- $i$ indexes the cashflows,\n",
    "- $PV_{i}$ is the present value of the $i$th cash payment from an asset,\n",
    "- $t_{i}$ is the time in years until the $i$th payment will be received,\n",
    "- $V$ is the present value of all future cash payments from the asset.\n",
    "\n",
    "**NOTE:** To compute the year fraction $t_i$ we use the day counter of the underlying discount curve.\n",
    "\n",
    "**TODO**:Explain Macaulay duration for JLT.\n",
    "#### Modified Duration and Rho\n",
    "In contrast to Macaulay duration, modified duration (sometimes abbreviated MD) is a price sensitivity measure, defined as the percentage derivative of price with respect to yield (the logarithmic derivative of bond price with respect to yield). Modified duration applies when a bond or other asset is considered as a function of yield. In this case one can measure the logarithmic derivative with respect to yield:\n",
    "\n",
    "$$ ModD(y)\\equiv -{\\frac {1}{V}}\\cdot {\\frac {\\partial V}{\\partial y}}=-{\\frac {\\partial \\ln(V)}{\\partial y}}$$\n",
    "\n",
    "When the yield is expressed continuously compounded, Macaulay duration and modified duration are numerically equal. To see this, if we take the derivative of price or present value, expression (2), with respect to the continuously compounded yield $y$ we see that:\n",
    "\n",
    "$$\\frac {\\partial V}{\\partial y}=-\\sum _{i=1}^{n}t_{i}\\cdot CF_{i}\\cdot e^{-y\\cdot t_{i}}=-MacD\\cdot V,$$\n",
    "In other words, for yields expressed continuously compounded,\n",
    "$ModD=MacD$.\n",
    "\n",
    "We apply the above equation with the difference that instead of the flat yield we use the time dependend zero rates $r(t_i)$ from the discount curve used to discount the cashflows:\n",
    "$$\\frac {\\partial V}{\\partial y}=-\\sum _{i=1}^{n}t_{i}\\cdot CF_{i}\\cdot e^{-r(t_i)\\cdot t_{i}}=-MacD\\cdot V,$$.\n",
    "To be consistent with the equity part we store this modified duration as rho in the PricingResults object."
   ]
  },
  {
   "cell_type": "code",
   "execution_count": null,
   "metadata": {
    "ExecuteTime": {
     "end_time": "2020-05-01T08:38:37.014457Z",
     "start_time": "2020-05-01T08:38:36.921605Z"
    }
   },
   "outputs": [],
   "source": [
    "pricing_data_simple.pricingRequest.setMacaulayDuration(True)\n",
    "pricing_data_simple.pricingRequest.setRho(True)\n",
    "pricing_data_simple.spec = fix_to_float_bond\n",
    "results = pyvacon.pricing.price(pricing_data_simple)\n",
    "print(pricing_data_simple.spec.getObjectId() + ', dirty price: ' + str(results.getPrice()) + \",  clean price: \" + str(results.getCleanPrice()), \n",
    "     \",  Macaulay Duration: \" + str(results.getMacaulayDuration()) + \",  Mod Duration/rho: \" + str(results.getRho('EONIA')))"
   ]
  },
  {
   "cell_type": "markdown",
   "metadata": {},
   "source": [
    "#### Convexity\n",
    "Convexity is the second derivative of the price w.r.t. the rates, measuring."
   ]
  },
  {
   "cell_type": "code",
   "execution_count": null,
   "metadata": {
    "ExecuteTime": {
     "end_time": "2020-05-01T08:38:37.117184Z",
     "start_time": "2020-05-01T08:38:37.018447Z"
    }
   },
   "outputs": [],
   "source": [
    "pricing_data_simple.pricingRequest.setConvexity(True)\n",
    "pricing_data_simple.spec = fix_to_float_bond\n",
    "results = pyvacon.pricing.price(pricing_data_simple)\n",
    "print(pricing_data_simple.spec.getObjectId() + ', dirty price: ' + str(results.getPrice()) + \",  clean price: \" + str(results.getCleanPrice())\n",
    "      + \", convexity: \" + str(results.getConvexity()))"
   ]
  },
  {
   "cell_type": "markdown",
   "metadata": {},
   "source": [
    "#### Yield to maturity (YTM)\n",
    "The yield to maturity (YTM), book yield or redemption yield of a bond is the (theoretical) internal rate of return (IRR, overall interest rate) earned by an investor who buys the bond today at the market price, assuming that the bond is held until maturity, and that all coupon and principal payments are made on schedule.\n",
    "\n",
    "The YTM is often given in terms of Annual Percentage Rate (A.P.R.), but more often market convention is followed. In a number of major markets (such as gilts) the convention is to quote annualized yields with semi-annual compounding (see compound interest); thus, for example, an annual effective yield of 10.25% would be quoted as 10.00%, because 1.05 × 1.05 = 1.1025 and 2 × 5 = 10.\n",
    "\n",
    "**Note that the YTM computed by the BondPricer is the continuously compounded rate w.r.t. the day counter of the respective discount curve used for pricing the product.**"
   ]
  },
  {
   "cell_type": "code",
   "execution_count": null,
   "metadata": {
    "ExecuteTime": {
     "end_time": "2020-05-01T08:38:37.214921Z",
     "start_time": "2020-05-01T08:38:37.120176Z"
    }
   },
   "outputs": [],
   "source": [
    "pricing_data_simple.pricingRequest.setYTM(True)\n",
    "pricing_data_simple.spec = fixed_coupon_bond\n",
    "results = pyvacon.pricing.price(pricing_data_simple)\n",
    "print(pricing_data_simple.spec.getObjectId() + ', dirty price: ' + str(results.getPrice()) + \",  clean price: \" + str(results.getCleanPrice()), \n",
    "     \",  ytm: \" + str(results.getYTM()))"
   ]
  },
  {
   "cell_type": "markdown",
   "metadata": {},
   "source": [
    "#### Theta\n",
    "Theta describes the change of value "
   ]
  },
  {
   "cell_type": "code",
   "execution_count": null,
   "metadata": {
    "ExecuteTime": {
     "end_time": "2020-05-01T08:38:37.301689Z",
     "start_time": "2020-05-01T08:38:37.217913Z"
    }
   },
   "outputs": [],
   "source": [
    "pricing_data_simple.pricingRequest.setYTM(False) #switch of ytm calculation\n",
    "pricing_data_simple.pricingRequest.setTheta(True)\n",
    "pricing_data_simple.spec = fix_to_float_bond\n",
    "results = pyvacon.pricing.price(pricing_data_simple)\n",
    "print(pricing_data_simple.spec.getObjectId() + ', dirty price: ' + str(results.getPrice()) + \",  clean price: \" + str(results.getCleanPrice()), \n",
    "     \",  theta: \" + str(results.getTheta()))"
   ]
  },
  {
   "cell_type": "markdown",
   "metadata": {},
   "source": [
    "# Inflation Linked Bonds\n",
    "In the following we see how we may price an inflation linked bond. In contrast to the plain vanilla bonds described in the previous section, all payments of an inflation linked bond are adjusted  in relation to a Consumer Price Index (CPI) value or a Retail Prices Index (RPI) value for a country. \n",
    "Note that such an index is usually computed on a monthly basis from the government of the respective country. Since payments of coupons and notional of the bond are not necessarily on an EOM basis, an interpolation of these indices is necessary, which is determined in the respective bond's term sheet. We will discuss the different interpolation conventions in the next section.\n",
    "\n",
    "## Interpolation of Price Indices\n",
    "### Linear Interpolation\n",
    "One method often used is simple linear interpolation. Let $I(M_t)$ define the index value of the reference index for month $M_t$ belonging to time point $t$. Linear interpolation\n",
    "for a day $d$ in the month $M_t$ is defined by \n",
    "$$\n",
    "I(t) = I(M_t) +  \\frac{t-1}{D}(I(M_t+1)-I(M_t))\n",
    "$$\n",
    "where $I(M_t+1)$ denotes the index belonging to the following month and $D$ is the number of days in the month $M_t$. This interpolation is most often used for bonds issued from Canada, USA, France, Germany, Italy and Sweden.\n",
    "\n",
    "### Japanese interpolation\n",
    "We call the following formula Japanese interpolation because it is commonly used for Japanese bonds. Here, the interpolation is defined piecewise depending on the day of the month.\n",
    "Let us denote the day of the month of time point $t$ as $d$. We have\n",
    "$$\n",
    "    I(t)=I(M_t) \\mbox{for } d=10,\n",
    "$$\n",
    "\n",
    "\n",
    "$$\n",
    "    I(t)=I(M_t)+ \\frac{t-10}{D}\\left(I(M_t+1)-I(M_t)\\right) \\mbox{for } d > 10,\n",
    "$$\n",
    "where here, **$D$** denotes the number of days between the 11th day of month $M_t$ and the 10th day of the following month,\n",
    "$$\n",
    "I(t)=I(M_t-1)+ \\frac{\\bar D}{D}(I(M_t)-I(M_t-1)) \\mbox{for } d < 10,\n",
    "$$\n",
    "where $\\bar D$ is the number of days from the 11th day of $M_t-1$ month to the 10th day of $M_t$ and $D$ denotes the number of days between the 11th day of month $M_t$ and the 10th day of the following month.\n"
   ]
  },
  {
   "cell_type": "code",
   "execution_count": null,
   "metadata": {
    "ExecuteTime": {
     "end_time": "2020-05-01T08:38:37.990780Z",
     "start_time": "2020-05-01T08:38:37.304682Z"
    },
    "code_folding": []
   },
   "outputs": [],
   "source": [
    "# plot inflation curves\n",
    "inflation_curve = mkt_testdata.Inflation.CPI(refdate)\n",
    "dates = [refdate + dt.timedelta(days=i) for i in range(20, 2*30)]\n",
    "\n",
    "german = [inflation_curve.value(refdate, \n",
    "                      dates[i], enums.InflationInterpolation.GERMAN) for i in range(len(dates))]\n",
    "\n",
    "japan = [inflation_curve.value(refdate, \n",
    "                      dates[i], enums.InflationInterpolation.JAPAN) for i in range(len(dates))]\n",
    "const = [inflation_curve.value(refdate, \n",
    "                      dates[i], enums.InflationInterpolation.CONSTANT) for i in range(len(dates))]\n",
    "plt.plot(dates, const, '.', label = 'CONSTANT')\n",
    "plt.plot(dates, german, '.', label = 'GERMAN')\n",
    "plt.plot(dates, japan, '.', label = 'JAPAN')\n",
    "plt.xticks(rotation=70)\n",
    "legend = plt.legend()\n",
    "\n",
    "#import pandas as pd\n",
    "#pd.DataFrame.from_dict({'date': dates_p, 'index': const, 'japan': japan})"
   ]
  },
  {
   "cell_type": "code",
   "execution_count": null,
   "metadata": {
    "ExecuteTime": {
     "end_time": "2020-05-01T08:38:38.006736Z",
     "start_time": "2020-05-01T08:38:37.997763Z"
    }
   },
   "outputs": [],
   "source": [
    "inflation_curve.value(refdate, refdate + dt.timedelta(days = 2*365), enums.InflationInterpolation.GERMAN)"
   ]
  },
  {
   "cell_type": "markdown",
   "metadata": {},
   "source": [
    "## Pricing\n",
    "### Pricing Data\n",
    "\n",
    "As explained in [Overview](../overview.ipynb), we need to setup the respective PricingData object which is *InflationLinkedBondPricingData* for inflation linkers. This object needs the following data\n",
    "- **spec**: An InflationLinkedBondSpecification object\n",
    "- **param**: BondPricingParameter that is mainly used to define the model, i.e. JLT or simple discounted cashflow\n",
    "- **discountCurve**: The discount curve used to discount all cashflows (in case of JLT this is the risk free discount curve, otherwise the risk adjusted discount curve)\n",
    "- **pricingRequest**: The pricing request defining which figures will be computed, e.g. YTM\n",
    "- **inflationFwdCurve**: A InflationIndexForwardCurve containing the estimated forward monthly inflation indices\n",
    "- **inflationFixingReference1**: The fixed inflation value needed to fix the base reference index by interpolation (only needed if base index ref date is before the valuation date)\n",
    "- **inflationFixingReference2**: The second fixed inflation value for the base index (two values are needed due to interpolation)\n",
    "- **inflationFixing1**: Fixed inflation index needed to compute inflation adjustment for the next cashflow\n",
    "- **inflationFixing2**: Fixed inflation index needed to compute inflation adjustment for the next cashflow"
   ]
  },
  {
   "cell_type": "code",
   "execution_count": null,
   "metadata": {
    "ExecuteTime": {
     "end_time": "2020-05-01T08:38:38.025687Z",
     "start_time": "2020-05-01T08:38:38.009728Z"
    }
   },
   "outputs": [],
   "source": [
    "pricing_data_infl = pyvacon.pricing.InflationLinkedBondPricingData()\n",
    "pricing_data_infl.param = pyvacon.pricing.BondPricingParameter()\n",
    "pricing_data_infl.param.useJLT = False\n",
    "pricing_data_infl.discountCurve = mkt_testdata.InterestRate.Curves.EONIA(refdate)\n",
    "pricing_data_infl.pricingRequest = pyvacon.pricing.PricingRequest()\n",
    "pricing_data_infl.pricingRequest.setPricingData(False)\n",
    "pricing_data_infl.pricingRequest.setCleanPrice(True)\n",
    "pricing_data_infl.inflationFwdCurve = inflation_curve\n",
    "pricing_data_infl.inflationFixingReference1 = 100\n",
    "pricing_data_infl.inflationFixingReference2 = 100\n",
    "pricing_data_infl.inflationFixing1 = 10000\n",
    "pricing_data_infl.inflationFixing2 = 10000\n",
    "pricing_data_infl.valDate = refdate"
   ]
  },
  {
   "cell_type": "markdown",
   "metadata": {},
   "source": [
    "### InflationLinkedBondSpecification\n",
    "\n",
    "The InflationLinkedBondSpecification is similar to the BondSpecification. It just adds some inflation related information\n",
    "- **deflation protection**: This flag determines whether coupons and notional payments are also adjusted in case of deflation\n",
    "- **inflation interpolation**: This specifies the interpolation method from the methods described [here](#Interpolation-of-price-indices) to derive the inflation index for a certain day in the month. The values that can be used here are defined in *enums.InflationInterpolation*.\n",
    "- **inflation lag**: Needed to compute the month of the respective inflation index used to determine cashflow adjustment (it defines the number of month  before the cashflow month to derive inflation index month used).\n",
    "- **inflation index**: Defines the inflation index used. This is only needed if automatic setup of pricing data will be used. Otherwise, just the inflation curve defined in the PricingData will be used and this string will be ignored.\n"
   ]
  },
  {
   "cell_type": "code",
   "execution_count": null,
   "metadata": {
    "ExecuteTime": {
     "end_time": "2020-05-01T08:38:38.044635Z",
     "start_time": "2020-05-01T08:38:38.028677Z"
    }
   },
   "outputs": [],
   "source": [
    "coupon = pyvacon.instruments.CouponDescription(refdate + dt.timedelta(days = 365), refdate + dt.timedelta(days = 2*365),\n",
    "                                     refdate + dt.timedelta(days = 2*365), enums.DayCounter.ACT365_FIXED, 0.05)\n",
    "\n",
    "coupons = pyvacon.analytics.vectorCouponDescription()\n",
    "coupons.append(coupon)\n",
    "inflationLag = 0\n",
    "deflationProtection = False\n",
    "pricing_data_infl.spec = pyvacon.instruments.InflationLinkedBondSpecification('TEST_INFL', 'BMW', enums.SecuritizationLevel.SENIOR_SECURED, 'EUR', \n",
    "                                           refdate + dt.timedelta(days = 20), refdate + dt.timedelta(days = 2*365), 100.0, \n",
    "                                            [coupon], inflationLag, enums.InflationInterpolation.GERMAN,\n",
    "                                            'CPI', deflationProtection)"
   ]
  },
  {
   "cell_type": "markdown",
   "metadata": {},
   "source": [
    "### Price Call"
   ]
  },
  {
   "cell_type": "code",
   "execution_count": null,
   "metadata": {
    "ExecuteTime": {
     "end_time": "2020-05-01T08:38:38.152085Z",
     "start_time": "2020-05-01T08:38:38.047626Z"
    }
   },
   "outputs": [],
   "source": [
    "results = pyvacon.pricing.price(pricing_data_infl)\n",
    "print(pricing_data_infl.spec.getObjectId() + ', dirty price: ' + str(results.getPrice()) + \",  clean price: \" + str(results.getCleanPrice()))"
   ]
  },
  {
   "cell_type": "markdown",
   "metadata": {},
   "source": [
    "### Outputs\n",
    "#### Macaulay Duration\n",
    "Macaulay duration, named for Frederick Macaulay who introduced the concept, is the weighted average maturity of cashflows. Consider some set of fixed cashflows. The present value of these cashflows is:\n",
    "\n",
    "$$ V=\\sum _{i=1}^{n}PV_{i}V=\\sum _{i=1}^{n}PV_{i}$$\n",
    "The Macaulay duration is defined as:\n",
    "$$ MacD={\\frac {\\sum _{i=1}^{n}{t_{i}PV_{i}}}{\\sum _{i=1}^{n}{PV_{i}}}}={\\frac {\\sum _{i=1}^{n}{t_{i}PV_{i}}}{V}}=\\sum _{i=1}^{n}t_{i}{\\frac {PV_{i}}{V}}$$\n",
    "where:\n",
    "\n",
    "- $i$ indexes the cashflows,\n",
    "- $PV_{i}$ is the present value of the $i$th cash payment from an asset,\n",
    "- $t_{i}$ is the time in years until the $i$th payment will be received,\n",
    "- $V$ is the present value of all future cash payments from the asset.\n",
    "\n",
    "**NOTE:** To compute the year fraction $t_i$ we use the day counter of the underlying discount curve.\n",
    "\n",
    "**TODO**:Explain Macaulay duration for JLT.\n",
    "#### Modified Duration and Rho\n",
    "In contrast to Macaulay duration, modified duration (sometimes abbreviated MD) is a price sensitivity measure, defined as the percentage derivative of price with respect to yield (the logarithmic derivative of bond price with respect to yield). Modified duration applies when a bond or other asset is considered as a function of yield. In this case one can measure the logarithmic derivative with respect to yield:\n",
    "\n",
    "$$ ModD(y)\\equiv -{\\frac {1}{V}}\\cdot {\\frac {\\partial V}{\\partial y}}=-{\\frac {\\partial \\ln(V)}{\\partial y}}$$\n",
    "\n",
    "When the yield is expressed continuously compounded, Macaulay duration and modified duration are numerically equal. To see this, if we take the derivative of price or present value, expression (2), with respect to the continuously compounded yield $y$ we see that:\n",
    "\n",
    "$$\\frac {\\partial V}{\\partial y}=-\\sum _{i=1}^{n}t_{i}\\cdot CF_{i}\\cdot e^{-y\\cdot t_{i}}=-MacD\\cdot V,$$\n",
    "In other words, for yields expressed continuously compounded,\n",
    "$ModD=MacD$.\n",
    "\n",
    "We apply the above equation with the difference that instead of the flat yield we use the time dependent zero rates $r(t_i)$ from the discount curve used to discount the cashflows:\n",
    "$$\\frac {\\partial V}{\\partial y}=-\\sum _{i=1}^{n}t_{i}\\cdot CF_{i}\\cdot e^{-r(t_i)\\cdot t_{i}}=-MacD\\cdot V,$$.\n",
    "To be consistent with the equity part we store this modified duration as rho in the PricingResults object."
   ]
  },
  {
   "cell_type": "code",
   "execution_count": null,
   "metadata": {
    "ExecuteTime": {
     "end_time": "2020-05-01T08:38:38.251606Z",
     "start_time": "2020-05-01T08:38:38.155077Z"
    }
   },
   "outputs": [],
   "source": [
    "pricing_data_infl.pricingRequest.setMacaulayDuration(True)\n",
    "pricing_data_infl.pricingRequest.setRho(True)\n",
    "results = pyvacon.pricing.price(pricing_data_infl)\n",
    "print(pricing_data_infl.spec.getObjectId() + ', dirty price: ' + str(results.getPrice()) + \",  clean price: \" + str(results.getCleanPrice()), \n",
    "     \",  Macaulay Duration: \" + str(results.getMacaulayDuration()) + \",  Mod Duration/rho: \" + str(results.getRho('EONIA')))"
   ]
  },
  {
   "cell_type": "markdown",
   "metadata": {},
   "source": [
    "#### Convexity\n",
    "Convexity is the second derivative of the price w.r.t. the rates, measuring."
   ]
  },
  {
   "cell_type": "code",
   "execution_count": null,
   "metadata": {
    "ExecuteTime": {
     "end_time": "2020-05-01T08:38:38.386315Z",
     "start_time": "2020-05-01T08:38:38.259578Z"
    }
   },
   "outputs": [],
   "source": [
    "pricing_data_infl.pricingRequest.setConvexity(True)\n",
    "results = pyvacon.pricing.price(pricing_data_infl)\n",
    "print(pricing_data_infl.spec.getObjectId() + ', dirty price: ' + str(results.getPrice()) + \",  clean price: \" + str(results.getCleanPrice())\n",
    "      + \", convexity: \" + str(results.getConvexity()))"
   ]
  },
  {
   "cell_type": "markdown",
   "metadata": {},
   "source": [
    "#### Yield to maturity (YTM)\n",
    "The yield to maturity (YTM), book yield or redemption yield of a bond is the (theoretical) internal rate of return (IRR, overall interest rate) earned by an investor who buys the bond today at the market price, assuming that the bond is held until maturity, and that all coupon and principal payments are made on schedule.\n",
    "\n",
    "The YTM is often given in terms of Annual Percentage Rate (A.P.R.), but more often market convention is followed. In a number of major markets (such as gilts) the convention is to quote annualized yields with semi-annual compounding (see compound interest); thus, for example, an annual effective yield of 10.25% would be quoted as 10.00%, because 1.05 × 1.05 = 1.1025 and 2 × 5 = 10.\n",
    "\n",
    "**Note that the YTM computed by the BondPricer is the continuously compounded rate w.r.t. the day counter of the respective discount curve used for pricing the product.**"
   ]
  },
  {
   "cell_type": "code",
   "execution_count": null,
   "metadata": {
    "ExecuteTime": {
     "end_time": "2020-05-01T08:38:38.531926Z",
     "start_time": "2020-05-01T08:38:38.391302Z"
    }
   },
   "outputs": [],
   "source": [
    "pricing_data_infl.pricingRequest.setYTM(True)\n",
    "results = pyvacon.pricing.price(pricing_data_infl)\n",
    "print(pricing_data_infl.spec.getObjectId() + ', dirty price: ' + str(results.getPrice()) + \",  clean price: \" + str(results.getCleanPrice()), \n",
    "     \",  ytm: \" + str(results.getYTM()))"
   ]
  },
  {
   "cell_type": "markdown",
   "metadata": {},
   "source": [
    "#### Theta\n",
    "Theta describes the change of value "
   ]
  },
  {
   "cell_type": "code",
   "execution_count": null,
   "metadata": {
    "ExecuteTime": {
     "end_time": "2020-05-01T08:38:38.660154Z",
     "start_time": "2020-05-01T08:38:38.534918Z"
    }
   },
   "outputs": [],
   "source": [
    "pricing_data_infl.pricingRequest.setYTM(False) #switch of ytm calculation\n",
    "pricing_data_infl.pricingRequest.setTheta(True)\n",
    "results = pyvacon.pricing.price(pricing_data_infl)\n",
    "print(pricing_data_infl.spec.getObjectId() + ', dirty price: ' + str(results.getPrice()) + \",  clean price: \" + str(results.getCleanPrice()), \n",
    "     \",  theta: \" + str(results.getTheta()))"
   ]
  },
  {
   "cell_type": "markdown",
   "metadata": {},
   "source": [
    "---"
   ]
  }
 ],
 "metadata": {
  "hide_input": false,
  "kernelspec": {
   "display_name": "Python 3",
   "language": "python",
   "name": "python3"
  },
  "language_info": {
   "codemirror_mode": {
    "name": "ipython",
    "version": 3
   },
   "file_extension": ".py",
   "mimetype": "text/x-python",
   "name": "python",
   "nbconvert_exporter": "python",
   "pygments_lexer": "ipython3",
   "version": "3.7.6"
  },
  "toc": {
   "base_numbering": 1,
   "nav_menu": {},
   "number_sections": true,
   "sideBar": true,
   "skip_h1_title": false,
   "title_cell": "Table of Contents",
   "title_sidebar": "Contents",
   "toc_cell": false,
   "toc_position": {
    "height": "967.552px",
    "left": "0px",
    "right": "1824.51px",
    "top": "65.7292px",
    "width": "421.563px"
   },
   "toc_section_display": true,
   "toc_window_display": true
  },
  "varInspector": {
   "cols": {
    "lenName": 16,
    "lenType": 16,
    "lenVar": 40
   },
   "kernels_config": {
    "python": {
     "delete_cmd_postfix": "",
     "delete_cmd_prefix": "del ",
     "library": "var_list.py",
     "varRefreshCmd": "print(var_dic_list())"
    },
    "r": {
     "delete_cmd_postfix": ") ",
     "delete_cmd_prefix": "rm(",
     "library": "var_list.r",
     "varRefreshCmd": "cat(var_dic_list()) "
    }
   },
   "types_to_exclude": [
    "module",
    "function",
    "builtin_function_or_method",
    "instance",
    "_Feature"
   ],
   "window_display": false
  }
 },
 "nbformat": 4,
 "nbformat_minor": 2
}

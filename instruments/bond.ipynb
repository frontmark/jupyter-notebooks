{
 "cells": [
  {
   "cell_type": "markdown",
   "metadata": {},
   "source": [
    "![](../images/rivacon_frontmark_combined_header.png)"
   ]
  },
  {
   "cell_type": "code",
   "execution_count": 1,
   "metadata": {},
   "outputs": [
    {
     "name": "stderr",
     "output_type": "stream",
     "text": [
      "c:\\users\\anwender\\development\\frontmark\\analytics_tools_2\\python\\modules\\pyvacon\\pyvacon\\__init__.py:11: UserWarning: Imported pyvacon is just beta version.\n",
      "  warnings.warn('Imported pyvacon is just beta version.')\n",
      "C:\\Users\\Anwender\\development\\frontmark\\jupyter-notebooks\\pyriva\\__init__.py:15: UserWarning: Imported pyvacon is just beta version.\n",
      "  warnings.warn('Imported pyvacon is just beta version.')\n"
     ]
    }
   ],
   "source": [
    "from datetime import datetime, timedelta\n",
    "from dateutil.relativedelta import relativedelta\n",
    "import pyriva"
   ]
  },
  {
   "cell_type": "code",
   "execution_count": 2,
   "metadata": {
    "ExecuteTime": {
     "end_time": "2020-05-01T08:38:36.074470Z",
     "start_time": "2020-05-01T08:38:29.852125Z"
    },
    "code_folding": [],
    "collapsed": true
   },
   "outputs": [],
   "source": [
    "if False:\n",
    "    #\n",
    "    import pyvacon\n",
    "    import datetime as dt\n",
    "\n",
    "    import pyvacon.marketdata.testdata as mkt_testdata\n",
    "    import pyvacon.tools.enums as enums\n",
    "    import pyvacon.marketdata.plot as mkt_plot\n",
    "    import pyvacon.models.plot as model_plot\n",
    "    import pyvacon.models.tools as model_tools\n",
    "\n",
    "    import matplotlib.pyplot as plt\n",
    "    %matplotlib inline\n",
    "\n",
    "    #%matplotlib qt\n",
    "    #%matplotlib notebook"
   ]
  },
  {
   "cell_type": "code",
   "execution_count": 3,
   "metadata": {
    "ExecuteTime": {
     "end_time": "2020-05-01T08:38:36.149262Z",
     "start_time": "2020-05-01T08:38:36.079446Z"
    }
   },
   "outputs": [],
   "source": [
    "ref_date = datetime(2017, 2, 20)\n",
    "pyriva.set_log_level('DEBUG')"
   ]
  },
  {
   "cell_type": "markdown",
   "metadata": {},
   "source": [
    "# Bonds"
   ]
  },
  {
   "cell_type": "markdown",
   "metadata": {},
   "source": [
    "## Setup Specifications"
   ]
  },
  {
   "cell_type": "markdown",
   "metadata": {},
   "source": [
    "### Zero Bond"
   ]
  },
  {
   "cell_type": "code",
   "execution_count": 9,
   "metadata": {
    "ExecuteTime": {
     "end_time": "2020-05-01T08:38:36.168210Z",
     "start_time": "2020-05-01T08:38:36.152251Z"
    }
   },
   "outputs": [],
   "source": [
    "expiry = ref_date + relativedelta(years=5)\n",
    "zero_bond = pyriva.instruments.ZeroBondSpecification('Zero_Coupon',curr='EUR', issue_date=ref_date, expiry=expiry)"
   ]
  },
  {
   "cell_type": "code",
   "execution_count": 10,
   "metadata": {},
   "outputs": [
    {
     "data": {
      "text/plain": [
       "{'polymorphic_name': 'Finance::BondSpecification',\n",
       " 'ptr_wrapper': {'data': {'BaseSpecification': {'BaseObject': {'Clonable': 0,\n",
       "     'objId_': 'Zero_Coupon'},\n",
       "    'curr_': 'EUR',\n",
       "    'descriptionFields_': [],\n",
       "    'exSettle_': 0,\n",
       "    'expiry_': '20220220T000000',\n",
       "    'holidays_': '',\n",
       "    'issuer_': 'DEPP',\n",
       "    'productType_': 'BOND',\n",
       "    'tradeSettle_': 0,\n",
       "    'udlIds_': []},\n",
       "   'couponSchedule_': {'coupons_': []},\n",
       "   'dc_': '',\n",
       "   'fixedCouponSchedule_': [],\n",
       "   'floatingCouponPeriods_': [],\n",
       "   'floatingRateSpreads_': [],\n",
       "   'floatingRateUnderlying_': '',\n",
       "   'issueDate_': '20170220T000000',\n",
       "   'notional_': 100.0},\n",
       "  'id': 2147483649}}"
      ]
     },
     "execution_count": 10,
     "metadata": {},
     "output_type": "execute_result"
    }
   ],
   "source": [
    "zero_bond.get_dictionary()"
   ]
  },
  {
   "cell_type": "markdown",
   "metadata": {},
   "source": [
    "### Fixed Coupon Bond"
   ]
  },
  {
   "cell_type": "code",
   "execution_count": null,
   "metadata": {
    "ExecuteTime": {
     "end_time": "2020-05-01T08:38:36.258970Z",
     "start_time": "2020-05-01T08:38:36.196135Z"
    },
    "collapsed": true
   },
   "outputs": [],
   "source": [
    "expiry = refdate + dt.timedelta(days=5*365)\n",
    "coupon_dates = [dt.datetime(y, 2, 20) for y in [2018,2019,2020,2021]]\n",
    "coupons = [0.05]*len(coupon_dates)\n",
    "fixed_coupon_bond = pyvacon.instruments.BondSpecification('Fixed_Coupon', 'DBK', enums.SecuritizationLevel.NONE, 'EUR', expiry, refdate, 100.0, \n",
    "                            enums.DayCounter.ACT365_FIXED, coupon_dates, coupons, '', [], [])"
   ]
  },
  {
   "cell_type": "markdown",
   "metadata": {},
   "source": [
    "### Float Coupon Bond"
   ]
  },
  {
   "cell_type": "code",
   "execution_count": null,
   "metadata": {
    "ExecuteTime": {
     "end_time": "2020-05-01T08:38:36.309830Z",
     "start_time": "2020-05-01T08:38:36.262957Z"
    },
    "collapsed": true
   },
   "outputs": [],
   "source": [
    "coupon_dates = [dt.datetime(y, 2, 20) for y in [2018,2019,2020,2021]]\n",
    "spreads = [1.0]*len(coupon_dates)\n",
    "float_coupon_bond = pyvacon.instruments.BondSpecification('Float_Coupon', 'DBK', enums.SecuritizationLevel.NONE, 'EUR', expiry, refdate, 100.0, \n",
    "                            enums.DayCounter.ACT365_FIXED, [], [], 'EUR6M', coupon_dates, \n",
    "                            spreads)"
   ]
  },
  {
   "cell_type": "markdown",
   "metadata": {},
   "source": [
    "### Fixed-To-Float"
   ]
  },
  {
   "cell_type": "code",
   "execution_count": null,
   "metadata": {
    "ExecuteTime": {
     "end_time": "2020-05-01T08:38:36.379643Z",
     "start_time": "2020-05-01T08:38:36.313819Z"
    },
    "collapsed": true
   },
   "outputs": [],
   "source": [
    "float_coupon_dates = [dt.datetime(y, 2, 20) for y in [2022,2023,2024]]\n",
    "float_spreads = [0.5]*3\n",
    "fix_to_float_bond = pyvacon.instruments.BondSpecification('Fixed_to_Float_Coupon', 'DBK', enums.SecuritizationLevel.NONE, 'EUR', expiry, refdate, 100.0, \n",
    "                            enums.DayCounter.ACT365_FIXED, coupon_dates, coupons, 'EUR6M', float_coupon_dates, \n",
    "                            float_spreads)"
   ]
  },
  {
   "cell_type": "markdown",
   "metadata": {},
   "source": [
    "## Pricing\n",
    "\n",
    "There are two different models to calculate the fair price of a bond. The simple discounted cashflow method and the Jarrow-Landau-Turnbull (JLT) model.\n",
    "### Simple discounted cashflows\n",
    "This method uses a (risk-adjusted) discount curve to discount all expected cashflows. To determine the expected cashflow of a floating coupon, the pricer just computes the forward rate from a explicitly defined fixing curve (also of type Discount curve). Let us assume that the bond has $N+1$ cashflows $c_i$, $1\\leq i\\leq N+1$ where the last cashflow is the payment of the principal. The cashflows $c_i$ occur at times $t_i$. Then, the value of the bond is given by\n",
    "$$\n",
    "V=\\sum_i df_i\\cdot c_i\n",
    "$$\n",
    "where $df_i$ is the discount factor at timepoint $i$. \n",
    "### JLT\n",
    "The JLT model "
   ]
  },
  {
   "cell_type": "code",
   "execution_count": null,
   "metadata": {
    "ExecuteTime": {
     "end_time": "2020-05-01T08:38:36.404577Z",
     "start_time": "2020-05-01T08:38:36.385628Z"
    },
    "collapsed": true
   },
   "outputs": [],
   "source": [
    "pricing_data_simple = pyvacon.pricing.BondPricingData()\n",
    "pricing_data_simple.param = pyvacon.pricing.BondPricingParameter()\n",
    "pricing_data_simple.param.useJLT = False\n",
    "pricing_data_simple.discountCurve = mkt_testdata.InterestRate.Curves.EONIA(refdate)\n",
    "pricing_data_simple.pricingRequest = pyvacon.pricing.PricingRequest()\n",
    "pricing_data_simple.pricingRequest.setCleanPrice(True)\n",
    "pricing_data_simple.pricer = 'BondPricer'\n",
    "pricing_data_simple.valDate = refdate"
   ]
  },
  {
   "cell_type": "markdown",
   "metadata": {},
   "source": [
    "### Discounted Cashflow"
   ]
  },
  {
   "cell_type": "code",
   "execution_count": null,
   "metadata": {
    "ExecuteTime": {
     "end_time": "2020-05-01T08:38:36.607385Z",
     "start_time": "2020-05-01T08:38:36.408567Z"
    },
    "collapsed": true
   },
   "outputs": [],
   "source": [
    "# pricing_data_simple: pricing data for simple pv calculation using discount curve\n",
    "#mkt_testdata.InterestRate.EUR12M()\n",
    "pricing_data_simple.spec = zero_bond\n",
    "results = pyvacon.pricing.price(pricing_data_simple)\n",
    "print(pricing_data_simple.spec.getObjectId() + ', dirty price: ' + str(results.getPrice()) + \",  clean price: \" + str(results.getCleanPrice()))"
   ]
  },
  {
   "cell_type": "code",
   "execution_count": null,
   "metadata": {
    "ExecuteTime": {
     "end_time": "2020-05-01T08:38:36.712168Z",
     "start_time": "2020-05-01T08:38:36.612373Z"
    },
    "collapsed": true
   },
   "outputs": [],
   "source": [
    "pricing_data_simple.spec = fixed_coupon_bond\n",
    "results = pyvacon.pricing.price(pricing_data_simple)\n",
    "print(pricing_data_simple.spec.getObjectId() + ', dirty price: ' + str(results.getPrice()) + \",  clean price: \" + str(results.getCleanPrice()))"
   ]
  },
  {
   "cell_type": "code",
   "execution_count": null,
   "metadata": {
    "ExecuteTime": {
     "end_time": "2020-05-01T08:38:36.802923Z",
     "start_time": "2020-05-01T08:38:36.718153Z"
    },
    "collapsed": true
   },
   "outputs": [],
   "source": [
    "pricing_data_simple.spec = float_coupon_bond\n",
    "pricing_data_simple.fixingCurve = mkt_testdata.InterestRate.Curves.EONIA(refdate)\n",
    "pricing_data_simple.pastFixing = 0.1\n",
    "results = pyvacon.pricing.price(pricing_data_simple)\n",
    "print(pricing_data_simple.spec.getObjectId() + ', dirty price: ' + str(results.getPrice()) + \",  clean price: \" + str(results.getCleanPrice()))"
   ]
  },
  {
   "cell_type": "code",
   "execution_count": null,
   "metadata": {
    "ExecuteTime": {
     "end_time": "2020-05-01T08:38:36.919610Z",
     "start_time": "2020-05-01T08:38:36.805914Z"
    },
    "collapsed": true
   },
   "outputs": [],
   "source": [
    "pricing_data_simple.spec = fix_to_float_bond\n",
    "results = pyvacon.pricing.price(pricing_data_simple)\n",
    "print(pricing_data_simple.spec.getObjectId() + ', dirty price: ' + str(results.getPrice()) + \",  clean price: \" + str(results.getCleanPrice()))"
   ]
  },
  {
   "cell_type": "markdown",
   "metadata": {},
   "source": [
    "### Outputs\n",
    "#### Macaulay Duration\n",
    "Macaulay duration, named for Frederick Macaulay who introduced the concept, is the weighted average maturity of cashflows. Consider some set of fixed cashflows. The present value of these cashflows is:\n",
    "\n",
    "$$ V=\\sum _{i=1}^{n}PV_{i}V=\\sum _{i=1}^{n}PV_{i}$$\n",
    "The Macaulay duration is defined as:\n",
    "$$ MacD={\\frac {\\sum _{i=1}^{n}{t_{i}PV_{i}}}{\\sum _{i=1}^{n}{PV_{i}}}}={\\frac {\\sum _{i=1}^{n}{t_{i}PV_{i}}}{V}}=\\sum _{i=1}^{n}t_{i}{\\frac {PV_{i}}{V}}$$\n",
    "where:\n",
    "\n",
    "- $i$ indexes the cashflows,\n",
    "- $PV_{i}$ is the present value of the $i$th cash payment from an asset,\n",
    "- $t_{i}$ is the time in years until the $i$th payment will be received,\n",
    "- $V$ is the present value of all future cash payments from the asset.\n",
    "\n",
    "**NOTE:** To compute the year fraction $t_i$ we use the day counter of the underlying discount curve.\n",
    "\n",
    "**TODO**:Explain Macaulay duration for JLT.\n",
    "#### Modified Duration and Rho\n",
    "In contrast to Macaulay duration, modified duration (sometimes abbreviated MD) is a price sensitivity measure, defined as the percentage derivative of price with respect to yield (the logarithmic derivative of bond price with respect to yield). Modified duration applies when a bond or other asset is considered as a function of yield. In this case one can measure the logarithmic derivative with respect to yield:\n",
    "\n",
    "$$ ModD(y)\\equiv -{\\frac {1}{V}}\\cdot {\\frac {\\partial V}{\\partial y}}=-{\\frac {\\partial \\ln(V)}{\\partial y}}$$\n",
    "\n",
    "When the yield is expressed continuously compounded, Macaulay duration and modified duration are numerically equal. To see this, if we take the derivative of price or present value, expression (2), with respect to the continuously compounded yield $y$ we see that:\n",
    "\n",
    "$$\\frac {\\partial V}{\\partial y}=-\\sum _{i=1}^{n}t_{i}\\cdot CF_{i}\\cdot e^{-y\\cdot t_{i}}=-MacD\\cdot V,$$\n",
    "In other words, for yields expressed continuously compounded,\n",
    "$ModD=MacD$.\n",
    "\n",
    "We apply the above equation with the difference that instead of the flat yield we use the time dependend zero rates $r(t_i)$ from the discount curve used to discount the cashflows:\n",
    "$$\\frac {\\partial V}{\\partial y}=-\\sum _{i=1}^{n}t_{i}\\cdot CF_{i}\\cdot e^{-r(t_i)\\cdot t_{i}}=-MacD\\cdot V,$$.\n",
    "To be consistent with the equity part we store this modified duration as rho in the PricingResults object."
   ]
  },
  {
   "cell_type": "code",
   "execution_count": null,
   "metadata": {
    "ExecuteTime": {
     "end_time": "2020-05-01T08:38:37.014457Z",
     "start_time": "2020-05-01T08:38:36.921605Z"
    },
    "collapsed": true
   },
   "outputs": [],
   "source": [
    "pricing_data_simple.pricingRequest.setMacaulayDuration(True)\n",
    "pricing_data_simple.pricingRequest.setRho(True)\n",
    "pricing_data_simple.spec = fix_to_float_bond\n",
    "results = pyvacon.pricing.price(pricing_data_simple)\n",
    "print(pricing_data_simple.spec.getObjectId() + ', dirty price: ' + str(results.getPrice()) + \",  clean price: \" + str(results.getCleanPrice()), \n",
    "     \",  Macaulay Duration: \" + str(results.getMacaulayDuration()) + \",  Mod Duration/rho: \" + str(results.getRho('EONIA')))"
   ]
  },
  {
   "cell_type": "markdown",
   "metadata": {},
   "source": [
    "#### Convexity\n",
    "Convexity is the second derivative of the price w.r.t. the rates, measuring."
   ]
  },
  {
   "cell_type": "code",
   "execution_count": null,
   "metadata": {
    "ExecuteTime": {
     "end_time": "2020-05-01T08:38:37.117184Z",
     "start_time": "2020-05-01T08:38:37.018447Z"
    },
    "collapsed": true
   },
   "outputs": [],
   "source": [
    "pricing_data_simple.pricingRequest.setConvexity(True)\n",
    "pricing_data_simple.spec = fix_to_float_bond\n",
    "results = pyvacon.pricing.price(pricing_data_simple)\n",
    "print(pricing_data_simple.spec.getObjectId() + ', dirty price: ' + str(results.getPrice()) + \",  clean price: \" + str(results.getCleanPrice())\n",
    "      + \", convexity: \" + str(results.getConvexity()))"
   ]
  },
  {
   "cell_type": "markdown",
   "metadata": {},
   "source": [
    "#### Yield to maturity (YTM)\n",
    "The yield to maturity (YTM), book yield or redemption yield of a bond is the (theoretical) internal rate of return (IRR, overall interest rate) earned by an investor who buys the bond today at the market price, assuming that the bond is held until maturity, and that all coupon and principal payments are made on schedule.\n",
    "\n",
    "The YTM is often given in terms of Annual Percentage Rate (A.P.R.), but more often market convention is followed. In a number of major markets (such as gilts) the convention is to quote annualized yields with semi-annual compounding (see compound interest); thus, for example, an annual effective yield of 10.25% would be quoted as 10.00%, because 1.05 × 1.05 = 1.1025 and 2 × 5 = 10.\n",
    "\n",
    "**Note that the YTM computed by the BondPricer is the continuously compounded rate w.r.t. the day counter of the respective discount curve used for pricing the product.**"
   ]
  },
  {
   "cell_type": "code",
   "execution_count": null,
   "metadata": {
    "ExecuteTime": {
     "end_time": "2020-05-01T08:38:37.214921Z",
     "start_time": "2020-05-01T08:38:37.120176Z"
    },
    "collapsed": true
   },
   "outputs": [],
   "source": [
    "pricing_data_simple.pricingRequest.setYTM(True)\n",
    "pricing_data_simple.spec = fixed_coupon_bond\n",
    "results = pyvacon.pricing.price(pricing_data_simple)\n",
    "print(pricing_data_simple.spec.getObjectId() + ', dirty price: ' + str(results.getPrice()) + \",  clean price: \" + str(results.getCleanPrice()), \n",
    "     \",  ytm: \" + str(results.getYTM()))"
   ]
  },
  {
   "cell_type": "markdown",
   "metadata": {},
   "source": [
    "#### Theta\n",
    "Theta describes the change of value "
   ]
  },
  {
   "cell_type": "code",
   "execution_count": null,
   "metadata": {
    "ExecuteTime": {
     "end_time": "2020-05-01T08:38:37.301689Z",
     "start_time": "2020-05-01T08:38:37.217913Z"
    },
    "collapsed": true
   },
   "outputs": [],
   "source": [
    "pricing_data_simple.pricingRequest.setYTM(False) #switch of ytm calculation\n",
    "pricing_data_simple.pricingRequest.setTheta(True)\n",
    "pricing_data_simple.spec = fix_to_float_bond\n",
    "results = pyvacon.pricing.price(pricing_data_simple)\n",
    "print(pricing_data_simple.spec.getObjectId() + ', dirty price: ' + str(results.getPrice()) + \",  clean price: \" + str(results.getCleanPrice()), \n",
    "     \",  theta: \" + str(results.getTheta()))"
   ]
  },
  {
   "cell_type": "markdown",
   "metadata": {},
   "source": [
    "# Inflation Linked Bonds\n",
    "In the following we see how we may price an inflation linked bond. In contrast to the plain vanilla bonds described in the previous section, all payments of an inflation linked bond are adjusted  in relation to a Consumer Price Index (CPI) value or a Retail Prices Index (RPI) value for a country. \n",
    "Note that such an index is usually computed on a monthly basis from the government of the respective country. Since payments of coupons and notional of the bond are not necessarily on an EOM basis, an interpolation of these indices is necessary, which is determined in the respective bond's term sheet. We will discuss the different interpolation conventions in the next section.\n",
    "\n",
    "## Interpolation of Price Indices\n",
    "### Linear Interpolation\n",
    "One method often used is simple linear interpolation. Let $I(M_t)$ define the index value of the reference index for month $M_t$ belonging to time point $t$. Linear interpolation\n",
    "for a day $d$ in the month $M_t$ is defined by \n",
    "$$\n",
    "I(t) = I(M_t) +  \\frac{t-1}{D}(I(M_t+1)-I(M_t))\n",
    "$$\n",
    "where $I(M_t+1)$ denotes the index belonging to the following month and $D$ is the number of days in the month $M_t$. This interpolation is most often used for bonds issued from Canada, USA, France, Germany, Italy and Sweden.\n",
    "\n",
    "### Japanese interpolation\n",
    "We call the following formula Japanese interpolation because it is commonly used for Japanese bonds. Here, the interpolation is defined piecewise depending on the day of the month.\n",
    "Let us denote the day of the month of time point $t$ as $d$. We have\n",
    "$$\n",
    "    I(t)=I(M_t) \\mbox{for } d=10,\n",
    "$$\n",
    "\n",
    "\n",
    "$$\n",
    "    I(t)=I(M_t)+ \\frac{t-10}{D}\\left(I(M_t+1)-I(M_t)\\right) \\mbox{for } d > 10,\n",
    "$$\n",
    "where here, **$D$** denotes the number of days between the 11th day of month $M_t$ and the 10th day of the following month,\n",
    "$$\n",
    "I(t)=I(M_t-1)+ \\frac{\\bar D}{D}(I(M_t)-I(M_t-1)) \\mbox{for } d < 10,\n",
    "$$\n",
    "where $\\bar D$ is the number of days from the 11th day of $M_t-1$ month to the 10th day of $M_t$ and $D$ denotes the number of days between the 11th day of month $M_t$ and the 10th day of the following month.\n"
   ]
  },
  {
   "cell_type": "code",
   "execution_count": null,
   "metadata": {
    "ExecuteTime": {
     "end_time": "2020-05-01T08:38:37.990780Z",
     "start_time": "2020-05-01T08:38:37.304682Z"
    },
    "code_folding": [],
    "collapsed": true
   },
   "outputs": [],
   "source": [
    "# plot inflation curves\n",
    "inflation_curve = mkt_testdata.Inflation.CPI(refdate)\n",
    "dates = [refdate + dt.timedelta(days=i) for i in range(20, 2*30)]\n",
    "\n",
    "german = [inflation_curve.value(refdate, \n",
    "                      dates[i], enums.InflationInterpolation.GERMAN) for i in range(len(dates))]\n",
    "\n",
    "japan = [inflation_curve.value(refdate, \n",
    "                      dates[i], enums.InflationInterpolation.JAPAN) for i in range(len(dates))]\n",
    "const = [inflation_curve.value(refdate, \n",
    "                      dates[i], enums.InflationInterpolation.CONSTANT) for i in range(len(dates))]\n",
    "plt.plot(dates, const, '.', label = 'CONSTANT')\n",
    "plt.plot(dates, german, '.', label = 'GERMAN')\n",
    "plt.plot(dates, japan, '.', label = 'JAPAN')\n",
    "plt.xticks(rotation=70)\n",
    "legend = plt.legend()\n",
    "\n",
    "#import pandas as pd\n",
    "#pd.DataFrame.from_dict({'date': dates_p, 'index': const, 'japan': japan})"
   ]
  },
  {
   "cell_type": "code",
   "execution_count": null,
   "metadata": {
    "ExecuteTime": {
     "end_time": "2020-05-01T08:38:38.006736Z",
     "start_time": "2020-05-01T08:38:37.997763Z"
    },
    "collapsed": true
   },
   "outputs": [],
   "source": [
    "inflation_curve.value(refdate, refdate + dt.timedelta(days = 2*365), enums.InflationInterpolation.GERMAN)"
   ]
  },
  {
   "cell_type": "markdown",
   "metadata": {},
   "source": [
    "## Pricing\n",
    "### Pricing Data\n",
    "\n",
    "As explained in [Overview](../overview.ipynb), we need to setup the respective PricingData object which is *InflationLinkedBondPricingData* for inflation linkers. This object needs the following data\n",
    "- **spec**: An InflationLinkedBondSpecification object\n",
    "- **param**: BondPricingParameter that is mainly used to define the model, i.e. JLT or simple discounted cashflow\n",
    "- **discountCurve**: The discount curve used to discount all cashflows (in case of JLT this is the risk free discount curve, otherwise the risk adjusted discount curve)\n",
    "- **pricingRequest**: The pricing request defining which figures will be computed, e.g. YTM\n",
    "- **inflationFwdCurve**: A InflationIndexForwardCurve containing the estimated forward monthly inflation indices\n",
    "- **inflationFixingReference1**: The fixed inflation value needed to fix the base reference index by interpolation (only needed if base index ref date is before the valuation date)\n",
    "- **inflationFixingReference2**: The second fixed inflation value for the base index (two values are needed due to interpolation)\n",
    "- **inflationFixing1**: Fixed inflation index needed to compute inflation adjustment for the next cashflow\n",
    "- **inflationFixing2**: Fixed inflation index needed to compute inflation adjustment for the next cashflow"
   ]
  },
  {
   "cell_type": "code",
   "execution_count": null,
   "metadata": {
    "ExecuteTime": {
     "end_time": "2020-05-01T08:38:38.025687Z",
     "start_time": "2020-05-01T08:38:38.009728Z"
    },
    "collapsed": true
   },
   "outputs": [],
   "source": [
    "pricing_data_infl = pyvacon.pricing.InflationLinkedBondPricingData()\n",
    "pricing_data_infl.param = pyvacon.pricing.BondPricingParameter()\n",
    "pricing_data_infl.param.useJLT = False\n",
    "pricing_data_infl.discountCurve = mkt_testdata.InterestRate.Curves.EONIA(refdate)\n",
    "pricing_data_infl.pricingRequest = pyvacon.pricing.PricingRequest()\n",
    "pricing_data_infl.pricingRequest.setPricingData(False)\n",
    "pricing_data_infl.pricingRequest.setCleanPrice(True)\n",
    "pricing_data_infl.inflationFwdCurve = inflation_curve\n",
    "pricing_data_infl.inflationFixingReference1 = 100\n",
    "pricing_data_infl.inflationFixingReference2 = 100\n",
    "pricing_data_infl.inflationFixing1 = 10000\n",
    "pricing_data_infl.inflationFixing2 = 10000\n",
    "pricing_data_infl.valDate = refdate"
   ]
  },
  {
   "cell_type": "markdown",
   "metadata": {},
   "source": [
    "### InflationLinkedBondSpecification\n",
    "\n",
    "The InflationLinkedBondSpecification is similar to the BondSpecification. It just adds some inflation related information\n",
    "- **deflation protection**: This flag determines whether coupons and notional payments are also adjusted in case of deflation\n",
    "- **inflation interpolation**: This specifies the interpolation method from the methods described [here](#Interpolation-of-price-indices) to derive the inflation index for a certain day in the month. The values that can be used here are defined in *enums.InflationInterpolation*.\n",
    "- **inflation lag**: Needed to compute the month of the respective inflation index used to determine cashflow adjustment (it defines the number of month  before the cashflow month to derive inflation index month used).\n",
    "- **inflation index**: Defines the inflation index used. This is only needed if automatic setup of pricing data will be used. Otherwise, just the inflation curve defined in the PricingData will be used and this string will be ignored.\n"
   ]
  },
  {
   "cell_type": "code",
   "execution_count": null,
   "metadata": {
    "ExecuteTime": {
     "end_time": "2020-05-01T08:38:38.044635Z",
     "start_time": "2020-05-01T08:38:38.028677Z"
    },
    "collapsed": true
   },
   "outputs": [],
   "source": [
    "coupon = pyvacon.instruments.CouponDescription(refdate + dt.timedelta(days = 365), refdate + dt.timedelta(days = 2*365),\n",
    "                                     refdate + dt.timedelta(days = 2*365), enums.DayCounter.ACT365_FIXED, 0.05)\n",
    "\n",
    "coupons = pyvacon.analytics.vectorCouponDescription()\n",
    "coupons.append(coupon)\n",
    "inflationLag = 0\n",
    "deflationProtection = False\n",
    "pricing_data_infl.spec = pyvacon.instruments.InflationLinkedBondSpecification('TEST_INFL', 'BMW', enums.SecuritizationLevel.SENIOR_SECURED, 'EUR', \n",
    "                                           refdate + dt.timedelta(days = 20), refdate + dt.timedelta(days = 2*365), 100.0, \n",
    "                                            [coupon], inflationLag, enums.InflationInterpolation.GERMAN,\n",
    "                                            'CPI', deflationProtection)"
   ]
  },
  {
   "cell_type": "markdown",
   "metadata": {},
   "source": [
    "### Price Call"
   ]
  },
  {
   "cell_type": "code",
   "execution_count": null,
   "metadata": {
    "ExecuteTime": {
     "end_time": "2020-05-01T08:38:38.152085Z",
     "start_time": "2020-05-01T08:38:38.047626Z"
    },
    "collapsed": true
   },
   "outputs": [],
   "source": [
    "results = pyvacon.pricing.price(pricing_data_infl)\n",
    "print(pricing_data_infl.spec.getObjectId() + ', dirty price: ' + str(results.getPrice()) + \",  clean price: \" + str(results.getCleanPrice()))"
   ]
  },
  {
   "cell_type": "markdown",
   "metadata": {},
   "source": [
    "### Outputs\n",
    "#### Macaulay Duration\n",
    "Macaulay duration, named for Frederick Macaulay who introduced the concept, is the weighted average maturity of cashflows. Consider some set of fixed cashflows. The present value of these cashflows is:\n",
    "\n",
    "$$ V=\\sum _{i=1}^{n}PV_{i}V=\\sum _{i=1}^{n}PV_{i}$$\n",
    "The Macaulay duration is defined as:\n",
    "$$ MacD={\\frac {\\sum _{i=1}^{n}{t_{i}PV_{i}}}{\\sum _{i=1}^{n}{PV_{i}}}}={\\frac {\\sum _{i=1}^{n}{t_{i}PV_{i}}}{V}}=\\sum _{i=1}^{n}t_{i}{\\frac {PV_{i}}{V}}$$\n",
    "where:\n",
    "\n",
    "- $i$ indexes the cashflows,\n",
    "- $PV_{i}$ is the present value of the $i$th cash payment from an asset,\n",
    "- $t_{i}$ is the time in years until the $i$th payment will be received,\n",
    "- $V$ is the present value of all future cash payments from the asset.\n",
    "\n",
    "**NOTE:** To compute the year fraction $t_i$ we use the day counter of the underlying discount curve.\n",
    "\n",
    "**TODO**:Explain Macaulay duration for JLT.\n",
    "#### Modified Duration and Rho\n",
    "In contrast to Macaulay duration, modified duration (sometimes abbreviated MD) is a price sensitivity measure, defined as the percentage derivative of price with respect to yield (the logarithmic derivative of bond price with respect to yield). Modified duration applies when a bond or other asset is considered as a function of yield. In this case one can measure the logarithmic derivative with respect to yield:\n",
    "\n",
    "$$ ModD(y)\\equiv -{\\frac {1}{V}}\\cdot {\\frac {\\partial V}{\\partial y}}=-{\\frac {\\partial \\ln(V)}{\\partial y}}$$\n",
    "\n",
    "When the yield is expressed continuously compounded, Macaulay duration and modified duration are numerically equal. To see this, if we take the derivative of price or present value, expression (2), with respect to the continuously compounded yield $y$ we see that:\n",
    "\n",
    "$$\\frac {\\partial V}{\\partial y}=-\\sum _{i=1}^{n}t_{i}\\cdot CF_{i}\\cdot e^{-y\\cdot t_{i}}=-MacD\\cdot V,$$\n",
    "In other words, for yields expressed continuously compounded,\n",
    "$ModD=MacD$.\n",
    "\n",
    "We apply the above equation with the difference that instead of the flat yield we use the time dependent zero rates $r(t_i)$ from the discount curve used to discount the cashflows:\n",
    "$$\\frac {\\partial V}{\\partial y}=-\\sum _{i=1}^{n}t_{i}\\cdot CF_{i}\\cdot e^{-r(t_i)\\cdot t_{i}}=-MacD\\cdot V,$$.\n",
    "To be consistent with the equity part we store this modified duration as rho in the PricingResults object."
   ]
  },
  {
   "cell_type": "code",
   "execution_count": null,
   "metadata": {
    "ExecuteTime": {
     "end_time": "2020-05-01T08:38:38.251606Z",
     "start_time": "2020-05-01T08:38:38.155077Z"
    },
    "collapsed": true
   },
   "outputs": [],
   "source": [
    "pricing_data_infl.pricingRequest.setMacaulayDuration(True)\n",
    "pricing_data_infl.pricingRequest.setRho(True)\n",
    "results = pyvacon.pricing.price(pricing_data_infl)\n",
    "print(pricing_data_infl.spec.getObjectId() + ', dirty price: ' + str(results.getPrice()) + \",  clean price: \" + str(results.getCleanPrice()), \n",
    "     \",  Macaulay Duration: \" + str(results.getMacaulayDuration()) + \",  Mod Duration/rho: \" + str(results.getRho('EONIA')))"
   ]
  },
  {
   "cell_type": "markdown",
   "metadata": {},
   "source": [
    "#### Convexity\n",
    "Convexity is the second derivative of the price w.r.t. the rates, measuring."
   ]
  },
  {
   "cell_type": "code",
   "execution_count": null,
   "metadata": {
    "ExecuteTime": {
     "end_time": "2020-05-01T08:38:38.386315Z",
     "start_time": "2020-05-01T08:38:38.259578Z"
    },
    "collapsed": true
   },
   "outputs": [],
   "source": [
    "pricing_data_infl.pricingRequest.setConvexity(True)\n",
    "results = pyvacon.pricing.price(pricing_data_infl)\n",
    "print(pricing_data_infl.spec.getObjectId() + ', dirty price: ' + str(results.getPrice()) + \",  clean price: \" + str(results.getCleanPrice())\n",
    "      + \", convexity: \" + str(results.getConvexity()))"
   ]
  },
  {
   "cell_type": "markdown",
   "metadata": {},
   "source": [
    "#### Yield to maturity (YTM)\n",
    "The yield to maturity (YTM), book yield or redemption yield of a bond is the (theoretical) internal rate of return (IRR, overall interest rate) earned by an investor who buys the bond today at the market price, assuming that the bond is held until maturity, and that all coupon and principal payments are made on schedule.\n",
    "\n",
    "The YTM is often given in terms of Annual Percentage Rate (A.P.R.), but more often market convention is followed. In a number of major markets (such as gilts) the convention is to quote annualized yields with semi-annual compounding (see compound interest); thus, for example, an annual effective yield of 10.25% would be quoted as 10.00%, because 1.05 × 1.05 = 1.1025 and 2 × 5 = 10.\n",
    "\n",
    "**Note that the YTM computed by the BondPricer is the continuously compounded rate w.r.t. the day counter of the respective discount curve used for pricing the product.**"
   ]
  },
  {
   "cell_type": "code",
   "execution_count": null,
   "metadata": {
    "ExecuteTime": {
     "end_time": "2020-05-01T08:38:38.531926Z",
     "start_time": "2020-05-01T08:38:38.391302Z"
    },
    "collapsed": true
   },
   "outputs": [],
   "source": [
    "pricing_data_infl.pricingRequest.setYTM(True)\n",
    "results = pyvacon.pricing.price(pricing_data_infl)\n",
    "print(pricing_data_infl.spec.getObjectId() + ', dirty price: ' + str(results.getPrice()) + \",  clean price: \" + str(results.getCleanPrice()), \n",
    "     \",  ytm: \" + str(results.getYTM()))"
   ]
  },
  {
   "cell_type": "markdown",
   "metadata": {},
   "source": [
    "#### Theta\n",
    "Theta describes the change of value "
   ]
  },
  {
   "cell_type": "code",
   "execution_count": null,
   "metadata": {
    "ExecuteTime": {
     "end_time": "2020-05-01T08:38:38.660154Z",
     "start_time": "2020-05-01T08:38:38.534918Z"
    },
    "collapsed": true
   },
   "outputs": [],
   "source": [
    "pricing_data_infl.pricingRequest.setYTM(False) #switch of ytm calculation\n",
    "pricing_data_infl.pricingRequest.setTheta(True)\n",
    "results = pyvacon.pricing.price(pricing_data_infl)\n",
    "print(pricing_data_infl.spec.getObjectId() + ', dirty price: ' + str(results.getPrice()) + \",  clean price: \" + str(results.getCleanPrice()), \n",
    "     \",  theta: \" + str(results.getTheta()))"
   ]
  },
  {
   "cell_type": "markdown",
   "metadata": {},
   "source": [
    "---"
   ]
  }
 ],
 "metadata": {
  "hide_input": false,
  "kernelspec": {
   "display_name": "Python 3",
   "language": "python",
   "name": "python3"
  },
  "toc": {
   "base_numbering": 1,
   "colors": {
    "hover_highlight": "#DAA520",
    "navigate_num": "#000000",
    "navigate_text": "#333333",
    "running_highlight": "#FF0000",
    "selected_highlight": "#FFD700",
    "sidebar_border": "#EEEEEE",
    "wrapper_background": "#FFFFFF"
   },
   "moveMenuLeft": true,
   "nav_menu": {},
   "navigate_menu": true,
   "number_sections": true,
   "sideBar": true,
   "skip_h1_title": false,
   "threshold": 4,
   "title_cell": "Table of Contents",
   "title_sidebar": "Contents",
   "toc_cell": false,
   "toc_position": {
    "height": "967.552px",
    "left": "0px",
    "right": "1824.51px",
    "top": "65.7292px",
    "width": "421.563px"
   },
   "toc_section_display": true,
   "toc_window_display": true,
   "widenNotebook": false
  },
  "varInspector": {
   "cols": {
    "lenName": 16,
    "lenType": 16,
    "lenVar": 40
   },
   "kernels_config": {
    "python": {
     "delete_cmd_postfix": "",
     "delete_cmd_prefix": "del ",
     "library": "var_list.py",
     "varRefreshCmd": "print(var_dic_list())"
    },
    "r": {
     "delete_cmd_postfix": ") ",
     "delete_cmd_prefix": "rm(",
     "library": "var_list.r",
     "varRefreshCmd": "cat(var_dic_list()) "
    }
   },
   "types_to_exclude": [
    "module",
    "function",
    "builtin_function_or_method",
    "instance",
    "_Feature"
   ],
   "window_display": false
  }
 },
 "nbformat": 4,
 "nbformat_minor": 2
}

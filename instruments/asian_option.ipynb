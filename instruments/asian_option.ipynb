{
 "cells": [
  {
   "cell_type": "markdown",
   "metadata": {},
   "source": [
    "![](../images/rivacon_frontmark_combined_header.png)"
   ]
  },
  {
   "cell_type": "markdown",
   "metadata": {},
   "source": [
    "# Asian Options"
   ]
  },
  {
   "cell_type": "code",
   "execution_count": null,
   "metadata": {
    "ExecuteTime": {
     "end_time": "2020-05-03T11:34:54.652160Z",
     "start_time": "2020-05-03T11:34:40.893864Z"
    }
   },
   "outputs": [],
   "source": [
    "import pandas as pd\n",
    "import math\n",
    "import numpy as np\n",
    "import random\n",
    "from scipy.stats import norm\n",
    "import pyvacon.analytics as analytics\n",
    "import datetime as dt\n",
    "import pyvacon.tools.converter as converter\n",
    "import pyvacon.tools.enums as enums\n",
    "import pyvacon.marketdata.testdata as mkt_testdata\n",
    "import pyvacon.marketdata.converter as mkt_converter\n",
    "import pyvacon.instruments.testdata as ins_testdata\n",
    "import pyvacon.marketdata.plot as mkt_plot #import module for plotting functionality\n",
    "#the next lin is a jupyter internal command to show the matplotlib graphs within the notebook\n",
    "%matplotlib inline"
   ]
  },
  {
   "cell_type": "markdown",
   "metadata": {},
   "source": [
    "## Definition of an Asian Option\n",
    "\n",
    "An Asian option is an option where the payoff depends on the arithmetic mean of the underling asset's price during the life of the option. Asian options can be of American or European style. Thus, Asian options are appropriate for corporations that, for example, want to ensure that an average exchange rate over a certain period can be realized.\n",
    "\n",
    "The payoff of an Asian call option is given as $$max(S_{avg}-K, 0),$$ the payoff of an Asian put option is $$max(K-S_{avg}, 0).$$\n",
    "\n",
    "The average can thereby be an arithmetic or geometric average."
   ]
  },
  {
   "cell_type": "markdown",
   "metadata": {},
   "source": [
    "## Pricing an Asian Option – One Observation\n",
    "\n",
    "The price of an (European) Asian option can be calculated applying the Back-76 model which is explained [here](european_plain_vanilla_option.ipynb) with \n",
    "\n",
    "$$F_0 = M_1$$ \n",
    "and \n",
    "$$\\sigma^2=\\frac{1}{T}\\ln\\left(\\frac{M_2}{M_1^2}\\right).$$\n",
    "\n",
    "This leads to the following modified Black-76 model:\n",
    "\n",
    "$$c=e^{-rT}[M_1N(d_1)-KN(d_2)] \\quad \\text{resp.} \\quad p=e^{-rT}[KN(-d_2)-M_1N(-d_1)]$$\n",
    "\n",
    "with $$d_1=\\frac{\\ln(M_1/K)+(\\frac{\\frac{1}{T}\\ln\\left(\\frac{M_2}{M_1^2}\\right)}{2})T}{\\sqrt{\\frac{1}{T}\\ln\\left(\\frac{M_2}{M_1^2}\\right)}\\sqrt{T}} \\quad \\text{and} \\quad d_2 = \\frac{\\ln(M_1/K)+(\\frac{\\frac{1}{T}\\ln\\left(\\frac{M_2}{M_1^2}\\right)}{2})T}{\\sqrt{\\frac{1}{T}\\ln\\left(\\frac{M_2}{M_1^2}\\right)}\\sqrt{T}}= d_1-\\sqrt{\\frac{1}{T}\\ln\\left(\\frac{M_2}{M_1^2}\\right)}\\sqrt{T}.$$\n",
    "\n",
    "When the average is calculated continuously, and $\\sigma$, $r$ and $q$ are constant, the first two moments $M_1$ and $M_2$ of the underlying asset's average stock price $S_{avg}$ are\n",
    "\n",
    "$$M_1 = \\frac{e^{(r-q)T}-1}{(r-q)T}S_0,$$\n",
    "\n",
    "and\n",
    "\n",
    "$$M_2 = \\frac{2e^{[2(r-q)+\\sigma^2]T}S_0^2}{(r-q+\\sigma^2)(2r-2q+\\sigma^2)T^2}+\\frac{2S_0^2}{(r-q)T^2}\\left(\\frac{1}{2(r-q)+\\sigma^2}-\\frac{e^{(r-q)T}}{r-q+\\sigma^2} \\right).$$"
   ]
  },
  {
   "cell_type": "code",
   "execution_count": null,
   "metadata": {
    "ExecuteTime": {
     "end_time": "2020-05-03T11:34:54.685385Z",
     "start_time": "2020-05-03T11:34:54.656150Z"
    }
   },
   "outputs": [],
   "source": [
    "def exp(x):\n",
    "    return math.exp(x)\n",
    "def sqrt(x):\n",
    "    return math.sqrt(x)\n",
    "def cdf(x):\n",
    "    return norm.cdf(x)\n",
    "def ln(x):\n",
    "    return math.log(x)\n",
    "\n",
    "def AsianOptionPricer_single(_type, S0, K, r_f, r_b_f,r_br_dsc, sigma, T):\n",
    "    M1 = (exp((r_f-r_b)*T)-1)/((r_f-r_b)*T)*S0\n",
    "    M2 = (2*exp((2*(r_f-r_b)+sigma**2)*T)*S0**2)/((r_f-r_b+sigma**2)*(2*r_f-2*r_b+sigma**2)*T**2)+(2*S0**2)/((r_f-r_b)*T**2)*((1/(2*(r_f-r_b)+sigma**2))-((exp((r_f-r_b)*T))/(r_f-r_b+sigma**2)))\n",
    "    sig_n = sqrt(1/T*ln(M2/M1**2))\n",
    "    d1 = (ln(M1/K)+(sig_n**2/2)*(T))/(sig_n*sqrt(T))\n",
    "    d2 = d1-sig_n*sqrt(T)\n",
    "    if _type == 'c':\n",
    "        cp = 1\n",
    "    if _type =='p':\n",
    "        cp = -1\n",
    "    return cp*exp(-r_dsc*(T))*(M1*cdf(cp*d1)-K*cdf(cp*d2)), M1, M2"
   ]
  },
  {
   "cell_type": "code",
   "execution_count": null,
   "metadata": {
    "ExecuteTime": {
     "end_time": "2020-05-03T11:34:54.809328Z",
     "start_time": "2020-05-03T11:34:54.710333Z"
    }
   },
   "outputs": [],
   "source": [
    "S0 = 50\n",
    "K = 50\n",
    "r_dsc = 0.05\n",
    "r_f = 0.05\n",
    "r_b = 0.00\n",
    "sigma = 0.4\n",
    "T = 1\n",
    "\n",
    "AsianOptionPricer_single('c', S0, K, r_f, r_b, r_dsc, sigma, T)"
   ]
  },
  {
   "cell_type": "markdown",
   "metadata": {},
   "source": [
    "## Pricing an Asian Option – Multiple Observations\n",
    "\n",
    "When the average is calculated from multiple observations at times $T_i$ $(1\\leq i\\leq m)$, the first two moments of $S_{avg}$, $M_1$ and $M_2$, are \n",
    "\n",
    "$$M_1 = \\frac{1}{m}\\sum_{i=1}^mF_i$$\n",
    "and\n",
    "$$M_2 = \\frac{1}{m^2}\\left(\\sum_{i=1}^mF_i^2e^{\\sigma_i^2T_i}+2\\sum_{j=1}^m\\sum_{i=1}^{j-1}F_iF_je^{\\sigma_i^2T_i}\\right).$$\n",
    "\n",
    "$F_i$ is the forward price for maturity $T_i$, $\\sigma_i$ is the implied volatility for maturity $T_i$."
   ]
  },
  {
   "cell_type": "code",
   "execution_count": null,
   "metadata": {
    "ExecuteTime": {
     "end_time": "2020-05-03T11:34:54.865755Z",
     "start_time": "2020-05-03T11:34:54.813584Z"
    }
   },
   "outputs": [],
   "source": [
    "def AsianOptionPricer(_type, S0, K, r_f, r_b, r_dsc, sigma_i, T_i, T):\n",
    "    F = []\n",
    "    for i in range(len(T_i)):\n",
    "        F.append(S0*exp((r_f-r_b)*T_i[i]))\n",
    "    m = len(T_i)\n",
    "    M1 = sum(F)/m\n",
    "    sum1 = 0\n",
    "    for i in range(m):\n",
    "        sum1 += F[i]**2 * exp(sigma_i[i]**2 * T_i[i])\n",
    "    sum2 = 0\n",
    "    for j in range(m):\n",
    "        for i in range(j):\n",
    "            sum2 += F[i]*F[j] * exp( sigma_i[i]**2 * T_i[i] )         \n",
    "    M2 = ( sum1 + 2*sum2 ) / m**2\n",
    "    sig_n = sqrt(1/T*ln(M2/M1**2))\n",
    "    d1 = (ln(M1/K)+(sig_n**2/2)*(T))/(sig_n*sqrt(T))\n",
    "    d2 = d1-sig_n*sqrt(T)\n",
    "    if _type=='c':\n",
    "        cp = 1\n",
    "    if _type =='p':\n",
    "        cp = -1\n",
    "    return cp*math.exp(-r_dsc*(T))*(M1*cdf(cp*d1)-K*cdf(cp*d2))    "
   ]
  },
  {
   "cell_type": "code",
   "execution_count": null,
   "metadata": {
    "ExecuteTime": {
     "end_time": "2020-05-03T11:34:54.931796Z",
     "start_time": "2020-05-03T11:34:54.870683Z"
    }
   },
   "outputs": [],
   "source": [
    "S0 = 50\n",
    "K = 50\n",
    "r_dsc = 0.05\n",
    "r_f = 0.05\n",
    "r_b = 0.00\n",
    "T = 1\n",
    "sigma_i = []\n",
    "T_i = []\n",
    "x = 0.01\n",
    "while x <= 1.0:\n",
    "    T_i.append(x)\n",
    "    sigma_i.append(0.4)\n",
    "    x += 0.01"
   ]
  },
  {
   "cell_type": "code",
   "execution_count": null,
   "metadata": {
    "ExecuteTime": {
     "end_time": "2020-05-03T11:34:55.016583Z",
     "start_time": "2020-05-03T11:34:54.937781Z"
    }
   },
   "outputs": [],
   "source": [
    "AsianOptionPricer('c', S0, K, r_f, r_b, r_dsc, sigma_i, T_i, T)"
   ]
  },
  {
   "cell_type": "markdown",
   "metadata": {},
   "source": [
    "## Plotting the Option Price"
   ]
  },
  {
   "cell_type": "code",
   "execution_count": null,
   "metadata": {
    "ExecuteTime": {
     "end_time": "2020-05-03T11:35:13.745807Z",
     "start_time": "2020-05-03T11:34:55.022565Z"
    }
   },
   "outputs": [],
   "source": [
    "spots = []\n",
    "\n",
    "n=0.5\n",
    "while n<=100:\n",
    "    spots.append(n)\n",
    "    n=n+0.1\n",
    "    \n",
    "call_prices = []\n",
    "for i in range(len(spots)):\n",
    "    call_prices.append(AsianOptionPricer('c', spots[i], K, r_f, r_b, r_dsc, sigma_i, T_i, T))\n",
    "    \n",
    "put_prices = []\n",
    "for i in range(len(spots)):\n",
    "    put_prices.append(AsianOptionPricer('p', spots[i], K, r_f, r_b, r_dsc, sigma_i, T_i, T))\n",
    "\n",
    "#Plot the prices\n",
    "prices_list = {'Spots': spots, \n",
    "              'Call Prices': call_prices,\n",
    "              'Put Prices': put_prices}\n",
    "\n",
    "prices = pd.DataFrame(prices_list, index = spots)    \n",
    "\n",
    "fig, ax = mkt_plot.plt.subplots(figsize=(20,10))\n",
    "# fig.figure(gifsize=(20,10))\n",
    "ax.plot(prices['Spots'],prices['Call Prices'],label='Call Prices')\n",
    "ax.plot(prices['Spots'],prices['Put Prices'],label = 'Put Prices')\n",
    "ax.tick_params(axis=\"x\", labelsize=12)\n",
    "ax.tick_params(axis=\"y\", labelsize=12)\n",
    "ax.axvline(x=K, label='Strike', ls= '--', c='g')\n",
    "ax.set_title('Asian Option Prices',fontsize=30,y=1.02)\n",
    "ax.set_xlabel('Spot',fontsize=20)\n",
    "ax.set_ylabel('Price',fontsize=20)\n",
    "legend = ax.legend(loc='best', shadow=True, fontsize='15')"
   ]
  },
  {
   "cell_type": "markdown",
   "metadata": {},
   "source": [
    "## Asian Option Pricing Using Monte-Carlo Simulation"
   ]
  },
  {
   "cell_type": "code",
   "execution_count": null,
   "metadata": {
    "ExecuteTime": {
     "end_time": "2020-05-03T11:35:13.774967Z",
     "start_time": "2020-05-03T11:35:13.749149Z"
    }
   },
   "outputs": [],
   "source": [
    "def MCAsianOptionPricer(Type, S0, K, r_f, r_b, r_dsc, sigma, T,m, n):\n",
    "    if Type=='c':\n",
    "         cp = 1\n",
    "    if Type =='p':\n",
    "        cp = -1\n",
    "    PV_total = 0\n",
    "    Dt = T/m\n",
    "    for j in range(1,n):\n",
    "        S_total = 0\n",
    "        S = S0\n",
    "        for i in range(m):\n",
    "            S = S*exp(((r_f-r_b)-sigma**2/2)*Dt+sigma*norm.ppf(random.random())*sqrt(Dt))\n",
    "            S_total += S\n",
    "        PV_path = max(cp*(S_total/m-K, 0))*exp(-r_dsc*T)\n",
    "        PV_total +=PV_path\n",
    "    return PV_total/n"
   ]
  },
  {
   "cell_type": "code",
   "execution_count": null,
   "metadata": {
    "ExecuteTime": {
     "end_time": "2020-05-03T11:37:00.256614Z",
     "start_time": "2020-05-03T11:35:13.781115Z"
    }
   },
   "outputs": [],
   "source": [
    "S0 = 50\n",
    "K = 50\n",
    "r_f = 0.05\n",
    "r_dsc = 0.05\n",
    "r_b = 0.00\n",
    "sigma = 0.4\n",
    "T = 1\n",
    "m = 365 # no steps - mit n = 1 sollte es preis von europ. plain vanilla option sein\n",
    "n =1000 # no of simulations\n",
    "\n",
    "MCAsianOptionPricer('c', S0, K, r_f, r_b, r_dsc, sigma, T,m, n)"
   ]
  },
  {
   "cell_type": "markdown",
   "metadata": {},
   "source": [
    "Alternatively, the following code can be used."
   ]
  },
  {
   "cell_type": "code",
   "execution_count": null,
   "metadata": {
    "ExecuteTime": {
     "end_time": "2020-05-03T11:37:00.274108Z",
     "start_time": "2020-05-03T11:37:00.259558Z"
    }
   },
   "outputs": [],
   "source": [
    "def MC2AsianOptionPricer(T, r_f, r_b, r_dsc, K, sigma, S0, m, n):\n",
    "    sumavg_path = 0\n",
    "    for i in range(1,n):\n",
    "        D = T / m\n",
    "        S = np.random.normal(((r_f-r_b)-sigma**2/2)*D, sigma*D**0.5, m) # normal distributed with mu, sigma and m\n",
    "        PV_avg_path =  math.exp(-r_dsc*T)*max(np.mean(np.exp(np.cumsum(S)))*S0 - K, 0)\n",
    "        sumavg_path = sumavg_path+PV_avg_path\n",
    "    return sumavg_path/n, S"
   ]
  },
  {
   "cell_type": "code",
   "execution_count": null,
   "metadata": {
    "ExecuteTime": {
     "end_time": "2020-05-03T11:37:01.087542Z",
     "start_time": "2020-05-03T11:37:00.277128Z"
    }
   },
   "outputs": [],
   "source": [
    "S0 = 50\n",
    "K = 50\n",
    "r_f = 0.05\n",
    "r_dsc = 0.05\n",
    "r_b = 0.00\n",
    "sigma = 0.4\n",
    "T = 1\n",
    "m=10000\n",
    "n = 1000\n",
    "\n",
    "MC2AsianOptionPricer(T, r_f, r_b, r_dsc, K, sigma, S0, m, n)"
   ]
  },
  {
   "cell_type": "markdown",
   "metadata": {},
   "source": [
    "---"
   ]
  }
 ],
 "metadata": {
  "kernelspec": {
   "display_name": "Python 3",
   "language": "python",
   "name": "python3"
  },
  "language_info": {
   "codemirror_mode": {
    "name": "ipython",
    "version": 3
   },
   "file_extension": ".py",
   "mimetype": "text/x-python",
   "name": "python",
   "nbconvert_exporter": "python",
   "pygments_lexer": "ipython3",
   "version": "3.7.4"
  },
  "toc": {
   "base_numbering": 1,
   "nav_menu": {
    "height": "118px",
    "width": "252px"
   },
   "number_sections": true,
   "sideBar": true,
   "skip_h1_title": true,
   "title_cell": "Table of Contents",
   "title_sidebar": "Contents",
   "toc_cell": false,
   "toc_position": {},
   "toc_section_display": "block",
   "toc_window_display": true
  },
  "varInspector": {
   "cols": {
    "lenName": 16,
    "lenType": 16,
    "lenVar": 40
   },
   "kernels_config": {
    "python": {
     "delete_cmd_postfix": "",
     "delete_cmd_prefix": "del ",
     "library": "var_list.py",
     "varRefreshCmd": "print(var_dic_list())"
    },
    "r": {
     "delete_cmd_postfix": ") ",
     "delete_cmd_prefix": "rm(",
     "library": "var_list.r",
     "varRefreshCmd": "cat(var_dic_list()) "
    }
   },
   "types_to_exclude": [
    "module",
    "function",
    "builtin_function_or_method",
    "instance",
    "_Feature"
   ],
   "window_display": false
  }
 },
 "nbformat": 4,
 "nbformat_minor": 2
}

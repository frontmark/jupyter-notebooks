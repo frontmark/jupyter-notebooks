{
 "cells": [
  {
   "cell_type": "markdown",
   "metadata": {},
   "source": [
    "![](../images/rivacon_frontmark_combined_header.png)"
   ]
  },
  {
   "cell_type": "markdown",
   "metadata": {},
   "source": [
    "# Barrier Options"
   ]
  },
  {
   "cell_type": "code",
   "execution_count": null,
   "metadata": {
    "ExecuteTime": {
     "end_time": "2020-05-04T15:01:52.044841Z",
     "start_time": "2020-05-04T15:01:48.083343Z"
    }
   },
   "outputs": [],
   "source": [
    "import pyvacon.analytics as analytics\n",
    "import datetime as dt\n",
    "import pyvacon.tools.converter as converter\n",
    "import pyvacon.tools.enums as enums\n",
    "import pyvacon.marketdata.testdata as mkt_testdata\n",
    "import pyvacon.instruments.testdata as ins_testdata\n",
    "import math\n",
    "from scipy.stats import norm\n",
    "import pyvacon.marketdata.plot as mkt_plot #import module for plotting functionality\n",
    "#the next lin is a jupyter internal command to show the matplotlib graphs within the notebook\n",
    "%matplotlib inline"
   ]
  },
  {
   "cell_type": "code",
   "execution_count": null,
   "metadata": {
    "ExecuteTime": {
     "end_time": "2020-05-04T15:01:52.055021Z",
     "start_time": "2020-05-04T15:01:52.044841Z"
    }
   },
   "outputs": [],
   "source": [
    "def exp(x):\n",
    "    return math.exp(x)\n",
    "def cdf(x):\n",
    "    return norm.cdf(x)\n",
    "def log(x):\n",
    "    return math.log(x)\n",
    "def sqrt(x):\n",
    "    return math.sqrt(x)"
   ]
  },
  {
   "cell_type": "markdown",
   "metadata": {},
   "source": [
    "## Definition of Barrier Options\n",
    "\n",
    "Barrier options are options where the payoff depends on whether the underlying's spot price reaches a certain level during a certain period of time. Barrier options can be classified in know-out options and knock-in options. A knock-in option comes into existence only when the underlying's spot price reaches the defined barrier; a knock-out option ceases to exist if the underlying's spot prices reaches the defined barrier. The different barrier options including their payoff profile are presented in this notebook. For a detailed description please refer to Hull, *Options, futures, and other derivatives, 8th Edition,* 2012, pp. 579-581.\n",
    "\n",
    "The following code defines the valuation formula for barrier options assuming a non-dividend paying stock."
   ]
  },
  {
   "cell_type": "code",
   "execution_count": null,
   "metadata": {
    "ExecuteTime": {
     "end_time": "2020-05-04T15:01:52.121563Z",
     "start_time": "2020-05-04T15:01:52.057987Z"
    }
   },
   "outputs": [],
   "source": [
    "def BarrierOptionPricer(_Type, S0, K, H, r, q, sigma, T, t=0):\n",
    "    _lambda = (r-q+sigma**2/2)/sigma**2\n",
    "    y = (log(H**2/(S0*K)))/(sigma*sqrt(T-t))+_lambda*sigma*sqrt(T-t)\n",
    "    x1 = (log(S0/H))/(sigma*sqrt(T-t))+_lambda*sigma*sqrt(T-t)\n",
    "    y1 = (log(H/S0))/(sigma*sqrt(T-t))+_lambda*sigma*sqrt(T-t)\n",
    "    d1= (log(S0/K)+(r+sigma**2/2)*(T-t))/(sigma*sqrt(T-t))\n",
    "    d2 = d1-sigma*sqrt(T-t)\n",
    "    p = -1*(S0*cdf(-1*d1)-K*exp(-r*(T-t))*cdf(-1*d2))\n",
    "    c = 1*(S0*cdf(1*d1)-K*exp(-r*(T-t))*cdf(1*d2))\n",
    "    cdi = S0*exp(-q*(T-t))*(H/S0)**(2*_lambda)*cdf(y)-K*exp(-r*(T-t))*(H/S0)**(2*_lambda-2)*cdf(y-sigma*sqrt(T-t))\n",
    "    cdo = S0*cdf(x1)*exp(-q*(T-t))-K*exp(-r*(T-t))*cdf(x1-sigma*sqrt(T-t))-S0*exp(-q*(T-t))*(H/S0)**(2*_lambda)*cdf(y1)+K*exp(-r*(T-t))*(H/S0)**(2*_lambda-2)*cdf(y1-sigma*sqrt(T-t))\n",
    "    cui = S0*cdf(x1)*exp(-q*(T-t))-K*exp(-r*(T-t))*cdf(x1-sigma*sqrt(T-t))-S0*exp(-q*(T-t))*(H/S0)**(2*_lambda)*(cdf(-y)-cdf(-y1))+K*exp(-r*(T-t))*(H/S0)**(2*_lambda-2)*(cdf(-y+sigma*sqrt(T-t))-cdf(-y1+sigma*sqrt(T-t)))\n",
    "    pui = -S0*exp(-q*(T-t))*(H/S0)**(2*_lambda)*cdf(-y)+K*exp(-r*(T-t))*(H/S0)**(2*_lambda-2)*cdf(-y+sigma*sqrt(T-t))\n",
    "    puo = -S0*cdf(-x1)*exp(-q*(T-t))+K*exp(-r*(T-t))*cdf(-x1+sigma*sqrt(T-t))+S0*exp(-q*(T-t))*(H/S0)**(2*_lambda)*cdf(-y1)-K*exp(-r*(T-t))*(H/S0)**(2*_lambda-2)*cdf(-y1+sigma*math.sqrt(T-t))\n",
    "    pdi = -S0*cdf(-x1)*exp(-q*(T-t))+K*exp(-r*(T-t))*cdf(-x1+sigma*sqrt(T-t))+S0*exp(-q*(T-t))*(H/S0)**(2*_lambda)*(cdf(y)-cdf(y1))-K*exp(-r*(T-t))*(H/S0)**(2*_lambda-2)*(cdf(y-sigma*sqrt(T-t))-cdf(y1-sigma*sqrt(T-t)))\n",
    "    if _Type =='cdi' and H<K and S0>H:\n",
    "        return cdi\n",
    "    if _Type =='cdi' and H>=K and S0>H:\n",
    "        return c-cdo\n",
    "    if _Type =='cdi' and S0<=H:\n",
    "        return c\n",
    "    if _Type =='cdo' and H<K and S0>H:\n",
    "        return c-cdi\n",
    "    if _Type =='cdo' and H<K and S0<=H:\n",
    "        return 0\n",
    "    if _Type =='cdo' and H>=K and S0>H:\n",
    "        return cdo\n",
    "    if _Type =='cdo' and H>=K and S0<=H:\n",
    "        return 0\n",
    "    if _Type =='cui' and H>K:\n",
    "        return cui\n",
    "    if _Type =='cui' and H<=K:\n",
    "        return c\n",
    "    if _Type =='cuo' and H>K and S0<H:\n",
    "        return c-cui\n",
    "    if _Type =='cuo' and H>K and S0>=H:\n",
    "        return 0\n",
    "    if _Type =='cuo' and H<=K:\n",
    "        return 0.0\n",
    "    if _Type =='pui' and H>=K and S0<H:\n",
    "        return pui\n",
    "    if _Type =='pui' and H<K and S0<H:\n",
    "        return p-puo\n",
    "    if _Type =='pui' and S0>=H:\n",
    "        return p\n",
    "    if _Type =='puo':\n",
    "        if S0>=H:\n",
    "            return 0\n",
    "        else:\n",
    "            if _Type =='puo' and H>=K:\n",
    "                return p-pui\n",
    "            if _Type =='puo' and H<K:\n",
    "                return puo\n",
    "    if _Type =='pdi' and H>=K:\n",
    "        return p\n",
    "    if _Type =='pdi' and H<K:\n",
    "        return pdi\n",
    "    if _Type =='pdo' and H>=K:\n",
    "        return 0\n",
    "    if _Type =='pdo' and H<K and S0>H:\n",
    "        return p-pdi\n",
    "    if _Type =='pdo' and H<K and S0<=H:\n",
    "        return 0\n",
    "    if _Type =='c':\n",
    "        return c\n",
    "    if _Type =='p':\n",
    "        return p"
   ]
  },
  {
   "cell_type": "code",
   "execution_count": null,
   "metadata": {
    "ExecuteTime": {
     "end_time": "2020-05-04T15:01:52.139505Z",
     "start_time": "2020-05-04T15:01:52.124546Z"
    }
   },
   "outputs": [],
   "source": [
    "spots = analytics.vectorDouble()\n",
    "\n",
    "S0 = 30\n",
    "n=0.1\n",
    "while n <=100:\n",
    "    spots.append(n)\n",
    "    n=n+0.1\n",
    "\n",
    "K = 50\n",
    "H1 = 40\n",
    "H2 = 60\n",
    "r = 0.05\n",
    "q = 0\n",
    "sigma = 0.3\n",
    "T = 1\n",
    "t = 0"
   ]
  },
  {
   "cell_type": "markdown",
   "metadata": {},
   "source": [
    "### Barrier call options\n",
    "\n",
    "#### Down-and-in call\n",
    "\n",
    "A down-and-in call is a call option which comes into existence if the stock price hits a barrier which is below the initial asset price.\n",
    "\n",
    "If the barrier $H$ is less than or equal to the strike price $K$, the formula to price a down-and-in call is defined as\n",
    "\n",
    "$$c_{di}=S_0e^{-qT}(H/S_0)^{2\\lambda}N(y)-Ke^{-rT}(H/S_0)^{2\\lambda-2}N(y-\\sigma\\sqrt{T}),$$\n",
    "\n",
    "where \n",
    "\n",
    "\\begin{align}\n",
    "\\lambda &= \\frac{r-q+\\sigma^2/2}{\\sigma^2} \\\\\n",
    "y &= \\frac{\\ln[H^2/(S_0K)]}{\\sigma\\sqrt{T}}+\\lambda\\sigma\\sqrt{T}. \\\\\n",
    "\\end{align}\n",
    "\n",
    "$S_0$ is the underlying's spot price, $K$ is the strike price, $H$ is the barrier level, $\\sigma$ is the underlying's volatility, $r$ is the risk-free interest rate, $q$ is the borrowing rate, and $T$ is the time to maturity. $N(x)$ is the cumulative probability distribution function for a standardized normal distribution.\n",
    "\n",
    "If the barrier is greater than or equal to the strike price, the formula for the down-and-in call is\n",
    "\n",
    "$$c_{di}=c-c_{do}.$$"
   ]
  },
  {
   "cell_type": "code",
   "execution_count": null,
   "metadata": {
    "ExecuteTime": {
     "end_time": "2020-05-04T15:01:58.899820Z",
     "start_time": "2020-05-04T15:01:52.142498Z"
    }
   },
   "outputs": [],
   "source": [
    "# Assumption that H has not been reached yet. If H is reached, product becomes normal plain vanilla call.\n",
    "\n",
    "cdi_price1 = analytics.vectorDouble()\n",
    "for s in range(len(spots)):\n",
    "    cdi_price1.append(BarrierOptionPricer('cdi', spots[s], K, H1, r, q, sigma, T, t))\n",
    "vanilla_call1 = analytics.vectorDouble()\n",
    "for s in range(len(spots)):\n",
    "    vanilla_call1.append(BarrierOptionPricer('c', spots[s], K, H1, r, q, sigma, T, t))\n",
    "    \n",
    "cdi_price2 = analytics.vectorDouble()\n",
    "for s in range(len(spots)):\n",
    "    cdi_price2.append(BarrierOptionPricer('cdi', spots[s], K, H2, r, q, sigma, T, t))\n",
    "    \n",
    "fig, (cdi1, cdi2) = mkt_plot.plt.subplots(1,2, figsize=(12,4),dpi=100,num=1)\n",
    "cdi1.plot(spots, cdi_price1, 'k', label='Down-and-in call')\n",
    "cdi1.plot(spots, vanilla_call1, 'y:', label='Plain vanilla call')\n",
    "cdi1.set_title('Down-and-in call H<K')\n",
    "cdi1.set_xlabel('Spot')\n",
    "cdi1.set_ylabel('Price')\n",
    "cdi1.axvline(x=K, label='Strike', ls= '--', c='g')\n",
    "cdi1.axvline(x=H1, label='Barrier', ls=':', c='r')\n",
    "legend = cdi1.legend(loc='best', shadow=True, fontsize='medium')\n",
    "    \n",
    "#fig, cdi2 = mkt_plot.plt.subplots()\n",
    "cdi2.plot(spots, cdi_price2, 'k', label='Down-and-in call')\n",
    "cdi2.plot(spots, vanilla_call1, 'y:', label='Plain vanilla call')\n",
    "cdi2.set_title('Down-and-in call H>K')\n",
    "cdi2.set_xlabel('Spot')\n",
    "cdi2.set_ylabel('Price')\n",
    "cdi2.axvline(x=K, label='Strike', ls= '--', c='g')\n",
    "cdi2.axvline(x=H2, label='Barrier', ls=':', c='r')\n",
    "legend = cdi2.legend(loc='best', shadow=True, fontsize='medium')"
   ]
  },
  {
   "cell_type": "markdown",
   "metadata": {},
   "source": [
    "#### Down-and-out call\n",
    "\n",
    "A down-and-out call in a call option that ceases to exists when the stock price hits a barrier which is below the initial asset price.\n",
    "\n",
    "If $H \\leq K$, the formula for the down-and-out call is \n",
    "\n",
    "$$c_{do}=c-c_{di},$$\n",
    "\n",
    "if $H \\geq K$, the formula is \n",
    "\n",
    "$$c_{do}=S_0N(x_1)e^{-qT}-Ke^{-rT}N(x_1-\\sigma\\sqrt{T})-S_0e^{-qT}(H/S_0)^{2\\lambda}N(y_1)+Ke^{-rT}(H/S_0)^{2\\lambda-2}N(y_1-\\sigma\\sqrt{T})$$\n",
    "\n",
    "where \n",
    "\n",
    "\\begin{align}\n",
    "x_1 &=\\frac{\\ln(S_0/H}{\\sigma\\sqrt{T}}+\\lambda\\sigma\\sqrt{T} \\\\\n",
    "y_1 &=\\frac{\\ln(H/S_0}{\\sigma\\sqrt{T}}+\\lambda\\sigma\\sqrt{T}. \\\\\n",
    "\\end{align}"
   ]
  },
  {
   "cell_type": "code",
   "execution_count": null,
   "metadata": {
    "ExecuteTime": {
     "end_time": "2020-05-04T15:02:05.373006Z",
     "start_time": "2020-05-04T15:01:58.903810Z"
    }
   },
   "outputs": [],
   "source": [
    "vanilla_call1 = analytics.vectorDouble()\n",
    "for s in range(len(spots)):\n",
    "    vanilla_call1.append(BarrierOptionPricer('c', spots[s], K, H1, r, q, sigma, T, t))\n",
    "\n",
    "cdo_price1 = analytics.vectorDouble()\n",
    "for s in range(len(spots)):\n",
    "    cdo_price1.append(BarrierOptionPricer('cdo', spots[s], K, H1, r, q, sigma, T, t))\n",
    "    \n",
    "cdo_price2 = analytics.vectorDouble()\n",
    "for s in range(len(spots)):\n",
    "    cdo_price2.append(BarrierOptionPricer('cdo', spots[s], K, H2, r, q, sigma, T, t))\n",
    "    \n",
    "fig, (cdo1, cdo2) = mkt_plot.plt.subplots(1,2, figsize=(12,4),dpi=100,num=1)\n",
    "cdo1.plot(spots, cdo_price1, 'k', label='Down-and-out call')\n",
    "cdo1.plot(spots, vanilla_call1, 'y:', label='Plain vanilla call')\n",
    "cdo1.set_title('Down-and-out call H<K')\n",
    "cdo1.set_xlabel('Spot')\n",
    "cdo1.set_ylabel('Price')\n",
    "cdo1.axvline(x=K, label='Strike', ls= '--', c='g')\n",
    "cdo1.axvline(x=H1, label='Barrier', ls=':', c='r')\n",
    "legend = cdo1.legend(loc='best', shadow=True, fontsize='medium')\n",
    "    \n",
    "#fig, cdo2 = mkt_plot.plt.subplots()\n",
    "cdo2.plot(spots, cdo_price2, 'k', label='Down-and-out call')\n",
    "cdo2.plot(spots, vanilla_call1, 'y:', label='Plain vanilla call')\n",
    "cdo2.set_title('Down-and-out call H>K')\n",
    "cdo2.set_xlabel('Spot')\n",
    "cdo2.set_ylabel('Price')\n",
    "cdo2.axvline(x=K, label='Strike', ls= '--', c='g')\n",
    "cdo2.axvline(x=H2, label='Barrier', ls=':', c='r')\n",
    "legend = cdo2.legend(loc='best', shadow=True, fontsize='medium')"
   ]
  },
  {
   "cell_type": "markdown",
   "metadata": {},
   "source": [
    "#### Up-and-in call\n",
    "\n",
    "An up-and-in call is a call option which comes into existence if the spots hits a barrier which is above the initial asset price.\n",
    "\n",
    "In the case of $H \\leq K$ the value of the up-and-in call $c_{ui}$ is $c$.\n",
    "\n",
    "When $H > K$ the formula for the up-and-in call is defined as\n",
    "\n",
    "$$c_{ui}=S_0N(x_1)e^{-qT}-Ke^{-rT}N(x_1-\\sigma\\sqrt{T})-S_0e^{-qT}(H/S_0)^{2\\lambda}[N(-y)-N(-y_1)]+Ke^{-rT}(H/S_0)^{2\\lambda-2}[N(-y+\\sigma\\sqrt{T})-N(-y_1+\\sigma\\sqrt{T})].$$"
   ]
  },
  {
   "cell_type": "code",
   "execution_count": null,
   "metadata": {
    "ExecuteTime": {
     "end_time": "2020-05-04T15:02:11.866849Z",
     "start_time": "2020-05-04T15:02:05.375997Z"
    }
   },
   "outputs": [],
   "source": [
    "# Assumption that H has not been reached yet. If the barrier is hit, the it is a plain vanilla call.\n",
    "\n",
    "vanilla_call1 = analytics.vectorDouble()\n",
    "for s in range(len(spots)):\n",
    "    vanilla_call1.append(BarrierOptionPricer('c', spots[s], K, H1, r, q, sigma, T, t))\n",
    "\n",
    "cui_price1 = analytics.vectorDouble()\n",
    "for s in range(len(spots)):\n",
    "    cui_price1.append(BarrierOptionPricer('cui', spots[s], K, H1, r, q, sigma, T, t))\n",
    "    \n",
    "cui_price2 = analytics.vectorDouble()\n",
    "for s in range(len(spots)):\n",
    "    cui_price2.append(BarrierOptionPricer('cui', spots[s], K, 80, r, q, sigma, T, t))\n",
    "\n",
    "fig, (cui1, cui2) = mkt_plot.plt.subplots(1,2, figsize=(12,4),dpi=100,num=1)\n",
    "cui1.plot(spots, cui_price1, 'k', label='Up-and-in call')\n",
    "cui1.plot(spots, vanilla_call1, 'y:', label='Plain vanilla call')\n",
    "cui1.set_title('Up-and-in call H<K')\n",
    "cui1.set_xlabel('Spot')\n",
    "cui1.set_ylabel('Price')\n",
    "cui1.axvline(x=K, label='Strike', ls= '--', c='g')\n",
    "cui1.axvline(x=H1, label='Barrier', ls=':', c='r')\n",
    "legend = cui1.legend(loc='best', shadow=True, fontsize='medium')\n",
    "    \n",
    "#fig, cui2 = mkt_plot.plt.subplots()\n",
    "cui2.plot(spots, cui_price2, 'k', label='Up-and-in call')\n",
    "cui2.plot(spots, vanilla_call1, 'y:', label='Plain vanilla call')\n",
    "cui2.set_title('Up-and-in call H>K')\n",
    "cui2.set_xlabel('Spot')\n",
    "cui2.set_ylabel('Price')\n",
    "cui2.axvline(x=K, label='Strike', ls= '--', c='g')\n",
    "cui2.axvline(x=80, label='Barrier', ls=':', c='r')\n",
    "legend = cui2.legend(loc='best', shadow=True, fontsize='medium')    "
   ]
  },
  {
   "cell_type": "markdown",
   "metadata": {},
   "source": [
    "#### Up-and-out call\n",
    "\n",
    "An up-and-out call is a call option which ceases to exist when the stock price hits a barrier which is above the initial asset price.\n",
    "\n",
    "When $H \\leq K$, the value of the up-and-out call is zero.\n",
    "\n",
    "When $H > K$, formula for the up-and-out call is defined as \n",
    "\n",
    "$$c_{uo}=c-c_{ui}.$$"
   ]
  },
  {
   "cell_type": "code",
   "execution_count": null,
   "metadata": {
    "ExecuteTime": {
     "end_time": "2020-05-04T15:02:18.700331Z",
     "start_time": "2020-05-04T15:02:11.869840Z"
    }
   },
   "outputs": [],
   "source": [
    "vanilla_call1 = analytics.vectorDouble()\n",
    "for s in range(len(spots)):\n",
    "    vanilla_call1.append(BarrierOptionPricer('c', spots[s], K, H1, r, q, sigma, T, t))\n",
    "\n",
    "cuo_price1 = analytics.vectorDouble()\n",
    "for s in range(len(spots)):\n",
    "    cuo_price1.append(BarrierOptionPricer('cuo', spots[s], K, H1, r, q, sigma, T, t))\n",
    "    \n",
    "cuo_price2 = analytics.vectorDouble()\n",
    "for s in range(len(spots)):\n",
    "    cuo_price2.append(BarrierOptionPricer('cuo', spots[s], K, H2, r, q, sigma, T, t))\n",
    "    \n",
    "fig, (cuo1, cuo2) = mkt_plot.plt.subplots(1,2, figsize=(12,4),dpi=100,num=1)\n",
    "cuo1.plot(spots, cuo_price1, 'k', label='Up-and-out call')\n",
    "#cuo1.plot(spots, vanilla_call1, 'y:', label='Plain vanilla call')\n",
    "cuo1.set_title('Up-and-out call H<K')\n",
    "cuo1.set_xlabel('Spot')\n",
    "cuo1.set_ylabel('Price')\n",
    "cuo1.axvline(x=K, label='Strike', ls= '--', c='g')\n",
    "cuo1.axvline(x=H1, label='Barrier', ls=':', c='r')\n",
    "legend = cuo1.legend(loc='best', shadow=True, fontsize='medium')\n",
    "    \n",
    "#fig, cuo2 = mkt_plot.plt.subplots()\n",
    "cuo2.plot(spots, cuo_price2, 'k', label='Up-and-out call')\n",
    "#cuo2.plot(spots, vanilla_call1, 'y:', label='Plain vanilla call')\n",
    "cuo2.set_title('Up-and-out call H>K')\n",
    "cuo2.set_xlabel('Spot')\n",
    "cuo2.set_ylabel('Price')\n",
    "cuo2.axvline(x=K, label='Strike', ls= '--', c='g')\n",
    "cuo2.axvline(x=H2, label='Barrier', ls=':', c='r')\n",
    "legend = cuo2.legend(loc='best', shadow=True, fontsize='medium')"
   ]
  },
  {
   "cell_type": "markdown",
   "metadata": {},
   "source": [
    "### Barrier put options\n",
    "\n",
    "#### Down-and-in put\n",
    "\n",
    "A down-and-in put is a put option which comes into existence if the spot price hits a barrier which is below the initial asset price.\n",
    "\n",
    "When the barrier is greater than or equal to the strike price, the value of the down-and-in put is equal to a plain vanilla put $p$. If the barrier is less than the strike price, the formula for the down-and-in put is defined as \n",
    "\n",
    "$$p_{di}=-S_0N(-x_1)e^{-qT}+Ke^{-rT}N(-x_1+\\sigma\\sqrt{T})+S_0e^{-qT}(H/S_0)^{2\\lambda}[N(y)-N(y_1)]-Ke^{-rT}(H/S_0)^{2\\lambda-2}[N(y-\\sigma\\sqrt{T}-N(y_1-\\sigma\\sqrt{T}].$$"
   ]
  },
  {
   "cell_type": "code",
   "execution_count": null,
   "metadata": {
    "ExecuteTime": {
     "end_time": "2020-05-04T15:02:25.444787Z",
     "start_time": "2020-05-04T15:02:18.702325Z"
    }
   },
   "outputs": [],
   "source": [
    "# H<K: As soon as the barrier is hit, the down-and-in put becomes a plain vanilla put.\n",
    "\n",
    "vanilla_put = analytics.vectorDouble()\n",
    "for s in range(len(spots)):\n",
    "    vanilla_put.append(BarrierOptionPricer('p', spots[s], K, H1, r, q, sigma, T, t))\n",
    "\n",
    "pdi_price1 = analytics.vectorDouble()\n",
    "for s in range(len(spots)):\n",
    "    pdi_price1.append(BarrierOptionPricer('pdi', spots[s], K, 30, r, q, sigma, T, t))\n",
    "    \n",
    "pdi_price2 = analytics.vectorDouble()\n",
    "for s in range(len(spots)):\n",
    "    pdi_price2.append(BarrierOptionPricer('pdi', spots[s], K, H2, r, q, sigma, T, t))\n",
    "    \n",
    "fig, (pdi1, pdi2) = mkt_plot.plt.subplots(1,2, figsize=(12,4),dpi=100,num=1)\n",
    "pdi1.plot(spots, pdi_price1, 'k', label='Down-and-in put')\n",
    "pdi1.plot(spots, vanilla_put, 'y:', label='Plain vanilla put')\n",
    "pdi1.set_title('Down-and-in put H<K')\n",
    "pdi1.set_xlabel('Spot')\n",
    "pdi1.set_ylabel('Price')\n",
    "pdi1.axvline(x=K, label='Strike', ls= '--', c='g')\n",
    "pdi1.axvline(x=H1, label='Barrier', ls=':', c='r')\n",
    "legend = pdi1.legend(loc='best', shadow=True, fontsize='medium')\n",
    "    \n",
    "#fig, pdi2 = mkt_plot.plt.subplots()\n",
    "pdi2.plot(spots, pdi_price2, 'k', label='Down-and-in put')\n",
    "pdi2.plot(spots, vanilla_put, 'y:', label='Plain vanilla put')\n",
    "pdi2.set_title('Down-and-in put H>K')\n",
    "pdi2.set_xlabel('Spot')\n",
    "pdi2.set_ylabel('Price')\n",
    "pdi2.axvline(x=K, label='Strike', ls= '--', c='g')\n",
    "pdi2.axvline(x=H2, label='Barrier', ls=':', c='r')\n",
    "legend = pdi2.legend(loc='best', shadow=True, fontsize='medium')  "
   ]
  },
  {
   "cell_type": "markdown",
   "metadata": {},
   "source": [
    "#### Down-and-out put\n",
    "\n",
    "A down-and-out put is a put option which ceases to exists when the spot price hits a barrier which is below the initial asset price.\n",
    "\n",
    "When the barrier is greater than or equal to the strike price, the value of the down-and-out put is zero. If the barrier is less than the strike price, the formula for the down-and-out put is defined as\n",
    "\n",
    "$$p_{do} = p - p_{di}.$$"
   ]
  },
  {
   "cell_type": "code",
   "execution_count": null,
   "metadata": {
    "ExecuteTime": {
     "end_time": "2020-05-04T15:02:32.124693Z",
     "start_time": "2020-05-04T15:02:25.446768Z"
    }
   },
   "outputs": [],
   "source": [
    "vanilla_put = analytics.vectorDouble()\n",
    "for s in range(len(spots)):\n",
    "    vanilla_put.append(BarrierOptionPricer('p', spots[s], K, H1, r, q, sigma, T, t))\n",
    "\n",
    "pdo_price1 = analytics.vectorDouble()\n",
    "for s in range(len(spots)):\n",
    "    pdo_price1.append(BarrierOptionPricer('pdo', spots[s], K, H1, r, q, sigma, T, t))\n",
    "    \n",
    "pdo_price2 = analytics.vectorDouble()\n",
    "for s in range(len(spots)):\n",
    "    pdo_price2.append(BarrierOptionPricer('pdo', spots[s], K, H2, r, q, sigma, T, t))\n",
    "\n",
    "fig, (pdo1, pdo2) = mkt_plot.plt.subplots(1,2, figsize=(12,4),dpi=100,num=1)\n",
    "pdo1.plot(spots, pdo_price1, 'k', label='Down-and-out put')\n",
    "#pdo1.plot(spots, vanilla_put, 'y:', label='Plain vanilla put')\n",
    "pdo1.set_title('Down-and-out put H<K')\n",
    "pdo1.set_xlabel('Spot')\n",
    "pdo1.set_ylabel('Price')\n",
    "pdo1.axvline(x=K, label='Strike', ls= '--', c='g')\n",
    "pdo1.axvline(x=H1, label='Barrier', ls=':', c='r')\n",
    "legend = pdo1.legend(loc='best', shadow=True, fontsize='medium')\n",
    "    \n",
    "#fig, pdo2 = mkt_plot.plt.subplots()\n",
    "pdo2.plot(spots, pdo_price2, 'k', label='Down-and-out put')\n",
    "#pdo2.plot(spots, vanilla_put, 'y:', label='Plain vanilla put')\n",
    "pdo2.set_title('Down-and-out put H>K')\n",
    "pdo2.set_xlabel('Spot')\n",
    "pdo2.set_ylabel('Price')\n",
    "pdo2.axvline(x=K, label='Strike', ls= '--', c='g')\n",
    "pdo2.axvline(x=H2, label='Barrier', ls=':', c='r')\n",
    "legend = pdo2.legend(loc='best', shadow=True, fontsize='medium')        "
   ]
  },
  {
   "cell_type": "markdown",
   "metadata": {},
   "source": [
    "#### Up-and-in put\n",
    "\n",
    "An up-and-in put is a put option that comes into existence if the spot price hits a barrier which is above the initial asset price.\n",
    "\n",
    "When $H \\geq K$, the formula for the up-and-in put is defined as\n",
    "\n",
    "$$ p_{ui}=S_0e^{-qT}(H/S_0)^{2\\lambda}N(-y)+Ke^{-rT}(H/S_0)^{2\\lambda-2}N(-y+\\sigma\\sqrt{T})$$\n",
    "\n",
    "when $H<K$ the formula is \n",
    "\n",
    "$$ p_{ui}=p-p_{uo}.$$"
   ]
  },
  {
   "cell_type": "code",
   "execution_count": null,
   "metadata": {
    "ExecuteTime": {
     "end_time": "2020-05-04T15:02:39.011878Z",
     "start_time": "2020-05-04T15:02:32.127685Z"
    }
   },
   "outputs": [],
   "source": [
    "vanilla_put = analytics.vectorDouble()\n",
    "for s in range(len(spots)):\n",
    "    vanilla_put.append(BarrierOptionPricer('p', spots[s], K, H1, r, q, sigma, T, t))\n",
    "\n",
    "pui_price1 = analytics.vectorDouble()\n",
    "for s in range(len(spots)):\n",
    "    pui_price1.append(BarrierOptionPricer('pui', spots[s], K, H1, r, q, sigma, T, t))\n",
    "    \n",
    "pui_price2 = analytics.vectorDouble()\n",
    "for s in range(len(spots)):\n",
    "    pui_price2.append(BarrierOptionPricer('pui', spots[s], K, H2, r, q, sigma, T, t))\n",
    "    \n",
    "fig, (pui1, pui2) = mkt_plot.plt.subplots(1,2, figsize=(12,4),dpi=100,num=1)\n",
    "pui1.plot(spots, pui_price1, 'k', label='Up-and-in put')\n",
    "pui1.plot(spots, vanilla_put, 'y:', label='Plain vanilla put')\n",
    "pui1.set_title('Up-and-in put H<K')\n",
    "pui1.set_xlabel('Spot')\n",
    "pui1.set_ylabel('Price')\n",
    "pui1.axvline(x=K, label='Strike', ls= '--', c='g')\n",
    "pui1.axvline(x=H1, label='Barrier', ls=':', c='r')\n",
    "legend = pui1.legend(loc='best', shadow=True, fontsize='medium')\n",
    "    \n",
    "#fig, pui2 = mkt_plot.plt.subplots()\n",
    "pui2.plot(spots, pui_price2, 'k', label='Up-and-in put')\n",
    "pui2.plot(spots, vanilla_put, 'y:', label='Plain vanilla put')\n",
    "pui2.set_title('Up-and-in H>K')\n",
    "pui2.set_xlabel('Spot')\n",
    "pui2.set_ylabel('Price')\n",
    "pui2.axvline(x=K, label='Strike', ls= '--', c='g')\n",
    "pui2.axvline(x=H2, label='Barrier', ls=':', c='r')\n",
    "legend = pui2.legend(loc='best', shadow=True, fontsize='medium') "
   ]
  },
  {
   "cell_type": "markdown",
   "metadata": {},
   "source": [
    "#### Up-and-out put\n",
    "\n",
    "An up-and-out put is a put option which ceases to exists when the spot price hits a barrier which is above the initial asset price.\n",
    "\n",
    "When r $H \\geq K$, the formula for the up-and-out put is defined as\n",
    "\n",
    "$$ p_{uo}=p-p_{ui},$$\n",
    "\n",
    "when $H<K$ the formula is \n",
    "\n",
    "$$p_{uo}=-S_0N(-x_1)e^{-qT}+Ke^{-rT}N(-x_1+\\sigma\\sqrt{T})+S_0e^{-qT}(H/S_0)N(-y_1)-Ke^{-rT}(H/S_0)^{2\\lambda-2}N(-y_1+\\sigma\\sqrt{T}).$$"
   ]
  },
  {
   "cell_type": "code",
   "execution_count": null,
   "metadata": {
    "ExecuteTime": {
     "end_time": "2020-05-04T15:02:45.679180Z",
     "start_time": "2020-05-04T15:02:39.014845Z"
    }
   },
   "outputs": [],
   "source": [
    "vanilla_put = analytics.vectorDouble()\n",
    "for s in range(len(spots)):\n",
    "    vanilla_put.append(BarrierOptionPricer('p', spots[s], K, H1, r, q, sigma, T, t))\n",
    "\n",
    "puo_price1 = analytics.vectorDouble()\n",
    "for s in range(len(spots)):\n",
    "    puo_price1.append(BarrierOptionPricer('puo', spots[s], K, H1, r, q, sigma, T, t))\n",
    "    \n",
    "puo_price2 = analytics.vectorDouble()\n",
    "for s in range(len(spots)):\n",
    "    puo_price2.append(BarrierOptionPricer('puo', spots[s], K, H2, r, q, sigma, T, t))\n",
    "\n",
    "fig, (puo1, puo2) = mkt_plot.plt.subplots(1,2, figsize=(12,4),dpi=100,num=1)\n",
    "puo1.plot(spots, puo_price1, 'k', label='Up-and-out put')\n",
    "puo1.plot(spots, vanilla_put, 'y:', label='Plain vanilla put')\n",
    "puo1.set_title('Up-and-out put H<K')\n",
    "puo1.set_xlabel('Spot')\n",
    "puo1.set_ylabel('Price')\n",
    "puo1.axvline(x=K, label='Strike', ls= '--', c='g')\n",
    "puo1.axvline(x=H1, label='Barrier', ls=':', c='r')\n",
    "legend = puo1.legend(loc='best', shadow=True, fontsize='medium')\n",
    "    \n",
    "#fig, puo2 = mkt_plot.plt.subplots()\n",
    "puo2.plot(spots, puo_price2, 'k', label='Up-and-out put')\n",
    "puo2.plot(spots, vanilla_put, 'y:', label='Plain vanilla put')\n",
    "puo2.set_title('Up-and-out H>K')\n",
    "puo2.set_xlabel('Spot')\n",
    "puo2.set_ylabel('Price')\n",
    "puo2.axvline(x=K, label='Strike', ls= '--', c='g')\n",
    "puo2.axvline(x=H2, label='Barrier', ls=':', c='r')\n",
    "legend = puo2.legend(loc='best', shadow=True, fontsize='medium')    "
   ]
  },
  {
   "cell_type": "markdown",
   "metadata": {},
   "source": [
    "---"
   ]
  }
 ],
 "metadata": {
  "kernelspec": {
   "display_name": "Python 3",
   "language": "python",
   "name": "python3"
  },
  "language_info": {
   "codemirror_mode": {
    "name": "ipython",
    "version": 3
   },
   "file_extension": ".py",
   "mimetype": "text/x-python",
   "name": "python",
   "nbconvert_exporter": "python",
   "pygments_lexer": "ipython3",
   "version": "3.7.4"
  },
  "toc": {
   "base_numbering": 1,
   "nav_menu": {},
   "number_sections": true,
   "sideBar": true,
   "skip_h1_title": true,
   "title_cell": "Table of Contents",
   "title_sidebar": "Contents",
   "toc_cell": false,
   "toc_position": {
    "height": "calc(100% - 180px)",
    "left": "10px",
    "top": "150px",
    "width": "349px"
   },
   "toc_section_display": true,
   "toc_window_display": true
  },
  "varInspector": {
   "cols": {
    "lenName": 16,
    "lenType": 16,
    "lenVar": 40
   },
   "kernels_config": {
    "python": {
     "delete_cmd_postfix": "",
     "delete_cmd_prefix": "del ",
     "library": "var_list.py",
     "varRefreshCmd": "print(var_dic_list())"
    },
    "r": {
     "delete_cmd_postfix": ") ",
     "delete_cmd_prefix": "rm(",
     "library": "var_list.r",
     "varRefreshCmd": "cat(var_dic_list()) "
    }
   },
   "types_to_exclude": [
    "module",
    "function",
    "builtin_function_or_method",
    "instance",
    "_Feature"
   ],
   "window_display": false
  }
 },
 "nbformat": 4,
 "nbformat_minor": 2
}

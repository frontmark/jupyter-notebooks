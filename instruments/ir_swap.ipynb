{
 "cells": [
  {
   "cell_type": "markdown",
   "metadata": {},
   "source": [
    "![](../images/rivacon_frontmark_combined_header.png)"
   ]
  },
  {
   "cell_type": "markdown",
   "metadata": {},
   "source": [
    "# Interest Rate Swap "
   ]
  },
  {
   "cell_type": "code",
   "execution_count": null,
   "metadata": {
    "ExecuteTime": {
     "end_time": "2020-05-03T11:41:34.601266Z",
     "start_time": "2020-05-03T11:41:28.386153Z"
    }
   },
   "outputs": [],
   "source": [
    "import pyvacon\n",
    "import pyvacon.analytics as analytics\n",
    "import datetime as dt\n",
    "import pyvacon.tools.converter as converter\n",
    "import pyvacon.marketdata.testdata as mkt_testdata\n",
    "import pyvacon.marketdata.plot as mkt_plot\n",
    "import pyvacon.tools.enums as enums\n",
    "import math\n",
    "%matplotlib inline"
   ]
  },
  {
   "cell_type": "markdown",
   "metadata": {},
   "source": [
    "## Definition of an Interest Rate Swap\n",
    "\n",
    "The most common type of an interest rate swap is the so called \"plain vanilla\" interest rate swap. Here, a company agrees to pay cashflows equal to a predetermined fixed interest rate on a notional principal during a predetermined number of years; in return, it receives interest payments on the same notional principal at a floating rate during the same number of years.\n"
   ]
  },
  {
   "cell_type": "markdown",
   "metadata": {},
   "source": [
    "## Valuation of Interest Rate Swaps\n",
    "\n",
    "The value of a swap can, for example, be regarded as the difference between two bonds. From the point of view of a fixed-rate payer, the value of the swap can be regarded as a long position in a floating-rate bond and a short position in a fixed-rate bond.\n",
    "\n",
    "$$V_{swap} = B_{float} - B_{fix}$$\n",
    "\n",
    "Alternatively, a plain vanilla interest rate swap can also be valued making the assumption that forward interest rates are realized. Here, cashflows of the floating leg are calculated assuming that the floating interest rate equals the forward interest rates. The value of the interest rate swap is then the sum of the present value of the net cashflows. This method will be applied in the following.\n",
    "\n",
    "For a detailed discussion please refer to Hull, *Options, futures, and other derivatives, 8th Edition,* 2012, p. 148 ff.\n",
    "\n",
    "In the following, we will use a slighly modified example taken from Hull, p. 161 to illustrate how a interest rate swap can be valued.\n",
    "\n",
    "**Example:**\n",
    "\n",
    "*Suppose that a financial institution has agreed to pay 6-month LIBOR and receive 8% per annum (with semiannual compounding) on a notional principal of \\$100 million. The swap has a remaining life of 1.5 years. The LIBOR rates with continuous compunding for 6-month, 12-month, and 18-month maturities are 10%, 10.5%, and 11%, respectively.*\n",
    "\n",
    "### Valuation in terms of bond prices\n",
    "\n",
    "**Fixed Leg**\n",
    "\n",
    "The fixed-rate bond has three payment dates in 6 months, 12 months, and 18 months with a cashflow of \\$4 million at the first two payment dates and a cashflow of \\$4 million plus the notional of $100 million at the last payment date. These cashflows have to be discounted using the given LIBOR rates and subsequently summed up to receive the present value of the fixed leg.\n",
    "\n",
    "**Floating Leg**\n",
    "\n",
    "The floating leg bond is worth the notional immediately after an interest payment because at this time, the bond is a \"fair deal\" where the borower pays LIBOR for earch subsequent accrual period. Consequently, immediately before a payment, the bond is worth the notional plus the accrued interest. Also, this cashflow has to be discounted using the given LIBOR rate."
   ]
  },
  {
   "cell_type": "code",
   "execution_count": null,
   "metadata": {
    "ExecuteTime": {
     "end_time": "2020-05-03T11:41:34.650886Z",
     "start_time": "2020-05-03T11:41:34.605224Z"
    }
   },
   "outputs": [],
   "source": [
    "#Fixed Leg\n",
    "time_to_maturity = [0.5, 1.0, 1.5]\n",
    "cf_fix = [4, 4, 104]\n",
    "libor_rates = [0.1, 0.105, 0.11]\n",
    "\n",
    "df = analytics.vectorDouble()\n",
    "for i in range(len(time_to_maturity)):\n",
    "    df.append(math.exp(-libor_rates[i]*time_to_maturity[i]))\n",
    "\n",
    "pv_cf_fix = analytics.vectorDouble()\n",
    "for i in range(len(df)):\n",
    "    pv_cf_fix.append(cf_fix[i]*df[i])\n",
    "    print('pv_cf:fix.append: ', pv_cf_fix[i])\n",
    "    \n",
    "B_fix = sum(pv_cf_fix)\n",
    "print('Fixed Leg Value = ', B_fix)\n",
    "\n",
    "\n",
    "# Floating Leg\n",
    "floating_rate = 2*(math.exp(libor_rates[0]/2)-1) # libor rate has to be converted from contiuous compounding to semiannual comp.\n",
    "cf_float = 100+(100*floating_rate*0.5) # 1/2 of converted libor_rate as semiannual payment\n",
    "pv_cf_float = cf_float*df[0] # discounted with 3-month libor rate\n",
    "print('Floating Leg Value = ',pv_cf_float)\n",
    "\n",
    "\n",
    "# Interest Rate Swap Valuation (from a fixed-rate payer's perspective)\n",
    "value = (pv_cf_float-B_fix)\n",
    "print('Interest Rate Swap Value = ',value)"
   ]
  },
  {
   "cell_type": "markdown",
   "metadata": {},
   "source": [
    "\n",
    "### Valuation in terms of forward rate agreements\n",
    "\n",
    "As before, the value of the interest rate swap is given as the difference between the present value of the fixed and the floating leg.\n",
    "\n",
    "**Fixed Leg**\n",
    "\n",
    "The present value of the fixed leg is given by:\n",
    "\n",
    "$$PV_{fixed}(t) = rN\\sum_{i=1}^n\\tau_iD_i$$\n",
    "\n",
    "with $t$ as the valuation date, $r$ as the interest rate of the fixed leg, $N$ as the notional principal, $i$ as the $i^{th}$ cashflow, $\\tau_i$ as the accrual period for the $i^{th}$ cashflow and $D_i$ as the discount factor of the $i^{th}$ period.\n",
    "\n",
    "\n",
    "\n",
    "\n",
    "**Floating Leg**\n",
    "\n",
    "The present value of the float leg is given by:\n",
    "\n",
    "$$PV_{floating}(t)=N\\sum_{i=1}^n(F_i+s)\\tau_iD_i$$\n",
    "\n",
    "with $F_i$ as the simply compounded forward rate defined as $\\frac{1}{\\tau_i}(\\frac{D_{i-1}}{D_i}-1)$, $s$ as the floating spread and the rest defined as before.\n",
    "\n",
    "Note that the discount factors used for the forward rate can be different from the discount factor used to discount the cashflows. Also, a different discount factors from the fixed leg are theoretically possible.\n",
    "\n",
    "The following code manually calculates the value of the interest-rate swap. Thereby, the formula for the floating leg assuming that there is no spread $s$ is simplified as follows:\n",
    "\n",
    "\\begin{align}\n",
    "PV_{floating}(t) & =N\\sum_{i=1}^n\\frac{1}{\\tau_i}(\\frac{D_{i-1}}{D_i}-1)\\tau_iD_i \\\\\n",
    "& =N\\sum_{i=1}^n(\\frac{D_{i-1}}{D_i}-1)D_i \\\\\n",
    "& =N\\sum_{i=1}^n(D_{i-1}-{D_i}) \\\\\n",
    "& =N\\cdot[(D_0-D_1)+(D_1-D_2)+ ... +(D_{n-2}-D_{n-1})+(D_{n-1}-D_n)] \\\\\n",
    "& =N\\cdot(D_0-D_n)\n",
    "\\end{align}"
   ]
  },
  {
   "cell_type": "code",
   "execution_count": null,
   "metadata": {
    "ExecuteTime": {
     "end_time": "2020-05-03T11:41:34.676710Z",
     "start_time": "2020-05-03T11:41:34.653879Z"
    }
   },
   "outputs": [],
   "source": [
    "ttm = [0.5, 1, 1.5]\n",
    "rates = [0.1, 0.105, 0.11]\n",
    "yf = [0.25, 0.75, 1.25]\n",
    "r = 0.08\n",
    "N=100\n",
    "\n",
    "df = analytics.vectorDouble()\n",
    "for i in range(len(ttm)):\n",
    "    df.append(math.exp(-rates[i]*ttm[i]))\n",
    "    \n",
    "PV_fix = r*N*((ttm[0]-0)*df[0]+(ttm[1]-ttm[0])*df[1]+(ttm[2]-ttm[1])*df[2])\n",
    "print('PV fixed leg =',PV_fix)\n",
    "\n",
    "PV_fl = N*(1-df[2])\n",
    "print('PV floating leg =',PV_fl)\n",
    "\n",
    "print('Interest rate swap value =',PV_fl-PV_fix)"
   ]
  },
  {
   "cell_type": "markdown",
   "metadata": {},
   "source": [
    "The following code shows the manual calculation of the example as it is done by Hull:"
   ]
  },
  {
   "cell_type": "code",
   "execution_count": null,
   "metadata": {
    "ExecuteTime": {
     "end_time": "2020-05-03T11:41:34.715601Z",
     "start_time": "2020-05-03T11:41:34.679859Z"
    }
   },
   "outputs": [],
   "source": [
    "ttm = [0.5, 1.0, 1.5]\n",
    "rates = [0.1, 0.105, 0.11]\n",
    "N = 100 # Notional\n",
    "m = 2 # compounding frequency\n",
    "\n",
    "refdate = analytics.ptime(2017,1,1,0,0,0)\n",
    "days_to_maturity = [180, 360, 540]\n",
    "dates = converter.createPTimeList(refdate, days_to_maturity)\n",
    "# discount factors from constant rate\n",
    "df = analytics.vectorDouble()\n",
    "for i in range(len(rates)):\n",
    "    df.append(math.exp(-rates[i]*ttm[i]))\n",
    "\n",
    "# Fixed leg\n",
    "fix_cf = [4,4,4]\n",
    "\n",
    "pv_fix=analytics.vectorDouble()\n",
    "for i in range(len(fix_cf)):\n",
    "    pv_fix.append(fix_cf[i]*df[i])\n",
    "print('Present value fixed leg =', sum(pv_fix))\n",
    "\n",
    "\n",
    "# Floating leg\n",
    "floatrates = analytics.vectorDouble()\n",
    "floatrates.append(m*(math.exp(rates[0]/m)-1)) # first libor rate converted to semiannual compounding\n",
    "\n",
    "for i in range(len(rates)):\n",
    "    if i > 0:\n",
    "        contrate = ((rates[i]*ttm[i]-rates[i-1]*ttm[i-1])/(ttm[i]-ttm[i-1])) \n",
    "        floatrates.append(m*(math.exp(contrate/m)-1)) # second and third floating rate conv. to semi-annual comp.\n",
    "\n",
    "float_cf = analytics.vectorDouble()\n",
    "for i in range(len(floatrates)):\n",
    "    float_cf.append(floatrates[i]*N/m)\n",
    "\n",
    "float_pv = analytics.vectorDouble()\n",
    "for i in range(len(float_cf)):\n",
    "    float_pv.append(float_cf[i]*df[i])\n",
    "print('Present value floating leg =', sum(float_pv))\n",
    "\n",
    "\n",
    "# Net Cash-Flow\n",
    "net_CF = analytics.vectorDouble()\n",
    "for i in range(len(fix_cf)):\n",
    "    net_CF.append(float_cf[i]-fix_cf[i])\n",
    "    \n",
    "pv_net_cf = analytics.vectorDouble()\n",
    "for i in range(len(df)):\n",
    "    pv_net_cf.append(net_CF[i]*df[i])\n",
    "    \n",
    "value = sum(pv_net_cf)\n",
    "print('Interest rate swap value = ',value)"
   ]
  },
  {
   "cell_type": "markdown",
   "metadata": {},
   "source": [
    "### Valuation using the pyvacon interest rate swap specification\n",
    "\n",
    "The pyvacon interest rate swap specification uses the valuation in terms of forward rate agreements. In order to price an interest rate swap, we need to create the necessary market data and setup the specification and pricing data.\n",
    "\n",
    "#### Create the necessary market data\n",
    "\n",
    "As a first step, we need to create a discount curve containing the discount factors to derive the present values of both, the fixed and the floating leg. Here, we use this discount curve to derive the forward rate discount factors as well. Theoretically, we could also use different discount curves for the fixed and floating legs as well as for the forward rates."
   ]
  },
  {
   "cell_type": "code",
   "execution_count": null,
   "metadata": {
    "ExecuteTime": {
     "end_time": "2020-05-03T11:41:34.743388Z",
     "start_time": "2020-05-03T11:41:34.719071Z"
    }
   },
   "outputs": [],
   "source": [
    "# Discount curve - we use these discount factors to get the present values of both the fixed and floating leg as well as \n",
    "\n",
    "object_id = \"TEST_DC\" \n",
    "refdatedc = analytics.ptime(2017,1,1,0,0,0)\n",
    "days_to_maturity = [180, 360, 540]\n",
    "dates = converter.createPTimeList(refdatedc, days_to_maturity)\n",
    "# discount factors from constant rate\n",
    "rates = [0.10, 0.105, 0.11]\n",
    "df = analytics.vectorDouble()\n",
    "for i in range(len(rates)):\n",
    "    df.append(math.exp(-rates[i]*days_to_maturity[i]/360))\n",
    "dc = analytics.DiscountCurve(object_id, refdatedc,dates, df, enums.DayCounter.ACT365_FIXED, enums.InterpolationType.HAGAN_DF, enums.ExtrapolationType.NONE)"
   ]
  },
  {
   "cell_type": "markdown",
   "metadata": {},
   "source": [
    "#### Setup the specification\n",
    "\n",
    "Here, we need to provide the start-, end-, and pay-dates for the different accrual periods. The floating leg additionally needs a reset date vector. Moreover, we need to define a vector of notionals since if needed, each accrual period may have a different notional. However, if the vector if of length 1, the same notional is applied to all periods.\n",
    "\n",
    "Having defined the relevant information, we are able to  create the fixed- and floating leg. The fixed leg needs to be provided with the fixed rate; the float leg requires information about an eventual spread. Afterwards, the interest rate swap specification can be set."
   ]
  },
  {
   "cell_type": "code",
   "execution_count": null,
   "metadata": {
    "ExecuteTime": {
     "end_time": "2020-05-03T11:41:34.768148Z",
     "start_time": "2020-05-03T11:41:34.746471Z"
    }
   },
   "outputs": [],
   "source": [
    "# Create the vectors defining the statdates, enddates, paydates and reset dates\n",
    "days_to_maturity = [0, 180, 360, 540]\n",
    "dates = converter.createPTimeList(dt.datetime(2017,1,1), days_to_maturity)\n",
    "\n",
    "startdates = [dates[0], dates[1], dates[2]]\n",
    "enddates = [dates[1], dates[2], dates[3]]\n",
    "paydates = enddates\n",
    "resetdates = startdates\n",
    "refdate = dates[0]\n",
    "\n",
    "notionals = analytics.vectorDouble()\n",
    "notionals.append(100.0)\n",
    "\n",
    "fixedleg = analytics.IrFixedLegSpecification(0.08, notionals, startdates, enddates, \n",
    "                                       paydates,'EUR', enums.DayCounter.ACT365_FIXED)\n",
    "spread = 0.00\n",
    "floatleg = analytics.IrFloatLegSpecification(notionals, resetdates, startdates, enddates,\n",
    "                                       paydates,'EUR', 'test_udl', enums.DayCounter.ACT365_FIXED, \n",
    "                                       spread)\n",
    "\n",
    "ir_swap = analytics.InterestRateSwapSpecification('TEST_SWAP', 'DBK', enums.SecuritizationLevel.COLLATERALIZED, 'EUR',\n",
    "                                           converter.getLTime(paydates[-1]), fixedleg, floatleg)\n"
   ]
  },
  {
   "cell_type": "markdown",
   "metadata": {},
   "source": [
    "#### Setup the pricing data\n",
    "\n",
    "A product may be priced in two different ways: One may either fill the respective pricing data needed for a special pricer (which inherits from th BasePricingData) and use the respective price method where just the pricing data is given. Another possibility is to use the price-method where the storages are given. In this case, the pricer will fill the needed pricing data according to the underlying and other data as specified in the product specification.\n",
    "\n",
    "**Here we show the approach explicitely setting the pricing data.**  \n",
    "\n",
    "The pricing data needs the following information:\n",
    "- A discount curve for the pay- and receive leg\n",
    "- A discount curve for the floating leg (here the receiving leg)\n",
    "- A pricer\n",
    "- A pricing request\n",
    "- A valuation date\n",
    "- The created interest rate swap specification\n",
    "- An eventual FX-rate for the pay- and receive leg"
   ]
  },
  {
   "cell_type": "code",
   "execution_count": null,
   "metadata": {
    "ExecuteTime": {
     "end_time": "2020-05-03T11:41:34.791290Z",
     "start_time": "2020-05-03T11:41:34.773760Z"
    }
   },
   "outputs": [],
   "source": [
    "ir_swap_pricing_data = analytics.InterestRateSwapPricingData()\n",
    "pay_leg_pricing_data = analytics.InterestRateSwapLegPricingData()\n",
    "pay_leg_pricing_data.discountCurve = dc\n",
    "pay_leg_pricing_data.spec = ir_swap.getPayLeg()\n",
    "pay_leg_pricing_data.fxRate = 1.0\n",
    "pay_leg_pricing_data.weight = -1.0\n",
    "rec_leg_pricing_data = analytics.InterestRateSwapFloatLegPricingData()\n",
    "rec_leg_pricing_data.discountCurve = dc\n",
    "rec_leg_pricing_data.fixingCurve = dc\n",
    "rec_leg_pricing_data.spec = ir_swap.getReceiveLeg()\n",
    "rec_leg_pricing_data.fxRate = 1.0\n",
    "rec_leg_pricing_data.weight = 1.0\n",
    "ir_swap_pricing_data.pricer = 'InterestRateSwapPricer'\n",
    "ir_swap_pricing_data.pricingRequest = analytics.PricingRequest()\n",
    "ir_swap_pricing_data.valDate = converter.getLTime(refdate)\n",
    "ir_swap_pricing_data.setCurr('EUR')\n",
    "ir_swap_pricing_data.addLegData(pay_leg_pricing_data)\n",
    "ir_swap_pricing_data.addLegData(rec_leg_pricing_data)"
   ]
  },
  {
   "cell_type": "markdown",
   "metadata": {},
   "source": [
    "#### Pricing"
   ]
  },
  {
   "cell_type": "code",
   "execution_count": null,
   "metadata": {
    "ExecuteTime": {
     "end_time": "2020-05-03T11:41:34.967821Z",
     "start_time": "2020-05-03T11:41:34.795052Z"
    }
   },
   "outputs": [],
   "source": [
    "analytics.setLogLevel('DEBUG')\n",
    "tic = dt.datetime.now()\n",
    "pr = analytics.price(ir_swap_pricing_data)\n",
    "print('runtime: {}'.format(dt.datetime.now() - tic))\n",
    "pr.getPrice()"
   ]
  },
  {
   "cell_type": "markdown",
   "metadata": {},
   "source": [
    "### Further Example\n",
    "#### Create the necessary market data\n",
    "\n",
    "This time, we distinguish between the discount curve used to discount the cashflows to present values and a discount curve for the calculation of the forward interest rates which we use as fixing curve."
   ]
  },
  {
   "cell_type": "code",
   "execution_count": null,
   "metadata": {
    "ExecuteTime": {
     "end_time": "2020-05-03T11:41:35.513670Z",
     "start_time": "2020-05-03T11:41:34.971396Z"
    }
   },
   "outputs": [],
   "source": [
    "refdatedc = analytics.ptime(2017,1,1,0,0,0)\n",
    "days_to_maturity = [1, 180, 365, 720, 3*365, 4*365, 10*365]\n",
    "dates = converter.createPTimeList(refdatedc, days_to_maturity)\n",
    "\n",
    "# Discount curve\n",
    "object_id = \"TEST_DC\" \n",
    "dsc_rate = 0.01\n",
    "df = analytics.vectorDouble()\n",
    "for d in days_to_maturity:\n",
    "    df.append(math.exp(-d/365.0*dsc_rate))\n",
    "dc = analytics.DiscountCurve(object_id, refdatedc,dates, df, enums.DayCounter.ACT365_FIXED, enums.InterpolationType.HAGAN_DF, enums.ExtrapolationType.NONE)\n",
    "\n",
    "# Fixing curve\n",
    "object_id = \"TEST_fwd\"\n",
    "fwd_rate = 0.05\n",
    "fwd_df = analytics.vectorDouble()\n",
    "for d in days_to_maturity:\n",
    "    fwd_df.append(math.exp(-d/365.0*fwd_rate))\n",
    "fwd_dc = analytics.DiscountCurve(object_id, refdatedc,dates, fwd_df, enums.DayCounter.ACT365_FIXED, enums.InterpolationType.HAGAN_DF, enums.ExtrapolationType.NONE)\n",
    "\n",
    "mkt_plot.curve(dc,range(1,10*365), refdatedc)\n",
    "mkt_plot.curve(fwd_dc,range(1,10*365), refdatedc)"
   ]
  },
  {
   "cell_type": "markdown",
   "metadata": {},
   "source": [
    "#### Setup the specification\n",
    "In our example we are using one fixed leg and one floating leg (with just two payment and fixing dates)\n",
    "The swap needs to get vectors with start, end, and payment dates (floater additionally need a rest date vector). The i-th accrual period is defined by the i-th entry of start and end vectors.\n",
    "Note that this kind of swap has only floating legs with floating rate period equal to accrual period."
   ]
  },
  {
   "cell_type": "code",
   "execution_count": null,
   "metadata": {
    "ExecuteTime": {
     "end_time": "2020-05-03T11:41:35.541885Z",
     "start_time": "2020-05-03T11:41:35.515359Z"
    }
   },
   "outputs": [],
   "source": [
    "# Create the vectors defining the statdates, enddates, paydates and reset dates\n",
    "days_to_maturity = [0, 180, 360, 540]\n",
    "dates = converter.createPTimeList(dt.datetime(2017,1,1), days_to_maturity)\n",
    "\n",
    "startdates = [dates[0], dates[1], dates[2]]\n",
    "enddates = [dates[1], dates[2], dates[3]]\n",
    "paydates = enddates\n",
    "resetdates = startdates\n",
    "refdate = dates[0]\n",
    "\n",
    "# We need a vector of notionals since if needed, each accrual period may have a different notional\n",
    "# However, if the vector is of length 1 the same notional is applied to all periods\n",
    "notionals = analytics.vectorDouble()\n",
    "notionals.append(100.0)\n",
    "\n",
    "fixedleg = analytics.IrFixedLegSpecification(0.03, notionals, startdates, enddates, \n",
    "                                       paydates,'EUR', enums.DayCounter.ACT365_FIXED)\n",
    "spread = 0.00\n",
    "floatleg = analytics.IrFloatLegSpecification(notionals, resetdates, startdates, enddates,\n",
    "                                       paydates,'EUR', 'test_udl', enums.DayCounter.ACT365_FIXED, \n",
    "                                       spread)\n",
    "\n",
    "ir_swap = analytics.InterestRateSwapSpecification('TEST_SWAP', 'DBK', enums.SecuritizationLevel.COLLATERALIZED, 'EUR',\n",
    "                                           converter.getLTime(paydates[-1]), fixedleg, floatleg)"
   ]
  },
  {
   "cell_type": "markdown",
   "metadata": {},
   "source": [
    "#### Setup the pricing data"
   ]
  },
  {
   "cell_type": "code",
   "execution_count": null,
   "metadata": {
    "ExecuteTime": {
     "end_time": "2020-05-03T11:41:35.574109Z",
     "start_time": "2020-05-03T11:41:35.545817Z"
    }
   },
   "outputs": [],
   "source": [
    "ir_swap_pricing_data = analytics.InterestRateSwapPricingData()\n",
    "pay_leg_pricing_data = analytics.InterestRateSwapLegPricingData()\n",
    "pay_leg_pricing_data.discountCurve = dc\n",
    "pay_leg_pricing_data.spec = ir_swap.getPayLeg()\n",
    "pay_leg_pricing_data.fxRate = 1.0\n",
    "pay_leg_pricing_data.weight = -1.0\n",
    "rec_leg_pricing_data = analytics.InterestRateSwapFloatLegPricingData()\n",
    "rec_leg_pricing_data.discountCurve = dc\n",
    "rec_leg_pricing_data.fixingCurve = fwd_dc\n",
    "rec_leg_pricing_data.spec = ir_swap.getReceiveLeg()\n",
    "rec_leg_pricing_data.fxRate = 1.0\n",
    "rec_leg_pricing_data.weight = 1.0\n",
    "ir_swap_pricing_data.pricer = 'InterestRateSwapPricer'\n",
    "ir_swap_pricing_data.pricingRequest = analytics.PricingRequest()\n",
    "ir_swap_pricing_data.valDate = converter.getLTime(refdate)\n",
    "ir_swap_pricing_data.setCurr('EUR')\n",
    "ir_swap_pricing_data.addLegData(pay_leg_pricing_data)\n",
    "ir_swap_pricing_data.addLegData(rec_leg_pricing_data)"
   ]
  },
  {
   "cell_type": "markdown",
   "metadata": {},
   "source": [
    "#### Pricing"
   ]
  },
  {
   "cell_type": "code",
   "execution_count": null,
   "metadata": {
    "ExecuteTime": {
     "end_time": "2020-05-03T11:41:35.649831Z",
     "start_time": "2020-05-03T11:41:35.576171Z"
    }
   },
   "outputs": [],
   "source": [
    "tic = dt.datetime.now()\n",
    "pr = analytics.price(ir_swap_pricing_data)\n",
    "print('runtime: {}'.format(dt.datetime.now() - tic))\n",
    "pr.getPrice()"
   ]
  },
  {
   "cell_type": "markdown",
   "metadata": {},
   "source": [
    "---"
   ]
  }
 ],
 "metadata": {
  "kernelspec": {
   "display_name": "Python 3",
   "language": "python",
   "name": "python3"
  },
  "language_info": {
   "codemirror_mode": {
    "name": "ipython",
    "version": 3
   },
   "file_extension": ".py",
   "mimetype": "text/x-python",
   "name": "python",
   "nbconvert_exporter": "python",
   "pygments_lexer": "ipython3",
   "version": "3.7.4"
  },
  "toc": {
   "base_numbering": 1,
   "nav_menu": {},
   "number_sections": true,
   "sideBar": true,
   "skip_h1_title": true,
   "title_cell": "Table of Contents",
   "title_sidebar": "Contents",
   "toc_cell": false,
   "toc_position": {
    "height": "calc(100% - 180px)",
    "left": "10px",
    "top": "150px",
    "width": "292px"
   },
   "toc_section_display": true,
   "toc_window_display": true
  },
  "varInspector": {
   "cols": {
    "lenName": 16,
    "lenType": 16,
    "lenVar": 40
   },
   "kernels_config": {
    "python": {
     "delete_cmd_postfix": "",
     "delete_cmd_prefix": "del ",
     "library": "var_list.py",
     "varRefreshCmd": "print(var_dic_list())"
    },
    "r": {
     "delete_cmd_postfix": ") ",
     "delete_cmd_prefix": "rm(",
     "library": "var_list.r",
     "varRefreshCmd": "cat(var_dic_list()) "
    }
   },
   "types_to_exclude": [
    "module",
    "function",
    "builtin_function_or_method",
    "instance",
    "_Feature"
   ],
   "window_display": false
  }
 },
 "nbformat": 4,
 "nbformat_minor": 2
}

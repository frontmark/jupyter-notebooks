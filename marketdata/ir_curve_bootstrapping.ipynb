{
 "cells": [
  {
   "cell_type": "markdown",
   "metadata": {
    "nbpresent": {
     "id": "f4223dad-974f-4861-a042-6482a68d5b2a"
    },
    "slideshow": {
     "slide_type": "slide"
    }
   },
   "source": [
    "![](../images/rivacon_frontmark_combined_header.png)"
   ]
  },
  {
   "cell_type": "markdown",
   "metadata": {
    "nbpresent": {
     "id": "54f8dbf2-4ff5-4247-801c-6f1cbf9bde2c"
    },
    "slideshow": {
     "slide_type": "slide"
    }
   },
   "source": [
    "# Multi-Curve Bootstrapping"
   ]
  },
  {
   "cell_type": "code",
   "execution_count": null,
   "metadata": {
    "ExecuteTime": {
     "end_time": "2020-05-03T11:52:23.127533Z",
     "start_time": "2020-05-03T11:52:15.353618Z"
    },
    "nbpresent": {
     "id": "e37b2715-afad-4967-ad31-817add74ad12"
    },
    "slideshow": {
     "slide_type": "skip"
    }
   },
   "outputs": [],
   "source": [
    "import datetime\n",
    "from dateutil.relativedelta import relativedelta\n",
    "import pyvacon.analytics as analytics\n",
    "import pyvacon.tools.converter as converter\n",
    "import pyvacon.tools.enums as enums\n",
    "import pyvacon.marketdata.plot as mkt_plot\n",
    "import pyvacon.marketdata.bootstrapping as bootstr\n",
    "import math\n",
    "import pandas as pd\n",
    "import pyvacon\n",
    "# the next lin is a jupyter internal command to show the matplotlib graphs within the notebook\n",
    "%matplotlib inline\n",
    "import matplotlib.pyplot as plt"
   ]
  },
  {
   "cell_type": "markdown",
   "metadata": {
    "nbpresent": {
     "id": "e169f300-1edd-4f2c-bfdc-32432442cb99"
    },
    "slideshow": {
     "slide_type": "slide"
    }
   },
   "source": [
    "## Introduction\n",
    "\n",
    "In this notebook we introduce the basic principles of multi-curve bootstrapping. \n",
    "\n",
    "Before the credit crisis a single-curve framework was used for pricing interest rate derivatives. Both the forecasting of future cashflows as well as the discounting of future cashflows was based on the same curve. This curve was considered to be risk-free and was bootstrapped using a mixture of instruments indexed to rates with different tenors. \n",
    "\n",
    "Since the crisis, however, a widening of the spreads in tenor basis swaps has been observed. As a result, two interest rate swaps indexed e.g. to the 3M EURIBOR and 6M EURIBOR can no longer be priced using the same curve. Furthermore, a distinction needs to be made between the curve for the forward rates and the discount curve. This has led to the introduction of the multi-curve framework with separate curves for each tenor. \n",
    "\n",
    "In the multi-curve setup the curves are constructed based on instruments homogeneous in the referenced index. A set of instruments needs to be selected for each curve, with one instrument per maturity. Each instrument requires a quote as well as the respective instrument definition, which is called a specification in the context of pyvacon."
   ]
  },
  {
   "cell_type": "markdown",
   "metadata": {
    "nbpresent": {
     "id": "4fafc065-ccf6-430e-9978-eca652d87838"
    },
    "slideshow": {
     "slide_type": "slide"
    }
   },
   "source": [
    "## Input Instruments for Interest Rate Curve Bootstrapping\n",
    "The following instruments are currently available for ir curve bootstrapping\n",
    "\n",
    "- Deposits\n",
    "- IR Futures\n",
    "- IR Swaps\n",
    "- IR Basis-Swaps\n",
    "- FX Swaps\n",
    "\n"
   ]
  },
  {
   "cell_type": "markdown",
   "metadata": {
    "nbpresent": {
     "id": "e4995a2c-6887-4072-b60b-fd95fb0b94a3"
    },
    "slideshow": {
     "slide_type": "slide"
    }
   },
   "source": [
    "### Setting up deposits / fixings\n",
    "\n",
    "The fixing of the underlying reference rate is published daily and represents a certain average rate earned over a period corresponding to the tenor. The rate is calculated from quotes obtained from a panel of selected banks. The start date (spot date) of the period can deviate from the fixing date. This difference is referred to as the spot lag. \n",
    "\n",
    "The fixing is usually used as the starting point for the bootstrapping of forward curves. It can be specified as a deposit in pyvacon (analytics.DepositSpecification)."
   ]
  },
  {
   "cell_type": "code",
   "execution_count": null,
   "metadata": {
    "ExecuteTime": {
     "end_time": "2020-05-03T11:52:23.154788Z",
     "start_time": "2020-05-03T11:52:23.133629Z"
    },
    "nbpresent": {
     "id": "06fb2234-1c14-4663-a772-1511d8def20b"
    },
    "slideshow": {
     "slide_type": "subslide"
    }
   },
   "outputs": [],
   "source": [
    "# calculation date\n",
    "refdate_d = datetime.datetime(2017,8,31,0,0)\n",
    "# dates entering analytics objects must be analytics ptimes\n",
    "refdate = converter.getLTime(refdate_d)\n",
    "\n",
    "# start date of the accrual period with spot lag equal to 2 days\n",
    "startdate = converter.getLTime(2, refdate)\n",
    "\n",
    "# end date of the accrual period is 1 day after startdate\n",
    "enddate = converter.getLTime(1, startdate)\n",
    "\n",
    "# specification of the deposit\n",
    "deposit = analytics.DepositSpecification('OVERNIGHT_DEPOSIT', 'dummy_issuer', enums.SecuritizationLevel.NONE,\n",
    "                                        'EUR', refdate, startdate, enddate, 100, 0.01, \n",
    "                                         enums.DayCounter.ACT365_FIXED)\n",
    "    "
   ]
  },
  {
   "cell_type": "markdown",
   "metadata": {
    "nbpresent": {
     "id": "aa223212-9255-476f-b72f-5470cc5925c1"
    },
    "slideshow": {
     "slide_type": "slide"
    }
   },
   "source": [
    "### Setting up an interest rate swap\n",
    "A plain vanilla interest rate swap is a financial contract in which a stream of fixed payments is exchanged for floating payments linked to a reference index. The par rate (r) of a swap is the fixed rate under which the value of the two streams (legs) is equal:\n",
    "$$ r \\cdot \\sum_{i=1}^n dcf_{i} \\cdot P(0,t_{i} ) = \\sum_{k=1}^m F_{k} \\cdot dcf_{k} \\cdot P(0,t_{k}) $$ \n",
    "\n",
    "where $t_{i}$, $i=1,..,n$ and $t_{k}$, $i=1,..,m$ are the payment structures of the fixed and floating legs, and $P(0,t_{i/k})$ are the corresponding discount factors, $dcf_{i/k}$ is the day count fraction for the period $[t_{(i/k-1)},t_{i/k}]$, and $F_{k}$ is the expected value of  underlying reference rate for the period $[t_{(k-1)},t_{k}]$.\n",
    "\n",
    "The standard payment frequency of the fixed leg depends on the currency of the swap as well as the tenor of the underlying. In the EUR market swaps are usually quoted with annual fixed payments.\n",
    "\n",
    "The payment frequency of the floating leg usually coincides with the tenor of the underlying reference index. In some currencies, however, the floating rate can be compounded and payed out at less frequent intervals (e.g. CAD). \n",
    "\n",
    "In the context of pyvacon an IRS can be defined using analytics.InterestRateSwapSpecification."
   ]
  },
  {
   "cell_type": "code",
   "execution_count": null,
   "metadata": {
    "ExecuteTime": {
     "end_time": "2020-05-03T11:52:23.203412Z",
     "start_time": "2020-05-03T11:52:23.165902Z"
    },
    "nbpresent": {
     "id": "cecbd3b1-a5bd-4541-be70-22fd19542177"
    },
    "slideshow": {
     "slide_type": "subslide"
    }
   },
   "outputs": [],
   "source": [
    "# start dates of the accrual periods corresponding to the tenor of the underlying index (3 months). The spot lag is set to 0.\n",
    "start_dates_d = [refdate_d + relativedelta(months=3*i) for i in range(4)]\n",
    "start_dates = converter.createPTimeList(refdate, start_dates_d)\n",
    "\n",
    "# reset dates are equal to start dates if spot lag is 0.\n",
    "reset_dates = start_dates\n",
    "\n",
    "# the end dates of the accral periods\n",
    "end_dates = converter.createPTimeList(refdate,[x+relativedelta(months=3) for x in start_dates_d])\n",
    "\n",
    "# the actual payment dates of the cashflows may differ from the end of the accrual period (e.g. OIS). \n",
    "# in the standard case these two sets of dates coincide\n",
    "pay_dates = end_dates\n",
    "notionals = [1.0 for i in range(len(start_dates))] \n",
    "\n",
    "# definition of the floating leg\n",
    "floatleg = analytics.IrFloatLegSpecification(notionals, reset_dates, start_dates, \n",
    "                                            end_dates, pay_dates,'EUR', 'dummy_udl', \n",
    "                                            enums.DayCounter.ACT365_FIXED, 0.0)\n",
    "# definition of the fixed leg\n",
    "fixedleg = analytics.IrFixedLegSpecification(0.01, notionals, start_dates, end_dates, \n",
    "                                       pay_dates,'EUR', enums.DayCounter.ACT365_FIXED)\n",
    "# definition of the IR swap\n",
    "ir_swap = analytics.InterestRateSwapSpecification('3M_SWAP', 'dummy_issuer', enums.SecuritizationLevel.COLLATERALIZED, \n",
    "                                                  'EUR', pay_dates[-1], fixedleg, floatleg)"
   ]
  },
  {
   "cell_type": "markdown",
   "metadata": {
    "nbpresent": {
     "id": "ad928f00-82ea-46f2-aadc-1d45c53e2b2f"
    },
    "slideshow": {
     "slide_type": "slide"
    }
   },
   "source": [
    "### Setting up an overnight indexed swap\n",
    "An OIS is an interest rate swap where the floating payments are linked to a compounded overnight rate. The floating payments are obtained as:\n",
    "\n",
    " $$ N\\prod_{i=1}^n (1+dcf_{i}\\cdot I_{i-1})-1$$\n",
    "where $N$ is the notional, $dcf_{i}$ is the day count fraction for the one-day period $[t_{i-1},t_{i}]$ and $I_{i-1}$ is the fixing of the ON rate corresponding to time $t_{i-1}$.\n",
    "\n",
    "The overnight rate represents the default risk over one night and can, therefore, be regarded as mostly risk free. This rate is used to discount cashflows from collateralized trades as this rate is most often paid as interest for the collateral.\n",
    "\n",
    "In the current pyvacon setting the OIS will be defined as plain vanilla IRS without compounding."
   ]
  },
  {
   "cell_type": "markdown",
   "metadata": {
    "slideshow": {
     "slide_type": "slide"
    }
   },
   "source": [
    "### Setting up a tenor basis swap\n",
    "\n",
    "Basis swaps can be quoted in a fixed-fixed (as a portfolio of 2 fixed vs floating IRS) or in a float-float (as a single swap) convention. The market standard usually depends on the currency. \n",
    "\n",
    "#### Fixed-Fixed Basis Swaps (EUR convention)\n",
    "\n",
    "In certain currencies (e.g EUR, SEK, DKK and NOK) basis swaps are quoted as the difference between two IRS with identical fixed legs and floating legs indexed to different tenors. With this convention the spread is usually paid annually, independent of the tenors of the floating legs. The par spread $s^{xy}$ is defined via:\n",
    "\n",
    "$$ s^{xy} \\cdot \\sum_{l} dcf_{i} \\cdot P(0,t_{l})= \\sum_{k} dcf_{k} \\cdot F_{k}^{y} \\cdot P(0,t_{k})-\\sum_{i} dcf_{i} \\cdot F_{i}^{x} \\cdot P(0,t_{i} )$$\n",
    "\n",
    "where $t_{i}$, $t_{k}$   are grids corresponding to the tenors $x,y$ with $x<y$ , $t_{l}$ is the fixed payment grid.\n",
    "\n",
    "#### Float-Float Basis Swaps\n",
    "\n",
    "In case of a single swap notation, the frequency of the floating payments usually coincides with the tenors of the reference rate. The spread is paid with the shorter leg. The par spread $s^{xy}$ is defined via:\n",
    "\n",
    "$$\\sum_{i} dcf_{i} \\cdot (F_{i}^{x}+s^{xy} ) \\cdot P(0,t_{i})= \\sum_{k}dcf_{k} \\cdot F_{k}^{y} \\cdot P(0,t_{k})$$\n",
    "where $t_{i}$, $t_{k}$ are grids corresponding to the tenors $x,y$ with $x<y$ .\n",
    "\n",
    "For some currencies (USD, CAD) the floating leg corresponding to the shorter tenor is compounded to align the payment of both legs. In this case the payment frequency of the spread coincides with the longer tenor.\n",
    "\n",
    "In pyvacon a basis swap can be specified using analytics.InterestRateBasisSwapSpecification. Here two floating legs corresponding to the two reference indices need to be defined along with a fixed leg corresponding to the spread payments.\n"
   ]
  },
  {
   "cell_type": "code",
   "execution_count": null,
   "metadata": {
    "ExecuteTime": {
     "end_time": "2020-05-03T11:52:23.226951Z",
     "start_time": "2020-05-03T11:52:23.208147Z"
    },
    "nbpresent": {
     "id": "ccdf8e73-0877-4f3e-b327-816a201ac7da"
    },
    "slideshow": {
     "slide_type": "subslide"
    }
   },
   "outputs": [],
   "source": [
    "# we consider a 3M vs 6M basis swap. A pay and receive floating legs need to be specified (spread = receive - pay).\n",
    "# The definition of the pay leg (3M) will be taken from the ir swap above \n",
    "floatleg_3M = floatleg\n",
    "\n",
    "# get the 6M floating leg (receive leg)\n",
    "start_dates_6M = converter.createPTimeList(refdate, [refdate_d + relativedelta(months=6*i) for i in range(2)])\n",
    "reset_dates_6M = start_dates_6M\n",
    "end_dates_6M = converter.createPTimeList(refdate, [refdate_d + relativedelta(months=6*(i+1)) for i in range(2)])\n",
    "notionals_6M = [1.0 for i in range(len(start_dates_6M))]\n",
    "floatleg_6M = analytics.IrFloatLegSpecification(notionals_6M, reset_dates_6M, start_dates_6M, end_dates_6M, end_dates_6M,\n",
    "                                                'EUR', 'dummy_udl', enums.DayCounter.ACT365_FIXED, 0.0)\n",
    "\n",
    "# the 3M leg is the payleg, 6M - the receve leg.\n",
    "basis_swap = analytics.InterestRateBasisSwapSpecification('3M6M_BASIS_SWAP', 'test', enums.SecuritizationLevel.COLLATERALIZED, \n",
    "                                                  'EUR', end_dates_6M[-1], floatleg_3M, floatleg_6M,  fixedleg)"
   ]
  },
  {
   "cell_type": "markdown",
   "metadata": {
    "nbpresent": {
     "id": "856957c5-943d-41b4-8800-7464f9267f3f"
    },
    "slideshow": {
     "slide_type": "slide"
    }
   },
   "source": [
    "## Bootstrapping EUR Curves\n",
    "In the EUR market most interest rate derivatives are indexed to the Euribor benchmark rate and the Euro OverNight Index Average (Eonia) in case of Overnight indexed swaps (https://www.emmi-benchmarks.eu/emmi/about-us.html). Derivatives indexed to the 1M, 3M, 6M and 12M tenors can be found. \n",
    "\n",
    "In this notebook we present the construction of the OIS discounting curve and the two most commonly used tenor curves - the 3M and 6M tenors.\n",
    "\n",
    "\n",
    "The bootstrapping of different tenors needs to be performed sequentially. At first the OIS curve needs to be constructed, since it is used as the discount curve in the bootstrapping algorithm for all other tenors. The OIS curve is calibrated under the assumption that the forward and discount curves coincide. \n",
    "\n",
    "The order of construction of the other tenors depends on the defined input instruments. If the derivatives only depend on one tenor (outright quotes), there are no restrictions on the order. However, for most currencies, one or two tenors will be more liquid (depending on the maturity) and all other tenors will be represented as basis swaps with respect to the main tenor. In this case the correct bootstrapping order needs to be followed and the corresponding basis index needs to be provided.\n",
    "\n",
    "### Sample curve specification"
   ]
  },
  {
   "cell_type": "code",
   "execution_count": null,
   "metadata": {
    "ExecuteTime": {
     "end_time": "2020-05-03T11:52:23.247700Z",
     "start_time": "2020-05-03T11:52:23.230268Z"
    },
    "nbpresent": {
     "id": "036b98eb-32be-4943-aa59-6b91dca66394"
    },
    "slideshow": {
     "slide_type": "subslide"
    }
   },
   "outputs": [],
   "source": [
    "# sample ois curve\n",
    "instruments = analytics.vectorBaseSpecification(2)\n",
    "instruments[0] = deposit\n",
    "instruments[1] = ir_swap \n",
    "quotes = analytics.vectorDouble([0.0025, 0.005])\n",
    "eonia = analytics.YieldCurveBootstrapper.compute(refdate, 'EONIA_DC', enums.DayCounter.ACT365_FIXED,  instruments, quotes)"
   ]
  },
  {
   "cell_type": "code",
   "execution_count": null,
   "metadata": {
    "ExecuteTime": {
     "end_time": "2020-05-03T11:52:23.267025Z",
     "start_time": "2020-05-03T11:52:23.251996Z"
    },
    "nbpresent": {
     "id": "cb9932a0-594c-44a7-bdc3-fc70f5996990"
    },
    "slideshow": {
     "slide_type": "subslide"
    }
   },
   "outputs": [],
   "source": [
    "# sample 3M EURIBOR curve with ois discounting (the same instruments are used for simplification)\n",
    "quotes = analytics.vectorDouble([0.003, 0.0075])\n",
    "euribor_3m = analytics.YieldCurveBootstrapper.compute(refdate, 'EUR3M_DC', enums.DayCounter.ACT365_FIXED,  \n",
    "                                                 instruments, quotes, eonia)"
   ]
  },
  {
   "cell_type": "code",
   "execution_count": null,
   "metadata": {
    "ExecuteTime": {
     "end_time": "2020-05-03T11:52:23.282759Z",
     "start_time": "2020-05-03T11:52:23.270476Z"
    },
    "nbpresent": {
     "id": "94fb8021-0811-47af-a2fe-90efbbe4a3d9"
    },
    "slideshow": {
     "slide_type": "subslide"
    }
   },
   "outputs": [],
   "source": [
    "# sample 6M EURIBOR curve with ois bootstrapping and the 3M EURIBOR curve as the basis index\n",
    "quotes = analytics.vectorDouble([0.003, 0.006])\n",
    "# the basis swap is used instead of the ir swap\n",
    "instruments[1] = basis_swap\n",
    "euribor_6m = analytics.YieldCurveBootstrapper.compute(refdate, 'EUR6M_DC', enums.DayCounter.ACT365_FIXED,  \n",
    "                                                 instruments, quotes, eonia, euribor_3m)"
   ]
  },
  {
   "cell_type": "code",
   "execution_count": null,
   "metadata": {
    "ExecuteTime": {
     "end_time": "2020-05-03T11:52:24.160327Z",
     "start_time": "2020-05-03T11:52:23.286431Z"
    },
    "slideshow": {
     "slide_type": "subslide"
    }
   },
   "outputs": [],
   "source": [
    "# plot discount and zero rate curves using the pyvacon.marketdata.plot.curve function based on the matplotlib.pyplot library \n",
    "fig = plt.figure(figsize = (15, 5))\n",
    "# discount curves\n",
    "fig.add_subplot(1,2,1) # used to get both figures in one row\n",
    "mkt_plot.curve(eonia, range(1,10*365,30), refdate)\n",
    "mkt_plot.curve(euribor_3m, range(1,10*365,30), refdate)\n",
    "mkt_plot.curve(euribor_6m, range(1,10*365,30), refdate)\n",
    "\n",
    "# zero rates\n",
    "fig.add_subplot(1,2,2)\n",
    "mkt_plot.curve(eonia, range(1,10*365,30), refdate, True)\n",
    "mkt_plot.curve(euribor_3m, range(1,10*365,30), refdate, True)\n",
    "mkt_plot.curve(euribor_6m, range(1,10*365,30), refdate, True)\n",
    "plt.tight_layout()"
   ]
  },
  {
   "cell_type": "markdown",
   "metadata": {
    "nbpresent": {
     "id": "0ec13b44-f3ac-417d-9219-4c330f48b7d0"
    },
    "slideshow": {
     "slide_type": "slide"
    }
   },
   "source": [
    "### EUR market data\n",
    "\n",
    "We now present the calibration of EUR curves based on actual market data. The input quotes as well as the instrument definition and conventions are provided in an input csv. file and are loaded into a pandas data frame object:"
   ]
  },
  {
   "cell_type": "code",
   "execution_count": null,
   "metadata": {
    "ExecuteTime": {
     "end_time": "2020-05-03T11:52:24.249492Z",
     "start_time": "2020-05-03T11:52:24.162321Z"
    },
    "nbpresent": {
     "id": "9c2d8e4a-85bb-4df9-828c-caba1a81d43a"
    },
    "slideshow": {
     "slide_type": "slide"
    }
   },
   "outputs": [],
   "source": [
    "# set holiday calendar \n",
    "holidays = analytics.SimpleHolidayCalendar('GER_HOL')\n",
    "#holidays.setWeekdayAsHoliday(0) # set sunday as holiday\n",
    "#holidays.setWeekdayAsHoliday(6) #set saturday as holidays\n",
    "\n",
    "# set directory and file name for Input Quotes\n",
    "dirName = \"../inputdata/\"\n",
    "fileName = \"/inputQuotes.csv\"\n",
    "\n",
    "# get instrument quotes and conventions from input .csv file \n",
    "column_names = ['Maturity','Instrument','Currency','Quote','UnderlyingIndex','UnderlyingTenor', 'UnderlyingPaymentFrequency',\n",
    "                'BasisIndex','BasisTenor','BasisPaymentFrequency','PaymentFrequencyFixed','DayCountFixed',\n",
    "                'DayCountFloat','DayCountBasis','RollConventionFixed','RollConventionFloat','RollConventionBasis', 'SpotLag']\n",
    "\n",
    "dfQuotes = pd.read_csv(dirName + fileName, sep= \";\", decimal =\",\", skiprows=[0], header=None, names = column_names)\n",
    "dfQuotes"
   ]
  },
  {
   "cell_type": "markdown",
   "metadata": {
    "nbpresent": {
     "id": "d12b501e-afa0-408d-8ba9-2205768b254d"
    },
    "slideshow": {
     "slide_type": "slide"
    }
   },
   "source": [
    "### EONIA curve"
   ]
  },
  {
   "cell_type": "code",
   "execution_count": null,
   "metadata": {
    "ExecuteTime": {
     "end_time": "2020-05-03T11:52:24.309135Z",
     "start_time": "2020-05-03T11:52:24.251711Z"
    },
    "nbpresent": {
     "id": "c7187080-80dc-4993-a161-ab2573397f8d"
    },
    "slideshow": {
     "slide_type": "slide"
    }
   },
   "outputs": [],
   "source": [
    "\n",
    "# get input data for the EONIA curve\n",
    "dfQuotesOIS = dfQuotes[dfQuotes['UnderlyingIndex'] == 'EONIA']\n",
    "\n",
    "# set up curve parameters for bootstrapping algorithm\n",
    "eoniaCurveSpec =  {'refDate': refdate_d, \n",
    "                   'curveName': 'eonia',\n",
    "                   'dayCount': enums.DayCounter.ACT365_FIXED,\n",
    "                   'calendar': holidays}\n",
    "# get eonia curve             \n",
    "eoniaCurve = bootstr.bootstrap_curve(dfQuotesOIS,eoniaCurveSpec)"
   ]
  },
  {
   "cell_type": "markdown",
   "metadata": {
    "nbpresent": {
     "id": "f276ffa4-781a-422f-9b22-e5a52057a1f7"
    },
    "slideshow": {
     "slide_type": "slide"
    }
   },
   "source": [
    "### 3M EURIBOR curve"
   ]
  },
  {
   "cell_type": "code",
   "execution_count": null,
   "metadata": {
    "ExecuteTime": {
     "end_time": "2020-05-03T11:52:24.396777Z",
     "start_time": "2020-05-03T11:52:24.313705Z"
    },
    "nbpresent": {
     "id": "3dc83439-750a-464c-979b-ec5038b9111c"
    },
    "slideshow": {
     "slide_type": "slide"
    }
   },
   "outputs": [],
   "source": [
    "# get input data for the 3M EURIBOR curve\n",
    "dfQuotes3M = dfQuotes[(dfQuotes['UnderlyingIndex'] == 'EURIBOR') & (dfQuotes['UnderlyingTenor'] == '3M')]\n",
    "\n",
    "# set up curve parameters for the 3M EURIBOR curve. The eonia curve is used for bootstrapping\n",
    "euribor3MCurveSpec =  {'refDate': refdate_d, \n",
    "                      'curveName': 'euribor_3M',\n",
    "                      'dayCount': enums.DayCounter.ACT365_FIXED,\n",
    "                      'calendar': holidays,\n",
    "                      'discountCurve': eoniaCurve}\n",
    "# get 3M euribor curve              \n",
    "euribor3MCurve = bootstr.bootstrap_curve(dfQuotes3M,euribor3MCurveSpec)"
   ]
  },
  {
   "cell_type": "markdown",
   "metadata": {
    "nbpresent": {
     "id": "3fe8f581-ff92-49d5-9b64-b0626e5afc5a"
    },
    "slideshow": {
     "slide_type": "slide"
    }
   },
   "source": [
    "### 6M EURIBOR curve"
   ]
  },
  {
   "cell_type": "code",
   "execution_count": null,
   "metadata": {
    "ExecuteTime": {
     "end_time": "2020-05-03T11:52:24.481091Z",
     "start_time": "2020-05-03T11:52:24.399354Z"
    },
    "nbpresent": {
     "id": "ce9d2502-c488-4032-bd41-bd9b9a1ff21a"
    },
    "slideshow": {
     "slide_type": "slide"
    }
   },
   "outputs": [],
   "source": [
    "# get input data for the 6M EURIBOR curve\n",
    "dfQuotes6M = dfQuotes[(dfQuotes['UnderlyingIndex'] == 'EURIBOR') & (dfQuotes['UnderlyingTenor'] == '6M')]\n",
    "\n",
    "# set up curve parameters for the 6M EURIBOR curve\n",
    "euribor6MCurveSpec =  {'refDate': refdate_d, \n",
    "                      'curveName': 'euribor_6M',\n",
    "                      'dayCount': enums.DayCounter.ACT365_FIXED,\n",
    "                      'calendar': holidays,\n",
    "                      'discountCurve': eoniaCurve,\n",
    "                      'basisCurve': euribor3MCurve}\n",
    "# get 6M euribor curve             \n",
    "euribor6MCurve = bootstr.bootstrap_curve(dfQuotes6M,euribor6MCurveSpec)"
   ]
  },
  {
   "cell_type": "markdown",
   "metadata": {},
   "source": [
    "## Plotting IR Curves\n",
    "\n",
    "Here we present an alternative method for plotting curves based on the pyvacon plotting functionality."
   ]
  },
  {
   "cell_type": "code",
   "execution_count": null,
   "metadata": {
    "ExecuteTime": {
     "end_time": "2020-05-03T11:52:24.532640Z",
     "start_time": "2020-05-03T11:52:24.484468Z"
    }
   },
   "outputs": [],
   "source": [
    "# get output discount factors and zero rates for specified maturities\n",
    "days_to_maturity = [1,12,19,26,35,68,96,127,159,187,217,249,278,370,461,551,643,735,1103,1468,1832,2196,2562,2927,3294,3659,4023,4388,5486,7312,9136,10962,14615,18268]\n",
    "dates = converter.createPTimeList(refdate, days_to_maturity)\n",
    "dates_d = converter.create_datetime_list(dates)\n",
    "\n",
    "df_ois = analytics.vectorDouble()\n",
    "zr_ois = analytics.vectorDouble()\n",
    "eoniaCurve.value(df_ois, refdate, dates)\n",
    "\n",
    "df_3m = analytics.vectorDouble()\n",
    "zr_3m = analytics.vectorDouble()\n",
    "euribor3MCurve.value(df_3m, refdate, dates)\n",
    "\n",
    "df_6m = analytics.vectorDouble()\n",
    "zr_6m = analytics.vectorDouble()\n",
    "euribor6MCurve.value(df_6m, refdate, dates)\n",
    "\n",
    "for i in range(0,len(days_to_maturity)):\n",
    "    zr_ois.append(-math.log(df_ois[i])/days_to_maturity[i]*365.0)\n",
    "    zr_3m.append(-math.log(df_3m[i])/days_to_maturity[i]*365.0)\n",
    "    zr_6m.append(-math.log(df_6m[i])/days_to_maturity[i]*365.0)\n",
    "\n",
    "# create data frame with curves\n",
    "rates_list = {'Dates': dates_d, \n",
    "              'DiscountFactor_OIS': df_ois,\n",
    "              'ZeroRate_OIS': zr_ois,\n",
    "              'DiscountFactor_3M': df_3m,\n",
    "              'ZeroRate_3M': zr_3m,\n",
    "              'DiscountFactor_6M': df_6m,\n",
    "              'ZeroRate_6M': zr_6m}\n",
    "\n",
    "rates = pd.DataFrame(rates_list, index = days_to_maturity)\n",
    "rates"
   ]
  },
  {
   "cell_type": "code",
   "execution_count": null,
   "metadata": {
    "ExecuteTime": {
     "end_time": "2020-05-03T11:52:24.896510Z",
     "start_time": "2020-05-03T11:52:24.532640Z"
    }
   },
   "outputs": [],
   "source": [
    "pyvacon.marketdata.plot.curve(eoniaCurve, dates, refdate)\n",
    "pyvacon.marketdata.plot.curve(euribor3MCurve, dates, refdate)\n",
    "pyvacon.marketdata.plot.curve(euribor6MCurve, dates, refdate)"
   ]
  },
  {
   "cell_type": "markdown",
   "metadata": {},
   "source": [
    "## Checking Bootstrapped Curves\n",
    "\n",
    "By construction, all market quotes used for bootstrapping the zero rate curves can be exactly matched. This can be used to check the correctness of the bootstrapping algorithm. Below we compare the market quotes of 3M IRS with par rates implied by the bootstrapped zero rates. \n",
    "\n",
    "The function getPrice calculates the present value of the swap for a given swap rate. Since, by construction of the curves the original quotes are considered to be par rates, the PVs of the corresponding swaps should be zero."
   ]
  },
  {
   "cell_type": "code",
   "execution_count": null,
   "metadata": {
    "ExecuteTime": {
     "end_time": "2020-05-03T11:52:24.985837Z",
     "start_time": "2020-05-03T11:52:24.898401Z"
    }
   },
   "outputs": [],
   "source": [
    "\n",
    "# get specification and quotes for test 3M IRS\n",
    "dfIRS3M = dfQuotes3M[(dfQuotes3M['Instrument'] == 'IRS')]\n",
    "# plot(dfIRS3M)\n",
    "n = len(dfIRS3M.index)\n",
    "prices_3mIRS = analytics.vectorDouble()\n",
    "for i in range(0,n):  \n",
    "    ins = bootstr.InstrumentSpec(refdate_d, dfIRS3M.iloc[i,:], holidays)\n",
    "    ir_swap_pricing_data = analytics.InterestRateSwapPricingData()\n",
    "    \n",
    "    pay_leg_pricing_data = analytics.InterestRateSwapLegPricingData()\n",
    "    pay_leg_pricing_data.discountCurve = eoniaCurve\n",
    "    pay_leg_pricing_data.spec = ins.get_instrument().getPayLeg()\n",
    "    pay_leg_pricing_data.fxRate = 1.0\n",
    "    pay_leg_pricing_data.weight = -1.0\n",
    "    \n",
    "    rec_leg_pricing_data = analytics.InterestRateSwapFloatLegPricingData()\n",
    "    rec_leg_pricing_data.discountCurve = eoniaCurve\n",
    "    rec_leg_pricing_data.fixingCurve = euribor3MCurve\n",
    "    rec_leg_pricing_data.spec = ins.get_instrument().getReceiveLeg()\n",
    "    rec_leg_pricing_data.fxRate = 1.0\n",
    "    rec_leg_pricing_data.weight = 1.0\n",
    "    \n",
    "    ir_swap_pricing_data.pricer = 'InterestRateSwapPricer'\n",
    "    ir_swap_pricing_data.pricingRequest = analytics.PricingRequest()\n",
    "    ir_swap_pricing_data.valDate = refdate\n",
    "    ir_swap_pricing_data.setCurr('EUR')\n",
    "    ir_swap_pricing_data.addLegData(pay_leg_pricing_data)\n",
    "    ir_swap_pricing_data.addLegData(rec_leg_pricing_data)\n",
    "    \n",
    "    pr = analytics.price(ir_swap_pricing_data)\n",
    "    prices_3mIRS.append(pr.getPrice())\n",
    "\n",
    "# output \n",
    "price_data = {'Maturity': dfIRS3M['Maturity'], \n",
    "             'PV': prices_3mIRS}\n",
    "price_df = pd.DataFrame(price_data)\n",
    "price_df"
   ]
  },
  {
   "cell_type": "code",
   "execution_count": null,
   "metadata": {
    "ExecuteTime": {
     "end_time": "2020-05-03T11:52:25.346924Z",
     "start_time": "2020-05-03T11:52:24.987365Z"
    }
   },
   "outputs": [],
   "source": [
    "plt.plot('Maturity', 'PV', data=price_df,marker='o', linestyle='dotted')"
   ]
  },
  {
   "cell_type": "markdown",
   "metadata": {},
   "source": [
    "---"
   ]
  }
 ],
 "metadata": {
  "celltoolbar": "Raw Cell Format",
  "kernelspec": {
   "display_name": "Python 3",
   "language": "python",
   "name": "python3"
  },
  "language_info": {
   "codemirror_mode": {
    "name": "ipython",
    "version": 3
   },
   "file_extension": ".py",
   "mimetype": "text/x-python",
   "name": "python",
   "nbconvert_exporter": "python",
   "pygments_lexer": "ipython3",
   "version": "3.7.4"
  },
  "nbpresent": {
   "slides": {
    "12560d27-3deb-41c9-9341-6db487c116c2": {
     "id": "12560d27-3deb-41c9-9341-6db487c116c2",
     "prev": "87b25b53-db8e-4fcc-a545-e269a53b7c8c",
     "regions": {
      "6f245f0e-bca1-4849-be4f-7965687e8d51": {
       "attrs": {
        "height": 0.8,
        "width": 0.8,
        "x": 0.1,
        "y": 0.1
       },
       "content": {
        "cell": "3fe8f581-ff92-49d5-9b64-b0626e5afc5a",
        "part": "whole"
       },
       "id": "6f245f0e-bca1-4849-be4f-7965687e8d51"
      }
     }
    },
    "13ab5494-b66a-4255-a79a-c01cd83ed262": {
     "id": "13ab5494-b66a-4255-a79a-c01cd83ed262",
     "prev": "7deaa6da-471d-4656-9b11-9f534322b190",
     "regions": {
      "848e4960-9a17-4422-90be-0c34993ded15": {
       "attrs": {
        "height": 0.8,
        "width": 0.8,
        "x": 0.1,
        "y": 0.1
       },
       "content": {
        "cell": "06fb2234-1c14-4663-a772-1511d8def20b",
        "part": "whole"
       },
       "id": "848e4960-9a17-4422-90be-0c34993ded15"
      }
     }
    },
    "47e5a258-d774-4453-a8f6-e6d2189610d9": {
     "id": "47e5a258-d774-4453-a8f6-e6d2189610d9",
     "prev": "c49687b1-5855-4ca4-be10-5587536d4eab",
     "regions": {
      "ab11d4d4-56ed-49c2-b808-2964cafe6423": {
       "attrs": {
        "height": 0.8,
        "width": 0.8,
        "x": 0.1,
        "y": 0.1
       },
       "content": {
        "cell": "e169f300-1edd-4f2c-bfdc-32432442cb99",
        "part": "whole"
       },
       "id": "ab11d4d4-56ed-49c2-b808-2964cafe6423"
      }
     }
    },
    "5a08da0f-b6c2-4fae-beb6-9467631bf96a": {
     "id": "5a08da0f-b6c2-4fae-beb6-9467631bf96a",
     "prev": "e0fe69d1-a6b4-4b86-953a-1e3903af24d5",
     "regions": {
      "cab7fa9f-bad5-4f7d-a046-dc7a00fb1d5e": {
       "attrs": {
        "height": 0.8,
        "width": 0.8,
        "x": 0.1,
        "y": 0.1
       },
       "content": {
        "cell": "9c2d8e4a-85bb-4df9-828c-caba1a81d43a",
        "part": "whole"
       },
       "id": "cab7fa9f-bad5-4f7d-a046-dc7a00fb1d5e"
      }
     }
    },
    "66b35f00-4433-4a7f-9cf9-c3efeb51461a": {
     "id": "66b35f00-4433-4a7f-9cf9-c3efeb51461a",
     "prev": "ae027abc-5cad-4b41-a033-b878bf7e63bd",
     "regions": {
      "7a53c14e-eec2-4304-9fe4-bceeab676d4f": {
       "attrs": {
        "height": 0.8,
        "width": 0.8,
        "x": 0.1,
        "y": 0.1
       },
       "content": {
        "cell": "ccdf8e73-0877-4f3e-b327-816a201ac7da",
        "part": "whole"
       },
       "id": "7a53c14e-eec2-4304-9fe4-bceeab676d4f"
      }
     }
    },
    "6738eaba-9e93-4814-b252-c92ae209b79f": {
     "id": "6738eaba-9e93-4814-b252-c92ae209b79f",
     "prev": "ea354e4b-a7d7-4379-ba90-4e1bc2343e54",
     "regions": {
      "9779f023-a1d9-43ac-8761-e5f7bdd7279e": {
       "attrs": {
        "height": 0.8,
        "width": 0.8,
        "x": 0.1,
        "y": 0.1
       },
       "content": {
        "cell": "95e7f380-a9a1-48a4-bbf4-160bc4e940c7",
        "part": "whole"
       },
       "id": "9779f023-a1d9-43ac-8761-e5f7bdd7279e"
      }
     }
    },
    "6c576941-e4a6-408f-a1bf-9aa5fe034734": {
     "id": "6c576941-e4a6-408f-a1bf-9aa5fe034734",
     "prev": "825619b2-6adf-46e5-aadf-1dbd671d16c3",
     "regions": {
      "c6e6e602-3351-4aad-a0ef-61398c780a67": {
       "attrs": {
        "height": 0.8,
        "width": 0.8,
        "x": 0.1,
        "y": 0.1
       },
       "content": {
        "cell": "c2269f8d-24ff-4fb8-bdf4-f00906f4fb0f",
        "part": "whole"
       },
       "id": "c6e6e602-3351-4aad-a0ef-61398c780a67"
      }
     }
    },
    "7ce0bc38-7e56-48a5-8408-583216a8dd96": {
     "id": "7ce0bc38-7e56-48a5-8408-583216a8dd96",
     "prev": "66b35f00-4433-4a7f-9cf9-c3efeb51461a",
     "regions": {
      "3df02f94-1fdf-4de3-926a-af23ac65e451": {
       "attrs": {
        "height": 0.8,
        "width": 0.8,
        "x": 0.1,
        "y": 0.1
       },
       "content": {
        "cell": "856957c5-943d-41b4-8800-7464f9267f3f",
        "part": "whole"
       },
       "id": "3df02f94-1fdf-4de3-926a-af23ac65e451"
      }
     }
    },
    "7deaa6da-471d-4656-9b11-9f534322b190": {
     "id": "7deaa6da-471d-4656-9b11-9f534322b190",
     "prev": "892daf89-1875-4f29-9498-cb0b0cc9114c",
     "regions": {
      "eed0d7b7-01f5-4f13-9186-aefe4118e0f7": {
       "attrs": {
        "height": 0.8,
        "width": 0.8,
        "x": 0.1,
        "y": 0.1
       },
       "content": {
        "cell": "e4995a2c-6887-4072-b60b-fd95fb0b94a3",
        "part": "whole"
       },
       "id": "eed0d7b7-01f5-4f13-9186-aefe4118e0f7"
      }
     }
    },
    "825619b2-6adf-46e5-aadf-1dbd671d16c3": {
     "id": "825619b2-6adf-46e5-aadf-1dbd671d16c3",
     "prev": "12560d27-3deb-41c9-9341-6db487c116c2",
     "regions": {
      "d1689957-7b3b-40d8-a9e3-cb4967002c77": {
       "attrs": {
        "height": 0.8,
        "width": 0.8,
        "x": 0.1,
        "y": 0.1
       },
       "content": {
        "cell": "ce9d2502-c488-4032-bd41-bd9b9a1ff21a",
        "part": "whole"
       },
       "id": "d1689957-7b3b-40d8-a9e3-cb4967002c77"
      }
     }
    },
    "87b25b53-db8e-4fcc-a545-e269a53b7c8c": {
     "id": "87b25b53-db8e-4fcc-a545-e269a53b7c8c",
     "prev": "a728d2ca-aefa-4a97-a78a-bc5cdf1d5ccb",
     "regions": {
      "9eae7801-eeb9-41f5-9e54-f1c9df2bca49": {
       "attrs": {
        "height": 0.8,
        "width": 0.8,
        "x": 0.1,
        "y": 0.1
       },
       "content": {
        "cell": "3dc83439-750a-464c-979b-ec5038b9111c",
        "part": "whole"
       },
       "id": "9eae7801-eeb9-41f5-9e54-f1c9df2bca49"
      }
     }
    },
    "892daf89-1875-4f29-9498-cb0b0cc9114c": {
     "id": "892daf89-1875-4f29-9498-cb0b0cc9114c",
     "prev": "47e5a258-d774-4453-a8f6-e6d2189610d9",
     "regions": {
      "65e7b40e-6b5b-4832-867d-801d73c4e4cd": {
       "attrs": {
        "height": 0.8,
        "width": 0.8,
        "x": 0.1,
        "y": 0.1
       },
       "content": {
        "cell": "4fafc065-ccf6-430e-9978-eca652d87838",
        "part": "whole"
       },
       "id": "65e7b40e-6b5b-4832-867d-801d73c4e4cd"
      }
     }
    },
    "a24f7a9a-7d94-459c-98ec-24565513ce63": {
     "id": "a24f7a9a-7d94-459c-98ec-24565513ce63",
     "layout": "grid",
     "prev": null,
     "regions": {
      "adb16634-1243-41c1-b1bc-61b58b9209ee": {
       "attrs": {
        "height": 1,
        "pad": 0.01,
        "treemap:weight": 1,
        "width": -2.3333333333333335,
        "x": 0,
        "y": 0
       },
       "content": {
        "cell": "f4223dad-974f-4861-a042-6482a68d5b2a",
        "part": "whole"
       },
       "id": "adb16634-1243-41c1-b1bc-61b58b9209ee"
      }
     }
    },
    "a621640b-d351-40d1-98e2-d239f07ec24a": {
     "id": "a621640b-d351-40d1-98e2-d239f07ec24a",
     "prev": "e06f2136-35d2-4915-9f44-5aa1b09995b1",
     "regions": {
      "7e15332d-3289-4e23-b185-c1aff629a3bf": {
       "attrs": {
        "height": 0.8,
        "width": 0.8,
        "x": 0.1,
        "y": 0.1
       },
       "content": {
        "cell": "ad928f00-82ea-46f2-aadc-1d45c53e2b2f",
        "part": "whole"
       },
       "id": "7e15332d-3289-4e23-b185-c1aff629a3bf"
      }
     }
    },
    "a728d2ca-aefa-4a97-a78a-bc5cdf1d5ccb": {
     "id": "a728d2ca-aefa-4a97-a78a-bc5cdf1d5ccb",
     "prev": "d4664637-42bf-4ad2-988d-7f27f3bebbe6",
     "regions": {
      "f650a095-b099-4b20-a899-29c83ab86f58": {
       "attrs": {
        "height": 0.8,
        "width": 0.8,
        "x": 0.1,
        "y": 0.1
       },
       "content": {
        "cell": "f276ffa4-781a-422f-9b22-e5a52057a1f7",
        "part": "whole"
       },
       "id": "f650a095-b099-4b20-a899-29c83ab86f58"
      }
     }
    },
    "ae027abc-5cad-4b41-a033-b878bf7e63bd": {
     "id": "ae027abc-5cad-4b41-a033-b878bf7e63bd",
     "prev": "a621640b-d351-40d1-98e2-d239f07ec24a",
     "regions": {
      "92ca3e41-49a7-49fc-a128-91b70af25b70": {
       "attrs": {
        "height": 0.8,
        "width": 0.8,
        "x": 0.1,
        "y": 0.1
       },
       "content": {
        "cell": "7bba5d24-ed5c-4596-b638-feb72807b995",
        "part": "whole"
       },
       "id": "92ca3e41-49a7-49fc-a128-91b70af25b70"
      }
     }
    },
    "b8e8de9d-f14f-4114-ba07-6e1d05a8eaf0": {
     "id": "b8e8de9d-f14f-4114-ba07-6e1d05a8eaf0",
     "prev": "e73fcd5b-91ba-4180-aa22-f1eabf7c6fba",
     "regions": {
      "c549266e-e768-44c4-b8a0-6c178d418520": {
       "attrs": {
        "height": 0.8,
        "width": 0.8,
        "x": 0.1,
        "y": 0.1
       },
       "content": {
        "cell": "cb9932a0-594c-44a7-bdc3-fc70f5996990",
        "part": "whole"
       },
       "id": "c549266e-e768-44c4-b8a0-6c178d418520"
      }
     }
    },
    "bda60a1b-c673-47d9-b38c-5f9864ebe180": {
     "id": "bda60a1b-c673-47d9-b38c-5f9864ebe180",
     "prev": "b8e8de9d-f14f-4114-ba07-6e1d05a8eaf0",
     "regions": {
      "845f22ec-790c-4aa8-8ba2-c629c6997477": {
       "attrs": {
        "height": 0.8,
        "width": 0.8,
        "x": 0.1,
        "y": 0.1
       },
       "content": {
        "cell": "94fb8021-0811-47af-a2fe-90efbbe4a3d9",
        "part": "whole"
       },
       "id": "845f22ec-790c-4aa8-8ba2-c629c6997477"
      }
     }
    },
    "c49687b1-5855-4ca4-be10-5587536d4eab": {
     "id": "c49687b1-5855-4ca4-be10-5587536d4eab",
     "prev": "6738eaba-9e93-4814-b252-c92ae209b79f",
     "regions": {
      "f5e1d41c-6e75-413c-924e-1dad0c294be1": {
       "attrs": {
        "height": 0.8,
        "width": 0.8,
        "x": 0.1,
        "y": 0.1
       },
       "content": {
        "cell": "e37b2715-afad-4967-ad31-817add74ad12",
        "part": "whole"
       },
       "id": "f5e1d41c-6e75-413c-924e-1dad0c294be1"
      }
     }
    },
    "d1c45966-42d9-4334-8683-c0b8043a2f3e": {
     "id": "d1c45966-42d9-4334-8683-c0b8043a2f3e",
     "prev": "5a08da0f-b6c2-4fae-beb6-9467631bf96a",
     "regions": {
      "4257d537-45e3-4387-8643-cfec4a407f44": {
       "attrs": {
        "height": 0.8,
        "width": 0.8,
        "x": 0.1,
        "y": 0.1
       },
       "content": {
        "cell": "d12b501e-afa0-408d-8ba9-2205768b254d",
        "part": "whole"
       },
       "id": "4257d537-45e3-4387-8643-cfec4a407f44"
      }
     }
    },
    "d4664637-42bf-4ad2-988d-7f27f3bebbe6": {
     "id": "d4664637-42bf-4ad2-988d-7f27f3bebbe6",
     "prev": "d1c45966-42d9-4334-8683-c0b8043a2f3e",
     "regions": {
      "3ddf572f-e3f5-4c68-a3da-cf00fcfd63ac": {
       "attrs": {
        "height": 0.8,
        "width": 0.8,
        "x": 0.1,
        "y": 0.1
       },
       "content": {
        "cell": "c7187080-80dc-4993-a161-ab2573397f8d",
        "part": "whole"
       },
       "id": "3ddf572f-e3f5-4c68-a3da-cf00fcfd63ac"
      }
     }
    },
    "e06f2136-35d2-4915-9f44-5aa1b09995b1": {
     "id": "e06f2136-35d2-4915-9f44-5aa1b09995b1",
     "prev": "f9f9ce5b-177f-4ad1-9072-36415757b7af",
     "regions": {
      "5ad2a505-95eb-4ad5-b0df-590a4de20a0a": {
       "attrs": {
        "height": 0.8,
        "width": 0.8,
        "x": 0.1,
        "y": 0.1
       },
       "content": {
        "cell": "cecbd3b1-a5bd-4541-be70-22fd19542177",
        "part": "whole"
       },
       "id": "5ad2a505-95eb-4ad5-b0df-590a4de20a0a"
      }
     }
    },
    "e0fe69d1-a6b4-4b86-953a-1e3903af24d5": {
     "id": "e0fe69d1-a6b4-4b86-953a-1e3903af24d5",
     "prev": "bda60a1b-c673-47d9-b38c-5f9864ebe180",
     "regions": {
      "dcc37db1-58e2-4fb2-9556-0fbcfd78c712": {
       "attrs": {
        "height": 0.8,
        "width": 0.8,
        "x": 0.1,
        "y": 0.1
       },
       "content": {
        "cell": "0ec13b44-f3ac-417d-9219-4c330f48b7d0",
        "part": "whole"
       },
       "id": "dcc37db1-58e2-4fb2-9556-0fbcfd78c712"
      }
     }
    },
    "e73fcd5b-91ba-4180-aa22-f1eabf7c6fba": {
     "id": "e73fcd5b-91ba-4180-aa22-f1eabf7c6fba",
     "prev": "7ce0bc38-7e56-48a5-8408-583216a8dd96",
     "regions": {
      "cc4d411f-b738-4cbb-8321-16a4afdfdc92": {
       "attrs": {
        "height": 0.8,
        "width": 0.8,
        "x": 0.1,
        "y": 0.1
       },
       "content": {
        "cell": "036b98eb-32be-4943-aa59-6b91dca66394",
        "part": "whole"
       },
       "id": "cc4d411f-b738-4cbb-8321-16a4afdfdc92"
      }
     }
    },
    "ea354e4b-a7d7-4379-ba90-4e1bc2343e54": {
     "id": "ea354e4b-a7d7-4379-ba90-4e1bc2343e54",
     "prev": "a24f7a9a-7d94-459c-98ec-24565513ce63",
     "regions": {
      "80e61f5b-8394-4ffe-afb1-e2a054cec776": {
       "attrs": {
        "height": 0.8,
        "width": 0.8,
        "x": 0.1,
        "y": 0.1
       },
       "content": {
        "cell": "54f8dbf2-4ff5-4247-801c-6f1cbf9bde2c",
        "part": "whole"
       },
       "id": "80e61f5b-8394-4ffe-afb1-e2a054cec776"
      }
     }
    },
    "f9f9ce5b-177f-4ad1-9072-36415757b7af": {
     "id": "f9f9ce5b-177f-4ad1-9072-36415757b7af",
     "prev": "13ab5494-b66a-4255-a79a-c01cd83ed262",
     "regions": {
      "b4c6d67d-a6ad-43ee-ab0e-3d70481cb95e": {
       "attrs": {
        "height": 0.8,
        "width": 0.8,
        "x": 0.1,
        "y": 0.1
       },
       "content": {
        "cell": "aa223212-9255-476f-b72f-5470cc5925c1",
        "part": "whole"
       },
       "id": "b4c6d67d-a6ad-43ee-ab0e-3d70481cb95e"
      }
     }
    }
   },
   "themes": {}
  },
  "toc": {
   "base_numbering": 1,
   "nav_menu": {
    "height": "103px",
    "width": "252px"
   },
   "number_sections": true,
   "sideBar": true,
   "skip_h1_title": true,
   "title_cell": "Table of Contents",
   "title_sidebar": "Contents",
   "toc_cell": false,
   "toc_position": {},
   "toc_section_display": "block",
   "toc_window_display": true
  },
  "varInspector": {
   "cols": {
    "lenName": 16,
    "lenType": 16,
    "lenVar": 40
   },
   "kernels_config": {
    "python": {
     "delete_cmd_postfix": "",
     "delete_cmd_prefix": "del ",
     "library": "var_list.py",
     "varRefreshCmd": "print(var_dic_list())"
    },
    "r": {
     "delete_cmd_postfix": ") ",
     "delete_cmd_prefix": "rm(",
     "library": "var_list.r",
     "varRefreshCmd": "cat(var_dic_list()) "
    }
   },
   "types_to_exclude": [
    "module",
    "function",
    "builtin_function_or_method",
    "instance",
    "_Feature"
   ],
   "window_display": false
  }
 },
 "nbformat": 4,
 "nbformat_minor": 2
}

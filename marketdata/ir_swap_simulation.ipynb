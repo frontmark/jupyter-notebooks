{
 "cells": [
  {
   "cell_type": "markdown",
   "metadata": {},
   "source": [
    "![](../images/rivacon_frontmark_combined_header.png)"
   ]
  },
  {
   "cell_type": "markdown",
   "metadata": {},
   "source": [
    "# Example Notebook for Simulation of Portfolio of Interest Rate Swaps "
   ]
  },
  {
   "cell_type": "code",
   "execution_count": null,
   "metadata": {
    "ExecuteTime": {
     "end_time": "2020-05-03T11:53:46.652963Z",
     "start_time": "2020-05-03T11:53:42.205550Z"
    }
   },
   "outputs": [],
   "source": [
    "import matplotlib.pyplot as plt\n",
    "%matplotlib inline\n",
    "import random\n",
    "import pyvacon.analytics as analytics\n",
    "import pyvacon.tools.converter as converter\n",
    "import pyvacon.tools.enums as enums\n",
    "import pyvacon.models.tools as modeltools\n",
    "\n",
    "import datetime as dt"
   ]
  },
  {
   "cell_type": "code",
   "execution_count": null,
   "metadata": {
    "ExecuteTime": {
     "end_time": "2020-05-03T11:53:46.665091Z",
     "start_time": "2020-05-03T11:53:46.652963Z"
    }
   },
   "outputs": [],
   "source": [
    "refdate_p = dt.datetime(2017,2,20)\n",
    "refdate = converter.getLTime(refdate_p)"
   ]
  },
  {
   "cell_type": "markdown",
   "metadata": {},
   "source": [
    "## Create the CIR model which we want to use to price the swap portfolio"
   ]
  },
  {
   "cell_type": "code",
   "execution_count": null,
   "metadata": {
    "ExecuteTime": {
     "end_time": "2020-05-03T11:53:46.690455Z",
     "start_time": "2020-05-03T11:53:46.671022Z"
    }
   },
   "outputs": [],
   "source": [
    "cir = analytics.CIRModel('CIR_Test',refdate, 1.0,0.05,0.20,0.025)"
   ]
  },
  {
   "cell_type": "markdown",
   "metadata": {},
   "source": [
    "## Setup portfolio of interest rate swaps\n",
    "In our example we are using swaps with one fixed leg and one floating leg (with just 10 payments payment and fixing dates).\n",
    "The swap needs to get vectors with start, end and payment dates (floater additionally need a reset date vector). The i-th accrual period is defined by the i-th entry of start and end vectors.\n",
    "Note that this kind of swap has only floating legs with floating rate period equal to accrual period.The fixed rate is drawn from a uniform distribution (between 0.1% and 5%)."
   ]
  },
  {
   "cell_type": "code",
   "execution_count": null,
   "metadata": {
    "ExecuteTime": {
     "end_time": "2020-05-03T11:53:46.729282Z",
     "start_time": "2020-05-03T11:53:46.693445Z"
    }
   },
   "outputs": [],
   "source": [
    "# create the vectors defining the statdates, enddates, paydates and reset dates\n",
    "dates_tmp = [refdate_p + dt.timedelta(days=2)]\n",
    "for i in range(10):\n",
    "    dates_tmp.append(dates_tmp[-1] + dt.timedelta(days=(i+1)*365))\n",
    "\n",
    "startdates = converter.createPTimeList(refdate, dates_tmp)\n",
    "\n",
    "enddates_p = []\n",
    "for i in range(len(dates_tmp)):\n",
    "    enddates_p.append(dates_tmp[i] + dt.timedelta(days=(i+1)*365))\n",
    "enddates = converter.createPTimeList(refdate, enddates_p)\n",
    "\n",
    "paydates_p = []\n",
    "for i in range(len(enddates_p)):\n",
    "    paydates_p.append(enddates_p[i] + dt.timedelta(days=2))\n",
    "paydates = converter.createPTimeList(refdate, paydates_p)\n",
    "\n",
    "resetdates = startdates\n",
    "# we need a vector of notionals since if needed, each accrual period may have a different notional\n",
    "# However, if the vectir is of length 1 the same notional is applied to all periods\n",
    "notionals = analytics.vectorDouble()\n",
    "notionals.append(100.0)\n",
    "\n",
    "#we create a portfolio with swaps differing by fixed rate (random number). The quantity of each swap is also a random number\n",
    "spread = 0.01\n",
    "floatleg = analytics.IrFloatLegSpecification(notionals, resetdates, startdates, enddates,\n",
    "                                       paydates,'EUR', 'test_udl', enums.DayCounter.ACT365_FIXED, \n",
    "                                       spread)\n",
    "num_swaps = 100\n",
    "swaps = []\n",
    "quantities = []\n",
    "for i in range(num_swaps):\n",
    "    fixed_rate = random.uniform(0.0001, 0.05)\n",
    "    fixedleg = analytics.IrFixedLegSpecification(fixed_rate, notionals, startdates, enddates, \n",
    "                                       paydates,'EUR', enums.DayCounter.ACT365_FIXED)\n",
    "    ir_swap = analytics.InterestRateSwapSpecification('TEST_SWAP', 'DBK', enums.SecuritizationLevel.COLLATERALIZED, 'EUR',\n",
    "                                           converter.getLTime(paydates[-1]), fixedleg, floatleg)\n",
    "    swaps.append(ir_swap)\n",
    "    quantities.append(100)\n"
   ]
  },
  {
   "cell_type": "markdown",
   "metadata": {},
   "source": [
    "## Simulate the CIR Model\n",
    "First we simulate the CIR model which can be done by using the ModelLab. The ModelLab stores internally all simulated values (here the short rate) and provides functionality to obtain these values."
   ]
  },
  {
   "cell_type": "code",
   "execution_count": null,
   "metadata": {
    "ExecuteTime": {
     "end_time": "2020-05-03T11:53:46.805859Z",
     "start_time": "2020-05-03T11:53:46.731496Z"
    }
   },
   "outputs": [],
   "source": [
    "cir_lab = analytics.ModelLab(cir, refdate)\n",
    "sim_times_p = [refdate_p + dt.timedelta(days=180)]\n",
    "for i in range(5):\n",
    "    sim_times_p.append(sim_times_p[-1] + dt.timedelta(days=(i+1)*180))\n",
    "sim_times = converter.createPTimeList(refdate, sim_times_p)\n",
    "n_sims = 100\n",
    "max_num_threads = 1\n",
    "cir_lab.simulate(sim_times, n_sims, 200, max_num_threads)"
   ]
  },
  {
   "cell_type": "markdown",
   "metadata": {},
   "source": [
    "## Compute portfolio values for simulated paths\n",
    "We now compute the portfolio values for the simulated paths."
   ]
  },
  {
   "cell_type": "code",
   "execution_count": null,
   "metadata": {
    "ExecuteTime": {
     "end_time": "2020-05-03T11:53:52.092608Z",
     "start_time": "2020-05-03T11:53:46.808366Z"
    }
   },
   "outputs": [],
   "source": [
    "def compute_portfolio_value(pay_pricing_data, rec_pricing_data, swaps, quantities, cir, refdate_p):\n",
    "    portfolio_value = 0\n",
    "    dc = modeltools.compute_yieldcurve(cir, refdate_p)\n",
    "    pay_pricing_data.discountCurve = dc\n",
    "    rec_pricing_data.discountCurve = dc\n",
    "    rec_pricing_data.fixingCurve = dc\n",
    "    for j in range(len(swaps)):\n",
    "        pay_pricing_data.spec = swaps[j].getPayLeg()\n",
    "        rec_pricing_data.spec = swaps[j].getReceiveLeg()\n",
    "        pr = analytics.price(ir_swap_pricing_data)\n",
    "        portfolio_value += quantities[j] * pr.getPrice()\n",
    "    return portfolio_value\n",
    "\n",
    "ir_swap_pricing_data = analytics.InterestRateSwapPricingData()\n",
    "    \n",
    "pay_leg_pricing_data = analytics.InterestRateSwapLegPricingData()\n",
    "pay_leg_pricing_data.fxRate = 1.0\n",
    "pay_leg_pricing_data.weight = -1.0\n",
    "    \n",
    "rec_leg_pricing_data = analytics.InterestRateSwapFloatLegPricingData()\n",
    "rec_leg_pricing_data.fxRate = 1.0\n",
    "rec_leg_pricing_data.weight = 1.0\n",
    "    \n",
    "ir_swap_pricing_data.pricer = 'InterestRateSwapPricer'\n",
    "ir_swap_pricing_data.pricingRequest = analytics.PricingRequest()\n",
    "ir_swap_pricing_data.valDate = refdate\n",
    "ir_swap_pricing_data.setCurr('EUR')\n",
    "ir_swap_pricing_data.addLegData(pay_leg_pricing_data)\n",
    "ir_swap_pricing_data.addLegData(rec_leg_pricing_data)\n",
    "\n",
    "ir_swap_pricing_data.param = analytics.InterestRateSwapPricingParameter()\n",
    "ir_swap_pricing_data.param.fixingGracePeriod = analytics.time_duration.time_duration_infinite()\n",
    "\n",
    "initial_value = compute_portfolio_value(pay_leg_pricing_data, rec_leg_pricing_data, swaps, quantities, cir, refdate_p)\n",
    "simulation = []\n",
    "for sim_time_point in range(len(sim_times_p)):\n",
    "    sim_time_p = sim_times_p[sim_time_point]\n",
    "    sim_time = converter.getLTime(sim_time_p)\n",
    "    ir_swap_pricing_data.valDate = sim_time\n",
    "    ptf_values = []\n",
    "    for i in range(n_sims):\n",
    "        cir_lab.setFromSimulatedValues(cir, sim_time_point, i)        \n",
    "        portfolio_value = compute_portfolio_value(pay_leg_pricing_data, rec_leg_pricing_data, swaps, quantities, cir, sim_time_p)\n",
    "        ptf_values.append(portfolio_value)\n",
    "    simulation.append(ptf_values)"
   ]
  },
  {
   "cell_type": "markdown",
   "metadata": {},
   "source": [
    "### Plot histogram of portfolio values"
   ]
  },
  {
   "cell_type": "code",
   "execution_count": null,
   "metadata": {
    "ExecuteTime": {
     "end_time": "2020-05-03T11:53:52.581545Z",
     "start_time": "2020-05-03T11:53:52.094500Z"
    }
   },
   "outputs": [],
   "source": [
    "n_bins = 50\n",
    "time_point = 0\n",
    "n, bins, patches = plt.hist(simulation[time_point], n_bins, normed=False, facecolor='blue', alpha=0.75)"
   ]
  },
  {
   "cell_type": "markdown",
   "metadata": {},
   "source": [
    "---"
   ]
  }
 ],
 "metadata": {
  "kernelspec": {
   "display_name": "Python 3",
   "language": "python",
   "name": "python3"
  },
  "language_info": {
   "codemirror_mode": {
    "name": "ipython",
    "version": 3
   },
   "file_extension": ".py",
   "mimetype": "text/x-python",
   "name": "python",
   "nbconvert_exporter": "python",
   "pygments_lexer": "ipython3",
   "version": "3.7.4"
  },
  "toc": {
   "base_numbering": 1,
   "nav_menu": {},
   "number_sections": true,
   "sideBar": true,
   "skip_h1_title": true,
   "title_cell": "Table of Contents",
   "title_sidebar": "Contents",
   "toc_cell": false,
   "toc_position": {},
   "toc_section_display": true,
   "toc_window_display": true
  },
  "varInspector": {
   "cols": {
    "lenName": 16,
    "lenType": 16,
    "lenVar": 40
   },
   "kernels_config": {
    "python": {
     "delete_cmd_postfix": "",
     "delete_cmd_prefix": "del ",
     "library": "var_list.py",
     "varRefreshCmd": "print(var_dic_list())"
    },
    "r": {
     "delete_cmd_postfix": ") ",
     "delete_cmd_prefix": "rm(",
     "library": "var_list.r",
     "varRefreshCmd": "cat(var_dic_list()) "
    }
   },
   "types_to_exclude": [
    "module",
    "function",
    "builtin_function_or_method",
    "instance",
    "_Feature"
   ],
   "window_display": false
  }
 },
 "nbformat": 4,
 "nbformat_minor": 2
}

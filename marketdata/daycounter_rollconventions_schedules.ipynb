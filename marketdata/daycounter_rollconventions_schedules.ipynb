{
 "cells": [
  {
   "cell_type": "markdown",
   "metadata": {},
   "source": [
    "![](../images/rivacon_frontmark_combined_header.png)"
   ]
  },
  {
   "cell_type": "markdown",
   "metadata": {},
   "source": [
    "# Day Counter, Roll Conventions and Schedules"
   ]
  },
  {
   "cell_type": "code",
   "execution_count": null,
   "metadata": {
    "ExecuteTime": {
     "end_time": "2020-05-03T11:47:04.605026Z",
     "start_time": "2020-05-03T11:46:56.940545Z"
    }
   },
   "outputs": [],
   "source": [
    "import pyvacon.analytics as analytics\n",
    "import pyvacon.tools.converter as converter\n",
    "import pyvacon.tools.enums as enums\n",
    "import pyvacon.marketdata.plot as mkt_plot #import module for plotting functionality\n",
    "#the next line is a Jupyter internal command to show the matplotlib graphs within the notebook\n",
    "%matplotlib inline"
   ]
  },
  {
   "cell_type": "markdown",
   "metadata": {},
   "source": [
    "## Schedules\n",
    "For different financial instruments such as Bonds or Swaps a vector for certain dates is needed. These vectors are usually called schedules. They may describe the dates where certain payments or other events (such as fixings) occur. Such schedules are normally based on some construction logic such as \"the first Monday of each month in year 2020\". The generation of these schedules is therefore often not handmade by made by algorithms, which we call schedule generators. To create such a schedule with a generator, we have three main ingredients:\n",
    "- Periods describing the frequency of the dates such as monthly, yearly, quarterly etc.\n",
    "- A holiday calendar since most often schedules contain only business days\n",
    "- A roll convention which defines what happens if the algorithm ends at a holiday\n",
    "which we discuss in the following.\n",
    "\n",
    "### Periods\n",
    "A period is described by the number of years/months/days and is the basis in the schedule generation."
   ]
  },
  {
   "cell_type": "code",
   "execution_count": null,
   "metadata": {
    "ExecuteTime": {
     "end_time": "2020-05-03T11:47:04.627471Z",
     "start_time": "2020-05-03T11:47:04.612747Z"
    }
   },
   "outputs": [],
   "source": [
    "period_1yr = analytics.Period(1,0,0) # create a period of 1 year (first argument of this method describes years, second month and last days)\n",
    "period_3m = analytics.Period(0,3,0)\n",
    "period_30days = analytics.Period(0,0,30)"
   ]
  },
  {
   "cell_type": "markdown",
   "metadata": {},
   "source": [
    "### Holiday calendar\n",
    "A holiday calender specifies which dates are holidays and which dates are business days. Here, we differ between two different types of holidays: Certain weekdays which are for the given location always holidays (such as Saturdays and Sundays in all western countries) and holidays belonging to certain dates. Therefore, the holiday calendar provides two different methods: One to configure a certain weekday as holiday and one to add a list of certain dates as holidays. "
   ]
  },
  {
   "cell_type": "code",
   "execution_count": null,
   "metadata": {
    "ExecuteTime": {
     "end_time": "2020-05-03T11:47:04.668200Z",
     "start_time": "2020-05-03T11:47:04.637650Z"
    }
   },
   "outputs": [],
   "source": [
    "holidays = analytics.SimpleHolidayCalendar('GER_HOL')\n",
    "holidays.setWeekdayAsHoliday(0) # set sunday as holiday\n",
    "holidays.setWeekdayAsHoliday(6) #set saturday as holidays\n",
    "holidays.setHolidays([analytics.ptime(2020,1,1,0,0,0),analytics.ptime(2021,1,1,0,0,0)])"
   ]
  },
  {
   "cell_type": "markdown",
   "metadata": {},
   "source": [
    "### Schedule generation\n",
    "To create a schedule we first have to create a specification containing the information described above (roll conventions, holidays, periods). We may then call the generate method to create a vector of dates defining the schedule. "
   ]
  },
  {
   "cell_type": "code",
   "execution_count": null,
   "metadata": {
    "ExecuteTime": {
     "end_time": "2020-05-03T11:47:04.698117Z",
     "start_time": "2020-05-03T11:47:04.674312Z"
    }
   },
   "outputs": [],
   "source": [
    "start = analytics.ptime(2017,1,1,0,0,0)\n",
    "end = analytics.ptime(2022,1,1,0,0,0)\n",
    "schedule_spec_1yr_following = analytics.ScheduleSpecification(start,end, period_1yr, False, enums.RollConvention.FOLLOWING, holidays)\n",
    "schedule_spec_1yr_preceding = analytics.ScheduleSpecification(start,end, period_1yr, False, enums.RollConvention.PRECEDING, holidays)\n",
    "schedule_1yr_following = schedule_spec_1yr_following.generate()\n",
    "print(converter.create_datetime_list(schedule_1yr_following))\n",
    "\n",
    "schedule_1yr_preceding = schedule_spec_1yr_preceding.generate()\n",
    "print(converter.create_datetime_list(schedule_1yr_preceding))"
   ]
  },
  {
   "cell_type": "markdown",
   "metadata": {},
   "source": [
    "### Day counter\n",
    "Day counters are used to compute accrued interest. There are several different day count conventions where we will present those currently implemented in the Analytics. A good overview on day count conventions as well other market conventions can be found [here](https://opengamma.com/wp-content/uploads/2017/11/Interest-Rate-Instruments-and-Market-Conventions.pdf).\n",
    "The pyvacon library provides two interfaces to compute year fractions:\n",
    "- the method yf with two dates as arguments computes the year fraction between the two given dates\n",
    "- the method yf with three arguments: a vector of doubles containing the resulting year fractions, a reference date which which represents the first date the year fraction are computed with and a vector of second dates"
   ]
  },
  {
   "cell_type": "markdown",
   "metadata": {},
   "source": [
    "#### 30/360 conventions\n",
    "All conventions in this class assume that each month has 30 days and that the year has 360 days. \n",
    "The general formula is therefore given by \n",
    "\n",
    "$$ \\frac{360 (Y_{2,adj} - Y_{1,adj}) + 30(M_{2,adj}-M_{1,adj}) + D_{2,adj}-D_{1,adj}}{ 360}$$ \n",
    "\n",
    "where $Y_{i,adj}$ denotes the adjusted year of date $i$, $M_{i,adj}$ the month and $D_{i,adj}$ the day. \n",
    "The methods differ on how they adjust the given dates as described below.\n",
    "##### 30U/360\n",
    "Adjustment rules are\n",
    "- $D_1=31$ then set $D_1=30$\n",
    "- $D_2=31$ and $D_1=30$ or $D_1=31$ then set $D_2=30$\n",
    "\n",
    "This convention is also called 30/360 US, 30U/360 or 360/360.\n"
   ]
  },
  {
   "cell_type": "code",
   "execution_count": null,
   "metadata": {
    "ExecuteTime": {
     "end_time": "2020-05-03T11:47:04.716045Z",
     "start_time": "2020-05-03T11:47:04.701488Z"
    }
   },
   "outputs": [],
   "source": [
    "refdate = analytics.ptime(2017,1,1,0,0,0)\n",
    "dc_30360 = analytics.DayCounter(enums.DayCounter.ThirtyU360)\n",
    "yf = analytics.vectorDouble()\n",
    "dc_30360.yf(yf, refdate, schedule_1yr_following)\n",
    "for x in yf:\n",
    "    print(x)"
   ]
  },
  {
   "cell_type": "markdown",
   "metadata": {},
   "source": [
    "##### 30E/360\n",
    "Adjustment rules are\n",
    "- $D_1=31$ then set $D_1=30$\n",
    "- $D_2=31$ then set $D_2=30$\n",
    "which is also called Eurobond basis."
   ]
  },
  {
   "cell_type": "code",
   "execution_count": null,
   "metadata": {
    "ExecuteTime": {
     "end_time": "2020-05-03T11:47:04.736175Z",
     "start_time": "2020-05-03T11:47:04.718623Z"
    }
   },
   "outputs": [],
   "source": [
    "refdate = analytics.ptime(2017,1,1,0,0,0)\n",
    "dc_30360 = analytics.DayCounter(enums.DayCounter.ThirtyE360)\n",
    "yf = analytics.vectorDouble()\n",
    "dc_30360.yf(yf, refdate, schedule_1yr_following)\n",
    "for x in yf:\n",
    "    print(x)"
   ]
  },
  {
   "cell_type": "markdown",
   "metadata": {},
   "source": [
    "#### ACT/365 Fixed\n",
    "Here, the definition is \n",
    "$$ \\frac{d_2-d_1}{365}$$\n",
    "where $d_2-d_1$ is the number of dates between the two dates."
   ]
  },
  {
   "cell_type": "code",
   "execution_count": null,
   "metadata": {
    "ExecuteTime": {
     "end_time": "2020-05-03T11:47:04.759834Z",
     "start_time": "2020-05-03T11:47:04.742329Z"
    }
   },
   "outputs": [],
   "source": [
    "refdate = analytics.ptime(2017,1,1,0,0,0)\n",
    "dc_act365fixed = analytics.DayCounter(enums.DayCounter.ACT365_FIXED)\n",
    "yf = analytics.vectorDouble()\n",
    "dc_act365fixed.yf(yf, refdate, schedule_1yr_following)\n",
    "for x in yf:\n",
    "    print(x)"
   ]
  },
  {
   "cell_type": "markdown",
   "metadata": {},
   "source": [
    "#### ACT/ACT\n",
    "The year fraction is computed as  $$ \\frac{Days\\; in\\; non leap\\; year}{365} + \\frac{Days\\; in\\; leap\\; year}{366}$$"
   ]
  },
  {
   "cell_type": "code",
   "execution_count": null,
   "metadata": {
    "ExecuteTime": {
     "end_time": "2020-05-03T11:47:04.775777Z",
     "start_time": "2020-05-03T11:47:04.764004Z"
    }
   },
   "outputs": [],
   "source": [
    "refdate = analytics.ptime(2017,1,1,0,0,0)\n",
    "dc_actact = analytics.DayCounter(enums.DayCounter.ACTACT)\n",
    "yf = analytics.vectorDouble()\n",
    "dc_actact.yf(yf, refdate, schedule_1yr_following)\n",
    "for x in yf:\n",
    "    print(x)"
   ]
  },
  {
   "cell_type": "markdown",
   "metadata": {},
   "source": [
    "---"
   ]
  }
 ],
 "metadata": {
  "kernelspec": {
   "display_name": "Python 3",
   "language": "python",
   "name": "python3"
  },
  "language_info": {
   "codemirror_mode": {
    "name": "ipython",
    "version": 3
   },
   "file_extension": ".py",
   "mimetype": "text/x-python",
   "name": "python",
   "nbconvert_exporter": "python",
   "pygments_lexer": "ipython3",
   "version": "3.7.4"
  },
  "toc": {
   "base_numbering": 1,
   "nav_menu": {
    "height": "191px",
    "width": "252px"
   },
   "number_sections": true,
   "sideBar": true,
   "skip_h1_title": true,
   "title_cell": "Table of Contents",
   "title_sidebar": "Contents",
   "toc_cell": false,
   "toc_position": {},
   "toc_section_display": "block",
   "toc_window_display": true
  },
  "varInspector": {
   "cols": {
    "lenName": 16,
    "lenType": 16,
    "lenVar": 40
   },
   "kernels_config": {
    "python": {
     "delete_cmd_postfix": "",
     "delete_cmd_prefix": "del ",
     "library": "var_list.py",
     "varRefreshCmd": "print(var_dic_list())"
    },
    "r": {
     "delete_cmd_postfix": ") ",
     "delete_cmd_prefix": "rm(",
     "library": "var_list.r",
     "varRefreshCmd": "cat(var_dic_list()) "
    }
   },
   "types_to_exclude": [
    "module",
    "function",
    "builtin_function_or_method",
    "instance",
    "_Feature"
   ],
   "window_display": false
  }
 },
 "nbformat": 4,
 "nbformat_minor": 2
}
